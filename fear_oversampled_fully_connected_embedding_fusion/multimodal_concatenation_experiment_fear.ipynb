{
 "cells": [
  {
   "cell_type": "code",
   "execution_count": 135,
   "metadata": {},
   "outputs": [
    {
     "data": {
      "text/plain": [
       "2048"
      ]
     },
     "execution_count": 135,
     "metadata": {},
     "output_type": "execute_result"
    }
   ],
   "source": [
    "import numpy as np\n",
    "\n",
    "img_embed = np.load(\"fear_resnet50_image_embeddings.npz\", allow_pickle=True)\n",
    "\n",
    "img_embed.files\n",
    "len(img_embed['arr_3000'][2][0])"
   ]
  },
  {
   "cell_type": "code",
   "execution_count": 136,
   "metadata": {},
   "outputs": [
    {
     "data": {
      "text/plain": [
       "768"
      ]
     },
     "execution_count": 136,
     "metadata": {},
     "output_type": "execute_result"
    }
   ],
   "source": [
    "word_embed = np.load(\"bert_word_embeddings_fear.npz\", allow_pickle=True)\n",
    "\n",
    "word_embed.files\n",
    "len(word_embed['arr_3000'][2][0])"
   ]
  },
  {
   "cell_type": "code",
   "execution_count": 137,
   "metadata": {},
   "outputs": [],
   "source": [
    "data = []\n",
    "labels= []\n",
    "\n",
    "from sklearn.preprocessing import normalize\n",
    "from sklearn.pipeline import Pipeline, FeatureUnion\n",
    "\n",
    "for i in range(0, 3012):\n",
    "            \n",
    "    key_str = 'arr_' + str(i)\n",
    "    data.append(np.concatenate((word_embed[key_str][2][0], img_embed[key_str][2][0]), axis=None))\n",
    "    labels.append(word_embed[key_str][1][0])"
   ]
  },
  {
   "cell_type": "code",
   "execution_count": 138,
   "metadata": {},
   "outputs": [
    {
     "data": {
      "text/plain": [
       "array([-0.02023162, -0.1849499 , -0.8178115 , ..., -0.42791877,\n",
       "        2.32099572, -0.88582175])"
      ]
     },
     "execution_count": 138,
     "metadata": {},
     "output_type": "execute_result"
    }
   ],
   "source": [
    "from sklearn.preprocessing import StandardScaler\n",
    "\n",
    "scaler = StandardScaler()\n",
    "data = scaler.fit_transform(data)\n",
    "\n",
    "data.shape\n",
    "data[0]"
   ]
  },
  {
   "cell_type": "code",
   "execution_count": 139,
   "metadata": {},
   "outputs": [
    {
     "name": "stdout",
     "output_type": "stream",
     "text": [
      "Examples:\n",
      "    Total: 3012\n",
      "    Positive: 317 (10.52% of total)\n",
      "\n",
      "Weight for class 0: 0.56\n",
      "Weight for class 1: 4.75\n"
     ]
    }
   ],
   "source": [
    "neg, pos = np.bincount(labels)\n",
    "\n",
    "total = neg + pos\n",
    "\n",
    "print('Examples:\\n    Total: {}\\n    Positive: {} ({:.2f}% of total)\\n'.format(\n",
    "    total, pos, 100 * pos / total))\n",
    "\n",
    "# Scaling by total/2 helps keep the loss to a similar magnitude.\n",
    "# The sum of the weights of all examples stays the same.\n",
    "weight_for_0 = (1 / neg)*(total)/2.0 \n",
    "weight_for_1 = (1 / pos)*(total)/2.0\n",
    "\n",
    "class_weight = {0: weight_for_0, 1: weight_for_1}\n",
    "\n",
    "print('Weight for class 0: {:.2f}'.format(weight_for_0))\n",
    "print('Weight for class 1: {:.2f}'.format(weight_for_1))"
   ]
  },
  {
   "cell_type": "code",
   "execution_count": 140,
   "metadata": {},
   "outputs": [
    {
     "data": {
      "text/plain": [
       "(2695, 2816)"
      ]
     },
     "execution_count": 140,
     "metadata": {},
     "output_type": "execute_result"
    }
   ],
   "source": [
    "pos_features = []\n",
    "neg_features = []\n",
    "pos_labels = []\n",
    "neg_labels = []\n",
    "\n",
    "for i, sample in enumerate(data):\n",
    "    if labels[i] == 1:\n",
    "        pos_features.append(sample)\n",
    "        pos_labels.append(1)\n",
    "    else:\n",
    "        neg_features.append(sample)\n",
    "        neg_labels.append(0)\n",
    "        \n",
    "pos_features = np.array(pos_features)\n",
    "pos_labels = np.array(pos_labels)\n",
    "\n",
    "ids = np.arange(len(pos_features))\n",
    "choices = np.random.choice(ids, len(neg_features))\n",
    "\n",
    "res_pos_features = pos_features[choices]\n",
    "res_pos_labels = pos_labels[choices]\n",
    "\n",
    "res_pos_features.shape"
   ]
  },
  {
   "cell_type": "code",
   "execution_count": 141,
   "metadata": {},
   "outputs": [
    {
     "data": {
      "text/plain": [
       "(5390, 2816)"
      ]
     },
     "execution_count": 141,
     "metadata": {},
     "output_type": "execute_result"
    }
   ],
   "source": [
    "resampled_features = np.concatenate([res_pos_features, neg_features], axis=0)\n",
    "resampled_labels = np.concatenate([res_pos_labels, neg_labels], axis=0)\n",
    "\n",
    "order = np.arange(len(resampled_labels))\n",
    "np.random.shuffle(order)\n",
    "resampled_features = resampled_features[order]\n",
    "resampled_labels = resampled_labels[order]\n",
    "\n",
    "resampled_features.shape"
   ]
  },
  {
   "cell_type": "code",
   "execution_count": 142,
   "metadata": {},
   "outputs": [],
   "source": [
    "data = resampled_features\n",
    "labels = resampled_labels"
   ]
  },
  {
   "cell_type": "code",
   "execution_count": 143,
   "metadata": {},
   "outputs": [],
   "source": [
    "# set the matplotlib backend so figures can be saved in the background\n",
    "import matplotlib\n",
    "# matplotlib.use(\"Agg\")\n",
    "\n",
    "# import the necessary packages\n",
    "import time\n",
    "import pandas as pd\n",
    "import seaborn as sn\n",
    "import keras\n",
    "import os\n",
    "import cv2\n",
    "import pickle\n",
    "import random\n",
    "import argparse\n",
    "import numpy as np\n",
    "from imutils import paths\n",
    "import matplotlib.pyplot as plt\n",
    "from sklearn.metrics import confusion_matrix\n",
    "from sklearn.model_selection import train_test_split\n",
    "from sklearn.preprocessing import LabelBinarizer\n",
    "from keras.layers import Dense\n",
    "from keras.preprocessing.image import img_to_array\n",
    "from keras.models import Model\n",
    "from keras.optimizers import Adam\n",
    "from keras.optimizers import Nadam\n",
    "from keras.optimizers import RMSprop\n",
    "from keras.losses import logcosh, binary_crossentropy\n",
    "from keras.activations import relu, elu, sigmoid\n",
    "from keras.preprocessing.image import ImageDataGenerator\n",
    "# import matplotlib\n",
    "# matplotlib.use(\"Agg\")"
   ]
  },
  {
   "cell_type": "code",
   "execution_count": 144,
   "metadata": {},
   "outputs": [],
   "source": [
    "# initialize the number of epochs to train for, initial learning rate,\n",
    "# batch size, and image dimensions\n",
    "EPOCHS = 40\n",
    "INIT_LR = 1e-3\n",
    "BS = 128\n",
    "IMAGE_DIMS = (224, 224, 3)"
   ]
  },
  {
   "cell_type": "code",
   "execution_count": 145,
   "metadata": {},
   "outputs": [
    {
     "data": {
      "text/plain": [
       "array([[ 0.18240088, -1.13800003,  0.46699412, ..., -0.22034671,\n",
       "        -0.64321986,  3.50277565],\n",
       "       [-0.20200269, -0.50100671,  0.30020976, ...,  0.091238  ,\n",
       "         0.76937792,  0.13480744],\n",
       "       [ 0.16245863, -1.88375306,  0.27790731, ...,  0.87514554,\n",
       "        -0.78774755, -0.49105633],\n",
       "       ...,\n",
       "       [-0.36908774,  0.37719319,  0.36823693, ..., -0.31731948,\n",
       "        -0.78774755, -0.36412564],\n",
       "       [-0.36717361,  0.68329561, -0.63669642, ..., -0.46022401,\n",
       "        -0.78774755, -0.27951916],\n",
       "       [ 1.36788758, -0.30251711, -0.88122291, ..., -0.64263114,\n",
       "         1.24695616, -0.65908807]])"
      ]
     },
     "execution_count": 145,
     "metadata": {},
     "output_type": "execute_result"
    }
   ],
   "source": [
    "from sklearn.model_selection import train_test_split\n",
    "\n",
    "# partition the data into training and testing splits using 80% of\n",
    "# the data for training and the remaining 20% for testing\n",
    "(trainX, testX, trainY, testY) = train_test_split(data,\n",
    "    labels, test_size=0.2, random_state=42)\n",
    "testX"
   ]
  },
  {
   "cell_type": "code",
   "execution_count": 146,
   "metadata": {},
   "outputs": [
    {
     "name": "stdout",
     "output_type": "stream",
     "text": [
      "[0 0 0 ... 0 1 0]\n",
      "[[1. 0.]\n",
      " [1. 0.]\n",
      " [1. 0.]\n",
      " ...\n",
      " [1. 0.]\n",
      " [0. 1.]\n",
      " [1. 0.]]\n",
      "[0 1 0 ... 1 0 1]\n",
      "[[1. 0.]\n",
      " [0. 1.]\n",
      " [1. 0.]\n",
      " ...\n",
      " [0. 1.]\n",
      " [1. 0.]\n",
      " [0. 1.]]\n"
     ]
    }
   ],
   "source": [
    "from sklearn.preprocessing import OneHotEncoder\n",
    "from sklearn.preprocessing import LabelEncoder\n",
    "\n",
    "# integer encode\n",
    "label_encoder = LabelEncoder()\n",
    "integer_encoded = label_encoder.fit_transform(trainY)\n",
    "print(integer_encoded)\n",
    "\n",
    "onehot_encoder = OneHotEncoder(sparse=False)\n",
    "integer_encoded = integer_encoded.reshape(len(integer_encoded), 1)\n",
    "onehot_encoded_trainY = onehot_encoder.fit_transform(integer_encoded)\n",
    "print(onehot_encoded_trainY)\n",
    "\n",
    "# integer encode\n",
    "label_encoder = LabelEncoder()\n",
    "integer_encoded = label_encoder.fit_transform(testY)\n",
    "print(integer_encoded)\n",
    "\n",
    "onehot_encoder = OneHotEncoder(sparse=False)\n",
    "integer_encoded = integer_encoded.reshape(len(integer_encoded), 1)\n",
    "onehot_encoded_testY = onehot_encoder.fit_transform(integer_encoded)\n",
    "print(onehot_encoded_testY)"
   ]
  },
  {
   "cell_type": "code",
   "execution_count": 147,
   "metadata": {},
   "outputs": [
    {
     "name": "stdout",
     "output_type": "stream",
     "text": [
      "[INFO] done compiling.\n",
      "Model: \"sequential_9\"\n",
      "_________________________________________________________________\n",
      "Layer (type)                 Output Shape              Param #   \n",
      "=================================================================\n",
      "dense_33 (Dense)             (None, 1024)              2884608   \n",
      "_________________________________________________________________\n",
      "dense_34 (Dense)             (None, 1024)              1049600   \n",
      "_________________________________________________________________\n",
      "dense_35 (Dense)             (None, 512)               524800    \n",
      "_________________________________________________________________\n",
      "dense_36 (Dense)             (None, 2)                 1026      \n",
      "=================================================================\n",
      "Total params: 4,460,034\n",
      "Trainable params: 4,460,034\n",
      "Non-trainable params: 0\n",
      "_________________________________________________________________\n"
     ]
    }
   ],
   "source": [
    "from keras.models import Sequential\n",
    "from keras.layers import Dense, Dropout\n",
    "from keras.regularizers import l2\n",
    "\n",
    "model = Sequential([\n",
    "    Dense(1024, input_shape=(2816,), activation='relu'),#, kernel_regularizer=l2(0.01), bias_regularizer=l2(0.01)),\n",
    "#     Dropout(0.2),\n",
    "    Dense(1024, activation='relu'),#, kernel_regularizer=l2(0.01), bias_regularizer=l2(0.01)),\n",
    "#     Dropout(0.2),\n",
    "    Dense(512, activation='relu'),#, kernel_regularizer=l2(0.01), bias_regularizer=l2(0.01)),\n",
    "#     Dropout(0.2),\n",
    "    Dense(2,activation='softmax')\n",
    "])\n",
    "opt = Adam(lr=INIT_LR, decay=INIT_LR / EPOCHS)\n",
    "model.compile(loss=\"binary_crossentropy\", optimizer=opt,\n",
    "    metrics=[\"accuracy\"])\n",
    "print(\"[INFO] done compiling.\")\n",
    "\n",
    "model.summary()\n"
   ]
  },
  {
   "cell_type": "code",
   "execution_count": null,
   "metadata": {},
   "outputs": [],
   "source": []
  },
  {
   "cell_type": "code",
   "execution_count": 148,
   "metadata": {},
   "outputs": [],
   "source": [
    "# construct the image generator for data augmentation\n",
    "aug = ImageDataGenerator(rotation_range=25, width_shift_range=0.1,\n",
    "    height_shift_range=0.1, shear_range=0.2, zoom_range=0.2,\n",
    "    horizontal_flip=True, fill_mode=\"nearest\")"
   ]
  },
  {
   "cell_type": "code",
   "execution_count": 149,
   "metadata": {},
   "outputs": [
    {
     "data": {
      "text/plain": [
       "array([0, 0, 0, ..., 0, 1, 0])"
      ]
     },
     "execution_count": 149,
     "metadata": {},
     "output_type": "execute_result"
    }
   ],
   "source": [
    "trainY"
   ]
  },
  {
   "cell_type": "code",
   "execution_count": 150,
   "metadata": {
    "scrolled": true
   },
   "outputs": [
    {
     "name": "stdout",
     "output_type": "stream",
     "text": [
      "[INFO] training network...\n",
      "Train on 3449 samples, validate on 863 samples\n",
      "Epoch 1/40\n",
      "3449/3449 [==============================] - 0s 84us/step - loss: 0.5981 - accuracy: 0.8115 - val_loss: 0.2584 - val_accuracy: 0.9119\n",
      "Epoch 2/40\n",
      "3449/3449 [==============================] - 0s 49us/step - loss: 0.1880 - accuracy: 0.9382 - val_loss: 0.1552 - val_accuracy: 0.9583\n",
      "Epoch 3/40\n",
      "3449/3449 [==============================] - 0s 49us/step - loss: 0.1499 - accuracy: 0.9510 - val_loss: 0.1410 - val_accuracy: 0.9594\n",
      "Epoch 4/40\n",
      "3449/3449 [==============================] - 0s 49us/step - loss: 0.1372 - accuracy: 0.9522 - val_loss: 0.1495 - val_accuracy: 0.9606\n",
      "Epoch 5/40\n",
      "3449/3449 [==============================] - 0s 49us/step - loss: 0.1355 - accuracy: 0.9542 - val_loss: 0.1561 - val_accuracy: 0.9583\n",
      "Epoch 6/40\n",
      "3449/3449 [==============================] - 0s 48us/step - loss: 0.1315 - accuracy: 0.9568 - val_loss: 0.1516 - val_accuracy: 0.9606\n",
      "Epoch 7/40\n",
      "3449/3449 [==============================] - 0s 49us/step - loss: 0.1300 - accuracy: 0.9565 - val_loss: 0.1631 - val_accuracy: 0.9594\n",
      "Epoch 8/40\n",
      "3449/3449 [==============================] - 0s 48us/step - loss: 0.1238 - accuracy: 0.9559 - val_loss: 0.1576 - val_accuracy: 0.9594\n",
      "Epoch 9/40\n",
      "3449/3449 [==============================] - 0s 49us/step - loss: 0.1228 - accuracy: 0.9585 - val_loss: 0.1461 - val_accuracy: 0.9618\n",
      "Epoch 10/40\n",
      "3449/3449 [==============================] - 0s 48us/step - loss: 0.1210 - accuracy: 0.9580 - val_loss: 0.1448 - val_accuracy: 0.9664\n",
      "Epoch 11/40\n",
      "3449/3449 [==============================] - 0s 49us/step - loss: 0.1187 - accuracy: 0.9594 - val_loss: 0.1534 - val_accuracy: 0.9618\n",
      "Epoch 12/40\n",
      "3449/3449 [==============================] - 0s 48us/step - loss: 0.1148 - accuracy: 0.9611 - val_loss: 0.1612 - val_accuracy: 0.9629\n",
      "Epoch 13/40\n",
      "3449/3449 [==============================] - 0s 48us/step - loss: 0.1148 - accuracy: 0.9611 - val_loss: 0.1598 - val_accuracy: 0.9652\n",
      "Epoch 14/40\n",
      "3449/3449 [==============================] - 0s 48us/step - loss: 0.1144 - accuracy: 0.9597 - val_loss: 0.1716 - val_accuracy: 0.9641\n",
      "Epoch 15/40\n",
      "3449/3449 [==============================] - 0s 48us/step - loss: 0.1162 - accuracy: 0.9580 - val_loss: 0.1729 - val_accuracy: 0.9571\n",
      "Epoch 16/40\n",
      "3449/3449 [==============================] - 0s 48us/step - loss: 0.1220 - accuracy: 0.9574 - val_loss: 0.1785 - val_accuracy: 0.9479\n",
      "Epoch 17/40\n",
      "3449/3449 [==============================] - 0s 49us/step - loss: 0.1321 - accuracy: 0.9530 - val_loss: 0.2394 - val_accuracy: 0.9432\n",
      "Epoch 18/40\n",
      "3449/3449 [==============================] - 0s 48us/step - loss: 0.1664 - accuracy: 0.9435 - val_loss: 0.2374 - val_accuracy: 0.9432\n",
      "Epoch 19/40\n",
      "3449/3449 [==============================] - 0s 48us/step - loss: 0.1762 - accuracy: 0.9496 - val_loss: 0.1565 - val_accuracy: 0.9548\n",
      "Epoch 20/40\n",
      "3449/3449 [==============================] - 0s 48us/step - loss: 0.1232 - accuracy: 0.9568 - val_loss: 0.1552 - val_accuracy: 0.9641\n",
      "Epoch 21/40\n",
      "3449/3449 [==============================] - 0s 48us/step - loss: 0.1145 - accuracy: 0.9606 - val_loss: 0.1505 - val_accuracy: 0.9664\n",
      "Epoch 22/40\n",
      "3449/3449 [==============================] - 0s 49us/step - loss: 0.1113 - accuracy: 0.9611 - val_loss: 0.1618 - val_accuracy: 0.9687\n",
      "Epoch 23/40\n",
      "3449/3449 [==============================] - 0s 49us/step - loss: 0.1139 - accuracy: 0.9611 - val_loss: 0.1468 - val_accuracy: 0.9676\n",
      "Epoch 24/40\n",
      "3449/3449 [==============================] - 0s 49us/step - loss: 0.1098 - accuracy: 0.9620 - val_loss: 0.1772 - val_accuracy: 0.9664\n",
      "Epoch 25/40\n",
      "3449/3449 [==============================] - 0s 50us/step - loss: 0.1141 - accuracy: 0.9623 - val_loss: 0.1619 - val_accuracy: 0.9641\n",
      "Epoch 26/40\n",
      "3449/3449 [==============================] - 0s 50us/step - loss: 0.1105 - accuracy: 0.9623 - val_loss: 0.1548 - val_accuracy: 0.9676\n",
      "Epoch 27/40\n",
      "3449/3449 [==============================] - 0s 50us/step - loss: 0.1081 - accuracy: 0.9617 - val_loss: 0.1789 - val_accuracy: 0.9652\n",
      "Epoch 28/40\n",
      "3449/3449 [==============================] - 0s 50us/step - loss: 0.1103 - accuracy: 0.9620 - val_loss: 0.1561 - val_accuracy: 0.9664\n",
      "Epoch 29/40\n",
      "3449/3449 [==============================] - 0s 50us/step - loss: 0.1069 - accuracy: 0.9626 - val_loss: 0.1745 - val_accuracy: 0.9676\n",
      "Epoch 30/40\n",
      "3449/3449 [==============================] - 0s 50us/step - loss: 0.1080 - accuracy: 0.9623 - val_loss: 0.1679 - val_accuracy: 0.9687\n",
      "Epoch 31/40\n",
      "3449/3449 [==============================] - 0s 50us/step - loss: 0.1074 - accuracy: 0.9623 - val_loss: 0.1875 - val_accuracy: 0.9676\n",
      "Epoch 32/40\n",
      "3449/3449 [==============================] - 0s 49us/step - loss: 0.1061 - accuracy: 0.9617 - val_loss: 0.1967 - val_accuracy: 0.9652\n",
      "Epoch 33/40\n",
      "3449/3449 [==============================] - 0s 49us/step - loss: 0.1071 - accuracy: 0.9620 - val_loss: 0.1739 - val_accuracy: 0.9652\n",
      "Epoch 34/40\n",
      "3449/3449 [==============================] - 0s 49us/step - loss: 0.1068 - accuracy: 0.9626 - val_loss: 0.1847 - val_accuracy: 0.9652\n",
      "Epoch 35/40\n",
      "3449/3449 [==============================] - 0s 53us/step - loss: 0.1060 - accuracy: 0.9626 - val_loss: 0.1969 - val_accuracy: 0.9652\n",
      "Epoch 36/40\n",
      "3449/3449 [==============================] - 0s 52us/step - loss: 0.1077 - accuracy: 0.9626 - val_loss: 0.1863 - val_accuracy: 0.9664\n",
      "Epoch 37/40\n",
      "3449/3449 [==============================] - 0s 50us/step - loss: 0.1332 - accuracy: 0.9580 - val_loss: 0.1933 - val_accuracy: 0.9618\n",
      "Epoch 38/40\n",
      "3449/3449 [==============================] - 0s 50us/step - loss: 0.1272 - accuracy: 0.9577 - val_loss: 0.1483 - val_accuracy: 0.9652\n",
      "Epoch 39/40\n",
      "3449/3449 [==============================] - 0s 49us/step - loss: 0.1169 - accuracy: 0.9614 - val_loss: 0.1826 - val_accuracy: 0.9606\n",
      "Epoch 40/40\n",
      "3449/3449 [==============================] - 0s 49us/step - loss: 0.1115 - accuracy: 0.9609 - val_loss: 0.1653 - val_accuracy: 0.9652\n",
      "[INFO] serializing network...\n"
     ]
    }
   ],
   "source": [
    "# train the network\n",
    "print(\"[INFO] training network...\")\n",
    "\n",
    "H = model.fit(trainX, onehot_encoded_trainY, epochs=EPOCHS, batch_size=BS, validation_split=0.2) #class_weight=class_weight)\n",
    "\n",
    "# save the model to disk\n",
    "print(\"[INFO] serializing network...\")\n",
    "model.save(\"fear_oversampled_fusion_embeddings_fully_connected.model\")"
   ]
  },
  {
   "cell_type": "code",
   "execution_count": 151,
   "metadata": {},
   "outputs": [
    {
     "data": {
      "image/png": "[encoded data removed]",
      "text/plain": [
       "<Figure size 432x288 with 1 Axes>"
      ]
     },
     "metadata": {
      "needs_background": "light"
     },
     "output_type": "display_data"
    },
    {
     "data": {
      "text/plain": [
       "<Figure size 432x288 with 0 Axes>"
      ]
     },
     "metadata": {},
     "output_type": "display_data"
    }
   ],
   "source": [
    "plt.style.use(\"ggplot\")\n",
    "%matplotlib inline\n",
    "plt.figure()\n",
    "N = EPOCHS\n",
    "plt.plot(np.arange(0, N), H.history[\"loss\"], label=\"train_loss\")\n",
    "plt.plot(np.arange(0, N), H.history[\"val_loss\"], label=\"val_loss\")\n",
    "plt.plot(np.arange(0, N), H.history[\"accuracy\"], label=\"train_acc\")\n",
    "plt.plot(np.arange(0, N), H.history[\"val_accuracy\"], label=\"val_acc\")\n",
    "plt.title(\"Training Loss and Accuracy\")\n",
    "plt.xlabel(\"Epoch #\")\n",
    "plt.ylabel(\"Loss/Accuracy\")\n",
    "plt.legend(loc=\"upper left\")\n",
    "fig1 = plt.gcf()\n",
    "plt.show()\n",
    "plt.draw()\n",
    "fig1.savefig('fear_oversampled_fusion_embeddings_fully_connected_plot.png', dpi=100)"
   ]
  },
  {
   "cell_type": "code",
   "execution_count": 152,
   "metadata": {},
   "outputs": [
    {
     "data": {
      "text/plain": [
       "array([1, 1, 0, ..., 1, 0, 1], dtype=int64)"
      ]
     },
     "execution_count": 152,
     "metadata": {},
     "output_type": "execute_result"
    }
   ],
   "source": [
    "yhat_probs = model.predict(testX)\n",
    "yhat_classes = np.argmax(yhat_probs, axis=1)\n",
    "\n",
    "yhat_classes"
   ]
  },
  {
   "cell_type": "code",
   "execution_count": 153,
   "metadata": {},
   "outputs": [
    {
     "name": "stdout",
     "output_type": "stream",
     "text": [
      "Classification report: \n",
      "---------------------------------------------------------- \n",
      "              precision    recall  f1-score   support\n",
      "\n",
      "        fear       1.00      0.91      0.95       545\n",
      "    non-fear       0.92      1.00      0.96       533\n",
      "\n",
      "    accuracy                           0.95      1078\n",
      "   macro avg       0.96      0.96      0.95      1078\n",
      "weighted avg       0.96      0.95      0.95      1078\n",
      "\n",
      "---------------------------------------------------------- \n",
      "Accuracy score: 0.954545\n",
      "Precision score: 0.917241\n",
      "Recall score: 0.998124\n",
      "F1 score: 0.955975\n",
      "---------------------------------------------------------- \n",
      "Confusion matrix: \n",
      "[[497  48]\n",
      " [  1 532]]\n"
     ]
    },
    {
     "data": {
      "image/png": "[encoded data removed]",
      "text/plain": [
       "<Figure size 432x288 with 2 Axes>"
      ]
     },
     "metadata": {
      "needs_background": "light"
     },
     "output_type": "display_data"
    },
    {
     "name": "stdout",
     "output_type": "stream",
     "text": [
      "[[497  48]\n",
      " [  1 532]]\n"
     ]
    }
   ],
   "source": [
    "from sklearn.datasets import make_circles\n",
    "from sklearn.metrics import accuracy_score\n",
    "from sklearn.metrics import precision_score\n",
    "from sklearn.metrics import recall_score\n",
    "from sklearn.metrics import f1_score\n",
    "from sklearn.metrics import cohen_kappa_score\n",
    "from sklearn.metrics import roc_auc_score\n",
    "from sklearn.metrics import confusion_matrix\n",
    "from keras.models import Sequential\n",
    "from keras.layers import Dense\n",
    " \n",
    "from sklearn.metrics import classification_report, confusion_matrix\n",
    "import seaborn as sn\n",
    "\n",
    "classif_report = classification_report(testY, yhat_classes, target_names=['fear', 'non-fear'])\n",
    "print('Classification report: ')\n",
    "print('---------------------------------------------------------- ')\n",
    "print(classif_report)\n",
    "\n",
    "print('---------------------------------------------------------- ')\n",
    "# accuracy: (tp + tn) / (p + n)\n",
    "accuracy = accuracy_score(testY, yhat_classes)\n",
    "print('Accuracy score: %f' % accuracy)\n",
    "# precision tp / (tp + fp)\n",
    "precision = precision_score(testY, yhat_classes)\n",
    "print('Precision score: %f' % precision)\n",
    "# recall: tp / (tp + fn)\n",
    "recall = recall_score(testY, yhat_classes)\n",
    "print('Recall score: %f' % recall)\n",
    "# f1: 2 tp / (2 tp + fp + fn)\n",
    "f1 = f1_score(testY, yhat_classes)\n",
    "print('F1 score: %f' % f1)\n",
    "print('---------------------------------------------------------- ')\n",
    "\n",
    "# confusion matrix\n",
    "labels = ['fear', 'none']\n",
    "matrix = confusion_matrix(testY, yhat_classes)\n",
    "print('Confusion matrix: ')\n",
    "print(matrix)\n",
    "fig = plt.figure()\n",
    "ax = fig.add_subplot(111)\n",
    "cax = ax.matshow(matrix)\n",
    "plt.title('Confusion Matrix')\n",
    "fig.colorbar(cax)\n",
    "ax.set_xticklabels([''] + labels)\n",
    "ax.set_yticklabels([''] + labels)\n",
    "plt.xlabel('Predicted')\n",
    "plt.ylabel('True')\n",
    "plt.savefig('confusion_matrix_fear_oversampled_fusion_embeddings_fully_connected.png')\n",
    "plt.show()\n",
    "print(matrix)"
   ]
  },
  {
   "cell_type": "code",
   "execution_count": null,
   "metadata": {},
   "outputs": [],
   "source": []
  }
 ],
 "metadata": {
  "kernelspec": {
   "display_name": "Python 3",
   "language": "python",
   "name": "python3"
  },
  "language_info": {
   "codemirror_mode": {
    "name": "ipython",
    "version": 3
   },
   "file_extension": ".py",
   "mimetype": "text/x-python",
   "name": "python",
   "nbconvert_exporter": "python",
   "pygments_lexer": "ipython3",
   "version": "3.7.7"
  }
 },
 "nbformat": 4,
 "nbformat_minor": 4
}
