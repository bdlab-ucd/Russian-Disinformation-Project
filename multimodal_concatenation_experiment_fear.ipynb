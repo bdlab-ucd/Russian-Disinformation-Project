{
 "cells": [
  {
   "cell_type": "code",
   "execution_count": 740,
   "metadata": {},
   "outputs": [
    {
     "data": {
      "text/plain": [
       "2048"
      ]
     },
     "execution_count": 740,
     "metadata": {},
     "output_type": "execute_result"
    }
   ],
   "source": [
    "import numpy as np\n",
    "\n",
    "img_embed = np.load(\"fear_resnet50_image_embeddings.npz\", allow_pickle=True)\n",
    "\n",
    "img_embed.files\n",
    "len(img_embed['arr_3000'][2][0])"
   ]
  },
  {
   "cell_type": "code",
   "execution_count": 741,
   "metadata": {},
   "outputs": [
    {
     "data": {
      "text/plain": [
       "768"
      ]
     },
     "execution_count": 741,
     "metadata": {},
     "output_type": "execute_result"
    }
   ],
   "source": [
    "word_embed = np.load(\"bert_word_embeddings_fear.npz\", allow_pickle=True)\n",
    "\n",
    "word_embed.files\n",
    "len(word_embed['arr_3000'][2][0])"
   ]
  },
  {
   "cell_type": "code",
   "execution_count": 742,
   "metadata": {},
   "outputs": [],
   "source": [
    "data = []\n",
    "labels= []\n",
    "\n",
    "from sklearn.preprocessing import normalize\n",
    "from sklearn.pipeline import Pipeline, FeatureUnion\n",
    "\n",
    "for i in range(0, 3012):\n",
    "            \n",
    "    key_str = 'arr_' + str(i)\n",
    "    data.append(np.concatenate((word_embed[key_str][2][0], img_embed[key_str][2][0]), axis=None))\n",
    "    labels.append(word_embed[key_str][1][0])"
   ]
  },
  {
   "cell_type": "code",
   "execution_count": 743,
   "metadata": {},
   "outputs": [
    {
     "data": {
      "text/plain": [
       "array([-0.02023162, -0.1849499 , -0.8178115 , ..., -0.42791877,\n",
       "        2.32099572, -0.88582175])"
      ]
     },
     "execution_count": 743,
     "metadata": {},
     "output_type": "execute_result"
    }
   ],
   "source": [
    "from sklearn.preprocessing import StandardScaler\n",
    "scaler = StandardScaler()\n",
    "data = scaler.fit_transform(data)\n",
    "\n",
    "data.shape\n",
    "data[0]"
   ]
  },
  {
   "cell_type": "code",
   "execution_count": 744,
   "metadata": {},
   "outputs": [
    {
     "name": "stdout",
     "output_type": "stream",
     "text": [
      "Examples:\n",
      "    Total: 3012\n",
      "    Positive: 317 (10.52% of total)\n",
      "\n",
      "Weight for class 0: 0.56\n",
      "Weight for class 1: 4.75\n"
     ]
    }
   ],
   "source": [
    "neg, pos = np.bincount(labels)\n",
    "\n",
    "total = neg + pos\n",
    "\n",
    "print('Examples:\\n    Total: {}\\n    Positive: {} ({:.2f}% of total)\\n'.format(\n",
    "    total, pos, 100 * pos / total))\n",
    "\n",
    "# Scaling by total/2 helps keep the loss to a similar magnitude.\n",
    "# The sum of the weights of all examples stays the same.\n",
    "weight_for_0 = (1 / neg)*(total)/2.0 \n",
    "weight_for_1 = (1 / pos)*(total)/2.0\n",
    "\n",
    "class_weight = {0: weight_for_0, 1: weight_for_1}\n",
    "\n",
    "print('Weight for class 0: {:.2f}'.format(weight_for_0))\n",
    "print('Weight for class 1: {:.2f}'.format(weight_for_1))"
   ]
  },
  {
   "cell_type": "code",
   "execution_count": 745,
   "metadata": {},
   "outputs": [
    {
     "data": {
      "text/plain": [
       "(2695, 2816)"
      ]
     },
     "execution_count": 745,
     "metadata": {},
     "output_type": "execute_result"
    }
   ],
   "source": [
    "pos_features = []\n",
    "neg_features = []\n",
    "pos_labels = []\n",
    "neg_labels = []\n",
    "\n",
    "for i, sample in enumerate(data):\n",
    "    if labels[i] == 1:\n",
    "        pos_features.append(sample)\n",
    "        pos_labels.append(1)\n",
    "    else:\n",
    "        neg_features.append(sample)\n",
    "        neg_labels.append(0)\n",
    "        \n",
    "pos_features = np.array(pos_features)\n",
    "pos_labels = np.array(pos_labels)\n",
    "\n",
    "ids = np.arange(len(pos_features))\n",
    "choices = np.random.choice(ids, len(neg_features))\n",
    "\n",
    "res_pos_features = pos_features[choices]\n",
    "res_pos_labels = pos_labels[choices]\n",
    "\n",
    "res_pos_features.shape"
   ]
  },
  {
   "cell_type": "code",
   "execution_count": 746,
   "metadata": {},
   "outputs": [
    {
     "data": {
      "text/plain": [
       "(5390, 2816)"
      ]
     },
     "execution_count": 746,
     "metadata": {},
     "output_type": "execute_result"
    }
   ],
   "source": [
    "resampled_features = np.concatenate([res_pos_features, neg_features], axis=0)\n",
    "resampled_labels = np.concatenate([res_pos_labels, neg_labels], axis=0)\n",
    "\n",
    "order = np.arange(len(resampled_labels))\n",
    "np.random.shuffle(order)\n",
    "resampled_features = resampled_features[order]\n",
    "resampled_labels = resampled_labels[order]\n",
    "\n",
    "resampled_features.shape"
   ]
  },
  {
   "cell_type": "code",
   "execution_count": 747,
   "metadata": {},
   "outputs": [],
   "source": [
    "data = resampled_features\n",
    "labels = resampled_labels"
   ]
  },
  {
   "cell_type": "code",
   "execution_count": 748,
   "metadata": {},
   "outputs": [],
   "source": [
    "# set the matplotlib backend so figures can be saved in the background\n",
    "import matplotlib\n",
    "# matplotlib.use(\"Agg\")\n",
    "\n",
    "# import the necessary packages\n",
    "import time\n",
    "import pandas as pd\n",
    "import seaborn as sn\n",
    "import keras\n",
    "import os\n",
    "import cv2\n",
    "import pickle\n",
    "import random\n",
    "import argparse\n",
    "import numpy as np\n",
    "from imutils import paths\n",
    "import matplotlib.pyplot as plt\n",
    "from sklearn.metrics import confusion_matrix\n",
    "from sklearn.model_selection import train_test_split\n",
    "from sklearn.preprocessing import LabelBinarizer\n",
    "from keras.layers import Dense\n",
    "from keras.preprocessing.image import img_to_array\n",
    "from keras.models import Model\n",
    "from keras.optimizers import Adam\n",
    "from keras.optimizers import Nadam\n",
    "from keras.optimizers import RMSprop\n",
    "from keras.losses import logcosh, binary_crossentropy\n",
    "from keras.activations import relu, elu, sigmoid\n",
    "from keras.preprocessing.image import ImageDataGenerator\n",
    "# import matplotlib\n",
    "# matplotlib.use(\"Agg\")"
   ]
  },
  {
   "cell_type": "code",
   "execution_count": 749,
   "metadata": {},
   "outputs": [],
   "source": [
    "# initialize the number of epochs to train for, initial learning rate,\n",
    "# batch size, and image dimensions\n",
    "EPOCHS = 30\n",
    "INIT_LR = 1e-3\n",
    "BS = 128\n",
    "IMAGE_DIMS = (224, 224, 3)"
   ]
  },
  {
   "cell_type": "code",
   "execution_count": 750,
   "metadata": {},
   "outputs": [
    {
     "data": {
      "text/plain": [
       "array([[ 1.39531261, -1.05862411, -0.79292568, ..., -0.49857948,\n",
       "         0.15045956, -0.72757918],\n",
       "       [ 0.69590478, -0.52757059, -0.22327233, ..., -0.6764833 ,\n",
       "         0.09632006, -0.99621065],\n",
       "       [ 0.15283309,  1.49045688,  0.05417677, ..., -0.0194336 ,\n",
       "         0.08532397,  1.90192785],\n",
       "       ...,\n",
       "       [ 1.13517119, -1.03147022,  0.21051637, ..., -0.27677935,\n",
       "         1.34811659,  1.26594374],\n",
       "       [-1.02025411, -1.10133409,  0.05854273, ..., -0.48988388,\n",
       "        -0.54276533, -0.39947767],\n",
       "       [-1.3663119 ,  0.99573865, -0.90901892, ..., -0.79782526,\n",
       "         0.34429638, -0.76844619]])"
      ]
     },
     "execution_count": 750,
     "metadata": {},
     "output_type": "execute_result"
    }
   ],
   "source": [
    "from sklearn.model_selection import train_test_split\n",
    "\n",
    "# partition the data into training and testing splits using 80% of\n",
    "# the data for training and the remaining 20% for testing\n",
    "(trainX, testX, trainY, testY) = train_test_split(data,\n",
    "    labels, test_size=0.2, random_state=42)\n",
    "testX"
   ]
  },
  {
   "cell_type": "code",
   "execution_count": 751,
   "metadata": {},
   "outputs": [
    {
     "name": "stdout",
     "output_type": "stream",
     "text": [
      "[0 0 0 ... 1 1 0]\n",
      "[[1. 0.]\n",
      " [1. 0.]\n",
      " [1. 0.]\n",
      " ...\n",
      " [0. 1.]\n",
      " [0. 1.]\n",
      " [1. 0.]]\n",
      "[1 0 0 ... 0 0 1]\n",
      "[[0. 1.]\n",
      " [1. 0.]\n",
      " [1. 0.]\n",
      " ...\n",
      " [1. 0.]\n",
      " [1. 0.]\n",
      " [0. 1.]]\n"
     ]
    }
   ],
   "source": [
    "from sklearn.preprocessing import OneHotEncoder\n",
    "from sklearn.preprocessing import LabelEncoder\n",
    "\n",
    "# integer encode\n",
    "label_encoder = LabelEncoder()\n",
    "integer_encoded = label_encoder.fit_transform(trainY)\n",
    "print(integer_encoded)\n",
    "\n",
    "onehot_encoder = OneHotEncoder(sparse=False)\n",
    "integer_encoded = integer_encoded.reshape(len(integer_encoded), 1)\n",
    "onehot_encoded_trainY = onehot_encoder.fit_transform(integer_encoded)\n",
    "print(onehot_encoded_trainY)\n",
    "\n",
    "# integer encode\n",
    "label_encoder = LabelEncoder()\n",
    "integer_encoded = label_encoder.fit_transform(testY)\n",
    "print(integer_encoded)\n",
    "\n",
    "onehot_encoder = OneHotEncoder(sparse=False)\n",
    "integer_encoded = integer_encoded.reshape(len(integer_encoded), 1)\n",
    "onehot_encoded_testY = onehot_encoder.fit_transform(integer_encoded)\n",
    "print(onehot_encoded_testY)"
   ]
  },
  {
   "cell_type": "code",
   "execution_count": 752,
   "metadata": {},
   "outputs": [
    {
     "name": "stdout",
     "output_type": "stream",
     "text": [
      "[INFO] done compiling.\n",
      "Model: \"sequential_39\"\n",
      "_________________________________________________________________\n",
      "Layer (type)                 Output Shape              Param #   \n",
      "=================================================================\n",
      "dense_147 (Dense)            (None, 1024)              2884608   \n",
      "_________________________________________________________________\n",
      "dense_148 (Dense)            (None, 512)               524800    \n",
      "_________________________________________________________________\n",
      "dropout_21 (Dropout)         (None, 512)               0         \n",
      "_________________________________________________________________\n",
      "dense_149 (Dense)            (None, 256)               131328    \n",
      "_________________________________________________________________\n",
      "dense_150 (Dense)            (None, 2)                 514       \n",
      "=================================================================\n",
      "Total params: 3,541,250\n",
      "Trainable params: 3,541,250\n",
      "Non-trainable params: 0\n",
      "_________________________________________________________________\n"
     ]
    }
   ],
   "source": [
    "from keras.models import Sequential\n",
    "from keras.layers import Dense, Dropout\n",
    "from keras.regularizers import l2\n",
    "\n",
    "model = Sequential([\n",
    "    Dense(1024, input_shape=(2816,), activation='relu'),#, kernel_regularizer=l2(0.01), bias_regularizer=l2(0.01)),\n",
    "#     Dense(2048, activation='relu'),#, kernel_regularizer=l2(0.01), bias_regularizer=l2(0.01)),\n",
    "#     Dense(4096, activation='relu'),#, kernel_regularizer=l2(0.01), bias_regularizer=l2(0.01)),\n",
    "#     Dense(2048, activation='relu'),\n",
    "#     Dropout(0.1),\n",
    "    Dense(512, activation='relu'),\n",
    "    Dropout(0.1),\n",
    "    Dense(256, activation='relu'),\n",
    "#     Dropout(0.1),    \n",
    "    Dense(2,activation='softmax')\n",
    "])\n",
    "opt = Adam(lr=INIT_LR, decay=INIT_LR / EPOCHS)\n",
    "model.compile(loss=\"binary_crossentropy\", optimizer=opt,\n",
    "    metrics=[\"accuracy\"])\n",
    "print(\"[INFO] done compiling.\")\n",
    "\n",
    "model.summary()\n"
   ]
  },
  {
   "cell_type": "code",
   "execution_count": 753,
   "metadata": {},
   "outputs": [],
   "source": [
    "# construct the image generator for data augmentation\n",
    "aug = ImageDataGenerator(rotation_range=25, width_shift_range=0.1,\n",
    "    height_shift_range=0.1, shear_range=0.2, zoom_range=0.2,\n",
    "    horizontal_flip=True, fill_mode=\"nearest\")"
   ]
  },
  {
   "cell_type": "code",
   "execution_count": 754,
   "metadata": {},
   "outputs": [
    {
     "data": {
      "text/plain": [
       "array([0, 0, 0, ..., 1, 1, 0])"
      ]
     },
     "execution_count": 754,
     "metadata": {},
     "output_type": "execute_result"
    }
   ],
   "source": [
    "trainY"
   ]
  },
  {
   "cell_type": "code",
   "execution_count": 755,
   "metadata": {
    "scrolled": true
   },
   "outputs": [
    {
     "name": "stdout",
     "output_type": "stream",
     "text": [
      "[INFO] training network...\n",
      "Train on 3449 samples, validate on 863 samples\n",
      "Epoch 1/30\n",
      "3449/3449 [==============================] - 0s 93us/step - loss: 0.5030 - accuracy: 0.8350 - val_loss: 0.1820 - val_accuracy: 0.9409\n",
      "Epoch 2/30\n",
      "3449/3449 [==============================] - 0s 50us/step - loss: 0.1776 - accuracy: 0.9403 - val_loss: 0.1757 - val_accuracy: 0.9409\n",
      "Epoch 3/30\n",
      "3449/3449 [==============================] - 0s 52us/step - loss: 0.1449 - accuracy: 0.9496 - val_loss: 0.1709 - val_accuracy: 0.9490\n",
      "Epoch 4/30\n",
      "3449/3449 [==============================] - 0s 52us/step - loss: 0.1293 - accuracy: 0.9582 - val_loss: 0.1505 - val_accuracy: 0.9537\n",
      "Epoch 5/30\n",
      "3449/3449 [==============================] - 0s 52us/step - loss: 0.1157 - accuracy: 0.9568 - val_loss: 0.1633 - val_accuracy: 0.9537\n",
      "Epoch 6/30\n",
      "3449/3449 [==============================] - 0s 49us/step - loss: 0.1041 - accuracy: 0.9620 - val_loss: 0.1962 - val_accuracy: 0.9513\n",
      "Epoch 7/30\n",
      "3449/3449 [==============================] - 0s 49us/step - loss: 0.1024 - accuracy: 0.9629 - val_loss: 0.1628 - val_accuracy: 0.9513\n",
      "Epoch 8/30\n",
      "3449/3449 [==============================] - 0s 49us/step - loss: 0.0969 - accuracy: 0.9635 - val_loss: 0.1611 - val_accuracy: 0.9537\n",
      "Epoch 9/30\n",
      "3449/3449 [==============================] - 0s 48us/step - loss: 0.1043 - accuracy: 0.9626 - val_loss: 0.1752 - val_accuracy: 0.9513\n",
      "Epoch 10/30\n",
      "3449/3449 [==============================] - 0s 49us/step - loss: 0.0891 - accuracy: 0.9672 - val_loss: 0.1712 - val_accuracy: 0.9560\n",
      "Epoch 11/30\n",
      "3449/3449 [==============================] - 0s 48us/step - loss: 0.0879 - accuracy: 0.9655 - val_loss: 0.2119 - val_accuracy: 0.9502\n",
      "Epoch 12/30\n",
      "3449/3449 [==============================] - 0s 48us/step - loss: 0.0893 - accuracy: 0.9669 - val_loss: 0.1712 - val_accuracy: 0.9571\n",
      "Epoch 13/30\n",
      "3449/3449 [==============================] - 0s 48us/step - loss: 0.0890 - accuracy: 0.9661 - val_loss: 0.1816 - val_accuracy: 0.9502\n",
      "Epoch 14/30\n",
      "3449/3449 [==============================] - 0s 48us/step - loss: 0.0892 - accuracy: 0.9646 - val_loss: 0.1808 - val_accuracy: 0.9502\n",
      "Epoch 15/30\n",
      "3449/3449 [==============================] - 0s 48us/step - loss: 0.0925 - accuracy: 0.9655 - val_loss: 0.1685 - val_accuracy: 0.9537\n",
      "Epoch 16/30\n",
      "3449/3449 [==============================] - 0s 48us/step - loss: 0.0890 - accuracy: 0.9672 - val_loss: 0.2218 - val_accuracy: 0.9467\n",
      "Epoch 17/30\n",
      "3449/3449 [==============================] - 0s 48us/step - loss: 0.0998 - accuracy: 0.9655 - val_loss: 0.1686 - val_accuracy: 0.9502\n",
      "Epoch 18/30\n",
      "3449/3449 [==============================] - 0s 48us/step - loss: 0.0877 - accuracy: 0.9667 - val_loss: 0.1903 - val_accuracy: 0.9502\n",
      "Epoch 19/30\n",
      "3449/3449 [==============================] - 0s 48us/step - loss: 0.0843 - accuracy: 0.9684 - val_loss: 0.1974 - val_accuracy: 0.9548\n",
      "Epoch 20/30\n",
      "3449/3449 [==============================] - 0s 49us/step - loss: 0.0835 - accuracy: 0.9675 - val_loss: 0.2014 - val_accuracy: 0.9490\n",
      "Epoch 21/30\n",
      "3449/3449 [==============================] - 0s 48us/step - loss: 0.0818 - accuracy: 0.9681 - val_loss: 0.1853 - val_accuracy: 0.9525\n",
      "Epoch 22/30\n",
      "3449/3449 [==============================] - 0s 48us/step - loss: 0.0801 - accuracy: 0.9672 - val_loss: 0.1999 - val_accuracy: 0.9525\n",
      "Epoch 23/30\n",
      "3449/3449 [==============================] - 0s 48us/step - loss: 0.0782 - accuracy: 0.9684 - val_loss: 0.1910 - val_accuracy: 0.9571\n",
      "Epoch 24/30\n",
      "3449/3449 [==============================] - 0s 49us/step - loss: 0.0789 - accuracy: 0.9681 - val_loss: 0.1793 - val_accuracy: 0.9548\n",
      "Epoch 25/30\n",
      "3449/3449 [==============================] - 0s 48us/step - loss: 0.0785 - accuracy: 0.9681 - val_loss: 0.1910 - val_accuracy: 0.9537\n",
      "Epoch 26/30\n",
      "3449/3449 [==============================] - 0s 49us/step - loss: 0.0784 - accuracy: 0.9684 - val_loss: 0.1943 - val_accuracy: 0.9513\n",
      "Epoch 27/30\n",
      "3449/3449 [==============================] - 0s 48us/step - loss: 0.0780 - accuracy: 0.9684 - val_loss: 0.1828 - val_accuracy: 0.9525\n",
      "Epoch 28/30\n",
      "3449/3449 [==============================] - 0s 49us/step - loss: 0.0784 - accuracy: 0.9687 - val_loss: 0.1982 - val_accuracy: 0.9502\n",
      "Epoch 29/30\n",
      "3449/3449 [==============================] - 0s 49us/step - loss: 0.0767 - accuracy: 0.9690 - val_loss: 0.1914 - val_accuracy: 0.9560\n",
      "Epoch 30/30\n",
      "3449/3449 [==============================] - 0s 49us/step - loss: 0.0809 - accuracy: 0.9701 - val_loss: 0.1795 - val_accuracy: 0.9571\n",
      "[INFO] serializing network...\n"
     ]
    }
   ],
   "source": [
    "# train the network\n",
    "print(\"[INFO] training network...\")\n",
    "\n",
    "H = model.fit(trainX, onehot_encoded_trainY, epochs=EPOCHS, batch_size=BS, validation_split=0.2) #class_weight=class_weight)\n",
    "\n",
    "# save the model to disk\n",
    "print(\"[INFO] serializing network...\")\n",
    "model.save(\"fear_oversampled_fusion_embeddings_fully_connected.model\")"
   ]
  },
  {
   "cell_type": "code",
   "execution_count": 756,
   "metadata": {},
   "outputs": [
    {
     "data": {
      "image/png": "[encoded data removed]",
      "text/plain": [
       "<Figure size 432x288 with 1 Axes>"
      ]
     },
     "metadata": {
      "needs_background": "light"
     },
     "output_type": "display_data"
    },
    {
     "data": {
      "text/plain": [
       "<Figure size 432x288 with 0 Axes>"
      ]
     },
     "metadata": {},
     "output_type": "display_data"
    }
   ],
   "source": [
    "plt.style.use(\"ggplot\")\n",
    "%matplotlib inline\n",
    "plt.figure()\n",
    "N = EPOCHS\n",
    "plt.plot(np.arange(0, N), H.history[\"loss\"], label=\"train_loss\")\n",
    "plt.plot(np.arange(0, N), H.history[\"val_loss\"], label=\"val_loss\")\n",
    "plt.plot(np.arange(0, N), H.history[\"accuracy\"], label=\"train_acc\")\n",
    "plt.plot(np.arange(0, N), H.history[\"val_accuracy\"], label=\"val_acc\")\n",
    "plt.title(\"Training Loss and Accuracy\")\n",
    "plt.xlabel(\"Epoch #\")\n",
    "plt.ylabel(\"Loss/Accuracy\")\n",
    "plt.legend(loc=\"upper left\")\n",
    "fig1 = plt.gcf()\n",
    "plt.show()\n",
    "plt.draw()\n",
    "fig1.savefig('fear_oversampled_fusion_embeddings_fully_connected_plot.png', dpi=100)"
   ]
  },
  {
   "cell_type": "code",
   "execution_count": 757,
   "metadata": {},
   "outputs": [
    {
     "data": {
      "text/plain": [
       "array([1, 0, 0, ..., 0, 0, 1], dtype=int64)"
      ]
     },
     "execution_count": 757,
     "metadata": {},
     "output_type": "execute_result"
    }
   ],
   "source": [
    "yhat_probs = model.predict(testX)\n",
    "yhat_classes = np.argmax(yhat_probs, axis=1)\n",
    "\n",
    "yhat_classes"
   ]
  },
  {
   "cell_type": "code",
   "execution_count": 758,
   "metadata": {},
   "outputs": [
    {
     "name": "stdout",
     "output_type": "stream",
     "text": [
      "Classification report: \n",
      "---------------------------------------------------------- \n",
      "              precision    recall  f1-score   support\n",
      "\n",
      "        fear       1.00      0.92      0.95       533\n",
      "    non-fear       0.92      1.00      0.96       545\n",
      "\n",
      "    accuracy                           0.96      1078\n",
      "   macro avg       0.96      0.96      0.96      1078\n",
      "weighted avg       0.96      0.96      0.96      1078\n",
      "\n",
      "---------------------------------------------------------- \n",
      "Accuracy score: 0.956401\n",
      "Precision score: 0.923469\n",
      "Recall score: 0.996330\n",
      "F1 score: 0.958517\n",
      "---------------------------------------------------------- \n",
      "Confusion matrix: \n",
      "[[488  45]\n",
      " [  2 543]]\n"
     ]
    },
    {
     "data": {
      "image/png": "[encoded data removed]",
      "text/plain": [
       "<Figure size 432x288 with 2 Axes>"
      ]
     },
     "metadata": {
      "needs_background": "light"
     },
     "output_type": "display_data"
    },
    {
     "name": "stdout",
     "output_type": "stream",
     "text": [
      "[[488  45]\n",
      " [  2 543]]\n"
     ]
    }
   ],
   "source": [
    "from sklearn.datasets import make_circles\n",
    "from sklearn.metrics import accuracy_score\n",
    "from sklearn.metrics import precision_score\n",
    "from sklearn.metrics import recall_score\n",
    "from sklearn.metrics import f1_score\n",
    "from sklearn.metrics import cohen_kappa_score\n",
    "from sklearn.metrics import roc_auc_score\n",
    "from sklearn.metrics import confusion_matrix\n",
    "from keras.models import Sequential\n",
    "from keras.layers import Dense\n",
    " \n",
    "from sklearn.metrics import classification_report, confusion_matrix\n",
    "import seaborn as sn\n",
    "\n",
    "classif_report = classification_report(testY, yhat_classes, target_names=['fear', 'non-fear'])\n",
    "print('Classification report: ')\n",
    "print('---------------------------------------------------------- ')\n",
    "print(classif_report)\n",
    "\n",
    "print('---------------------------------------------------------- ')\n",
    "# accuracy: (tp + tn) / (p + n)\n",
    "accuracy = accuracy_score(testY, yhat_classes)\n",
    "print('Accuracy score: %f' % accuracy)\n",
    "# precision tp / (tp + fp)\n",
    "precision = precision_score(testY, yhat_classes)\n",
    "print('Precision score: %f' % precision)\n",
    "# recall: tp / (tp + fn)\n",
    "recall = recall_score(testY, yhat_classes)\n",
    "print('Recall score: %f' % recall)\n",
    "# f1: 2 tp / (2 tp + fp + fn)\n",
    "f1 = f1_score(testY, yhat_classes)\n",
    "print('F1 score: %f' % f1)\n",
    "print('---------------------------------------------------------- ')\n",
    "\n",
    "# confusion matrix\n",
    "labels = ['anger', 'none']\n",
    "matrix = confusion_matrix(testY, yhat_classes)\n",
    "print('Confusion matrix: ')\n",
    "print(matrix)\n",
    "fig = plt.figure()\n",
    "ax = fig.add_subplot(111)\n",
    "cax = ax.matshow(matrix)\n",
    "plt.title('Confusion Matrix')\n",
    "fig.colorbar(cax)\n",
    "ax.set_xticklabels([''] + labels)\n",
    "ax.set_yticklabels([''] + labels)\n",
    "plt.xlabel('Predicted')\n",
    "plt.ylabel('True')\n",
    "plt.savefig('confusion_matrix_fear_oversampled_fusion_embeddings_fully_connected.png')\n",
    "plt.show()\n",
    "print(matrix)"
   ]
  },
  {
   "cell_type": "code",
   "execution_count": null,
   "metadata": {},
   "outputs": [],
   "source": []
  }
 ],
 "metadata": {
  "kernelspec": {
   "display_name": "Python 3",
   "language": "python",
   "name": "python3"
  },
  "language_info": {
   "codemirror_mode": {
    "name": "ipython",
    "version": 3
   },
   "file_extension": ".py",
   "mimetype": "text/x-python",
   "name": "python",
   "nbconvert_exporter": "python",
   "pygments_lexer": "ipython3",
   "version": "3.7.7"
  }
 },
 "nbformat": 4,
 "nbformat_minor": 4
}
