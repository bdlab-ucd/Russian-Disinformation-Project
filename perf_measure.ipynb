{
 "cells": [
  {
   "cell_type": "code",
   "execution_count": null,
   "metadata": {},
   "outputs": [],
   "source": [
    "def perf_measure(y_actual, y_hat):\n",
    "    '''\n",
    "    Description:\n",
    "        Takes in ground truth and predicted values and through a series\n",
    "        of comparisons determines the number of True Positives (TP), False\n",
    "        Positives (FP), True Negatives (TN), False Negatives (FN) and \n",
    "        returns these values in a tuple.\n",
    "    Input:\n",
    "        y_actual: Actual values of y set\n",
    "        y_hat: Predicted values of y set\n",
    "    Output:\n",
    "        (TP, FP, TN, FN): Tuple of performance measures\n",
    "    '''\n",
    "    TP = 0\n",
    "    FP = 0\n",
    "    TN = 0\n",
    "    FN = 0\n",
    "\n",
    "    # Go through all values\n",
    "    for i in range(len(y_hat)): \n",
    "        if y_actual[i]==y_hat[i]==1: # True Positive\n",
    "           TP += 1\n",
    "        if y_hat[i]==1 and y_actual[i]!=y_hat[i]: # False Positive\n",
    "           FP += 1\n",
    "        if y_actual[i]==y_hat[i]==0: # True Negative\n",
    "           TN += 1\n",
    "        if y_hat[i]==0 and y_actual[i]!=y_hat[i]: # False Negative\n",
    "           FN += 1\n",
    "\n",
    "    return(TP, FP, TN, FN)"
   ]
  }
 ],
 "metadata": {
  "kernelspec": {
   "display_name": "Python 3",
   "language": "python",
   "name": "python3"
  },
  "language_info": {
   "codemirror_mode": {
    "name": "ipython",
    "version": 3
   },
   "file_extension": ".py",
   "mimetype": "text/x-python",
   "name": "python",
   "nbconvert_exporter": "python",
   "pygments_lexer": "ipython3",
   "version": "3.7.4"
  }
 },
 "nbformat": 4,
 "nbformat_minor": 2
}
