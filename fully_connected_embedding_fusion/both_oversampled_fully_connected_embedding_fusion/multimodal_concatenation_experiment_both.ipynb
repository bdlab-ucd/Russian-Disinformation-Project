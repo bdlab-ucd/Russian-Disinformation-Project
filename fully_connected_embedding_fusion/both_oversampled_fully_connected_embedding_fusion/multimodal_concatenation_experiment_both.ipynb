{
 "cells": [
  {
   "cell_type": "code",
   "execution_count": 134,
   "metadata": {},
   "outputs": [
    {
     "data": {
      "text/plain": [
       "2048"
      ]
     },
     "execution_count": 134,
     "metadata": {},
     "output_type": "execute_result"
    }
   ],
   "source": [
    "import numpy as np\n",
    "\n",
    "img_embed = np.load(\"both_resnet50_image_embeddings.npz\", allow_pickle=True)\n",
    "\n",
    "img_embed.files\n",
    "len(img_embed['arr_3000'][2][0])"
   ]
  },
  {
   "cell_type": "code",
   "execution_count": 135,
   "metadata": {},
   "outputs": [
    {
     "data": {
      "text/plain": [
       "768"
      ]
     },
     "execution_count": 135,
     "metadata": {},
     "output_type": "execute_result"
    }
   ],
   "source": [
    "word_embed = np.load(\"bert_word_embeddings_both.npz\", allow_pickle=True)\n",
    "\n",
    "word_embed.files\n",
    "len(word_embed['arr_3000'][2][0])"
   ]
  },
  {
   "cell_type": "code",
   "execution_count": 136,
   "metadata": {},
   "outputs": [],
   "source": [
    "data = []\n",
    "labels= []\n",
    "\n",
    "from sklearn.preprocessing import normalize\n",
    "from sklearn.pipeline import Pipeline, FeatureUnion\n",
    "\n",
    "for i in range(0, 3012):\n",
    "            \n",
    "    key_str = 'arr_' + str(i)\n",
    "    data.append(np.concatenate((word_embed[key_str][2][0], img_embed[key_str][2][0]), axis=None))\n",
    "    labels.append(word_embed[key_str][1][0])"
   ]
  },
  {
   "cell_type": "code",
   "execution_count": 137,
   "metadata": {},
   "outputs": [
    {
     "data": {
      "text/plain": [
       "array([-0.02023162, -0.1849499 , -0.8178115 , ..., -0.44114493,\n",
       "        0.68159937,  0.03613311])"
      ]
     },
     "execution_count": 137,
     "metadata": {},
     "output_type": "execute_result"
    }
   ],
   "source": [
    "from sklearn.preprocessing import StandardScaler\n",
    "\n",
    "scaler = StandardScaler()\n",
    "data = scaler.fit_transform(data)\n",
    "\n",
    "data.shape\n",
    "data[0]"
   ]
  },
  {
   "cell_type": "code",
   "execution_count": 138,
   "metadata": {},
   "outputs": [
    {
     "name": "stdout",
     "output_type": "stream",
     "text": [
      "Examples:\n",
      "    Total: 3012\n",
      "    Positive: 186 (6.18% of total)\n",
      "\n",
      "Weight for class 0: 0.53\n",
      "Weight for class 1: 8.10\n"
     ]
    }
   ],
   "source": [
    "neg, pos = np.bincount(labels)\n",
    "\n",
    "total = neg + pos\n",
    "\n",
    "print('Examples:\\n    Total: {}\\n    Positive: {} ({:.2f}% of total)\\n'.format(\n",
    "    total, pos, 100 * pos / total))\n",
    "\n",
    "# Scaling by total/2 helps keep the loss to a similar magnitude.\n",
    "# The sum of the weights of all examples stays the same.\n",
    "weight_for_0 = (1 / neg)*(total)/2.0 \n",
    "weight_for_1 = (1 / pos)*(total)/2.0\n",
    "\n",
    "class_weight = {0: weight_for_0, 1: weight_for_1}\n",
    "\n",
    "print('Weight for class 0: {:.2f}'.format(weight_for_0))\n",
    "print('Weight for class 1: {:.2f}'.format(weight_for_1))"
   ]
  },
  {
   "cell_type": "code",
   "execution_count": 139,
   "metadata": {},
   "outputs": [
    {
     "data": {
      "text/plain": [
       "(2826, 2816)"
      ]
     },
     "execution_count": 139,
     "metadata": {},
     "output_type": "execute_result"
    }
   ],
   "source": [
    "pos_features = []\n",
    "neg_features = []\n",
    "pos_labels = []\n",
    "neg_labels = []\n",
    "\n",
    "for i, sample in enumerate(data):\n",
    "    if labels[i] == 1:\n",
    "        pos_features.append(sample)\n",
    "        pos_labels.append(1)\n",
    "    else:\n",
    "        neg_features.append(sample)\n",
    "        neg_labels.append(0)\n",
    "        \n",
    "pos_features = np.array(pos_features)\n",
    "pos_labels = np.array(pos_labels)\n",
    "\n",
    "ids = np.arange(len(pos_features))\n",
    "choices = np.random.choice(ids, len(neg_features))\n",
    "\n",
    "res_pos_features = pos_features[choices]\n",
    "res_pos_labels = pos_labels[choices]\n",
    "\n",
    "res_pos_features.shape"
   ]
  },
  {
   "cell_type": "code",
   "execution_count": 140,
   "metadata": {},
   "outputs": [
    {
     "data": {
      "text/plain": [
       "(5652, 2816)"
      ]
     },
     "execution_count": 140,
     "metadata": {},
     "output_type": "execute_result"
    }
   ],
   "source": [
    "resampled_features = np.concatenate([res_pos_features, neg_features], axis=0)\n",
    "resampled_labels = np.concatenate([res_pos_labels, neg_labels], axis=0)\n",
    "\n",
    "order = np.arange(len(resampled_labels))\n",
    "np.random.shuffle(order)\n",
    "resampled_features = resampled_features[order]\n",
    "resampled_labels = resampled_labels[order]\n",
    "\n",
    "resampled_features.shape"
   ]
  },
  {
   "cell_type": "code",
   "execution_count": 141,
   "metadata": {},
   "outputs": [],
   "source": [
    "data = resampled_features\n",
    "labels = resampled_labels"
   ]
  },
  {
   "cell_type": "code",
   "execution_count": 142,
   "metadata": {},
   "outputs": [],
   "source": [
    "# set the matplotlib backend so figures can be saved in the background\n",
    "import matplotlib\n",
    "# matplotlib.use(\"Agg\")\n",
    "\n",
    "# import the necessary packages\n",
    "import time\n",
    "import pandas as pd\n",
    "import seaborn as sn\n",
    "import keras\n",
    "import os\n",
    "import cv2\n",
    "import pickle\n",
    "import random\n",
    "import argparse\n",
    "import numpy as np\n",
    "from imutils import paths\n",
    "import matplotlib.pyplot as plt\n",
    "from sklearn.metrics import confusion_matrix\n",
    "from sklearn.model_selection import train_test_split\n",
    "from sklearn.preprocessing import LabelBinarizer\n",
    "from keras.layers import Dense\n",
    "from keras.preprocessing.image import img_to_array\n",
    "from keras.models import Model\n",
    "from keras.optimizers import Adam\n",
    "from keras.optimizers import Nadam\n",
    "from keras.optimizers import RMSprop\n",
    "from keras.losses import logcosh, binary_crossentropy\n",
    "from keras.activations import relu, elu, sigmoid\n",
    "from keras.preprocessing.image import ImageDataGenerator\n",
    "# import matplotlib\n",
    "# matplotlib.use(\"Agg\")"
   ]
  },
  {
   "cell_type": "code",
   "execution_count": 143,
   "metadata": {},
   "outputs": [],
   "source": [
    "# initialize the number of epochs to train for, initial learning rate,\n",
    "# batch size, and image dimensions\n",
    "EPOCHS = 50\n",
    "INIT_LR = 1e-3\n",
    "BS = 128\n",
    "IMAGE_DIMS = (224, 224, 3)"
   ]
  },
  {
   "cell_type": "code",
   "execution_count": 144,
   "metadata": {},
   "outputs": [
    {
     "data": {
      "text/plain": [
       "array([[-0.36908774,  0.37719319,  0.36823693, ..., -0.85136696,\n",
       "        -1.06911755, -0.90406605],\n",
       "       [-2.57595769, -0.90697555,  2.0402173 , ...,  0.86352444,\n",
       "         1.22253925,  1.51375177],\n",
       "       [-0.73618898, -1.80109385, -2.20239733, ..., -0.12331566,\n",
       "         0.00918368, -0.60932606],\n",
       "       ...,\n",
       "       [-1.12765046,  0.294889  , -0.17331194, ..., -0.08950471,\n",
       "        -1.02299537, -0.4173342 ],\n",
       "       [ 0.56500577, -0.44774434,  0.46776403, ...,  0.70598697,\n",
       "         0.23384832, -0.34104205],\n",
       "       [-0.41877059,  0.39371929, -0.11423066, ..., -0.00696412,\n",
       "        -0.99878287, -0.85021371]])"
      ]
     },
     "execution_count": 144,
     "metadata": {},
     "output_type": "execute_result"
    }
   ],
   "source": [
    "from sklearn.model_selection import train_test_split\n",
    "\n",
    "# partition the data into training and testing splits using 80% of\n",
    "# the data for training and the remaining 20% for testing\n",
    "(trainX, testX, trainY, testY) = train_test_split(data,\n",
    "    labels, test_size=0.2, random_state=42)\n",
    "testX"
   ]
  },
  {
   "cell_type": "code",
   "execution_count": 145,
   "metadata": {},
   "outputs": [
    {
     "name": "stdout",
     "output_type": "stream",
     "text": [
      "[0 1 1 ... 1 1 1]\n",
      "[[1. 0.]\n",
      " [0. 1.]\n",
      " [0. 1.]\n",
      " ...\n",
      " [0. 1.]\n",
      " [0. 1.]\n",
      " [0. 1.]]\n",
      "[1 0 1 ... 1 0 1]\n",
      "[[0. 1.]\n",
      " [1. 0.]\n",
      " [0. 1.]\n",
      " ...\n",
      " [0. 1.]\n",
      " [1. 0.]\n",
      " [0. 1.]]\n"
     ]
    }
   ],
   "source": [
    "from sklearn.preprocessing import OneHotEncoder\n",
    "from sklearn.preprocessing import LabelEncoder\n",
    "\n",
    "# integer encode\n",
    "label_encoder = LabelEncoder()\n",
    "integer_encoded = label_encoder.fit_transform(trainY)\n",
    "print(integer_encoded)\n",
    "\n",
    "onehot_encoder = OneHotEncoder(sparse=False)\n",
    "integer_encoded = integer_encoded.reshape(len(integer_encoded), 1)\n",
    "onehot_encoded_trainY = onehot_encoder.fit_transform(integer_encoded)\n",
    "print(onehot_encoded_trainY)\n",
    "\n",
    "# integer encode\n",
    "label_encoder = LabelEncoder()\n",
    "integer_encoded = label_encoder.fit_transform(testY)\n",
    "print(integer_encoded)\n",
    "\n",
    "onehot_encoder = OneHotEncoder(sparse=False)\n",
    "integer_encoded = integer_encoded.reshape(len(integer_encoded), 1)\n",
    "onehot_encoded_testY = onehot_encoder.fit_transform(integer_encoded)\n",
    "print(onehot_encoded_testY)"
   ]
  },
  {
   "cell_type": "code",
   "execution_count": 146,
   "metadata": {},
   "outputs": [
    {
     "name": "stdout",
     "output_type": "stream",
     "text": [
      "[INFO] done compiling.\n",
      "Model: \"sequential_8\"\n",
      "_________________________________________________________________\n",
      "Layer (type)                 Output Shape              Param #   \n",
      "=================================================================\n",
      "dense_29 (Dense)             (None, 1024)              2884608   \n",
      "_________________________________________________________________\n",
      "dense_30 (Dense)             (None, 1024)              1049600   \n",
      "_________________________________________________________________\n",
      "dense_31 (Dense)             (None, 512)               524800    \n",
      "_________________________________________________________________\n",
      "dense_32 (Dense)             (None, 2)                 1026      \n",
      "=================================================================\n",
      "Total params: 4,460,034\n",
      "Trainable params: 4,460,034\n",
      "Non-trainable params: 0\n",
      "_________________________________________________________________\n"
     ]
    }
   ],
   "source": [
    "from keras.models import Sequential\n",
    "from keras.layers import Dense, Dropout\n",
    "from keras.regularizers import l2\n",
    "\n",
    "model = Sequential([\n",
    "    Dense(1024, input_shape=(2816,), activation='relu'),#, kernel_regularizer=l2(0.01), bias_regularizer=l2(0.01)),\n",
    "#     Dropout(0.2),\n",
    "    Dense(1024, activation='relu'),#, kernel_regularizer=l2(0.01), bias_regularizer=l2(0.01)),\n",
    "#     Dropout(0.2),\n",
    "    Dense(512, activation='relu'),#, kernel_regularizer=l2(0.01), bias_regularizer=l2(0.01)),\n",
    "#     Dropout(0.2),\n",
    "    Dense(2,activation='softmax')\n",
    "])\n",
    "opt = Adam(lr=INIT_LR, decay=INIT_LR / EPOCHS)\n",
    "model.compile(loss=\"binary_crossentropy\", optimizer=opt,\n",
    "    metrics=[\"accuracy\"])\n",
    "print(\"[INFO] done compiling.\")\n",
    "\n",
    "model.summary()\n"
   ]
  },
  {
   "cell_type": "code",
   "execution_count": 147,
   "metadata": {},
   "outputs": [],
   "source": [
    "# construct the image generator for data augmentation\n",
    "aug = ImageDataGenerator(rotation_range=25, width_shift_range=0.1,\n",
    "    height_shift_range=0.1, shear_range=0.2, zoom_range=0.2,\n",
    "    horizontal_flip=True, fill_mode=\"nearest\")"
   ]
  },
  {
   "cell_type": "code",
   "execution_count": 148,
   "metadata": {},
   "outputs": [
    {
     "data": {
      "text/plain": [
       "array([0, 1, 1, ..., 1, 1, 1])"
      ]
     },
     "execution_count": 148,
     "metadata": {},
     "output_type": "execute_result"
    }
   ],
   "source": [
    "trainY"
   ]
  },
  {
   "cell_type": "code",
   "execution_count": 149,
   "metadata": {
    "scrolled": true
   },
   "outputs": [
    {
     "name": "stdout",
     "output_type": "stream",
     "text": [
      "[INFO] training network...\n",
      "Train on 3616 samples, validate on 905 samples\n",
      "Epoch 1/50\n",
      "3616/3616 [==============================] - 0s 84us/step - loss: 0.5369 - accuracy: 0.8562 - val_loss: 0.1787 - val_accuracy: 0.9392\n",
      "Epoch 2/50\n",
      "3616/3616 [==============================] - 0s 51us/step - loss: 0.1061 - accuracy: 0.9660 - val_loss: 0.2748 - val_accuracy: 0.8796\n",
      "Epoch 3/50\n",
      "3616/3616 [==============================] - 0s 50us/step - loss: 0.1159 - accuracy: 0.9610 - val_loss: 0.1459 - val_accuracy: 0.9558\n",
      "Epoch 4/50\n",
      "3616/3616 [==============================] - 0s 51us/step - loss: 0.0830 - accuracy: 0.9735 - val_loss: 0.1593 - val_accuracy: 0.9558\n",
      "Epoch 5/50\n",
      "3616/3616 [==============================] - 0s 50us/step - loss: 0.0800 - accuracy: 0.9743 - val_loss: 0.1616 - val_accuracy: 0.9547\n",
      "Epoch 6/50\n",
      "3616/3616 [==============================] - 0s 50us/step - loss: 0.0772 - accuracy: 0.9776 - val_loss: 0.1415 - val_accuracy: 0.9602\n",
      "Epoch 7/50\n",
      "3616/3616 [==============================] - 0s 50us/step - loss: 0.0708 - accuracy: 0.9768 - val_loss: 0.1589 - val_accuracy: 0.9569\n",
      "Epoch 8/50\n",
      "3616/3616 [==============================] - 0s 50us/step - loss: 0.0703 - accuracy: 0.9779 - val_loss: 0.1752 - val_accuracy: 0.9558\n",
      "Epoch 9/50\n",
      "3616/3616 [==============================] - 0s 50us/step - loss: 0.0702 - accuracy: 0.9773 - val_loss: 0.1710 - val_accuracy: 0.9525\n",
      "Epoch 10/50\n",
      "3616/3616 [==============================] - 0s 51us/step - loss: 0.0717 - accuracy: 0.9782 - val_loss: 0.1528 - val_accuracy: 0.9569\n",
      "Epoch 11/50\n",
      "3616/3616 [==============================] - 0s 50us/step - loss: 0.0687 - accuracy: 0.9782 - val_loss: 0.1996 - val_accuracy: 0.9536\n",
      "Epoch 12/50\n",
      "3616/3616 [==============================] - 0s 51us/step - loss: 0.0699 - accuracy: 0.9765 - val_loss: 0.1672 - val_accuracy: 0.9558\n",
      "Epoch 13/50\n",
      "3616/3616 [==============================] - 0s 51us/step - loss: 0.0677 - accuracy: 0.9765 - val_loss: 0.2243 - val_accuracy: 0.9547\n",
      "Epoch 14/50\n",
      "3616/3616 [==============================] - 0s 50us/step - loss: 0.0705 - accuracy: 0.9762 - val_loss: 0.2020 - val_accuracy: 0.9547\n",
      "Epoch 15/50\n",
      "3616/3616 [==============================] - 0s 51us/step - loss: 0.0668 - accuracy: 0.9782 - val_loss: 0.1761 - val_accuracy: 0.9569\n",
      "Epoch 16/50\n",
      "3616/3616 [==============================] - 0s 50us/step - loss: 0.0643 - accuracy: 0.9773 - val_loss: 0.1407 - val_accuracy: 0.9580\n",
      "Epoch 17/50\n",
      "3616/3616 [==============================] - 0s 50us/step - loss: 0.0671 - accuracy: 0.9776 - val_loss: 0.2863 - val_accuracy: 0.9547\n",
      "Epoch 18/50\n",
      "3616/3616 [==============================] - 0s 51us/step - loss: 0.0657 - accuracy: 0.9776 - val_loss: 0.1643 - val_accuracy: 0.9591\n",
      "Epoch 19/50\n",
      "3616/3616 [==============================] - 0s 52us/step - loss: 0.0683 - accuracy: 0.9776 - val_loss: 0.1844 - val_accuracy: 0.9547\n",
      "Epoch 20/50\n",
      "3616/3616 [==============================] - 0s 51us/step - loss: 0.0651 - accuracy: 0.9779 - val_loss: 0.1862 - val_accuracy: 0.9580\n",
      "Epoch 21/50\n",
      "3616/3616 [==============================] - 0s 51us/step - loss: 0.0665 - accuracy: 0.9782 - val_loss: 0.1451 - val_accuracy: 0.9580\n",
      "Epoch 22/50\n",
      "3616/3616 [==============================] - 0s 50us/step - loss: 0.0645 - accuracy: 0.9779 - val_loss: 0.1961 - val_accuracy: 0.9580\n",
      "Epoch 23/50\n",
      "3616/3616 [==============================] - 0s 49us/step - loss: 0.0644 - accuracy: 0.9770 - val_loss: 0.1659 - val_accuracy: 0.9569\n",
      "Epoch 24/50\n",
      "3616/3616 [==============================] - 0s 50us/step - loss: 0.0646 - accuracy: 0.9773 - val_loss: 0.2356 - val_accuracy: 0.9558\n",
      "Epoch 25/50\n",
      "3616/3616 [==============================] - 0s 50us/step - loss: 0.0632 - accuracy: 0.9779 - val_loss: 0.1646 - val_accuracy: 0.9580\n",
      "Epoch 26/50\n",
      "3616/3616 [==============================] - 0s 50us/step - loss: 0.0636 - accuracy: 0.9779 - val_loss: 0.2507 - val_accuracy: 0.9536\n",
      "Epoch 27/50\n",
      "3616/3616 [==============================] - 0s 50us/step - loss: 0.0744 - accuracy: 0.9748 - val_loss: 0.1829 - val_accuracy: 0.9436\n",
      "Epoch 28/50\n",
      "3616/3616 [==============================] - 0s 50us/step - loss: 0.1150 - accuracy: 0.9591 - val_loss: 0.1607 - val_accuracy: 0.9536\n",
      "Epoch 29/50\n",
      "3616/3616 [==============================] - 0s 50us/step - loss: 0.0897 - accuracy: 0.9723 - val_loss: 0.1799 - val_accuracy: 0.9580\n",
      "Epoch 30/50\n",
      "3616/3616 [==============================] - 0s 50us/step - loss: 0.0723 - accuracy: 0.9768 - val_loss: 0.1916 - val_accuracy: 0.9558\n",
      "Epoch 31/50\n",
      "3616/3616 [==============================] - 0s 50us/step - loss: 0.0705 - accuracy: 0.9768 - val_loss: 0.1712 - val_accuracy: 0.9635\n",
      "Epoch 32/50\n",
      "3616/3616 [==============================] - 0s 50us/step - loss: 0.0684 - accuracy: 0.9762 - val_loss: 0.2008 - val_accuracy: 0.9547\n",
      "Epoch 33/50\n",
      "3616/3616 [==============================] - 0s 50us/step - loss: 0.0643 - accuracy: 0.9770 - val_loss: 0.1977 - val_accuracy: 0.9580\n",
      "Epoch 34/50\n",
      "3616/3616 [==============================] - 0s 50us/step - loss: 0.0676 - accuracy: 0.9779 - val_loss: 0.1793 - val_accuracy: 0.9558\n",
      "Epoch 35/50\n",
      "3616/3616 [==============================] - 0s 51us/step - loss: 0.0738 - accuracy: 0.9765 - val_loss: 0.2734 - val_accuracy: 0.9602\n",
      "Epoch 36/50\n",
      "3616/3616 [==============================] - 0s 50us/step - loss: 0.0705 - accuracy: 0.9768 - val_loss: 0.2089 - val_accuracy: 0.9558\n",
      "Epoch 37/50\n",
      "3616/3616 [==============================] - 0s 50us/step - loss: 0.0621 - accuracy: 0.9784 - val_loss: 0.2494 - val_accuracy: 0.9591\n",
      "Epoch 38/50\n",
      "3616/3616 [==============================] - 0s 51us/step - loss: 0.0618 - accuracy: 0.9787 - val_loss: 0.2207 - val_accuracy: 0.9591\n",
      "Epoch 39/50\n",
      "3616/3616 [==============================] - 0s 51us/step - loss: 0.0631 - accuracy: 0.9784 - val_loss: 0.2443 - val_accuracy: 0.9525\n",
      "Epoch 40/50\n",
      "3616/3616 [==============================] - 0s 50us/step - loss: 0.0617 - accuracy: 0.9787 - val_loss: 0.2235 - val_accuracy: 0.9569\n",
      "Epoch 41/50\n",
      "3616/3616 [==============================] - 0s 51us/step - loss: 0.0609 - accuracy: 0.9784 - val_loss: 0.2422 - val_accuracy: 0.9580\n",
      "Epoch 42/50\n",
      "3616/3616 [==============================] - 0s 50us/step - loss: 0.0616 - accuracy: 0.9790 - val_loss: 0.2527 - val_accuracy: 0.9580\n",
      "Epoch 43/50\n",
      "3616/3616 [==============================] - 0s 51us/step - loss: 0.0605 - accuracy: 0.9793 - val_loss: 0.2282 - val_accuracy: 0.9547\n",
      "Epoch 44/50\n",
      "3616/3616 [==============================] - 0s 50us/step - loss: 0.0627 - accuracy: 0.9793 - val_loss: 0.2646 - val_accuracy: 0.9547\n",
      "Epoch 45/50\n",
      "3616/3616 [==============================] - 0s 50us/step - loss: 0.0611 - accuracy: 0.9793 - val_loss: 0.2097 - val_accuracy: 0.9580\n",
      "Epoch 46/50\n",
      "3616/3616 [==============================] - 0s 51us/step - loss: 0.0612 - accuracy: 0.9793 - val_loss: 0.2441 - val_accuracy: 0.9580\n",
      "Epoch 47/50\n",
      "3616/3616 [==============================] - 0s 51us/step - loss: 0.0609 - accuracy: 0.9793 - val_loss: 0.2417 - val_accuracy: 0.9602\n",
      "Epoch 48/50\n",
      "3616/3616 [==============================] - 0s 50us/step - loss: 0.0617 - accuracy: 0.9793 - val_loss: 0.2445 - val_accuracy: 0.9580\n",
      "Epoch 49/50\n",
      "3616/3616 [==============================] - 0s 50us/step - loss: 0.0586 - accuracy: 0.9787 - val_loss: 0.2831 - val_accuracy: 0.9580\n",
      "Epoch 50/50\n",
      "3616/3616 [==============================] - 0s 50us/step - loss: 0.0588 - accuracy: 0.9787 - val_loss: 0.2579 - val_accuracy: 0.9580\n",
      "[INFO] serializing network...\n"
     ]
    }
   ],
   "source": [
    "# train the network\n",
    "print(\"[INFO] training network...\")\n",
    "\n",
    "H = model.fit(trainX, onehot_encoded_trainY, epochs=EPOCHS, batch_size=BS, validation_split=0.2) #class_weight=class_weight)\n",
    "\n",
    "# save the model to disk\n",
    "print(\"[INFO] serializing network...\")\n",
    "model.save(\"both_oversampled_fusion_embeddings_fully_connected.model\")"
   ]
  },
  {
   "cell_type": "code",
   "execution_count": 150,
   "metadata": {},
   "outputs": [
    {
     "data": {
      "image/png": "[encoded data removed]",
      "text/plain": [
       "<Figure size 432x288 with 1 Axes>"
      ]
     },
     "metadata": {
      "needs_background": "light"
     },
     "output_type": "display_data"
    },
    {
     "data": {
      "text/plain": [
       "<Figure size 432x288 with 0 Axes>"
      ]
     },
     "metadata": {},
     "output_type": "display_data"
    }
   ],
   "source": [
    "plt.style.use(\"ggplot\")\n",
    "%matplotlib inline\n",
    "plt.figure()\n",
    "N = EPOCHS\n",
    "plt.plot(np.arange(0, N), H.history[\"loss\"], label=\"train_loss\")\n",
    "plt.plot(np.arange(0, N), H.history[\"val_loss\"], label=\"val_loss\")\n",
    "plt.plot(np.arange(0, N), H.history[\"accuracy\"], label=\"train_acc\")\n",
    "plt.plot(np.arange(0, N), H.history[\"val_accuracy\"], label=\"val_acc\")\n",
    "plt.title(\"Training Loss and Accuracy\")\n",
    "plt.xlabel(\"Epoch #\")\n",
    "plt.ylabel(\"Loss/Accuracy\")\n",
    "plt.legend(loc=\"upper left\")\n",
    "fig1 = plt.gcf()\n",
    "plt.show()\n",
    "plt.draw()\n",
    "fig1.savefig('both_oversampled_fusion_embeddings_fully_connected_plot.png', dpi=100)"
   ]
  },
  {
   "cell_type": "code",
   "execution_count": 151,
   "metadata": {},
   "outputs": [
    {
     "data": {
      "text/plain": [
       "array([1, 0, 1, ..., 1, 0, 1], dtype=int64)"
      ]
     },
     "execution_count": 151,
     "metadata": {},
     "output_type": "execute_result"
    }
   ],
   "source": [
    "yhat_probs = model.predict(testX)\n",
    "yhat_classes = np.argmax(yhat_probs, axis=1)\n",
    "\n",
    "yhat_classes"
   ]
  },
  {
   "cell_type": "code",
   "execution_count": 152,
   "metadata": {},
   "outputs": [
    {
     "name": "stdout",
     "output_type": "stream",
     "text": [
      "Classification report: \n",
      "---------------------------------------------------------- \n",
      "              precision    recall  f1-score   support\n",
      "\n",
      "        both       1.00      0.94      0.97       562\n",
      "    non-both       0.95      1.00      0.97       569\n",
      "\n",
      "    accuracy                           0.97      1131\n",
      "   macro avg       0.97      0.97      0.97      1131\n",
      "weighted avg       0.97      0.97      0.97      1131\n",
      "\n",
      "---------------------------------------------------------- \n",
      "Accuracy score: 0.971706\n",
      "Precision score: 0.946755\n",
      "Recall score: 1.000000\n",
      "F1 score: 0.972650\n",
      "---------------------------------------------------------- \n",
      "Confusion matrix: \n",
      "[[530  32]\n",
      " [  0 569]]\n"
     ]
    },
    {
     "data": {
      "image/png": "[encoded data removed]",
      "text/plain": [
       "<Figure size 432x288 with 2 Axes>"
      ]
     },
     "metadata": {
      "needs_background": "light"
     },
     "output_type": "display_data"
    },
    {
     "name": "stdout",
     "output_type": "stream",
     "text": [
      "[[530  32]\n",
      " [  0 569]]\n"
     ]
    }
   ],
   "source": [
    "from sklearn.datasets import make_circles\n",
    "from sklearn.metrics import accuracy_score\n",
    "from sklearn.metrics import precision_score\n",
    "from sklearn.metrics import recall_score\n",
    "from sklearn.metrics import f1_score\n",
    "from sklearn.metrics import cohen_kappa_score\n",
    "from sklearn.metrics import roc_auc_score\n",
    "from sklearn.metrics import confusion_matrix\n",
    "from keras.models import Sequential\n",
    "from keras.layers import Dense\n",
    " \n",
    "from sklearn.metrics import classification_report, confusion_matrix\n",
    "import seaborn as sn\n",
    "\n",
    "classif_report = classification_report(testY, yhat_classes, target_names=['both', 'non-both'])\n",
    "print('Classification report: ')\n",
    "print('---------------------------------------------------------- ')\n",
    "print(classif_report)\n",
    "\n",
    "print('---------------------------------------------------------- ')\n",
    "# accuracy: (tp + tn) / (p + n)\n",
    "accuracy = accuracy_score(testY, yhat_classes)\n",
    "print('Accuracy score: %f' % accuracy)\n",
    "# precision tp / (tp + fp)\n",
    "precision = precision_score(testY, yhat_classes)\n",
    "print('Precision score: %f' % precision)\n",
    "# recall: tp / (tp + fn)\n",
    "recall = recall_score(testY, yhat_classes)\n",
    "print('Recall score: %f' % recall)\n",
    "# f1: 2 tp / (2 tp + fp + fn)\n",
    "f1 = f1_score(testY, yhat_classes)\n",
    "print('F1 score: %f' % f1)\n",
    "print('---------------------------------------------------------- ')\n",
    "\n",
    "# confusion matrix\n",
    "labels = ['both', 'none']\n",
    "matrix = confusion_matrix(testY, yhat_classes)\n",
    "print('Confusion matrix: ')\n",
    "print(matrix)\n",
    "fig = plt.figure()\n",
    "ax = fig.add_subplot(111)\n",
    "cax = ax.matshow(matrix)\n",
    "plt.title('Confusion Matrix')\n",
    "fig.colorbar(cax)\n",
    "ax.set_xticklabels([''] + labels)\n",
    "ax.set_yticklabels([''] + labels)\n",
    "plt.xlabel('Predicted')\n",
    "plt.ylabel('True')\n",
    "plt.savefig('confusion_matrix_both_oversampled_fusion_embeddings_fully_connected.png')\n",
    "plt.show()\n",
    "print(matrix)"
   ]
  },
  {
   "cell_type": "code",
   "execution_count": null,
   "metadata": {},
   "outputs": [],
   "source": []
  }
 ],
 "metadata": {
  "kernelspec": {
   "display_name": "Python 3",
   "language": "python",
   "name": "python3"
  },
  "language_info": {
   "codemirror_mode": {
    "name": "ipython",
    "version": 3
   },
   "file_extension": ".py",
   "mimetype": "text/x-python",
   "name": "python",
   "nbconvert_exporter": "python",
   "pygments_lexer": "ipython3",
   "version": "3.7.7"
  }
 },
 "nbformat": 4,
 "nbformat_minor": 4
}
