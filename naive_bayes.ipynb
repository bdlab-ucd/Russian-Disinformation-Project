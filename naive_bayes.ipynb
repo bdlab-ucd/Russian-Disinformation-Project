{
 "cells": [
  {
   "cell_type": "code",
   "execution_count": 196,
   "metadata": {},
   "outputs": [],
   "source": [
    "import pandas as pd\n",
    "import numpy as np\n",
    "\n",
    "# read dataset into pandas dataframe\n",
    "df_items = pd.read_csv('items-Copy1.csv')\n",
    "\n",
    "# replace field that's entirely space (or empty) with NaN\n",
    "df_items = df_items.replace(np.nan, '', regex=True)"
   ]
  },
  {
   "cell_type": "code",
   "execution_count": 197,
   "metadata": {
    "scrolled": false
   },
   "outputs": [
    {
     "data": {
      "text/html": [
       "<div>\n",
       "<style scoped>\n",
       "    .dataframe tbody tr th:only-of-type {\n",
       "        vertical-align: middle;\n",
       "    }\n",
       "\n",
       "    .dataframe tbody tr th {\n",
       "        vertical-align: top;\n",
       "    }\n",
       "\n",
       "    .dataframe thead th {\n",
       "        text-align: right;\n",
       "    }\n",
       "</style>\n",
       "<table border=\"1\" class=\"dataframe\">\n",
       "  <thead>\n",
       "    <tr style=\"text-align: right;\">\n",
       "      <th></th>\n",
       "      <th>label word</th>\n",
       "      <th>label numerical</th>\n",
       "      <th>description</th>\n",
       "    </tr>\n",
       "  </thead>\n",
       "  <tbody>\n",
       "    <tr>\n",
       "      <th>0</th>\n",
       "      <td>fear</td>\n",
       "      <td>1</td>\n",
       "      <td>Black American racial experience is real. We support the 2nd ammendment\\nfor our safety.</td>\n",
       "    </tr>\n",
       "    <tr>\n",
       "      <th>1</th>\n",
       "      <td>anger</td>\n",
       "      <td>0</td>\n",
       "      <td>The best costume for Halloween worth posting. Power to the People!</td>\n",
       "    </tr>\n",
       "    <tr>\n",
       "      <th>2</th>\n",
       "      <td>anger</td>\n",
       "      <td>0</td>\n",
       "      <td>Keep on whining and crying for your president, ooh, who wasn't elected.\\nImma take care of my kids.\\n\\nI'll keep grinding for them, to make sure the get the best education.\\nTo ensure they dress well and eat healthy food.\\nAnd I'm gon tell you to do the same thing.\\n\\nDon't waste time on an \"afterparty\" you wouldn't have been invited to!\\n\\n#word #wakeup #organize #joshuabeal #altonsterling #TerenceCrutCher\\n#westandtogether #blacklivesmatter #unite4justice #hovem ber8\\n#electi0h52016 #black #melanin #blackisbeautiful #blacklivesmatter\\n#blackgirlmagic #USA #blackahdproud #democrat #republioan\\n#Africanamerican #unite4justice #vote #breakingnews</td>\n",
       "    </tr>\n",
       "    <tr>\n",
       "      <th>3</th>\n",
       "      <td>anger</td>\n",
       "      <td>0</td>\n",
       "      <td>End the whining and crying, end the riots with these same white\\npeople(democrats), who will not march with you when your son, daughter or\\nloved one gets shot for being Black.\\n\\nI opted out of the elections and i had many Black people all up in my case,\\ntelling me how i was wrong and how i needed to make my vote count for Mrs.\\nClinton, all just to make sure Trump doesn't become president.\\n\\nWell now all i want to say is get over Trump and Clinton, they are rich white\\npeople, the elite who were born into and are a part of the system.\\n\\nI dream of liberation, not staying a slave under Hillary or Trump, so forget\\nyour Childish rioting, no one has shot!\\n\\n#wakeup #organize #joshuabeal #altonsterling #TerenceCrutCher\\n#westandtogether #blacklivesmatter #unite4justice #novem ber8\\n#elections2016 #black #melanin #blackisbeautiful #blacklivesmatter\\n#blackgirlmagic #USA #blackandproud #democrat #republioan\\n#Africanamerican #unite4justice #vote #breakingnews</td>\n",
       "    </tr>\n",
       "    <tr>\n",
       "      <th>4</th>\n",
       "      <td>neither</td>\n",
       "      <td>3</td>\n",
       "      <td>Black girls are the definition of national greatness.</td>\n",
       "    </tr>\n",
       "    <tr>\n",
       "      <th>...</th>\n",
       "      <td>...</td>\n",
       "      <td>...</td>\n",
       "      <td>...</td>\n",
       "    </tr>\n",
       "    <tr>\n",
       "      <th>3007</th>\n",
       "      <td>neither</td>\n",
       "      <td>3</td>\n",
       "      <td>New ideas, old values. Like us!</td>\n",
       "    </tr>\n",
       "    <tr>\n",
       "      <th>3008</th>\n",
       "      <td>neither</td>\n",
       "      <td>3</td>\n",
       "      <td>Secured borders are a national priority. We need to protect America now\\nmore than ever.</td>\n",
       "    </tr>\n",
       "    <tr>\n",
       "      <th>3009</th>\n",
       "      <td>neither</td>\n",
       "      <td>3</td>\n",
       "      <td>Secured borders should be a top priority. We need to protect America now\\nmore than ever.</td>\n",
       "    </tr>\n",
       "    <tr>\n",
       "      <th>3010</th>\n",
       "      <td>neither</td>\n",
       "      <td>3</td>\n",
       "      <td>Bernie for president!</td>\n",
       "    </tr>\n",
       "    <tr>\n",
       "      <th>3011</th>\n",
       "      <td>neither</td>\n",
       "      <td>3</td>\n",
       "      <td>Secured borders are a national priority. America is at risk and we need to\\r\\nprotect our...</td>\n",
       "    </tr>\n",
       "  </tbody>\n",
       "</table>\n",
       "<p>3012 rows × 3 columns</p>\n",
       "</div>"
      ],
      "text/plain": [
       "     label word  label numerical  \\\n",
       "0     fear       1                 \n",
       "1     anger      0                 \n",
       "2     anger      0                 \n",
       "3     anger      0                 \n",
       "4     neither    3                 \n",
       "...       ...   ..                 \n",
       "3007  neither    3                 \n",
       "3008  neither    3                 \n",
       "3009  neither    3                 \n",
       "3010  neither    3                 \n",
       "3011  neither    3                 \n",
       "\n",
       "                                                                                                                                                                                                                                                                                                                                                                                                                                                                                                                                                                                                                                                                                                                                                                                                                                                                                                                                                                                                        description  \n",
       "0     Black American racial experience is real. We support the 2nd ammendment\\nfor our safety.                                                                                                                                                                                                                                                                                                                                                                                                                                                                                                                                                                                                                                                                                                                                                                                                                                                                                                                       \n",
       "1     The best costume for Halloween worth posting. Power to the People!                                                                                                                                                                                                                                                                                                                                                                                                                                                                                                                                                                                                                                                                                                                                                                                                                                                                                                                                             \n",
       "2     Keep on whining and crying for your president, ooh, who wasn't elected.\\nImma take care of my kids.\\n\\nI'll keep grinding for them, to make sure the get the best education.\\nTo ensure they dress well and eat healthy food.\\nAnd I'm gon tell you to do the same thing.\\n\\nDon't waste time on an \"afterparty\" you wouldn't have been invited to!\\n\\n#word #wakeup #organize #joshuabeal #altonsterling #TerenceCrutCher\\n#westandtogether #blacklivesmatter #unite4justice #hovem ber8\\n#electi0h52016 #black #melanin #blackisbeautiful #blacklivesmatter\\n#blackgirlmagic #USA #blackahdproud #democrat #republioan\\n#Africanamerican #unite4justice #vote #breakingnews                                                                                                                                                                                                                                                                                                                                  \n",
       "3     End the whining and crying, end the riots with these same white\\npeople(democrats), who will not march with you when your son, daughter or\\nloved one gets shot for being Black.\\n\\nI opted out of the elections and i had many Black people all up in my case,\\ntelling me how i was wrong and how i needed to make my vote count for Mrs.\\nClinton, all just to make sure Trump doesn't become president.\\n\\nWell now all i want to say is get over Trump and Clinton, they are rich white\\npeople, the elite who were born into and are a part of the system.\\n\\nI dream of liberation, not staying a slave under Hillary or Trump, so forget\\nyour Childish rioting, no one has shot!\\n\\n#wakeup #organize #joshuabeal #altonsterling #TerenceCrutCher\\n#westandtogether #blacklivesmatter #unite4justice #novem ber8\\n#elections2016 #black #melanin #blackisbeautiful #blacklivesmatter\\n#blackgirlmagic #USA #blackandproud #democrat #republioan\\n#Africanamerican #unite4justice #vote #breakingnews  \n",
       "4     Black girls are the definition of national greatness.                                                                                                                                                                                                                                                                                                                                                                                                                                                                                                                                                                                                                                                                                                                                                                                                                                                                                                                                                          \n",
       "...                                                     ...                                                                                                                                                                                                                                                                                                                                                                                                                                                                                                                                                                                                                                                                                                                                                                                                                                                                                                                                                          \n",
       "3007  New ideas, old values. Like us!                                                                                                                                                                                                                                                                                                                                                                                                                                                                                                                                                                                                                                                                                                                                                                                                                                                                                                                                                                                \n",
       "3008  Secured borders are a national priority. We need to protect America now\\nmore than ever.                                                                                                                                                                                                                                                                                                                                                                                                                                                                                                                                                                                                                                                                                                                                                                                                                                                                                                                       \n",
       "3009  Secured borders should be a top priority. We need to protect America now\\nmore than ever.                                                                                                                                                                                                                                                                                                                                                                                                                                                                                                                                                                                                                                                                                                                                                                                                                                                                                                                      \n",
       "3010  Bernie for president!                                                                                                                                                                                                                                                                                                                                                                                                                                                                                                                                                                                                                                                                                                                                                                                                                                                                                                                                                                                          \n",
       "3011  Secured borders are a national priority. America is at risk and we need to\\r\\nprotect our...                                                                                                                                                                                                                                                                                                                                                                                                                                                                                                                                                                                                                                                                                                                                                                                                                                                                                                                   \n",
       "\n",
       "[3012 rows x 3 columns]"
      ]
     },
     "execution_count": 197,
     "metadata": {},
     "output_type": "execute_result"
    }
   ],
   "source": [
    "# Take rows with tags 'black', 'white', both or neither and label them as such\n",
    "# 'black' = 0, 'white' = 1, both = 2, neither = 3\n",
    "labels_list_word = []\n",
    "labels_list_numerical = []\n",
    "descriptions_list = []\n",
    "\n",
    "for i, row in df_items.iterrows():\n",
    "    row['tag'] = row['tag'].lower()\n",
    "    if 'anger' in row['tag'] and not 'fear' in row['tag']: #and 'white' in row['tag']:\n",
    "        labels_list_word.append('anger') # black\n",
    "        descriptions_list.append(row['description'])\n",
    "        labels_list_numerical.append(0) # 0\n",
    "    elif not 'anger' in row['tag'] and 'fear' in row['tag']:\n",
    "        labels_list_word.append('fear') # white\n",
    "        descriptions_list.append(row['description'])\n",
    "        labels_list_numerical.append(1) # 1\n",
    "    elif 'anger' in row['tag'] and 'fear' in row['tag']:\n",
    "        labels_list_word.append('both') # both\n",
    "        descriptions_list.append(row['description'])\n",
    "        labels_list_numerical.append(2) # 2\n",
    "    else:\n",
    "        labels_list_word.append('neither') # neither\n",
    "        descriptions_list.append(row['description'])\n",
    "        labels_list_numerical.append(3) # 3\n",
    "\n",
    "df = pd.DataFrame()\n",
    "df['label word'] = labels_list_word # append labels_list_word to df with column header 'label word'\n",
    "df['label numerical'] = labels_list_numerical # append labels_list_numerical to df with column header 'label numerical'\n",
    "df['description'] = descriptions_list # append descriptions_list to df with column header 'description'\n",
    "df"
   ]
  },
  {
   "cell_type": "code",
   "execution_count": 198,
   "metadata": {
    "scrolled": false
   },
   "outputs": [
    {
     "name": "stdout",
     "output_type": "stream",
     "text": [
      "   label numerical  \\\n",
      "0  1                 \n",
      "1  0                 \n",
      "2  0                 \n",
      "3  0                 \n",
      "4  3                 \n",
      "5  3                 \n",
      "6  3                 \n",
      "7  0                 \n",
      "8  0                 \n",
      "9  0                 \n",
      "\n",
      "                                                                                                                                                                                                                                                                                                                                                                                                                                                                                                                                                                                                                                                                                                                                                                                                                                                                                                                                                                                                     description  \n",
      "0  Black American racial experience is real. We support the 2nd ammendment\\nfor our safety.                                                                                                                                                                                                                                                                                                                                                                                                                                                                                                                                                                                                                                                                                                                                                                                                                                                                                                                       \n",
      "1  The best costume for Halloween worth posting. Power to the People!                                                                                                                                                                                                                                                                                                                                                                                                                                                                                                                                                                                                                                                                                                                                                                                                                                                                                                                                             \n",
      "2  Keep on whining and crying for your president, ooh, who wasn't elected.\\nImma take care of my kids.\\n\\nI'll keep grinding for them, to make sure the get the best education.\\nTo ensure they dress well and eat healthy food.\\nAnd I'm gon tell you to do the same thing.\\n\\nDon't waste time on an \"afterparty\" you wouldn't have been invited to!\\n\\n#word #wakeup #organize #joshuabeal #altonsterling #TerenceCrutCher\\n#westandtogether #blacklivesmatter #unite4justice #hovem ber8\\n#electi0h52016 #black #melanin #blackisbeautiful #blacklivesmatter\\n#blackgirlmagic #USA #blackahdproud #democrat #republioan\\n#Africanamerican #unite4justice #vote #breakingnews                                                                                                                                                                                                                                                                                                                                  \n",
      "3  End the whining and crying, end the riots with these same white\\npeople(democrats), who will not march with you when your son, daughter or\\nloved one gets shot for being Black.\\n\\nI opted out of the elections and i had many Black people all up in my case,\\ntelling me how i was wrong and how i needed to make my vote count for Mrs.\\nClinton, all just to make sure Trump doesn't become president.\\n\\nWell now all i want to say is get over Trump and Clinton, they are rich white\\npeople, the elite who were born into and are a part of the system.\\n\\nI dream of liberation, not staying a slave under Hillary or Trump, so forget\\nyour Childish rioting, no one has shot!\\n\\n#wakeup #organize #joshuabeal #altonsterling #TerenceCrutCher\\n#westandtogether #blacklivesmatter #unite4justice #novem ber8\\n#elections2016 #black #melanin #blackisbeautiful #blacklivesmatter\\n#blackgirlmagic #USA #blackandproud #democrat #republioan\\n#Africanamerican #unite4justice #vote #breakingnews  \n",
      "4  Black girls are the definition of national greatness.                                                                                                                                                                                                                                                                                                                                                                                                                                                                                                                                                                                                                                                                                                                                                                                                                                                                                                                                                          \n",
      "5  Imma stay here comfy and untouched, yet working hard and caring for my\\nown and staring at all what's going on.\\n\\nStay Black, stay strong\\n\\n#blacklivesmatter #unite4justice #november8 #election52016 #black #melanin\\n#blackisbeautiful #blacklivesmatter #blackgirlmagic #USA #blackandproud\\n#democrat #republican #Africanamerican #unite4justice #vote #breakingnews\\n#melaninqueen #dope #beautiful #wakeup #wewillsurvive #organize\\n##joshuabeal #altonsterling #TerenceCrutcher #westandtogether                                                                                                                                                                                                                                                                                                                                                                                                                                                                                                   \n",
      "6  There is a disgusting video Circulating on the internet which shows an\\nunidentified white cop rape a helpless Black teen. Shameless White Cop\\nRapes Black Teen | BM BM                                                                                                                                                                                                                                                                                                                                                                                                                                                                                                                                                                                                                                                                                                                                                                                                                                       \n",
      "7  Art imitates life art. This photo is great.                                                                                                                                                                                                                                                                                                                                                                                                                                                                                                                                                                                                                                                                                                                                                                                                                                                                                                                                                                    \n",
      "8  In America, racial oppression and racism were never an ancient history.                                                                                                                                                                                                                                                                                                                                                                                                                                                                                                                                                                                                                                                                                                                                                                                                                                                                                                                                        \n",
      "9  Donald John Trump was elected the 45th president of the United States on\\nTuesday! Today some massive crowds of libtards marched in NYC against\\nelection of Donald Trump.\\n\\nCome to Trump Tower (725 5th Ave) on Saturday to show Mr. Trump there\\nactually ARE people in NY who voted for him! Support Trump in NYC                                                                                                                                                                                                                                                                                                                                                                                                                                                                                                                                                                                                                                                                                         \n"
     ]
    }
   ],
   "source": [
    "pd.set_option('display.max_colwidth', -1) # set display options to display entire non-turnicated contents\n",
    "print(df[['label numerical', 'description']].head(10)) "
   ]
  },
  {
   "cell_type": "code",
   "execution_count": 199,
   "metadata": {},
   "outputs": [
    {
     "data": {
      "text/plain": [
       "'df = df[[\\'label word\\', \\'description\\']]\\n\\ndf_anger = df.loc[df[\\'label word\\'] == \"anger\"]\\ndf_fear = df.loc[df[\\'label word\\'] == \"fear\"]\\ndf_both = df.loc[df[\\'label word\\'] == \"both\"]\\ndf_neither = df.loc[df[\\'label word\\'] == \"neither\"]\\n\\ndf_anger'"
      ]
     },
     "execution_count": 199,
     "metadata": {},
     "output_type": "execute_result"
    }
   ],
   "source": [
    "'''df = df[['label word', 'description']]\n",
    "\n",
    "df_anger = df.loc[df['label word'] == \"anger\"]\n",
    "df_fear = df.loc[df['label word'] == \"fear\"]\n",
    "df_both = df.loc[df['label word'] == \"both\"]\n",
    "df_neither = df.loc[df['label word'] == \"neither\"]\n",
    "\n",
    "df_anger'''"
   ]
  },
  {
   "cell_type": "code",
   "execution_count": 200,
   "metadata": {},
   "outputs": [
    {
     "name": "stdout",
     "output_type": "stream",
     "text": [
      "Number of rows in the total set: 3012\n",
      "Number of rows in the training set: 2259\n",
      "Number of rows in the test set: 753\n"
     ]
    }
   ],
   "source": [
    "from sklearn.model_selection import train_test_split\n",
    "\n",
    "X_train, X_test, Y_train, Y_test = train_test_split(df['description'], \n",
    "                                                    df['label numerical'], \n",
    "                                                    random_state=1)\n",
    "\n",
    "print('Number of rows in the total set: {}'.format(df.shape[0]))\n",
    "print('Number of rows in the training set: {}'.format(X_train.shape[0]))\n",
    "print('Number of rows in the test set: {}'.format(X_test.shape[0]))"
   ]
  },
  {
   "cell_type": "code",
   "execution_count": 201,
   "metadata": {},
   "outputs": [],
   "source": [
    "from sklearn.feature_extraction.text import CountVectorizer\n",
    "\n",
    "# instantiate Countvectorizer method\n",
    "count_vector = CountVectorizer()\n",
    "\n",
    "# fit training data and return matrix\n",
    "training_data = count_vector.fit_transform(X_train)\n",
    "\n",
    "# transform testing data and return matrix\n",
    "testing_data = count_vector.transform(X_test)"
   ]
  },
  {
   "cell_type": "code",
   "execution_count": 202,
   "metadata": {},
   "outputs": [],
   "source": [
    "from sklearn.naive_bayes import MultinomialNB\n",
    "naive_bayes = MultinomialNB()\n",
    "naive_bayes.fit(training_data, Y_train)\n",
    "\n",
    "predictions = naive_bayes.predict(testing_data)"
   ]
  },
  {
   "cell_type": "code",
   "execution_count": 213,
   "metadata": {},
   "outputs": [
    {
     "name": "stdout",
     "output_type": "stream",
     "text": [
      "              precision    recall  f1-score   support\n",
      "\n",
      "       anger       0.44      0.43      0.43       159\n",
      "        fear       0.00      0.00      0.00        32\n",
      "        both       0.47      0.20      0.28        46\n",
      "     neither       0.78      0.87      0.82       516\n",
      "\n",
      "    accuracy                           0.70       753\n",
      "   macro avg       0.42      0.37      0.38       753\n",
      "weighted avg       0.66      0.70      0.67       753\n",
      "\n",
      "Accuracy score:  0.701195219123506\n",
      "Precision score:  0.3743390344099561\n",
      "Recall score:  0.4228307690503209\n",
      "F1 score:  0.38344709706720004\n"
     ]
    }
   ],
   "source": [
    "from sklearn.metrics import accuracy_score, precision_score, recall_score, f1_score\n",
    "from sklearn.metrics import classification_report\n",
    "\n",
    "print(classification_report(Y_test, predictions, target_names = ['anger', 'fear', 'both', 'neither']))\n",
    "\n",
    "print('Accuracy score: ', format(accuracy_score(predictions, Y_test)))\n",
    "print('Precision score: ', format(precision_score(predictions, Y_test, average='macro')))\n",
    "print('Recall score: ', format(recall_score(predictions, Y_test, average='macro')))\n",
    "print('F1 score: ', format(f1_score(predictions, Y_test, average='macro')))"
   ]
  }
 ],
 "metadata": {
  "kernelspec": {
   "display_name": "Python 3",
   "language": "python",
   "name": "python3"
  },
  "language_info": {
   "codemirror_mode": {
    "name": "ipython",
    "version": 3
   },
   "file_extension": ".py",
   "mimetype": "text/x-python",
   "name": "python",
   "nbconvert_exporter": "python",
   "pygments_lexer": "ipython3",
   "version": "3.7.4"
  }
 },
 "nbformat": 4,
 "nbformat_minor": 2
}
