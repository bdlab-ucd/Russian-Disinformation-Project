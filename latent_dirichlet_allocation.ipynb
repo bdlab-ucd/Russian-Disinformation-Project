{
 "cells": [
  {
   "cell_type": "markdown",
   "metadata": {},
   "source": [
    "# Copy items-Copy1.csv file into pandas dataframe and \n",
    "# replace all fields that are empty with NaN"
   ]
  },
  {
   "cell_type": "code",
   "execution_count": 251,
   "metadata": {},
   "outputs": [
    {
     "name": "stderr",
     "output_type": "stream",
     "text": [
      "/Users/tobbylie/opt/anaconda3/envs/russian_disinformation_env/lib/python3.6/site-packages/ipykernel_launcher.py:11: SettingWithCopyWarning: \n",
      "A value is trying to be set on a copy of a slice from a DataFrame.\n",
      "Try using .loc[row_indexer,col_indexer] = value instead\n",
      "\n",
      "See the caveats in the documentation: http://pandas.pydata.org/pandas-docs/stable/user_guide/indexing.html#returning-a-view-versus-a-copy\n",
      "  # This is added back by InteractiveShellApp.init_path()\n"
     ]
    }
   ],
   "source": [
    "import pandas as pd\n",
    "import numpy as np\n",
    "\n",
    "# read dataset into pandas dataframe\n",
    "df_items = pd.read_csv('items-Copy1.csv')\n",
    "\n",
    "# replace field that's entirely space (or empty) with NaN\n",
    "df_items = df_items.replace(np.nan, '', regex=True)\n",
    "\n",
    "data_text = df_items[['description']]\n",
    "data_text['index'] = data_text.index\n",
    "\n",
    "documents = data_text"
   ]
  },
  {
   "cell_type": "code",
   "execution_count": 252,
   "metadata": {},
   "outputs": [
    {
     "data": {
      "text/plain": [
       "3012"
      ]
     },
     "execution_count": 252,
     "metadata": {},
     "output_type": "execute_result"
    }
   ],
   "source": [
    "len(documents)"
   ]
  },
  {
   "cell_type": "code",
   "execution_count": 253,
   "metadata": {
    "scrolled": true
   },
   "outputs": [
    {
     "data": {
      "text/html": [
       "<div>\n",
       "<style scoped>\n",
       "    .dataframe tbody tr th:only-of-type {\n",
       "        vertical-align: middle;\n",
       "    }\n",
       "\n",
       "    .dataframe tbody tr th {\n",
       "        vertical-align: top;\n",
       "    }\n",
       "\n",
       "    .dataframe thead th {\n",
       "        text-align: right;\n",
       "    }\n",
       "</style>\n",
       "<table border=\"1\" class=\"dataframe\">\n",
       "  <thead>\n",
       "    <tr style=\"text-align: right;\">\n",
       "      <th></th>\n",
       "      <th>description</th>\n",
       "      <th>index</th>\n",
       "    </tr>\n",
       "  </thead>\n",
       "  <tbody>\n",
       "    <tr>\n",
       "      <th>0</th>\n",
       "      <td>Black American racial experience is real. We s...</td>\n",
       "      <td>0</td>\n",
       "    </tr>\n",
       "    <tr>\n",
       "      <th>1</th>\n",
       "      <td>The best costume for Halloween worth posting. ...</td>\n",
       "      <td>1</td>\n",
       "    </tr>\n",
       "    <tr>\n",
       "      <th>2</th>\n",
       "      <td>Keep on whining and crying for your president,...</td>\n",
       "      <td>2</td>\n",
       "    </tr>\n",
       "    <tr>\n",
       "      <th>3</th>\n",
       "      <td>End the whining and crying, end the riots with...</td>\n",
       "      <td>3</td>\n",
       "    </tr>\n",
       "    <tr>\n",
       "      <th>4</th>\n",
       "      <td>Black girls are the definition of national gre...</td>\n",
       "      <td>4</td>\n",
       "    </tr>\n",
       "  </tbody>\n",
       "</table>\n",
       "</div>"
      ],
      "text/plain": [
       "                                         description  index\n",
       "0  Black American racial experience is real. We s...      0\n",
       "1  The best costume for Halloween worth posting. ...      1\n",
       "2  Keep on whining and crying for your president,...      2\n",
       "3  End the whining and crying, end the riots with...      3\n",
       "4  Black girls are the definition of national gre...      4"
      ]
     },
     "execution_count": 253,
     "metadata": {},
     "output_type": "execute_result"
    }
   ],
   "source": [
    "documents[:5]"
   ]
  },
  {
   "cell_type": "markdown",
   "metadata": {},
   "source": [
    "# Need to perform the following steps:\n",
    "1. Tokenization -- split text into sequences and sentences into words.\n",
    "    Lowercase all words and remove punctuation.\n",
    "2. Remove words with fewer than 3 characters\n",
    "3. Remove stopwords\n",
    "4. Lemmatize words -- words in third person are changed to first person\n",
    "    and verbs in past and future tenses are changed into present.\n",
    "5. Stem words --  words are reduced to root form.\n",
    "\n",
    "## gensim and nltk libraries will be used to \n",
    "## implement this."
   ]
  },
  {
   "cell_type": "code",
   "execution_count": 254,
   "metadata": {},
   "outputs": [],
   "source": [
    "import gensim\n",
    "from gensim.utils import simple_preprocess\n",
    "from gensim.parsing.preprocessing import STOPWORDS\n",
    "from nltk.stem import WordNetLemmatizer, SnowballStemmer\n",
    "from nltk.stem.porter import *\n",
    "import numpy as np\n",
    "np.random.seed(2018)"
   ]
  },
  {
   "cell_type": "code",
   "execution_count": 255,
   "metadata": {},
   "outputs": [
    {
     "name": "stderr",
     "output_type": "stream",
     "text": [
      "[nltk_data] Downloading package wordnet to\n",
      "[nltk_data]     /Users/tobbylie/nltk_data...\n",
      "[nltk_data]   Package wordnet is already up-to-date!\n"
     ]
    },
    {
     "data": {
      "text/plain": [
       "True"
      ]
     },
     "execution_count": 255,
     "metadata": {},
     "output_type": "execute_result"
    }
   ],
   "source": [
    "import nltk\n",
    "nltk.download('wordnet')"
   ]
  },
  {
   "cell_type": "markdown",
   "metadata": {},
   "source": [
    "# Lemmatize example"
   ]
  },
  {
   "cell_type": "code",
   "execution_count": 256,
   "metadata": {},
   "outputs": [
    {
     "name": "stdout",
     "output_type": "stream",
     "text": [
      "go\n"
     ]
    }
   ],
   "source": [
    "print(WordNetLemmatizer().lemmatize('went', pos='v'))"
   ]
  },
  {
   "cell_type": "markdown",
   "metadata": {},
   "source": [
    "# Stemmer Example"
   ]
  },
  {
   "cell_type": "code",
   "execution_count": 257,
   "metadata": {},
   "outputs": [
    {
     "data": {
      "text/html": [
       "<div>\n",
       "<style scoped>\n",
       "    .dataframe tbody tr th:only-of-type {\n",
       "        vertical-align: middle;\n",
       "    }\n",
       "\n",
       "    .dataframe tbody tr th {\n",
       "        vertical-align: top;\n",
       "    }\n",
       "\n",
       "    .dataframe thead th {\n",
       "        text-align: right;\n",
       "    }\n",
       "</style>\n",
       "<table border=\"1\" class=\"dataframe\">\n",
       "  <thead>\n",
       "    <tr style=\"text-align: right;\">\n",
       "      <th></th>\n",
       "      <th>original word</th>\n",
       "      <th>stemmed</th>\n",
       "    </tr>\n",
       "  </thead>\n",
       "  <tbody>\n",
       "    <tr>\n",
       "      <th>0</th>\n",
       "      <td>caresses</td>\n",
       "      <td>caress</td>\n",
       "    </tr>\n",
       "    <tr>\n",
       "      <th>1</th>\n",
       "      <td>flies</td>\n",
       "      <td>fli</td>\n",
       "    </tr>\n",
       "    <tr>\n",
       "      <th>2</th>\n",
       "      <td>dies</td>\n",
       "      <td>die</td>\n",
       "    </tr>\n",
       "    <tr>\n",
       "      <th>3</th>\n",
       "      <td>mules</td>\n",
       "      <td>mule</td>\n",
       "    </tr>\n",
       "    <tr>\n",
       "      <th>4</th>\n",
       "      <td>denied</td>\n",
       "      <td>deni</td>\n",
       "    </tr>\n",
       "    <tr>\n",
       "      <th>5</th>\n",
       "      <td>died</td>\n",
       "      <td>die</td>\n",
       "    </tr>\n",
       "    <tr>\n",
       "      <th>6</th>\n",
       "      <td>agreed</td>\n",
       "      <td>agre</td>\n",
       "    </tr>\n",
       "    <tr>\n",
       "      <th>7</th>\n",
       "      <td>owned</td>\n",
       "      <td>own</td>\n",
       "    </tr>\n",
       "    <tr>\n",
       "      <th>8</th>\n",
       "      <td>humbled</td>\n",
       "      <td>humbl</td>\n",
       "    </tr>\n",
       "    <tr>\n",
       "      <th>9</th>\n",
       "      <td>sized</td>\n",
       "      <td>size</td>\n",
       "    </tr>\n",
       "    <tr>\n",
       "      <th>10</th>\n",
       "      <td>meeting</td>\n",
       "      <td>meet</td>\n",
       "    </tr>\n",
       "    <tr>\n",
       "      <th>11</th>\n",
       "      <td>stating</td>\n",
       "      <td>state</td>\n",
       "    </tr>\n",
       "    <tr>\n",
       "      <th>12</th>\n",
       "      <td>siezing</td>\n",
       "      <td>siez</td>\n",
       "    </tr>\n",
       "    <tr>\n",
       "      <th>13</th>\n",
       "      <td>itemization</td>\n",
       "      <td>item</td>\n",
       "    </tr>\n",
       "    <tr>\n",
       "      <th>14</th>\n",
       "      <td>sensational</td>\n",
       "      <td>sensat</td>\n",
       "    </tr>\n",
       "    <tr>\n",
       "      <th>15</th>\n",
       "      <td>traditional</td>\n",
       "      <td>tradit</td>\n",
       "    </tr>\n",
       "    <tr>\n",
       "      <th>16</th>\n",
       "      <td>reference</td>\n",
       "      <td>refer</td>\n",
       "    </tr>\n",
       "    <tr>\n",
       "      <th>17</th>\n",
       "      <td>colonizer</td>\n",
       "      <td>colon</td>\n",
       "    </tr>\n",
       "    <tr>\n",
       "      <th>18</th>\n",
       "      <td>plotted</td>\n",
       "      <td>plot</td>\n",
       "    </tr>\n",
       "  </tbody>\n",
       "</table>\n",
       "</div>"
      ],
      "text/plain": [
       "   original word stemmed\n",
       "0       caresses  caress\n",
       "1          flies     fli\n",
       "2           dies     die\n",
       "3          mules    mule\n",
       "4         denied    deni\n",
       "5           died     die\n",
       "6         agreed    agre\n",
       "7          owned     own\n",
       "8        humbled   humbl\n",
       "9          sized    size\n",
       "10       meeting    meet\n",
       "11       stating   state\n",
       "12       siezing    siez\n",
       "13   itemization    item\n",
       "14   sensational  sensat\n",
       "15   traditional  tradit\n",
       "16     reference   refer\n",
       "17     colonizer   colon\n",
       "18       plotted    plot"
      ]
     },
     "execution_count": 257,
     "metadata": {},
     "output_type": "execute_result"
    }
   ],
   "source": [
    "stemmer = SnowballStemmer('english')\n",
    "original_words = ['caresses', 'flies', 'dies', 'mules', 'denied', 'died', 'agreed', 'owned',\n",
    "                  'humbled', 'sized', 'meeting', 'stating', 'siezing', 'itemization', 'sensational',\n",
    "                  'traditional', 'reference', 'colonizer', 'plotted']\n",
    "singles = [stemmer.stem(plural) for plural in original_words]\n",
    "pd.DataFrame(data={'original word': original_words, 'stemmed': singles})"
   ]
  },
  {
   "cell_type": "markdown",
   "metadata": {},
   "source": [
    "# Function in order to lemmatize and stem\n",
    "# preprocess on the dataset"
   ]
  },
  {
   "cell_type": "code",
   "execution_count": 258,
   "metadata": {},
   "outputs": [],
   "source": [
    "def lemmatize_stemming(text):\n",
    "    return stemmer.stem(WordNetLemmatizer().lemmatize(text, pos='v'))"
   ]
  },
  {
   "cell_type": "code",
   "execution_count": 259,
   "metadata": {},
   "outputs": [],
   "source": [
    "def preprocess(text):\n",
    "    result = []\n",
    "    for token in gensim.utils.simple_preprocess(text):\n",
    "        if token not in gensim.parsing.preprocessing.STOPWORDS and len(token) > 3:\n",
    "            result.append(lemmatize_stemming(token))\n",
    "    return result"
   ]
  },
  {
   "cell_type": "markdown",
   "metadata": {},
   "source": [
    "# Initialize stemmer"
   ]
  },
  {
   "cell_type": "code",
   "execution_count": 260,
   "metadata": {},
   "outputs": [],
   "source": [
    "stemmer = SnowballStemmer('english')"
   ]
  },
  {
   "cell_type": "markdown",
   "metadata": {},
   "source": [
    "# Display before and after of preprocessing on\n",
    "# example document"
   ]
  },
  {
   "cell_type": "code",
   "execution_count": 261,
   "metadata": {
    "scrolled": true
   },
   "outputs": [
    {
     "name": "stdout",
     "output_type": "stream",
     "text": [
      "original document: \n",
      "['End', 'the', 'whining', 'and', 'crying,', 'end', 'the', 'riots', 'with', 'these', 'same', 'white\\npeople(democrats),', 'who', 'will', 'not', 'march', 'with', 'you', 'when', 'your', 'son,', 'daughter', 'or\\nloved', 'one', 'gets', 'shot', 'for', 'being', 'Black.\\n\\nI', 'opted', 'out', 'of', 'the', 'elections', 'and', 'i', 'had', 'many', 'Black', 'people', 'all', 'up', 'in', 'my', 'case,\\ntelling', 'me', 'how', 'i', 'was', 'wrong', 'and', 'how', 'i', 'needed', 'to', 'make', 'my', 'vote', 'count', 'for', 'Mrs.\\nClinton,', 'all', 'just', 'to', 'make', 'sure', 'Trump', \"doesn't\", 'become', 'president.\\n\\nWell', 'now', 'all', 'i', 'want', 'to', 'say', 'is', 'get', 'over', 'Trump', 'and', 'Clinton,', 'they', 'are', 'rich', 'white\\npeople,', 'the', 'elite', 'who', 'were', 'born', 'into', 'and', 'are', 'a', 'part', 'of', 'the', 'system.\\n\\nI', 'dream', 'of', 'liberation,', 'not', 'staying', 'a', 'slave', 'under', 'Hillary', 'or', 'Trump,', 'so', 'forget\\nyour', 'Childish', 'rioting,', 'no', 'one', 'has', 'shot!\\n\\n#wakeup', '#organize', '#joshuabeal', '#altonsterling', '#TerenceCrutCher\\n#westandtogether', '#blacklivesmatter', '#unite4justice', '#novem', 'ber8\\n#elections2016', '#black', '#melanin', '#blackisbeautiful', '#blacklivesmatter\\n#blackgirlmagic', '#USA', '#blackandproud', '#democrat', '#republioan\\n#Africanamerican', '#unite4justice', '#vote', '#breakingnews']\n",
      "\n",
      "\n",
      " tokenized and lemmatized document: \n",
      "['whine', 'cri', 'riot', 'white', 'peopl', 'democrat', 'march', 'daughter', 'love', 'get', 'shoot', 'black', 'opt', 'elect', 'black', 'peopl', 'case', 'tell', 'wrong', 'need', 'vote', 'count', 'clinton', 'sure', 'trump', 'presid', 'want', 'trump', 'clinton', 'rich', 'white', 'peopl', 'elit', 'bear', 'dream', 'liber', 'stay', 'slave', 'hillari', 'trump', 'forget', 'childish', 'riot', 'shoot', 'wakeup', 'organ', 'joshuab', 'altonsterl', 'terencecrutch', 'westandtogeth', 'unit', 'justic', 'novem', 'elect', 'black', 'melanin', 'blackgirlmag', 'blackandproud', 'democrat', 'republioan', 'africanamerican', 'unit', 'justic', 'vote', 'breakingnew']\n"
     ]
    }
   ],
   "source": [
    "doc_sample = documents[documents['index'] == 3].values[0][0]\n",
    "\n",
    "print('original document: ')\n",
    "words = []\n",
    "for word in doc_sample.split(' '):\n",
    "    words.append(word)\n",
    "print(words)\n",
    "\n",
    "print('\\n\\n tokenized and lemmatized document: ')\n",
    "print(preprocess(doc_sample))"
   ]
  },
  {
   "cell_type": "markdown",
   "metadata": {},
   "source": [
    "# Preprocess all description field text\n",
    "# Save result in 'processed_docs'"
   ]
  },
  {
   "cell_type": "code",
   "execution_count": 262,
   "metadata": {},
   "outputs": [
    {
     "data": {
      "text/plain": [
       "0    [black, american, racial, experi, real, suppor...\n",
       "1    [best, costum, halloween, worth, post, power, ...\n",
       "2    [whine, cri, presid, wasn, elect, imma, care, ...\n",
       "3    [whine, cri, riot, white, peopl, democrat, mar...\n",
       "4                [black, girl, definit, nation, great]\n",
       "5    [imma, stay, comfi, untouch, work, hard, care,...\n",
       "6    [disgust, video, circul, internet, show, unide...\n",
       "7                           [imit, life, photo, great]\n",
       "8    [america, racial, oppress, racism, ancient, hi...\n",
       "9    [donald, john, trump, elect, presid, unit, sta...\n",
       "Name: description, dtype: object"
      ]
     },
     "execution_count": 262,
     "metadata": {},
     "output_type": "execute_result"
    }
   ],
   "source": [
    "processed_docs = documents['description'].map(preprocess)\n",
    "processed_docs[:10]"
   ]
  },
  {
   "cell_type": "markdown",
   "metadata": {},
   "source": [
    "# Create Bag of Words with Data set\n",
    "## Start with creating dictionary with number of times a word appears in training set then filter out tokens that appear in:\n",
    "\n",
    "1. less than 15 documents OR\n",
    "2. more than 0.5 documents\n",
    "\n",
    "### * Keep only first 100000 most frequent tokens"
   ]
  },
  {
   "cell_type": "code",
   "execution_count": 263,
   "metadata": {
    "scrolled": true
   },
   "outputs": [],
   "source": [
    "dictionary = gensim.corpora.Dictionary(processed_docs)\n",
    "\n",
    "dictionary.filter_extremes(no_below=15, no_above=0.5, keep_n=100000)"
   ]
  },
  {
   "cell_type": "markdown",
   "metadata": {},
   "source": [
    "# Utilize doc2bow from gensim "
   ]
  },
  {
   "cell_type": "code",
   "execution_count": 264,
   "metadata": {},
   "outputs": [
    {
     "data": {
      "text/plain": [
       "[(7, 1),\n",
       " (16, 1),\n",
       " (113, 1),\n",
       " (135, 1),\n",
       " (147, 1),\n",
       " (161, 2),\n",
       " (233, 1),\n",
       " (252, 1),\n",
       " (360, 1),\n",
       " (375, 1),\n",
       " (406, 3),\n",
       " (438, 1),\n",
       " (478, 1),\n",
       " (494, 1),\n",
       " (509, 1),\n",
       " (518, 1),\n",
       " (596, 1),\n",
       " (602, 1)]"
      ]
     },
     "execution_count": 264,
     "metadata": {},
     "output_type": "execute_result"
    }
   ],
   "source": [
    "bow_corpus = [dictionary.doc2bow(doc) for doc in processed_docs]\n",
    "bow_corpus[3000]"
   ]
  },
  {
   "cell_type": "markdown",
   "metadata": {},
   "source": [
    "# Preview BoW from sample preprocessed document"
   ]
  },
  {
   "cell_type": "code",
   "execution_count": 265,
   "metadata": {},
   "outputs": [
    {
     "name": "stdout",
     "output_type": "stream",
     "text": [
      "Word 7 (\"peopl\") appears 1 time.\n",
      "Word 16 (\"educ\") appears 1 time.\n",
      "Word 113 (\"month\") appears 1 time.\n",
      "Word 135 (\"free\") appears 1 time.\n",
      "Word 147 (\"prove\") appears 1 time.\n",
      "Word 161 (\"communiti\") appears 2 time.\n",
      "Word 233 (\"believ\") appears 1 time.\n",
      "Word 252 (\"proud\") appears 1 time.\n",
      "Word 360 (\"meet\") appears 1 time.\n",
      "Word 375 (\"charlott\") appears 1 time.\n",
      "Word 406 (\"legal\") appears 3 time.\n",
      "Word 438 (\"have\") appears 1 time.\n",
      "Word 478 (\"announc\") appears 1 time.\n",
      "Word 494 (\"basi\") appears 1 time.\n",
      "Word 509 (\"provid\") appears 1 time.\n",
      "Word 518 (\"night\") appears 1 time.\n",
      "Word 596 (\"empow\") appears 1 time.\n",
      "Word 602 (\"focus\") appears 1 time.\n"
     ]
    }
   ],
   "source": [
    "bow_doc_3000 = bow_corpus[3000]\n",
    "for i in range(len(bow_doc_3000)):\n",
    "    print(\"Word {} (\\\"{}\\\") appears {} time.\".format(bow_doc_3000[i][0],\n",
    "                                                     dictionary[bow_doc_3000[i][0]],\n",
    "                                                     bow_doc_3000[i][1]))"
   ]
  },
  {
   "cell_type": "markdown",
   "metadata": {},
   "source": [
    "# Create tf-idf model using models.tfidfmodel on\n",
    "# bow_corpus"
   ]
  },
  {
   "cell_type": "code",
   "execution_count": 266,
   "metadata": {},
   "outputs": [],
   "source": [
    "from gensim import corpora, models\n",
    "tfidf = models.TfidfModel(bow_corpus)\n",
    "corpus_tfidf = tfidf[bow_corpus]\n",
    "# from pprint import pprint\n",
    "# for doc in corpus_tfidf:\n",
    "#     pprint(doc)"
   ]
  },
  {
   "cell_type": "markdown",
   "metadata": {},
   "source": [
    "# Train LDA model using gensim.models.LdaMulticore\n",
    "# Save to 'lda_model'"
   ]
  },
  {
   "cell_type": "code",
   "execution_count": 267,
   "metadata": {},
   "outputs": [],
   "source": [
    "lda_model = gensim.models.LdaMulticore(\n",
    "    bow_corpus, num_topics=10, id2word=dictionary, passes=2, workers=2)"
   ]
  },
  {
   "cell_type": "markdown",
   "metadata": {},
   "source": [
    "# For each topic, explore the words occuring in that\n",
    "# topic and the relative weight"
   ]
  },
  {
   "cell_type": "code",
   "execution_count": 268,
   "metadata": {},
   "outputs": [
    {
     "name": "stdout",
     "output_type": "stream",
     "text": [
      "Topic: 0 \n",
      "Words: 0.029*\"black\" + 0.019*\"like\" + 0.016*\"life\" + 0.015*\"join\" + 0.014*\"need\" + 0.014*\"year\" + 0.013*\"free\" + 0.013*\"stop\" + 0.011*\"peopl\" + 0.011*\"communiti\"\n",
      "Topic: 1 \n",
      "Words: 0.086*\"black\" + 0.044*\"communiti\" + 0.037*\"matter\" + 0.025*\"support\" + 0.024*\"join\" + 0.019*\"life\" + 0.018*\"live\" + 0.017*\"patriot\" + 0.015*\"polic\" + 0.015*\"year\"\n",
      "Topic: 2 \n",
      "Words: 0.027*\"defens\" + 0.025*\"school\" + 0.025*\"free\" + 0.023*\"seif\" + 0.022*\"join\" + 0.021*\"class\" + 0.019*\"friend\" + 0.018*\"bring\" + 0.018*\"feel\" + 0.017*\"event\"\n",
      "Topic: 3 \n",
      "Words: 0.027*\"black\" + 0.024*\"https\" + 0.020*\"facebook\" + 0.020*\"follow\" + 0.017*\"america\" + 0.015*\"william\" + 0.015*\"peopl\" + 0.012*\"twitter\" + 0.012*\"communiti\" + 0.012*\"proud\"\n",
      "Topic: 4 \n",
      "Words: 0.021*\"repost\" + 0.018*\"like\" + 0.016*\"offic\" + 0.013*\"woman\" + 0.013*\"live\" + 0.012*\"news\" + 0.012*\"transgend\" + 0.011*\"black\" + 0.011*\"polic\" + 0.010*\"shoot\"\n",
      "Topic: 5 \n",
      "Words: 0.024*\"https\" + 0.023*\"follow\" + 0.016*\"american\" + 0.015*\"peopl\" + 0.013*\"instagram\" + 0.013*\"twitter\" + 0.012*\"facebook\" + 0.011*\"unit\" + 0.010*\"know\" + 0.010*\"muslim\"\n",
      "Topic: 6 \n",
      "Words: 0.066*\"black\" + 0.025*\"polic\" + 0.024*\"peopl\" + 0.014*\"white\" + 0.013*\"shoot\" + 0.012*\"offic\" + 0.011*\"video\" + 0.011*\"kill\" + 0.011*\"communiti\" + 0.009*\"american\"\n",
      "Topic: 7 \n",
      "Words: 0.045*\"free\" + 0.040*\"stop\" + 0.028*\"black\" + 0.027*\"facemus\" + 0.025*\"music\" + 0.025*\"info\" + 0.025*\"onlin\" + 0.025*\"musicfb\" + 0.021*\"player\" + 0.019*\"browser\"\n",
      "Topic: 8 \n",
      "Words: 0.027*\"right\" + 0.022*\"american\" + 0.018*\"polic\" + 0.016*\"peopl\" + 0.014*\"share\" + 0.013*\"black\" + 0.013*\"join\" + 0.012*\"home\" + 0.012*\"clinton\" + 0.010*\"hillari\"\n",
      "Topic: 9 \n",
      "Words: 0.033*\"polic\" + 0.022*\"join\" + 0.022*\"stop\" + 0.020*\"brutal\" + 0.018*\"nation\" + 0.017*\"support\" + 0.017*\"black\" + 0.014*\"immigr\" + 0.014*\"refuge\" + 0.014*\"offic\"\n"
     ]
    }
   ],
   "source": [
    "for idx, topic in lda_model.print_topics(-1):\n",
    "    print('Topic: {} \\nWords: {}'.format(idx, topic))"
   ]
  },
  {
   "cell_type": "markdown",
   "metadata": {},
   "source": [
    "# Attempt distinguishing topics using words in each topic and their corresponding weights Run LDA using tf-idf"
   ]
  },
  {
   "cell_type": "code",
   "execution_count": 269,
   "metadata": {
    "scrolled": false
   },
   "outputs": [
    {
     "name": "stdout",
     "output_type": "stream",
     "text": [
      "Topic: 0 Word: 0.021*\"black\" + 0.017*\"matter\" + 0.013*\"polic\" + 0.013*\"girl\" + 0.012*\"year\" + 0.012*\"live\" + 0.010*\"nation\" + 0.009*\"join\" + 0.008*\"educ\" + 0.008*\"say\"\n",
      "Topic: 1 Word: 0.018*\"join\" + 0.018*\"beauti\" + 0.018*\"black\" + 0.015*\"proud\" + 0.014*\"want\" + 0.013*\"heart\" + 0.013*\"america\" + 0.011*\"texa\" + 0.011*\"live\" + 0.011*\"girl\"\n",
      "Topic: 2 Word: 0.016*\"immigr\" + 0.014*\"welcom\" + 0.014*\"music\" + 0.014*\"free\" + 0.014*\"facemus\" + 0.013*\"listen\" + 0.012*\"communiti\" + 0.012*\"meme\" + 0.011*\"need\" + 0.011*\"support\"\n",
      "Topic: 3 Word: 0.023*\"muslim\" + 0.023*\"polic\" + 0.017*\"brutal\" + 0.013*\"right\" + 0.013*\"black\" + 0.013*\"agre\" + 0.011*\"free\" + 0.011*\"proud\" + 0.010*\"https\" + 0.010*\"train\"\n",
      "Topic: 4 Word: 0.014*\"stand\" + 0.013*\"racism\" + 0.012*\"tell\" + 0.011*\"black\" + 0.011*\"student\" + 0.011*\"truth\" + 0.010*\"injustic\" + 0.010*\"goal\" + 0.009*\"love\" + 0.009*\"south\"\n",
      "Topic: 5 Word: 0.027*\"like\" + 0.015*\"real\" + 0.015*\"black\" + 0.014*\"https\" + 0.014*\"news\" + 0.013*\"american\" + 0.013*\"refuge\" + 0.012*\"stop\" + 0.011*\"facebook\" + 0.010*\"african\"\n",
      "Topic: 6 Word: 0.013*\"black\" + 0.013*\"unit\" + 0.012*\"peopl\" + 0.012*\"stay\" + 0.011*\"time\" + 0.010*\"white\" + 0.010*\"kill\" + 0.010*\"stop\" + 0.009*\"video\" + 0.009*\"chang\"\n",
      "Topic: 7 Word: 0.027*\"communiti\" + 0.020*\"black\" + 0.020*\"amend\" + 0.020*\"patriot\" + 0.020*\"support\" + 0.019*\"defend\" + 0.019*\"lover\" + 0.019*\"gun\" + 0.018*\"join\" + 0.017*\"matter\"\n",
      "Topic: 8 Word: 0.046*\"repost\" + 0.034*\"veteran\" + 0.017*\"support\" + 0.016*\"mexican\" + 0.015*\"like\" + 0.014*\"women\" + 0.011*\"peopl\" + 0.011*\"communiti\" + 0.011*\"black\" + 0.010*\"nativ\"\n",
      "Topic: 9 Word: 0.019*\"free\" + 0.019*\"stop\" + 0.018*\"care\" + 0.017*\"black\" + 0.016*\"join\" + 0.013*\"polic\" + 0.012*\"browser\" + 0.012*\"onlin\" + 0.012*\"facemus\" + 0.012*\"player\"\n"
     ]
    }
   ],
   "source": [
    "lda_model_tfidf = gensim.models.LdaMulticore(\n",
    "    corpus_tfidf, num_topics=10, id2word=dictionary, passes=2, workers=4)\n",
    "for idx, topic in lda_model_tfidf.print_topics(-1):\n",
    "    print('Topic: {} Word: {}'.format(idx, topic))"
   ]
  },
  {
   "cell_type": "markdown",
   "metadata": {},
   "source": [
    "# Evaluate performance by classifying sample\n",
    "# document using LDA BoW model"
   ]
  },
  {
   "cell_type": "code",
   "execution_count": 270,
   "metadata": {
    "scrolled": true
   },
   "outputs": [
    {
     "data": {
      "text/plain": [
       "['proud',\n",
       " 'announc',\n",
       " 'initi',\n",
       " 'focus',\n",
       " 'provid',\n",
       " 'free',\n",
       " 'legal',\n",
       " 'educ',\n",
       " 'empow',\n",
       " 'peopl',\n",
       " 'strengthen',\n",
       " 'communiti',\n",
       " 'believ',\n",
       " 'have',\n",
       " 'legal',\n",
       " 'workshop',\n",
       " 'month',\n",
       " 'basi',\n",
       " 'prove',\n",
       " 'benefici',\n",
       " 'tangibl',\n",
       " 'communiti',\n",
       " 'meet',\n",
       " 'charlott',\n",
       " 'legal',\n",
       " 'night']"
      ]
     },
     "execution_count": 270,
     "metadata": {},
     "output_type": "execute_result"
    }
   ],
   "source": [
    "processed_docs[3000]"
   ]
  },
  {
   "cell_type": "code",
   "execution_count": 271,
   "metadata": {},
   "outputs": [
    {
     "name": "stdout",
     "output_type": "stream",
     "text": [
      "\n",
      "Score: 0.9590823650360107\t \n",
      "Topic: 0.027*\"black\" + 0.024*\"https\" + 0.020*\"facebook\" + 0.020*\"follow\" + 0.017*\"america\" + 0.015*\"william\" + 0.015*\"peopl\" + 0.012*\"twitter\" + 0.012*\"communiti\" + 0.012*\"proud\"\n"
     ]
    }
   ],
   "source": [
    "for index, score in sorted(lda_model[bow_corpus[3000]], key=lambda tup: -1*tup[1]):\n",
    "    print(\"\\nScore: {}\\t \\nTopic: {}\".format(\n",
    "        score, lda_model.print_topic(index, 10)))"
   ]
  },
  {
   "cell_type": "markdown",
   "metadata": {},
   "source": [
    "# Evaluate performance by classifying sample\n",
    "# document using LDA tf-idf model"
   ]
  },
  {
   "cell_type": "code",
   "execution_count": 272,
   "metadata": {},
   "outputs": [
    {
     "name": "stdout",
     "output_type": "stream",
     "text": [
      "\n",
      "Score: 0.9590776562690735\t \n",
      "Topic: 0.016*\"immigr\" + 0.014*\"welcom\" + 0.014*\"music\" + 0.014*\"free\" + 0.014*\"facemus\" + 0.013*\"listen\" + 0.012*\"communiti\" + 0.012*\"meme\" + 0.011*\"need\" + 0.011*\"support\"\n"
     ]
    }
   ],
   "source": [
    "for index, score in sorted(lda_model_tfidf[bow_corpus[3000]], key=lambda tup: -1*tup[1]):\n",
    "    print(\"\\nScore: {}\\t \\nTopic: {}\".format(\n",
    "        score, lda_model_tfidf.print_topic(index, 10)))"
   ]
  },
  {
   "cell_type": "markdown",
   "metadata": {},
   "source": [
    "# Test model on unseen document"
   ]
  },
  {
   "cell_type": "code",
   "execution_count": 273,
   "metadata": {},
   "outputs": [
    {
     "name": "stdout",
     "output_type": "stream",
     "text": [
      "Score: 0.5863615870475769\t Topic: 0.027*\"black\" + 0.024*\"https\" + 0.020*\"facebook\" + 0.020*\"follow\" + 0.017*\"america\"\n",
      "Score: 0.28024429082870483\t Topic: 0.027*\"right\" + 0.022*\"american\" + 0.018*\"polic\" + 0.016*\"peopl\" + 0.014*\"share\"\n",
      "Score: 0.01667768321931362\t Topic: 0.086*\"black\" + 0.044*\"communiti\" + 0.037*\"matter\" + 0.025*\"support\" + 0.024*\"join\"\n",
      "Score: 0.016677509993314743\t Topic: 0.066*\"black\" + 0.025*\"polic\" + 0.024*\"peopl\" + 0.014*\"white\" + 0.013*\"shoot\"\n",
      "Score: 0.01667550578713417\t Topic: 0.024*\"https\" + 0.023*\"follow\" + 0.016*\"american\" + 0.015*\"peopl\" + 0.013*\"instagram\"\n",
      "Score: 0.01667470484972\t Topic: 0.027*\"defens\" + 0.025*\"school\" + 0.025*\"free\" + 0.023*\"seif\" + 0.022*\"join\"\n",
      "Score: 0.016674108803272247\t Topic: 0.045*\"free\" + 0.040*\"stop\" + 0.028*\"black\" + 0.027*\"facemus\" + 0.025*\"music\"\n",
      "Score: 0.01667366549372673\t Topic: 0.029*\"black\" + 0.019*\"like\" + 0.016*\"life\" + 0.015*\"join\" + 0.014*\"need\"\n",
      "Score: 0.016671180725097656\t Topic: 0.033*\"polic\" + 0.022*\"join\" + 0.022*\"stop\" + 0.020*\"brutal\" + 0.018*\"nation\"\n",
      "Score: 0.016669772565364838\t Topic: 0.021*\"repost\" + 0.018*\"like\" + 0.016*\"offic\" + 0.013*\"woman\" + 0.013*\"live\"\n"
     ]
    }
   ],
   "source": [
    "unseen_document = 'Black Facebook employees complain racism, discrimination have gotten worse'\n",
    "bow_vector = dictionary.doc2bow(preprocess(unseen_document))\n",
    "for index, score in sorted(lda_model[bow_vector], key=lambda tup: -1*tup[1]):\n",
    "    print(\"Score: {}\\t Topic: {}\".format(\n",
    "        score, lda_model.print_topic(index, 5)))"
   ]
  },
  {
   "cell_type": "markdown",
   "metadata": {},
   "source": [
    "# Let's explore the words in the description field and form a word cloud to get a visual representation of the most common words\n",
    "# Let's first remove punctuation and lowercase the words"
   ]
  },
  {
   "cell_type": "code",
   "execution_count": 274,
   "metadata": {},
   "outputs": [
    {
     "name": "stderr",
     "output_type": "stream",
     "text": [
      "/Users/tobbylie/opt/anaconda3/envs/russian_disinformation_env/lib/python3.6/site-packages/ipykernel_launcher.py:5: SettingWithCopyWarning: \n",
      "A value is trying to be set on a copy of a slice from a DataFrame.\n",
      "Try using .loc[row_indexer,col_indexer] = value instead\n",
      "\n",
      "See the caveats in the documentation: http://pandas.pydata.org/pandas-docs/stable/user_guide/indexing.html#returning-a-view-versus-a-copy\n",
      "  \"\"\"\n",
      "/Users/tobbylie/opt/anaconda3/envs/russian_disinformation_env/lib/python3.6/site-packages/ipykernel_launcher.py:8: SettingWithCopyWarning: \n",
      "A value is trying to be set on a copy of a slice from a DataFrame.\n",
      "Try using .loc[row_indexer,col_indexer] = value instead\n",
      "\n",
      "See the caveats in the documentation: http://pandas.pydata.org/pandas-docs/stable/user_guide/indexing.html#returning-a-view-versus-a-copy\n",
      "  \n"
     ]
    },
    {
     "data": {
      "text/plain": [
       "0    black american racial experience is real we su...\n",
       "1    the best costume for halloween worth posting p...\n",
       "2    keep on whining and crying for your president ...\n",
       "3    end the whining and crying end the riots with ...\n",
       "4    black girls are the definition of national gre...\n",
       "Name: description_processed, dtype: object"
      ]
     },
     "execution_count": 274,
     "metadata": {},
     "output_type": "execute_result"
    }
   ],
   "source": [
    "# Load the regular expression library\n",
    "import re\n",
    "# Remove punctuation\n",
    "documents['description_processed'] = documents['description'].map(\n",
    "    lambda x: re.sub('[,\\.!?]', '', x))\n",
    "# Convert the titles to lowercase\n",
    "documents['description_processed'] = documents['description_processed'].map(\n",
    "    lambda x: x.lower())\n",
    "# Print out the first rows of papers\n",
    "documents['description_processed'].head()"
   ]
  },
  {
   "cell_type": "code",
   "execution_count": 275,
   "metadata": {},
   "outputs": [
    {
     "data": {
      "image/png": "[encoded data removed]",
      "text/plain": [
       "<PIL.Image.Image image mode=RGB size=400x200 at 0x1A3B013160>"
      ]
     },
     "execution_count": 275,
     "metadata": {},
     "output_type": "execute_result"
    }
   ],
   "source": [
    "from wordcloud import WordCloud\n",
    "\n",
    "# Join the different processed descriptions together\n",
    "long_string = ','.join(list(documents['description_processed'].values))\n",
    "\n",
    "# Create WordCloud object\n",
    "wordcloud = WordCloud(background_color='white', max_words=5000,\n",
    "                      contour_width=3, contour_color='steelblue')\n",
    "\n",
    "# Generate a word cloud\n",
    "wordcloud.generate(long_string)\n",
    "\n",
    "# Visualize the word cloude\n",
    "wordcloud.to_image()"
   ]
  },
  {
   "cell_type": "markdown",
   "metadata": {},
   "source": [
    "# Plot ten most frequent words based on documents"
   ]
  },
  {
   "cell_type": "code",
   "execution_count": 276,
   "metadata": {
    "scrolled": false
   },
   "outputs": [
    {
     "data": {
      "image/png": "[encoded data removed]",
      "text/plain": [
       "<Figure size 1080x667.491 with 1 Axes>"
      ]
     },
     "metadata": {
      "needs_background": "light"
     },
     "output_type": "display_data"
    }
   ],
   "source": [
    "# Load the library with the CountVectorizer method\n",
    "from sklearn.feature_extraction.text import CountVectorizer\n",
    "import numpy as np\n",
    "import matplotlib.pyplot as plt\n",
    "import seaborn as sns\n",
    "sns.set_style('whitegrid')\n",
    "%matplotlib inline\n",
    "\n",
    "\n",
    "# Helper function\n",
    "def plot_10_most_common_words(count_data, count_vectorizer):\n",
    "    import matplotlib.pyplot as plt\n",
    "    words = count_vectorizer.get_feature_names()\n",
    "    total_counts = np.zeros(len(words))\n",
    "    for t in count_data:\n",
    "        total_counts += t.toarray()[0]\n",
    "\n",
    "    count_dict = (zip(words, total_counts))\n",
    "    count_dict = sorted(count_dict, key=lambda x: x[1], reverse=True)[0:10]\n",
    "    words = [w[0] for w in count_dict]\n",
    "    counts = [w[1] for w in count_dict]\n",
    "    x_pos = np.arange(len(words))\n",
    "\n",
    "    plt.figure(2, figsize=(15, 15/1.6180))\n",
    "    plt.subplot(title='10 most common words')\n",
    "    sns.set_context(\"notebook\", font_scale=1.25, rc={\"lines.linewidth\": 2.5})\n",
    "    sns.barplot(x_pos, counts, palette='husl')\n",
    "    plt.xticks(x_pos, words, rotation=90)\n",
    "    plt.xlabel('words')\n",
    "    plt.ylabel('counts')\n",
    "    plt.show()\n",
    "\n",
    "\n",
    "# Initialise the count vectorizer with the English stop words\n",
    "count_vectorizer = CountVectorizer(stop_words='english')\n",
    "# Fit and transform the processed titles\n",
    "count_data = count_vectorizer.fit_transform(documents['description_processed'])\n",
    "# Visualise the 10 most common words\n",
    "plot_10_most_common_words(count_data, count_vectorizer)"
   ]
  },
  {
   "cell_type": "markdown",
   "metadata": {},
   "source": [
    "# LDA model training and results visualization"
   ]
  },
  {
   "cell_type": "code",
   "execution_count": 277,
   "metadata": {},
   "outputs": [
    {
     "name": "stdout",
     "output_type": "stream",
     "text": [
      "Topics found via LDA:\n",
      "\n",
      "Topic #0:\n",
      "black free stop join community 2nd defense music facemusic seif\n",
      "\n",
      "Topic #1:\n",
      "new like people police black man video country said government\n",
      "\n",
      "Topic #2:\n",
      "black police people blackmattersuscom america stop make join brutality war\n",
      "\n",
      "Topic #3:\n",
      "black https follow people police white williamsandkalvin don day like\n",
      "\n",
      "Topic #4:\n",
      "black people join stand trump american america like year old\n"
     ]
    }
   ],
   "source": [
    "from sklearn.decomposition import LatentDirichletAllocation as LDA\n",
    "import warnings\n",
    "warnings.simplefilter(\"ignore\", DeprecationWarning)\n",
    "\n",
    "# Load LDA model from sk-learn\n",
    "\n",
    "# Helper method\n",
    "def print_topics(model, count_vectorizer, n_top_words):\n",
    "    words = count_vectorizer.get_feature_names()\n",
    "    for topic_idx, topic in enumerate(model.components_):\n",
    "        print(\"\\nTopic #{}:\".format(topic_idx))\n",
    "        print(\" \".join([words[i]\n",
    "                        for i in topic.argsort()[:-n_top_words - 1:-1]]))\n",
    "\n",
    "\n",
    "# Tweak the two parameters below\n",
    "number_topics = 5\n",
    "number_words = 10\n",
    "\n",
    "# Create and fit the LDA model\n",
    "lda = LDA(n_components=number_topics, n_jobs=-1)\n",
    "lda.fit(count_data)\n",
    "\n",
    "# Print the topics found by the LDA model\n",
    "print(\"Topics found via LDA:\")\n",
    "print_topics(lda, count_vectorizer, number_words)"
   ]
  },
  {
   "cell_type": "markdown",
   "metadata": {},
   "source": [
    "# Let's analyze the LDA model results through visualization, we will use pyLDAvis to interact with the results in order to:\n",
    "1. Understand the individual results better -- Manually select each topic to view it's top most frequent and/or \"relevant terms using different values of λ. This can be of aid when assigning human interpretable name or \"meaning\" to each topic.\n",
    "2. Understand the relationships between the topics -- Explore Intertopic Distance Plot that can assist in learning how topics relate to each other to reveal potential higher-level structure between groups of topics.\n",
    "\n",
    "### * The alpha parameter represents document-topic density -- a higher alpha means that documents are made up of more topics and result in more specific topic distributions per document."
   ]
  },
  {
   "cell_type": "code",
   "execution_count": 278,
   "metadata": {},
   "outputs": [
    {
     "name": "stdout",
     "output_type": "stream",
     "text": [
      "CPU times: user 6.36 s, sys: 119 ms, total: 6.48 s\n",
      "Wall time: 2min 37s\n"
     ]
    },
    {
     "name": "stderr",
     "output_type": "stream",
     "text": [
      "/Users/tobbylie/opt/anaconda3/envs/russian_disinformation_env/lib/python3.6/site-packages/pyLDAvis/_prepare.py:257: FutureWarning: Sorting because non-concatenation axis is not aligned. A future version\n",
      "of pandas will change to not sort by default.\n",
      "\n",
      "To accept the future behavior, pass 'sort=False'.\n",
      "\n",
      "To retain the current behavior and silence the warning, pass 'sort=True'.\n",
      "\n",
      "  return pd.concat([default_term_info] + list(topic_dfs))\n"
     ]
    }
   ],
   "source": [
    "%%time\n",
    "from pyLDAvis import sklearn as sklearn_lda\n",
    "import pickle \n",
    "import pyLDAvis\n",
    "LDAvis_data_filepath = os.path.join('./ldavis_prepared_'+str(number_topics))\n",
    "\n",
    "LDAvis_prepared = sklearn_lda.prepare(lda, count_data, count_vectorizer)\n",
    "with open(LDAvis_data_filepath, 'wb') as f:\n",
    "        pickle.dump(LDAvis_prepared, f)\n",
    "        \n",
    "# load the pre-prepared pyLDAvis data from disk\n",
    "with open(LDAvis_data_filepath, 'rb') as f:\n",
    "    LDAvis_prepared = pickle.load(f)\n",
    "pyLDAvis.save_html(LDAvis_prepared, './ldavis_prepared_'+ str(number_topics) +'.html')"
   ]
  },
  {
   "cell_type": "markdown",
   "metadata": {},
   "source": [
    "# -----------------------------------------------------"
   ]
  },
  {
   "cell_type": "markdown",
   "metadata": {},
   "source": [
    "# Attempt another method"
   ]
  },
  {
   "cell_type": "code",
   "execution_count": 279,
   "metadata": {},
   "outputs": [
    {
     "name": "stderr",
     "output_type": "stream",
     "text": [
      "[nltk_data] Downloading package stopwords to\n",
      "[nltk_data]     /Users/tobbylie/nltk_data...\n",
      "[nltk_data]   Package stopwords is already up-to-date!\n"
     ]
    },
    {
     "data": {
      "text/plain": [
       "True"
      ]
     },
     "execution_count": 279,
     "metadata": {},
     "output_type": "execute_result"
    }
   ],
   "source": [
    "import nltk\n",
    "nltk.download('stopwords')"
   ]
  },
  {
   "cell_type": "markdown",
   "metadata": {},
   "source": [
    "# Import the packages required"
   ]
  },
  {
   "cell_type": "code",
   "execution_count": 280,
   "metadata": {},
   "outputs": [],
   "source": [
    "import warnings\n",
    "import logging\n",
    "import re\n",
    "import numpy as np\n",
    "import pandas as pd\n",
    "from pprint import pprint\n",
    "\n",
    "# Gensim\n",
    "import gensim\n",
    "import gensim.corpora as corpora\n",
    "from gensim.utils import simple_preprocess\n",
    "from gensim.models import CoherenceModel\n",
    "\n",
    "# spacy for lemmatization\n",
    "import spacy\n",
    "\n",
    "# Plotting tools\n",
    "import pyLDAvis\n",
    "import pyLDAvis.gensim\n",
    "import matplotlib.pyplot as plt\n",
    "%matplotlib inline\n",
    "\n",
    "# Enable logging for gensim\n",
    "logging.basicConfig(\n",
    "    format='%(asctime)s : %(levelname)s : %(message)s', level=logging.ERROR)\n",
    "\n",
    "warnings.filterwarnings(\"ignore\", category=DeprecationWarning)"
   ]
  },
  {
   "cell_type": "markdown",
   "metadata": {},
   "source": [
    "# Prepare the Stopwords"
   ]
  },
  {
   "cell_type": "code",
   "execution_count": 281,
   "metadata": {},
   "outputs": [],
   "source": [
    "# NLTK Stop words\n",
    "from nltk.corpus import stopwords\n",
    "stop_words = stopwords.words('english')\n",
    "stop_words.extend(['from', 'subject', 're', 'edu', 'use'])"
   ]
  },
  {
   "cell_type": "markdown",
   "metadata": {},
   "source": [
    "# Import dataset"
   ]
  },
  {
   "cell_type": "code",
   "execution_count": 282,
   "metadata": {},
   "outputs": [
    {
     "name": "stderr",
     "output_type": "stream",
     "text": [
      "/Users/tobbylie/opt/anaconda3/envs/russian_disinformation_env/lib/python3.6/site-packages/ipykernel_launcher.py:11: SettingWithCopyWarning: \n",
      "A value is trying to be set on a copy of a slice from a DataFrame.\n",
      "Try using .loc[row_indexer,col_indexer] = value instead\n",
      "\n",
      "See the caveats in the documentation: http://pandas.pydata.org/pandas-docs/stable/user_guide/indexing.html#returning-a-view-versus-a-copy\n",
      "  # This is added back by InteractiveShellApp.init_path()\n"
     ]
    }
   ],
   "source": [
    "import pandas as pd\n",
    "import numpy as np\n",
    "\n",
    "# read dataset into pandas dataframe\n",
    "df_items = pd.read_csv('items-Copy1.csv')\n",
    "\n",
    "# replace field that's entirely space (or empty) with NaN\n",
    "df_items = df_items.replace(np.nan, '', regex=True)\n",
    "\n",
    "data_text = df_items[['description']]\n",
    "data_text['index'] = data_text.index\n",
    "\n",
    "documents = data_text"
   ]
  },
  {
   "cell_type": "code",
   "execution_count": 283,
   "metadata": {},
   "outputs": [
    {
     "data": {
      "text/plain": [
       "3012"
      ]
     },
     "execution_count": 283,
     "metadata": {},
     "output_type": "execute_result"
    }
   ],
   "source": [
    "len(documents)"
   ]
  },
  {
   "cell_type": "code",
   "execution_count": 284,
   "metadata": {
    "scrolled": true
   },
   "outputs": [
    {
     "data": {
      "text/html": [
       "<div>\n",
       "<style scoped>\n",
       "    .dataframe tbody tr th:only-of-type {\n",
       "        vertical-align: middle;\n",
       "    }\n",
       "\n",
       "    .dataframe tbody tr th {\n",
       "        vertical-align: top;\n",
       "    }\n",
       "\n",
       "    .dataframe thead th {\n",
       "        text-align: right;\n",
       "    }\n",
       "</style>\n",
       "<table border=\"1\" class=\"dataframe\">\n",
       "  <thead>\n",
       "    <tr style=\"text-align: right;\">\n",
       "      <th></th>\n",
       "      <th>description</th>\n",
       "      <th>index</th>\n",
       "    </tr>\n",
       "  </thead>\n",
       "  <tbody>\n",
       "    <tr>\n",
       "      <th>0</th>\n",
       "      <td>Black American racial experience is real. We s...</td>\n",
       "      <td>0</td>\n",
       "    </tr>\n",
       "    <tr>\n",
       "      <th>1</th>\n",
       "      <td>The best costume for Halloween worth posting. ...</td>\n",
       "      <td>1</td>\n",
       "    </tr>\n",
       "    <tr>\n",
       "      <th>2</th>\n",
       "      <td>Keep on whining and crying for your president,...</td>\n",
       "      <td>2</td>\n",
       "    </tr>\n",
       "    <tr>\n",
       "      <th>3</th>\n",
       "      <td>End the whining and crying, end the riots with...</td>\n",
       "      <td>3</td>\n",
       "    </tr>\n",
       "    <tr>\n",
       "      <th>4</th>\n",
       "      <td>Black girls are the definition of national gre...</td>\n",
       "      <td>4</td>\n",
       "    </tr>\n",
       "  </tbody>\n",
       "</table>\n",
       "</div>"
      ],
      "text/plain": [
       "                                         description  index\n",
       "0  Black American racial experience is real. We s...      0\n",
       "1  The best costume for Halloween worth posting. ...      1\n",
       "2  Keep on whining and crying for your president,...      2\n",
       "3  End the whining and crying, end the riots with...      3\n",
       "4  Black girls are the definition of national gre...      4"
      ]
     },
     "execution_count": 284,
     "metadata": {},
     "output_type": "execute_result"
    }
   ],
   "source": [
    "documents[:5]"
   ]
  },
  {
   "cell_type": "markdown",
   "metadata": {},
   "source": [
    "# Function in order to lemmatize and stem  preprocess on the dataset"
   ]
  },
  {
   "cell_type": "code",
   "execution_count": 285,
   "metadata": {},
   "outputs": [],
   "source": [
    "from gensim.parsing.preprocessing import STOPWORDS\n",
    "from nltk.stem import WordNetLemmatizer, SnowballStemmer\n",
    "from nltk.stem.porter import *\n",
    "import numpy as np\n",
    "np.random.seed(2018)"
   ]
  },
  {
   "cell_type": "code",
   "execution_count": 286,
   "metadata": {},
   "outputs": [],
   "source": [
    "def lemmatize_stemming(text):\n",
    "    return stemmer.stem(WordNetLemmatizer().lemmatize(text, pos='v'))"
   ]
  },
  {
   "cell_type": "code",
   "execution_count": 287,
   "metadata": {},
   "outputs": [],
   "source": [
    "def preprocess(text):\n",
    "    result = []\n",
    "    for token in gensim.utils.simple_preprocess(text):\n",
    "        if token not in gensim.parsing.preprocessing.STOPWORDS and len(token) > 3:\n",
    "            result.append(lemmatize_stemming(token))\n",
    "    return result"
   ]
  },
  {
   "cell_type": "markdown",
   "metadata": {},
   "source": [
    "# Initialize stemmer"
   ]
  },
  {
   "cell_type": "code",
   "execution_count": 288,
   "metadata": {},
   "outputs": [],
   "source": [
    "stemmer = SnowballStemmer('english')"
   ]
  },
  {
   "cell_type": "markdown",
   "metadata": {},
   "source": [
    "# Display before and after of preprocessing on example document"
   ]
  },
  {
   "cell_type": "code",
   "execution_count": 289,
   "metadata": {
    "scrolled": true
   },
   "outputs": [
    {
     "name": "stdout",
     "output_type": "stream",
     "text": [
      "original document: \n",
      "['End', 'the', 'whining', 'and', 'crying,', 'end', 'the', 'riots', 'with', 'these', 'same', 'white\\npeople(democrats),', 'who', 'will', 'not', 'march', 'with', 'you', 'when', 'your', 'son,', 'daughter', 'or\\nloved', 'one', 'gets', 'shot', 'for', 'being', 'Black.\\n\\nI', 'opted', 'out', 'of', 'the', 'elections', 'and', 'i', 'had', 'many', 'Black', 'people', 'all', 'up', 'in', 'my', 'case,\\ntelling', 'me', 'how', 'i', 'was', 'wrong', 'and', 'how', 'i', 'needed', 'to', 'make', 'my', 'vote', 'count', 'for', 'Mrs.\\nClinton,', 'all', 'just', 'to', 'make', 'sure', 'Trump', \"doesn't\", 'become', 'president.\\n\\nWell', 'now', 'all', 'i', 'want', 'to', 'say', 'is', 'get', 'over', 'Trump', 'and', 'Clinton,', 'they', 'are', 'rich', 'white\\npeople,', 'the', 'elite', 'who', 'were', 'born', 'into', 'and', 'are', 'a', 'part', 'of', 'the', 'system.\\n\\nI', 'dream', 'of', 'liberation,', 'not', 'staying', 'a', 'slave', 'under', 'Hillary', 'or', 'Trump,', 'so', 'forget\\nyour', 'Childish', 'rioting,', 'no', 'one', 'has', 'shot!\\n\\n#wakeup', '#organize', '#joshuabeal', '#altonsterling', '#TerenceCrutCher\\n#westandtogether', '#blacklivesmatter', '#unite4justice', '#novem', 'ber8\\n#elections2016', '#black', '#melanin', '#blackisbeautiful', '#blacklivesmatter\\n#blackgirlmagic', '#USA', '#blackandproud', '#democrat', '#republioan\\n#Africanamerican', '#unite4justice', '#vote', '#breakingnews']\n",
      "\n",
      "\n",
      " tokenized and lemmatized document: \n",
      "['whine', 'cri', 'riot', 'white', 'peopl', 'democrat', 'march', 'daughter', 'love', 'get', 'shoot', 'black', 'opt', 'elect', 'black', 'peopl', 'case', 'tell', 'wrong', 'need', 'vote', 'count', 'clinton', 'sure', 'trump', 'presid', 'want', 'trump', 'clinton', 'rich', 'white', 'peopl', 'elit', 'bear', 'dream', 'liber', 'stay', 'slave', 'hillari', 'trump', 'forget', 'childish', 'riot', 'shoot', 'wakeup', 'organ', 'joshuab', 'altonsterl', 'terencecrutch', 'westandtogeth', 'unit', 'justic', 'novem', 'elect', 'black', 'melanin', 'blackgirlmag', 'blackandproud', 'democrat', 'republioan', 'africanamerican', 'unit', 'justic', 'vote', 'breakingnew']\n"
     ]
    }
   ],
   "source": [
    "doc_sample = documents[documents['index'] == 3].values[0][0]\n",
    "\n",
    "print('original document: ')\n",
    "words = []\n",
    "for word in doc_sample.split(' '):\n",
    "    words.append(word)\n",
    "print(words)\n",
    "\n",
    "print('\\n\\n tokenized and lemmatized document: ')\n",
    "print(preprocess(doc_sample))"
   ]
  },
  {
   "cell_type": "markdown",
   "metadata": {},
   "source": [
    "# Preprocess all description field text save result in 'processed_docs'"
   ]
  },
  {
   "cell_type": "code",
   "execution_count": 290,
   "metadata": {},
   "outputs": [
    {
     "data": {
      "text/plain": [
       "0    [black, american, racial, experi, real, suppor...\n",
       "1    [best, costum, halloween, worth, post, power, ...\n",
       "2    [whine, cri, presid, wasn, elect, imma, care, ...\n",
       "3    [whine, cri, riot, white, peopl, democrat, mar...\n",
       "4                [black, girl, definit, nation, great]\n",
       "5    [imma, stay, comfi, untouch, work, hard, care,...\n",
       "6    [disgust, video, circul, internet, show, unide...\n",
       "7                           [imit, life, photo, great]\n",
       "8    [america, racial, oppress, racism, ancient, hi...\n",
       "9    [donald, john, trump, elect, presid, unit, sta...\n",
       "Name: description, dtype: object"
      ]
     },
     "execution_count": 290,
     "metadata": {},
     "output_type": "execute_result"
    }
   ],
   "source": [
    "processed_docs = documents['description'].map(preprocess)\n",
    "processed_docs[:10]"
   ]
  },
  {
   "cell_type": "markdown",
   "metadata": {},
   "source": [
    "# Create Bigram and Trigram models utilizing Gensim's Phrases model"
   ]
  },
  {
   "cell_type": "code",
   "execution_count": 291,
   "metadata": {},
   "outputs": [
    {
     "name": "stdout",
     "output_type": "stream",
     "text": [
      "['monday', 'clinton', 'public', 'interview', 'event', 'ask', 'tell', 'iraq', 'intervent', 'libya', 'secretari', 'state', 'attack', 'benghazi', 'action', 'lie', 'caus', 'nation', 'scandal', 'offici', 'catch', 'lie', 'afford', 'statement', 'say', 'iraq', 'mistak', 'libya', 'differ', 'kind', 'calcul', 'lose', 'singl', 'person', 'year', 'pass', 'accid', 'clinton', 'contact', 'benghazi', 'victim', 'famili', 'excus', 'like', 'murder', 'american', 'exist', 'definit', 'need', 'presid', 'lie', 'twing', 'conscienc', 'luckili', 'american', 'trust', 'obvious', 'liar']\n"
     ]
    }
   ],
   "source": [
    "# Build the bigram and trigram models\n",
    "bigram = gensim.models.Phrases(processed_docs, min_count=5, threshold=100) # higher threshold fewer phrases.\n",
    "trigram = gensim.models.Phrases(bigram[processed_docs], threshold=100)  \n",
    "\n",
    "# Faster way to get a sentence clubbed as a trigram/bigram\n",
    "bigram_mod = gensim.models.phrases.Phraser(bigram)\n",
    "trigram_mod = gensim.models.phrases.Phraser(trigram)\n",
    "\n",
    "# See trigram example\n",
    "print(trigram_mod[bigram_mod[processed_docs[1000]]])\n"
   ]
  },
  {
   "cell_type": "markdown",
   "metadata": {},
   "source": [
    "# Functions for stopwords, bigrams, trigrams "
   ]
  },
  {
   "cell_type": "code",
   "execution_count": 292,
   "metadata": {},
   "outputs": [],
   "source": [
    "def make_bigrams(texts):\n",
    "    return [bigram_mod[doc] for doc in texts]\n",
    "\n",
    "\n",
    "def make_trigrams(texts):\n",
    "    return [trigram_mod[bigram_mod[doc]] for doc in texts]"
   ]
  },
  {
   "cell_type": "code",
   "execution_count": 293,
   "metadata": {},
   "outputs": [],
   "source": [
    "data_words_bigrams = make_bigrams(processed_docs)\n",
    "\n",
    "# Remove instances of https in data words as this is not significant\n",
    "data_words_bigrams = [\n",
    "    data_word_bigram for data_word_bigram in data_words_bigrams if 'https' not in data_word_bigram]\n",
    "data_words_bigrams = [\n",
    "    data_word_bigram for data_word_bigram in data_words_bigrams if 'httpszllwww' not in data_word_bigram]\n",
    "\n",
    "#data_words_bigrams"
   ]
  },
  {
   "cell_type": "markdown",
   "metadata": {},
   "source": [
    "# Create the dictionary and Corpus for topic modeling\n",
    "### Creates unique id for each word in the document. For example: (0, 1) implies word id 0 occurs once in the first document and word id 1 occurs once and so on. "
   ]
  },
  {
   "cell_type": "code",
   "execution_count": 294,
   "metadata": {},
   "outputs": [
    {
     "name": "stdout",
     "output_type": "stream",
     "text": [
      "[[(0, 1), (1, 1), (2, 1), (3, 1), (4, 1), (5, 1), (6, 1), (7, 1)]]\n"
     ]
    }
   ],
   "source": [
    "# Create Dictionary\n",
    "id2word = corpora.Dictionary(data_words_bigrams)\n",
    "\n",
    "# Create Corpus\n",
    "texts = data_words_bigrams\n",
    "\n",
    "# Term Document Frequency\n",
    "corpus = [id2word.doc2bow(text) for text in texts]\n",
    "\n",
    "# Display\n",
    "print(corpus[:1])"
   ]
  },
  {
   "cell_type": "markdown",
   "metadata": {},
   "source": [
    "# Can also see what word a given id corresponds to, pass the id as a key to the dictionary."
   ]
  },
  {
   "cell_type": "code",
   "execution_count": 295,
   "metadata": {},
   "outputs": [
    {
     "data": {
      "text/plain": [
       "'american'"
      ]
     },
     "execution_count": 295,
     "metadata": {},
     "output_type": "execute_result"
    }
   ],
   "source": [
    "id2word[0]"
   ]
  },
  {
   "cell_type": "code",
   "execution_count": 296,
   "metadata": {},
   "outputs": [
    {
     "data": {
      "text/plain": [
       "[[('american', 1),\n",
       "  ('ammend', 1),\n",
       "  ('black', 1),\n",
       "  ('experi', 1),\n",
       "  ('racial', 1),\n",
       "  ('real', 1),\n",
       "  ('safeti', 1),\n",
       "  ('support', 1)]]"
      ]
     },
     "execution_count": 296,
     "metadata": {},
     "output_type": "execute_result"
    }
   ],
   "source": [
    "# Human readable format of corpus for document 1\n",
    "[[(id2word[id], freq) for id, freq in cp] for cp in corpus[:1]]"
   ]
  },
  {
   "cell_type": "markdown",
   "metadata": {},
   "source": [
    "# Build the topic model"
   ]
  },
  {
   "cell_type": "code",
   "execution_count": 297,
   "metadata": {},
   "outputs": [],
   "source": [
    "# Build LDA model\n",
    "lda_model = gensim.models.ldamodel.LdaModel(corpus=corpus,\n",
    "                                            id2word=id2word,\n",
    "                                            num_topics=26,\n",
    "                                            random_state=100,\n",
    "                                            update_every=1,\n",
    "                                            chunksize=100,\n",
    "                                            passes=10,\n",
    "                                            alpha='auto',\n",
    "                                            per_word_topics=True)"
   ]
  },
  {
   "cell_type": "markdown",
   "metadata": {},
   "source": [
    "# View the topics in the LDA model\n",
    "### LDA model above is built with 26 topics. Each topic is a combination of keywords and each keyword contributes a certain weight to the topic. You can see the keywords for each topic and the importance (weight) of each keyword\n",
    "### ex. Topic 0 represented as: 0.091*\"protest\" + 0.076*\"hate\" + 0.074*\"organ\" + 0.070*\"ralli\" + ''0.054*\"futur\" + 0.053*\"charlott\" + 0.051*\"march\" + 0.046*\"violenc\" + ''0.045*\"celebr\" + 0.035*\"host\"\n",
    "### This means that the top 10 keywords that contribute to this topic are: 'protest', 'hate', 'organ' and so on so the weight of 'protest is 0.091. The weights reflect how important a keyword is to that topic. One can attempt to summarize the topics from these keywords"
   ]
  },
  {
   "cell_type": "code",
   "execution_count": 298,
   "metadata": {
    "scrolled": false
   },
   "outputs": [
    {
     "name": "stdout",
     "output_type": "stream",
     "text": [
      "[(0,\n",
      "  '0.091*\"protest\" + 0.076*\"hate\" + 0.074*\"organ\" + 0.070*\"ralli\" + '\n",
      "  '0.054*\"futur\" + 0.053*\"charlott\" + 0.051*\"march\" + 0.046*\"violenc\" + '\n",
      "  '0.045*\"celebr\" + 0.035*\"host\"'),\n",
      " (1,\n",
      "  '0.220*\"support\" + 0.077*\"protect\" + 0.055*\"histori\" + 0.046*\"educ\" + '\n",
      "  '0.046*\"fact\" + 0.042*\"today\" + 0.040*\"rais\" + 0.040*\"children\" + '\n",
      "  '0.033*\"sure\" + 0.029*\"young\"'),\n",
      " (2,\n",
      "  '0.293*\"america\" + 0.113*\"go\" + 0.095*\"work\" + 0.063*\"problem\" + '\n",
      "  '0.045*\"hard\" + 0.041*\"star\" + 0.019*\"male\" + 0.019*\"skin_color\" + '\n",
      "  '0.016*\"sourc\" + 0.015*\"teacher\"'),\n",
      " (3,\n",
      "  '0.112*\"free\" + 0.093*\"news\" + 0.081*\"busi\" + 0.074*\"video\" + 0.062*\"believ\" '\n",
      "  '+ 0.045*\"break\" + 0.037*\"word\" + 0.037*\"kid\" + 0.029*\"liber\" + '\n",
      "  '0.029*\"lose\"'),\n",
      " (4,\n",
      "  '0.189*\"unit\" + 0.110*\"countri\" + 0.101*\"state\" + 0.096*\"time\" + '\n",
      "  '0.070*\"come\" + 0.059*\"trump\" + 0.058*\"chang\" + 0.035*\"elect\" + '\n",
      "  '0.035*\"music\" + 0.022*\"donald_trump\"'),\n",
      " (5,\n",
      "  '0.110*\"follow\" + 0.089*\"video\" + 0.057*\"releas\" + 0.056*\"share\" + '\n",
      "  '0.052*\"show\" + 0.038*\"learn\" + 0.031*\"offic_jason\" + 0.031*\"smith\" + '\n",
      "  '0.028*\"kill\" + 0.023*\"loui\"'),\n",
      " (6,\n",
      "  '0.235*\"american\" + 0.143*\"stop\" + 0.065*\"proud\" + 0.052*\"hillari\" + '\n",
      "  '0.044*\"crime\" + 0.042*\"presid\" + 0.038*\"power\" + 0.034*\"freedom\" + '\n",
      "  '0.021*\"reason\" + 0.019*\"turn\"'),\n",
      " (7,\n",
      "  '0.238*\"peopl\" + 0.099*\"live\" + 0.087*\"want\" + 0.065*\"govern\" + '\n",
      "  '0.058*\"right\" + 0.046*\"think\" + 0.039*\"fight\" + 0.036*\"look\" + 0.033*\"make\" '\n",
      "  '+ 0.031*\"world\"'),\n",
      " (8,\n",
      "  '0.529*\"black\" + 0.173*\"communiti\" + 0.081*\"matter\" + 0.057*\"brutal\" + '\n",
      "  '0.038*\"african\" + 0.016*\"movement\" + 0.012*\"voic\" + 0.006*\"activist\" + '\n",
      "  '0.005*\"injustic\" + 0.002*\"cool\"'),\n",
      " (9,\n",
      "  '0.436*\"like\" + 0.070*\"racial\" + 0.063*\"innoc\" + 0.054*\"heart\" + '\n",
      "  '0.039*\"stori\" + 0.022*\"beat\" + 0.003*\"runaway_slave\" + 0.001*\"pierc\" + '\n",
      "  '0.000*\"subscrib\" + 0.000*\"day\"'),\n",
      " (10,\n",
      "  '0.462*\"join\" + 0.081*\"group\" + 0.066*\"seif_defens\" + 0.052*\"best\" + '\n",
      "  '0.044*\"prioriti\" + 0.022*\"societi\" + 0.015*\"worth\" + 0.015*\"hallelujah\" + '\n",
      "  '0.009*\"denomin_christian\" + 0.008*\"post\"'),\n",
      " (11,\n",
      "  '0.248*\"thing\" + 0.145*\"care\" + 0.030*\"wast\" + 0.016*\"food\" + '\n",
      "  '0.009*\"king_queen\" + 0.006*\"wouldn\" + 0.005*\"dress\" + 0.004*\"melanet\" + '\n",
      "  '0.001*\"healthi\" + 0.000*\"veteran\"'),\n",
      " (12,\n",
      "  '0.206*\"school\" + 0.136*\"student\" + 0.075*\"memori\" + 0.072*\"hold\" + '\n",
      "  '0.064*\"case\" + 0.029*\"institut_racism\" + 0.024*\"begin\" + 0.020*\"take\" + '\n",
      "  '0.016*\"slam\" + 0.014*\"dakota_mockeri\"'),\n",
      " (13,\n",
      "  '0.147*\"women\" + 0.121*\"cop\" + 0.096*\"better\" + 0.085*\"woman\" + '\n",
      "  '0.055*\"recent\" + 0.020*\"california\" + 0.005*\"michell\" + 0.000*\"blackexcel\" '\n",
      "  '+ 0.000*\"perform\" + 0.000*\"stand\"'),\n",
      " (14,\n",
      "  '0.239*\"beauti\" + 0.079*\"biack_own\" + 0.046*\"earn\" + 0.029*\"surpris\" + '\n",
      "  '0.027*\"poor\" + 0.012*\"credit\" + 0.009*\"suppos\" + 0.000*\"dapper\" + '\n",
      "  '0.000*\"invest\" + 0.000*\"portman\"'),\n",
      " (15,\n",
      "  '0.087*\"bless\" + 0.000*\"veteran\" + 0.000*\"brave\" + 0.000*\"forc\" + '\n",
      "  '0.000*\"navi\" + 0.000*\"melanin_blackgirlmag\" + 0.000*\"wewillsurv_organ\" + '\n",
      "  '0.000*\"republicah_africanamerican\" + 0.000*\"breakingnew_goal\" + '\n",
      "  '0.000*\"westandtogeth\"'),\n",
      " (16,\n",
      "  '0.348*\"polic\" + 0.166*\"shoot\" + 0.152*\"blackmattersus\" + 0.113*\"offic\" + '\n",
      "  '0.018*\"reveal\" + 0.001*\"anderson\" + 0.000*\"death\" + 0.000*\"betti_shelbi\" + '\n",
      "  '0.000*\"garner\" + 0.000*\"terranc_kellom\"'),\n",
      " (17,\n",
      "  '0.148*\"great\" + 0.075*\"polit\" + 0.061*\"photo\" + 0.043*\"oppress\" + '\n",
      "  '0.032*\"send\" + 0.031*\"licens\" + 0.028*\"court\" + 0.021*\"judg\" + '\n",
      "  '0.015*\"guess\" + 0.014*\"ancient\"'),\n",
      " (18,\n",
      "  '0.120*\"year\" + 0.082*\"justic\" + 0.058*\"famili\" + 0.055*\"know\" + 0.042*\"say\" '\n",
      "  '+ 0.038*\"kill\" + 0.030*\"clinton\" + 0.030*\"forget\" + 0.026*\"death\" + '\n",
      "  '0.024*\"fatal\"'),\n",
      " (19,\n",
      "  '0.217*\"white\" + 0.121*\"racism\" + 0.118*\"comment\" + 0.083*\"racist\" + '\n",
      "  '0.077*\"teen\" + 0.015*\"rap\" + 0.015*\"disgust\" + 0.012*\"video\" + '\n",
      "  '0.010*\"circul_internet\" + 0.009*\"indefinit_suspens\"'),\n",
      " (20,\n",
      "  '0.058*\"arrest\" + 0.052*\"rise\" + 0.052*\"octob\" + 0.051*\"list\" + 0.050*\"citi\" '\n",
      "  '+ 0.048*\"depart\" + 0.037*\"incid\" + 0.034*\"point\" + 0.031*\"take\" + '\n",
      "  '0.026*\"improv\"'),\n",
      " (21,\n",
      "  '0.223*\"nation\" + 0.127*\"girl\" + 0.121*\"wake\" + 0.076*\"take\" + 0.070*\"start\" '\n",
      "  '+ 0.032*\"root\" + 0.021*\"ancestor\" + 0.011*\"seven\" + 0.006*\"couldn\" + '\n",
      "  '0.003*\"definit\"'),\n",
      " (22,\n",
      "  '0.091*\"defend\" + 0.086*\"good\" + 0.073*\"one\" + 0.071*\"real\" + 0.066*\"father\" '\n",
      "  '+ 0.064*\"month\" + 0.046*\"foundat\" + 0.034*\"see\" + 0.030*\"shirt\" + '\n",
      "  '0.023*\"wife\"'),\n",
      " (23,\n",
      "  '0.262*\"stay\" + 0.154*\"texa\" + 0.023*\"page\" + 0.013*\"ift\" + '\n",
      "  '0.013*\"wake_ding\" + 0.000*\"time\" + 0.000*\"islam\" + 0.000*\"odd\" + '\n",
      "  '0.000*\"lord\" + 0.000*\"step\"'),\n",
      " (24,\n",
      "  '0.080*\"need\" + 0.058*\"refuge\" + 0.048*\"peac\" + 0.044*\"social\" + '\n",
      "  '0.038*\"issu\" + 0.028*\"good\" + 0.027*\"tell\" + 0.023*\"commit\" + 0.021*\"build\" '\n",
      "  '+ 0.021*\"gun\"'),\n",
      " (25,\n",
      "  '0.140*\"life\" + 0.124*\"love\" + 0.110*\"help\" + 0.089*\"home\" + 0.057*\"bring\" + '\n",
      "  '0.049*\"demand\" + 0.047*\"prison\" + 0.041*\"feel\" + 0.029*\"spend\" + '\n",
      "  '0.025*\"differ\"')]\n"
     ]
    }
   ],
   "source": [
    "pprint(lda_model.print_topics(num_topics=26))\n",
    "doc_lda = lda_model[corpus]"
   ]
  },
  {
   "cell_type": "markdown",
   "metadata": {},
   "source": [
    "# Compute model Perplexity and Coherence score\n",
    "## These metrics provide a convenient measure to judge how good a given topic model is.\n",
    "1. Perplexity -- A measure of how well a probability distribution or probability model predicts a sample. Low perplexity indicates that a probability distribution is good at predicting a sample.\n",
    "2. Coherence -- Measures a single topic by measuring the degree of semantic similiarity between high scoring words in the topic. This helps distinguish between topics that are semantically interpretable topics and topics that are artifacts of statistical inference. A set of statements or facts are said to be coherent if they support eachother. "
   ]
  },
  {
   "cell_type": "code",
   "execution_count": 299,
   "metadata": {
    "scrolled": true
   },
   "outputs": [
    {
     "name": "stdout",
     "output_type": "stream",
     "text": [
      "\n",
      "Perplexity:  -19.623873665781073\n",
      "\n",
      "Coherence Score:  0.3636662676104618\n"
     ]
    }
   ],
   "source": [
    "# Compute Perplexity\n",
    "print('\\nPerplexity: ', lda_model.log_perplexity(corpus))  # a measure of how good the model is. lower the better.\n",
    "\n",
    "# Compute Coherence Score\n",
    "coherence_model_lda = CoherenceModel(model=lda_model, texts=data_words_bigrams, dictionary=id2word, coherence='c_v')\n",
    "coherence_lda = coherence_model_lda.get_coherence()\n",
    "print('\\nCoherence Score: ', coherence_lda)"
   ]
  },
  {
   "cell_type": "markdown",
   "metadata": {},
   "source": [
    "# Let's analyze the LDA model results through visualization, we will use pyLDAvis to interact with the results in order to:\n",
    "1. Understand the individual results better -- Manually select each topic to view it's top most frequent and/or \"relevant terms using different values of λ. This can be of aid when assigning human interpretable name or \"meaning\" to each topic.\n",
    "2. Understand the relationships between the topics -- Explore Intertopic Distance Plot that can assist in learning how topics relate to each other to reveal potential higher-level structure between groups of topics.\n",
    "\n",
    "<ul>\n",
    "<li>Each buble on the left-hand side represents a topic, the larger the topic, the more prevalent that topic is.</li>\n",
    "    \n",
    "<li>A good topic model should have fairly large, non-overlapping bubbles scattered throughout the chart instead of being clustered in one quadrant.</li>\n",
    "    \n",
    "<li>A model with too many topics will typically have many overlaps and small sized bubbles clustered in one region.</li>\n",
    "    \n",
    "<li>If you hover over one of the bubbles, the words and bars on the right side will update, these words are the salient keywords that form the selected topic.</li>\n",
    "\n",
    "<li>The alpha parameter represents document-topic density -- a higher alpha means that documents are made up of more topics and result in more specific topic distributions per document.</li>\n",
    "</ul>"
   ]
  },
  {
   "cell_type": "code",
   "execution_count": 300,
   "metadata": {},
   "outputs": [
    {
     "name": "stderr",
     "output_type": "stream",
     "text": [
      "/Users/tobbylie/opt/anaconda3/envs/russian_disinformation_env/lib/python3.6/site-packages/pyLDAvis/_prepare.py:257: FutureWarning: Sorting because non-concatenation axis is not aligned. A future version\n",
      "of pandas will change to not sort by default.\n",
      "\n",
      "To accept the future behavior, pass 'sort=False'.\n",
      "\n",
      "To retain the current behavior and silence the warning, pass 'sort=True'.\n",
      "\n",
      "  return pd.concat([default_term_info] + list(topic_dfs))\n"
     ]
    },
    {
     "data": {
      "text/html": [
       "\n",
       "<link rel=\"stylesheet\" type=\"text/css\" href=\"https://cdn.rawgit.com/bmabey/pyLDAvis/files/ldavis.v1.0.0.css\">\n",
       "\n",
       "\n",
       "<div id=\"ldavis_el11421122898988084020067575\"></div>\n",
       "<script type=\"text/javascript\">\n",
       "\n",
       "var ldavis_el11421122898988084020067575_data = {\"mdsDat\": {\"x\": [-0.23571639209030834, -0.11686923246019287, -0.14998229081456235, -0.2689444113541528, -0.1433973080094464, -0.08998584283879592, -0.05918351806645954, -0.05214868538060157, -0.0198864796718558, -0.013742916367061245, 0.032913425459745356, 0.0021804508135958908, 0.06743042223528926, 0.03119748539336665, -0.0043299077046931, 0.0624204017609199, 0.06814702588234757, 0.07409359315960588, 0.029038304967262837, 0.06686432829509602, 0.11057397975240457, 0.11533494809831862, 0.11866897685012398, 0.11826200045469255, 0.12088490128019447, 0.13617674035516747], \"y\": [0.3361575665165171, 0.020695645805929943, -0.0566399968159417, -0.2597875797577987, -0.0450674776661634, -0.03294738614001396, -0.015029578076393817, 0.057659178212702264, -0.018445362633310574, -0.016794170701463624, -0.011934321841678395, -0.020111041644941458, -0.0012166109342194255, -0.012518276341784228, 0.11196240348741247, -0.011216850509823588, -0.01043746447809589, -0.009973978917481164, 0.009422501546612012, -0.00411603649194746, -0.0033423777253736354, -0.002808787582562027, -0.0021485816627951214, -0.0021510608257767536, -0.0017606036712474343, 0.002550248849638825], \"topics\": [1, 2, 3, 4, 5, 6, 7, 8, 9, 10, 11, 12, 13, 14, 15, 16, 17, 18, 19, 20, 21, 22, 23, 24, 25, 26], \"cluster\": [1, 1, 1, 1, 1, 1, 1, 1, 1, 1, 1, 1, 1, 1, 1, 1, 1, 1, 1, 1, 1, 1, 1, 1, 1, 1], \"Freq\": [11.989026069641113, 8.744240760803223, 8.456007957458496, 8.16856575012207, 7.325873374938965, 6.53316593170166, 5.97514009475708, 4.998129844665527, 3.95516037940979, 3.8657772541046143, 3.180924415588379, 3.144804000854492, 3.1029160022735596, 2.6881520748138428, 2.3344168663024902, 2.2381415367126465, 2.1319565773010254, 2.0369484424591064, 2.029388904571533, 1.894161343574524, 1.431412696838379, 1.394386649131775, 0.9489120841026306, 0.6879837512969971, 0.6326172947883606, 0.11179155111312866]}, \"tinfo\": {\"Category\": [\"Default\", \"Default\", \"Default\", \"Default\", \"Default\", \"Default\", \"Default\", \"Default\", \"Default\", \"Default\", \"Default\", \"Default\", \"Default\", \"Default\", \"Default\", \"Default\", \"Default\", \"Default\", \"Default\", \"Default\", \"Default\", \"Default\", \"Default\", \"Default\", \"Default\", \"Default\", \"Default\", \"Default\", \"Default\", \"Default\", \"Topic1\", \"Topic1\", \"Topic1\", \"Topic1\", \"Topic1\", \"Topic1\", \"Topic1\", \"Topic1\", \"Topic1\", \"Topic1\", \"Topic1\", \"Topic1\", \"Topic1\", \"Topic1\", \"Topic1\", \"Topic1\", \"Topic1\", \"Topic1\", \"Topic1\", \"Topic1\", \"Topic1\", \"Topic1\", \"Topic1\", \"Topic1\", \"Topic1\", \"Topic1\", \"Topic1\", \"Topic1\", \"Topic1\", \"Topic1\", \"Topic1\", \"Topic1\", \"Topic1\", \"Topic2\", \"Topic2\", \"Topic2\", \"Topic2\", \"Topic2\", \"Topic2\", \"Topic2\", \"Topic2\", \"Topic2\", \"Topic2\", \"Topic2\", \"Topic2\", \"Topic2\", \"Topic2\", \"Topic2\", \"Topic2\", \"Topic2\", \"Topic2\", \"Topic2\", \"Topic2\", \"Topic2\", \"Topic2\", \"Topic2\", \"Topic2\", \"Topic2\", \"Topic2\", \"Topic2\", \"Topic2\", \"Topic2\", \"Topic2\", \"Topic2\", \"Topic2\", \"Topic2\", \"Topic3\", \"Topic3\", \"Topic3\", \"Topic3\", \"Topic3\", \"Topic3\", \"Topic3\", \"Topic3\", \"Topic3\", \"Topic3\", \"Topic3\", \"Topic3\", \"Topic3\", \"Topic3\", \"Topic3\", \"Topic3\", \"Topic3\", \"Topic3\", \"Topic3\", \"Topic3\", \"Topic3\", \"Topic3\", \"Topic3\", \"Topic3\", \"Topic3\", \"Topic3\", \"Topic3\", \"Topic3\", \"Topic3\", \"Topic3\", \"Topic3\", \"Topic3\", \"Topic3\", \"Topic4\", \"Topic4\", \"Topic4\", \"Topic4\", \"Topic4\", \"Topic4\", \"Topic4\", \"Topic4\", \"Topic4\", \"Topic4\", \"Topic4\", \"Topic4\", \"Topic4\", \"Topic4\", \"Topic4\", \"Topic4\", \"Topic4\", \"Topic4\", \"Topic4\", \"Topic4\", \"Topic4\", \"Topic4\", \"Topic4\", \"Topic4\", \"Topic4\", \"Topic4\", \"Topic4\", \"Topic4\", \"Topic4\", \"Topic4\", \"Topic4\", \"Topic4\", \"Topic4\", \"Topic4\", \"Topic4\", \"Topic4\", \"Topic4\", \"Topic4\", \"Topic4\", \"Topic4\", \"Topic4\", \"Topic4\", \"Topic4\", \"Topic4\", \"Topic4\", \"Topic4\", \"Topic4\", \"Topic4\", \"Topic4\", \"Topic4\", \"Topic4\", \"Topic4\", \"Topic4\", \"Topic4\", \"Topic4\", \"Topic4\", \"Topic4\", \"Topic4\", \"Topic4\", \"Topic4\", \"Topic4\", \"Topic4\", \"Topic4\", \"Topic4\", \"Topic4\", \"Topic4\", \"Topic4\", \"Topic4\", \"Topic4\", \"Topic4\", \"Topic4\", \"Topic4\", \"Topic4\", \"Topic4\", \"Topic4\", \"Topic4\", \"Topic4\", \"Topic4\", \"Topic4\", \"Topic4\", \"Topic4\", \"Topic4\", \"Topic4\", \"Topic4\", \"Topic4\", \"Topic4\", \"Topic4\", \"Topic4\", \"Topic5\", \"Topic5\", \"Topic5\", \"Topic5\", \"Topic5\", \"Topic5\", \"Topic5\", \"Topic5\", \"Topic5\", \"Topic5\", \"Topic5\", \"Topic5\", \"Topic5\", \"Topic5\", \"Topic5\", \"Topic5\", \"Topic5\", \"Topic5\", \"Topic5\", \"Topic5\", \"Topic5\", \"Topic5\", \"Topic5\", \"Topic5\", \"Topic5\", \"Topic5\", \"Topic5\", \"Topic5\", \"Topic5\", \"Topic5\", \"Topic5\", \"Topic6\", \"Topic6\", \"Topic6\", \"Topic6\", \"Topic6\", \"Topic6\", \"Topic6\", \"Topic6\", \"Topic6\", \"Topic6\", \"Topic6\", \"Topic6\", \"Topic6\", \"Topic6\", \"Topic6\", \"Topic6\", \"Topic6\", \"Topic6\", \"Topic6\", \"Topic6\", \"Topic6\", \"Topic6\", \"Topic6\", \"Topic6\", \"Topic6\", \"Topic6\", \"Topic6\", \"Topic6\", \"Topic6\", \"Topic6\", \"Topic6\", \"Topic6\", \"Topic6\", \"Topic6\", \"Topic6\", \"Topic6\", \"Topic6\", \"Topic6\", \"Topic6\", \"Topic6\", \"Topic6\", \"Topic7\", \"Topic7\", \"Topic7\", \"Topic7\", \"Topic7\", \"Topic7\", \"Topic7\", \"Topic7\", \"Topic7\", \"Topic7\", \"Topic7\", \"Topic7\", \"Topic7\", \"Topic7\", \"Topic7\", \"Topic7\", \"Topic7\", \"Topic7\", \"Topic7\", \"Topic7\", \"Topic7\", \"Topic7\", \"Topic7\", \"Topic7\", \"Topic7\", \"Topic7\", \"Topic7\", \"Topic7\", \"Topic7\", \"Topic7\", \"Topic8\", \"Topic8\", \"Topic8\", \"Topic8\", \"Topic8\", \"Topic8\", \"Topic8\", \"Topic8\", \"Topic8\", \"Topic8\", \"Topic8\", \"Topic8\", \"Topic8\", \"Topic8\", \"Topic8\", \"Topic8\", \"Topic8\", \"Topic8\", \"Topic8\", \"Topic8\", \"Topic8\", \"Topic8\", \"Topic8\", \"Topic8\", \"Topic8\", \"Topic8\", \"Topic8\", \"Topic8\", \"Topic8\", \"Topic8\", \"Topic8\", \"Topic9\", \"Topic9\", \"Topic9\", \"Topic9\", \"Topic9\", \"Topic9\", \"Topic9\", \"Topic9\", \"Topic9\", \"Topic9\", \"Topic9\", \"Topic9\", \"Topic9\", \"Topic9\", \"Topic9\", \"Topic9\", \"Topic9\", \"Topic9\", \"Topic9\", \"Topic9\", \"Topic9\", \"Topic9\", \"Topic9\", \"Topic9\", \"Topic9\", \"Topic9\", \"Topic9\", \"Topic9\", \"Topic9\", \"Topic9\", \"Topic9\", \"Topic9\", \"Topic9\", \"Topic9\", \"Topic9\", \"Topic9\", \"Topic9\", \"Topic9\", \"Topic9\", \"Topic9\", \"Topic9\", \"Topic9\", \"Topic9\", \"Topic9\", \"Topic9\", \"Topic9\", \"Topic9\", \"Topic9\", \"Topic9\", \"Topic9\", \"Topic9\", \"Topic9\", \"Topic9\", \"Topic9\", \"Topic9\", \"Topic9\", \"Topic9\", \"Topic9\", \"Topic9\", \"Topic10\", \"Topic10\", \"Topic10\", \"Topic10\", \"Topic10\", \"Topic10\", \"Topic10\", \"Topic10\", \"Topic10\", \"Topic10\", \"Topic10\", \"Topic10\", \"Topic10\", \"Topic10\", \"Topic10\", \"Topic10\", \"Topic10\", \"Topic10\", \"Topic10\", \"Topic10\", \"Topic10\", \"Topic10\", \"Topic10\", \"Topic10\", \"Topic10\", \"Topic10\", \"Topic10\", \"Topic10\", \"Topic10\", \"Topic10\", \"Topic10\", \"Topic10\", \"Topic10\", \"Topic10\", \"Topic10\", \"Topic10\", \"Topic10\", \"Topic10\", \"Topic10\", \"Topic10\", \"Topic10\", \"Topic10\", \"Topic10\", \"Topic10\", \"Topic10\", \"Topic10\", \"Topic10\", \"Topic10\", \"Topic10\", \"Topic10\", \"Topic10\", \"Topic10\", \"Topic10\", \"Topic10\", \"Topic10\", \"Topic10\", \"Topic10\", \"Topic10\", \"Topic10\", \"Topic10\", \"Topic10\", \"Topic10\", \"Topic10\", \"Topic10\", \"Topic10\", \"Topic10\", \"Topic10\", \"Topic10\", \"Topic10\", \"Topic10\", \"Topic10\", \"Topic10\", \"Topic10\", \"Topic10\", \"Topic11\", \"Topic11\", \"Topic11\", \"Topic11\", \"Topic11\", \"Topic11\", \"Topic11\", \"Topic11\", \"Topic11\", \"Topic11\", \"Topic11\", \"Topic11\", \"Topic11\", \"Topic11\", \"Topic11\", \"Topic11\", \"Topic11\", \"Topic11\", \"Topic11\", \"Topic11\", \"Topic11\", \"Topic11\", \"Topic11\", \"Topic11\", \"Topic11\", \"Topic11\", \"Topic11\", \"Topic11\", \"Topic11\", \"Topic11\", \"Topic11\", \"Topic11\", \"Topic11\", \"Topic11\", \"Topic11\", \"Topic11\", \"Topic11\", \"Topic11\", \"Topic11\", \"Topic11\", \"Topic11\", \"Topic11\", \"Topic11\", \"Topic11\", \"Topic11\", \"Topic11\", \"Topic11\", \"Topic11\", \"Topic11\", \"Topic11\", \"Topic11\", \"Topic11\", \"Topic11\", \"Topic11\", \"Topic11\", \"Topic11\", \"Topic11\", \"Topic11\", \"Topic11\", \"Topic11\", \"Topic11\", \"Topic11\", \"Topic11\", \"Topic11\", \"Topic11\", \"Topic11\", \"Topic11\", \"Topic11\", \"Topic11\", \"Topic11\", \"Topic11\", \"Topic11\", \"Topic11\", \"Topic11\", \"Topic11\", \"Topic11\", \"Topic11\", \"Topic11\", \"Topic11\", \"Topic11\", \"Topic11\", \"Topic11\", \"Topic12\", \"Topic12\", \"Topic12\", \"Topic12\", \"Topic12\", \"Topic12\", \"Topic12\", \"Topic12\", \"Topic12\", \"Topic12\", \"Topic12\", \"Topic12\", \"Topic12\", \"Topic12\", \"Topic12\", \"Topic12\", \"Topic12\", \"Topic12\", \"Topic12\", \"Topic12\", \"Topic12\", \"Topic12\", \"Topic12\", \"Topic12\", \"Topic12\", \"Topic12\", \"Topic12\", \"Topic12\", \"Topic12\", \"Topic12\", \"Topic12\", \"Topic12\", \"Topic12\", \"Topic12\", \"Topic12\", \"Topic12\", \"Topic12\", \"Topic12\", \"Topic12\", \"Topic12\", \"Topic12\", \"Topic12\", \"Topic12\", \"Topic12\", \"Topic12\", \"Topic12\", \"Topic12\", \"Topic13\", \"Topic13\", \"Topic13\", \"Topic13\", \"Topic13\", \"Topic13\", \"Topic13\", \"Topic13\", \"Topic13\", \"Topic13\", \"Topic13\", \"Topic13\", \"Topic13\", \"Topic13\", \"Topic13\", \"Topic13\", \"Topic13\", \"Topic13\", \"Topic13\", \"Topic13\", \"Topic13\", \"Topic13\", \"Topic13\", \"Topic13\", \"Topic13\", \"Topic13\", \"Topic13\", \"Topic13\", \"Topic13\", \"Topic13\", \"Topic13\", \"Topic13\", \"Topic14\", \"Topic14\", \"Topic14\", \"Topic14\", \"Topic14\", \"Topic14\", \"Topic14\", \"Topic14\", \"Topic14\", \"Topic14\", \"Topic14\", \"Topic14\", \"Topic14\", \"Topic14\", \"Topic14\", \"Topic14\", \"Topic14\", \"Topic14\", \"Topic14\", \"Topic14\", \"Topic14\", \"Topic14\", \"Topic14\", \"Topic14\", \"Topic14\", \"Topic14\", \"Topic14\", \"Topic14\", \"Topic14\", \"Topic14\", \"Topic14\", \"Topic14\", \"Topic14\", \"Topic14\", \"Topic14\", \"Topic14\", \"Topic14\", \"Topic14\", \"Topic14\", \"Topic14\", \"Topic14\", \"Topic14\", \"Topic14\", \"Topic14\", \"Topic14\", \"Topic14\", \"Topic14\", \"Topic14\", \"Topic15\", \"Topic15\", \"Topic15\", \"Topic15\", \"Topic15\", \"Topic15\", \"Topic15\", \"Topic15\", \"Topic15\", \"Topic15\", \"Topic15\", \"Topic15\", \"Topic15\", \"Topic15\", \"Topic15\", \"Topic15\", \"Topic15\", \"Topic15\", \"Topic15\", \"Topic15\", \"Topic15\", \"Topic15\", \"Topic15\", \"Topic15\", \"Topic15\", \"Topic15\", \"Topic15\", \"Topic15\", \"Topic15\", \"Topic15\", \"Topic15\", \"Topic15\", \"Topic15\", \"Topic15\", \"Topic15\", \"Topic15\", \"Topic15\", \"Topic15\", \"Topic16\", \"Topic16\", \"Topic16\", \"Topic16\", \"Topic16\", \"Topic16\", \"Topic16\", \"Topic16\", \"Topic16\", \"Topic16\", \"Topic16\", \"Topic16\", \"Topic16\", \"Topic16\", \"Topic16\", \"Topic16\", \"Topic16\", \"Topic16\", \"Topic16\", \"Topic16\", \"Topic16\", \"Topic16\", \"Topic16\", \"Topic16\", \"Topic16\", \"Topic16\", \"Topic16\", \"Topic16\", \"Topic16\", \"Topic16\", \"Topic16\", \"Topic16\", \"Topic16\", \"Topic16\", \"Topic16\", \"Topic16\", \"Topic16\", \"Topic16\", \"Topic16\", \"Topic16\", \"Topic16\", \"Topic16\", \"Topic16\", \"Topic16\", \"Topic16\", \"Topic16\", \"Topic16\", \"Topic16\", \"Topic16\", \"Topic16\", \"Topic16\", \"Topic16\", \"Topic16\", \"Topic16\", \"Topic16\", \"Topic16\", \"Topic16\", \"Topic16\", \"Topic16\", \"Topic16\", \"Topic16\", \"Topic16\", \"Topic16\", \"Topic16\", \"Topic16\", \"Topic16\", \"Topic16\", \"Topic16\", \"Topic16\", \"Topic16\", \"Topic16\", \"Topic16\", \"Topic16\", \"Topic16\", \"Topic16\", \"Topic16\", \"Topic16\", \"Topic16\", \"Topic16\", \"Topic16\", \"Topic16\", \"Topic16\", \"Topic16\", \"Topic16\", \"Topic16\", \"Topic16\", \"Topic16\", \"Topic16\", \"Topic16\", \"Topic16\", \"Topic16\", \"Topic16\", \"Topic16\", \"Topic16\", \"Topic16\", \"Topic16\", \"Topic16\", \"Topic16\", \"Topic16\", \"Topic16\", \"Topic16\", \"Topic16\", \"Topic16\", \"Topic16\", \"Topic16\", \"Topic16\", \"Topic16\", \"Topic16\", \"Topic16\", \"Topic16\", \"Topic16\", \"Topic16\", \"Topic16\", \"Topic16\", \"Topic16\", \"Topic16\", \"Topic16\", \"Topic16\", \"Topic16\", \"Topic16\", \"Topic16\", \"Topic16\", \"Topic16\", \"Topic16\", \"Topic16\", \"Topic16\", \"Topic16\", \"Topic16\", \"Topic16\", \"Topic17\", \"Topic17\", \"Topic17\", \"Topic17\", \"Topic17\", \"Topic17\", \"Topic17\", \"Topic17\", \"Topic17\", \"Topic17\", \"Topic17\", \"Topic17\", \"Topic17\", \"Topic17\", \"Topic17\", \"Topic17\", \"Topic17\", \"Topic17\", \"Topic17\", \"Topic17\", \"Topic17\", \"Topic17\", \"Topic17\", \"Topic17\", \"Topic17\", \"Topic17\", \"Topic17\", \"Topic17\", \"Topic17\", \"Topic17\", \"Topic17\", \"Topic17\", \"Topic17\", \"Topic17\", \"Topic17\", \"Topic17\", \"Topic17\", \"Topic17\", \"Topic17\", \"Topic17\", \"Topic17\", \"Topic17\", \"Topic17\", \"Topic17\", \"Topic17\", \"Topic17\", \"Topic17\", \"Topic18\", \"Topic18\", \"Topic18\", \"Topic18\", \"Topic18\", \"Topic18\", \"Topic18\", \"Topic18\", \"Topic18\", \"Topic18\", \"Topic18\", \"Topic18\", \"Topic18\", \"Topic18\", \"Topic18\", \"Topic18\", \"Topic18\", \"Topic18\", \"Topic18\", \"Topic18\", \"Topic18\", \"Topic18\", \"Topic18\", \"Topic18\", \"Topic18\", \"Topic18\", \"Topic18\", \"Topic18\", \"Topic18\", \"Topic18\", \"Topic18\", \"Topic18\", \"Topic18\", \"Topic18\", \"Topic18\", \"Topic18\", \"Topic18\", \"Topic18\", \"Topic18\", \"Topic18\", \"Topic18\", \"Topic18\", \"Topic18\", \"Topic18\", \"Topic18\", \"Topic18\", \"Topic18\", \"Topic18\", \"Topic18\", \"Topic18\", \"Topic18\", \"Topic18\", \"Topic18\", \"Topic18\", \"Topic18\", \"Topic18\", \"Topic18\", \"Topic18\", \"Topic18\", \"Topic18\", \"Topic18\", \"Topic18\", \"Topic18\", \"Topic18\", \"Topic18\", \"Topic18\", \"Topic18\", \"Topic18\", \"Topic18\", \"Topic18\", \"Topic18\", \"Topic18\", \"Topic18\", \"Topic18\", \"Topic18\", \"Topic18\", \"Topic18\", \"Topic18\", \"Topic18\", \"Topic18\", \"Topic18\", \"Topic18\", \"Topic18\", \"Topic18\", \"Topic18\", \"Topic18\", \"Topic18\", \"Topic18\", \"Topic18\", \"Topic18\", \"Topic18\", \"Topic18\", \"Topic18\", \"Topic18\", \"Topic18\", \"Topic18\", \"Topic18\", \"Topic18\", \"Topic18\", \"Topic18\", \"Topic18\", \"Topic18\", \"Topic18\", \"Topic18\", \"Topic18\", \"Topic18\", \"Topic18\", \"Topic18\", \"Topic18\", \"Topic18\", \"Topic18\", \"Topic18\", \"Topic18\", \"Topic18\", \"Topic18\", \"Topic18\", \"Topic18\", \"Topic18\", \"Topic18\", \"Topic18\", \"Topic18\", \"Topic18\", \"Topic18\", \"Topic18\", \"Topic18\", \"Topic18\", \"Topic18\", \"Topic18\", \"Topic18\", \"Topic19\", \"Topic19\", \"Topic19\", \"Topic19\", \"Topic19\", \"Topic19\", \"Topic19\", \"Topic19\", \"Topic19\", \"Topic19\", \"Topic19\", \"Topic19\", \"Topic19\", \"Topic19\", \"Topic19\", \"Topic19\", \"Topic19\", \"Topic19\", \"Topic19\", \"Topic19\", \"Topic19\", \"Topic19\", \"Topic19\", \"Topic19\", \"Topic19\", \"Topic19\", \"Topic19\", \"Topic19\", \"Topic19\", \"Topic19\", \"Topic19\", \"Topic19\", \"Topic19\", \"Topic19\", \"Topic19\", \"Topic19\", \"Topic19\", \"Topic19\", \"Topic19\", \"Topic19\", \"Topic19\", \"Topic19\", \"Topic19\", \"Topic19\", \"Topic19\", \"Topic19\", \"Topic19\", \"Topic19\", \"Topic19\", \"Topic19\", \"Topic19\", \"Topic19\", \"Topic19\", \"Topic19\", \"Topic19\", \"Topic19\", \"Topic19\", \"Topic20\", \"Topic20\", \"Topic20\", \"Topic20\", \"Topic20\", \"Topic20\", \"Topic20\", \"Topic20\", \"Topic20\", \"Topic20\", \"Topic20\", \"Topic20\", \"Topic20\", \"Topic20\", \"Topic20\", \"Topic20\", \"Topic20\", \"Topic20\", \"Topic20\", \"Topic20\", \"Topic20\", \"Topic20\", \"Topic20\", \"Topic20\", \"Topic20\", \"Topic20\", \"Topic20\", \"Topic20\", \"Topic20\", \"Topic20\", \"Topic20\", \"Topic20\", \"Topic20\", \"Topic20\", \"Topic20\", \"Topic20\", \"Topic20\", \"Topic20\", \"Topic20\", \"Topic20\", \"Topic20\", \"Topic20\", \"Topic20\", \"Topic20\", \"Topic20\", \"Topic20\", \"Topic20\", \"Topic20\", \"Topic20\", \"Topic20\", \"Topic20\", \"Topic20\", \"Topic20\", \"Topic20\", \"Topic20\", \"Topic21\", \"Topic21\", \"Topic21\", \"Topic21\", \"Topic21\", \"Topic21\", \"Topic21\", \"Topic21\", \"Topic21\", \"Topic21\", \"Topic21\", \"Topic21\", \"Topic21\", \"Topic21\", \"Topic21\", \"Topic21\", \"Topic21\", \"Topic21\", \"Topic21\", \"Topic21\", \"Topic21\", \"Topic21\", \"Topic21\", \"Topic21\", \"Topic21\", \"Topic21\", \"Topic21\", \"Topic21\", \"Topic21\", \"Topic21\", \"Topic21\", \"Topic21\", \"Topic21\", \"Topic21\", \"Topic21\", \"Topic21\", \"Topic21\", \"Topic21\", \"Topic21\", \"Topic21\", \"Topic21\", \"Topic21\", \"Topic21\", \"Topic21\", \"Topic21\", \"Topic21\", \"Topic21\", \"Topic21\", \"Topic21\", \"Topic21\", \"Topic21\", \"Topic21\", \"Topic21\", \"Topic21\", \"Topic21\", \"Topic21\", \"Topic21\", \"Topic21\", \"Topic21\", \"Topic21\", \"Topic21\", \"Topic21\", \"Topic21\", \"Topic21\", \"Topic21\", \"Topic21\", \"Topic21\", \"Topic21\", \"Topic21\", \"Topic21\", \"Topic21\", \"Topic21\", \"Topic21\", \"Topic21\", \"Topic21\", \"Topic21\", \"Topic21\", \"Topic21\", \"Topic21\", \"Topic21\", \"Topic21\", \"Topic21\", \"Topic21\", \"Topic21\", \"Topic21\", \"Topic21\", \"Topic21\", \"Topic21\", \"Topic21\", \"Topic21\", \"Topic21\", \"Topic21\", \"Topic21\", \"Topic21\", \"Topic21\", \"Topic21\", \"Topic21\", \"Topic21\", \"Topic21\", \"Topic21\", \"Topic21\", \"Topic21\", \"Topic21\", \"Topic21\", \"Topic21\", \"Topic21\", \"Topic21\", \"Topic21\", \"Topic21\", \"Topic21\", \"Topic21\", \"Topic21\", \"Topic21\", \"Topic21\", \"Topic21\", \"Topic21\", \"Topic21\", \"Topic21\", \"Topic21\", \"Topic21\", \"Topic21\", \"Topic21\", \"Topic21\", \"Topic21\", \"Topic21\", \"Topic21\", \"Topic21\", \"Topic21\", \"Topic21\", \"Topic21\", \"Topic21\", \"Topic21\", \"Topic21\", \"Topic21\", \"Topic21\", \"Topic21\", \"Topic21\", \"Topic21\", \"Topic21\", \"Topic21\", \"Topic21\", \"Topic21\", \"Topic21\", \"Topic21\", \"Topic21\", \"Topic21\", \"Topic21\", \"Topic21\", \"Topic21\", \"Topic21\", \"Topic21\", \"Topic21\", \"Topic21\", \"Topic21\", \"Topic21\", \"Topic21\", \"Topic21\", \"Topic21\", \"Topic21\", \"Topic21\", \"Topic21\", \"Topic21\", \"Topic21\", \"Topic21\", \"Topic21\", \"Topic21\", \"Topic21\", \"Topic21\", \"Topic21\", \"Topic21\", \"Topic21\", \"Topic21\", \"Topic21\", \"Topic21\", \"Topic21\", \"Topic21\", \"Topic21\", \"Topic21\", \"Topic21\", \"Topic21\", \"Topic21\", \"Topic21\", \"Topic21\", \"Topic21\", \"Topic21\", \"Topic21\", \"Topic21\", \"Topic21\", \"Topic21\", \"Topic21\", \"Topic21\", \"Topic21\", \"Topic21\", \"Topic21\", \"Topic21\", \"Topic21\", \"Topic21\", \"Topic21\", \"Topic21\", \"Topic21\", \"Topic21\", \"Topic21\", \"Topic21\", \"Topic21\", \"Topic21\", \"Topic21\", \"Topic21\", \"Topic21\", \"Topic21\", \"Topic21\", \"Topic21\", \"Topic21\", \"Topic21\", \"Topic21\", \"Topic21\", \"Topic21\", \"Topic21\", \"Topic21\", \"Topic21\", \"Topic21\", \"Topic21\", \"Topic21\", \"Topic21\", \"Topic21\", \"Topic21\", \"Topic21\", \"Topic21\", \"Topic21\", \"Topic21\", \"Topic21\", \"Topic21\", \"Topic21\", \"Topic21\", \"Topic21\", \"Topic21\", \"Topic21\", \"Topic21\", \"Topic21\", \"Topic21\", \"Topic21\", \"Topic21\", \"Topic21\", \"Topic21\", \"Topic21\", \"Topic21\", \"Topic21\", \"Topic21\", \"Topic21\", \"Topic21\", \"Topic21\", \"Topic21\", \"Topic21\", \"Topic21\", \"Topic21\", \"Topic21\", \"Topic21\", \"Topic21\", \"Topic21\", \"Topic21\", \"Topic21\", \"Topic21\", \"Topic21\", \"Topic21\", \"Topic21\", \"Topic21\", \"Topic21\", \"Topic21\", \"Topic21\", \"Topic21\", \"Topic21\", \"Topic21\", \"Topic21\", \"Topic21\", \"Topic21\", \"Topic21\", \"Topic21\", \"Topic21\", \"Topic21\", \"Topic21\", \"Topic21\", \"Topic21\", \"Topic21\", \"Topic21\", \"Topic21\", \"Topic21\", \"Topic21\", \"Topic21\", \"Topic22\", \"Topic22\", \"Topic22\", \"Topic22\", \"Topic22\", \"Topic22\", \"Topic22\", \"Topic22\", \"Topic22\", \"Topic22\", \"Topic22\", \"Topic22\", \"Topic22\", \"Topic22\", \"Topic22\", \"Topic22\", \"Topic22\", \"Topic22\", \"Topic22\", \"Topic22\", \"Topic22\", \"Topic22\", \"Topic22\", \"Topic22\", \"Topic22\", \"Topic22\", \"Topic22\", \"Topic22\", \"Topic22\", \"Topic22\", \"Topic22\", \"Topic22\", \"Topic22\", \"Topic22\", \"Topic22\", \"Topic22\", \"Topic22\", \"Topic22\", \"Topic22\", \"Topic22\", \"Topic22\", \"Topic22\", \"Topic22\", \"Topic22\", \"Topic22\", \"Topic22\", \"Topic22\", \"Topic22\", \"Topic22\", \"Topic22\", \"Topic22\", \"Topic22\", \"Topic22\", \"Topic22\", \"Topic22\", \"Topic22\", \"Topic22\", \"Topic22\", \"Topic23\", \"Topic23\", \"Topic23\", \"Topic23\", \"Topic23\", \"Topic23\", \"Topic23\", \"Topic23\", \"Topic23\", \"Topic23\", \"Topic23\", \"Topic23\", \"Topic23\", \"Topic23\", \"Topic23\", \"Topic23\", \"Topic23\", \"Topic23\", \"Topic23\", \"Topic23\", \"Topic23\", \"Topic23\", \"Topic23\", \"Topic23\", \"Topic23\", \"Topic23\", \"Topic23\", \"Topic23\", \"Topic23\", \"Topic23\", \"Topic23\", \"Topic23\", \"Topic23\", \"Topic23\", \"Topic23\", \"Topic23\", \"Topic23\", \"Topic23\", \"Topic23\", \"Topic23\", \"Topic23\", \"Topic23\", \"Topic23\", \"Topic23\", \"Topic23\", \"Topic23\", \"Topic23\", \"Topic23\", \"Topic23\", \"Topic23\", \"Topic23\", \"Topic23\", \"Topic23\", \"Topic23\", \"Topic23\", \"Topic23\", \"Topic23\", \"Topic23\", \"Topic23\", \"Topic23\", \"Topic23\", \"Topic23\", \"Topic23\", \"Topic23\", \"Topic23\", \"Topic23\", \"Topic23\", \"Topic23\", \"Topic23\", \"Topic23\", \"Topic23\", \"Topic23\", \"Topic23\", \"Topic23\", \"Topic24\", \"Topic24\", \"Topic24\", \"Topic24\", \"Topic24\", \"Topic24\", \"Topic24\", \"Topic24\", \"Topic24\", \"Topic24\", \"Topic24\", \"Topic24\", \"Topic24\", \"Topic24\", \"Topic24\", \"Topic24\", \"Topic24\", \"Topic24\", \"Topic24\", \"Topic24\", \"Topic24\", \"Topic24\", \"Topic24\", \"Topic24\", \"Topic24\", \"Topic24\", \"Topic24\", \"Topic24\", \"Topic24\", \"Topic24\", \"Topic24\", \"Topic24\", \"Topic24\", \"Topic24\", \"Topic24\", \"Topic24\", \"Topic24\", \"Topic24\", \"Topic24\", \"Topic24\", \"Topic24\", \"Topic24\", \"Topic24\", \"Topic24\", \"Topic24\", \"Topic24\", \"Topic24\", \"Topic24\", \"Topic24\", \"Topic24\", \"Topic24\", \"Topic24\", \"Topic24\", \"Topic24\", \"Topic24\", \"Topic24\", \"Topic24\", \"Topic24\", \"Topic24\", \"Topic24\", \"Topic24\", \"Topic24\", \"Topic24\", \"Topic25\", \"Topic25\", \"Topic25\", \"Topic25\", \"Topic25\", \"Topic25\", \"Topic25\", \"Topic25\", \"Topic25\", \"Topic25\", \"Topic25\", \"Topic25\", \"Topic25\", \"Topic25\", \"Topic25\", \"Topic25\", \"Topic25\", \"Topic25\", \"Topic25\", \"Topic25\", \"Topic25\", \"Topic25\", \"Topic25\", \"Topic25\", \"Topic25\", \"Topic25\", \"Topic25\", \"Topic25\", \"Topic25\", \"Topic25\", \"Topic25\", \"Topic25\", \"Topic25\", \"Topic25\", \"Topic25\", \"Topic25\", \"Topic25\", \"Topic25\", \"Topic25\", \"Topic25\", \"Topic25\", \"Topic25\", \"Topic25\", \"Topic25\", \"Topic25\", \"Topic25\", \"Topic25\", \"Topic25\", \"Topic25\", \"Topic25\", \"Topic25\", \"Topic25\", \"Topic25\", \"Topic25\", \"Topic25\", \"Topic25\", \"Topic25\", \"Topic25\", \"Topic25\", \"Topic25\", \"Topic25\", \"Topic25\", \"Topic25\", \"Topic25\", \"Topic25\", \"Topic25\", \"Topic25\", \"Topic25\", \"Topic25\", \"Topic25\", \"Topic25\", \"Topic25\", \"Topic25\", \"Topic25\", \"Topic25\", \"Topic25\", \"Topic25\", \"Topic25\", \"Topic26\", \"Topic26\", \"Topic26\", \"Topic26\", \"Topic26\", \"Topic26\", \"Topic26\", \"Topic26\", \"Topic26\", \"Topic26\", \"Topic26\", \"Topic26\", \"Topic26\", \"Topic26\", \"Topic26\", \"Topic26\", \"Topic26\", \"Topic26\", \"Topic26\", \"Topic26\", \"Topic26\", \"Topic26\", \"Topic26\", \"Topic26\", \"Topic26\", \"Topic26\", \"Topic26\", \"Topic26\", \"Topic26\", \"Topic26\", \"Topic26\", \"Topic26\", \"Topic26\", \"Topic26\", \"Topic26\", \"Topic26\", \"Topic26\", \"Topic26\", \"Topic26\", \"Topic26\", \"Topic26\", \"Topic26\", \"Topic26\", \"Topic26\", \"Topic26\", \"Topic26\", \"Topic26\", \"Topic26\", \"Topic26\", \"Topic26\", \"Topic26\", \"Topic26\", \"Topic26\", \"Topic26\", \"Topic26\", \"Topic26\", \"Topic26\", \"Topic26\", \"Topic26\", \"Topic26\", \"Topic26\", \"Topic26\", \"Topic26\", \"Topic26\", \"Topic26\", \"Topic26\", \"Topic26\", \"Topic26\", \"Topic26\", \"Topic26\", \"Topic26\", \"Topic26\", \"Topic26\", \"Topic26\", \"Topic26\", \"Topic26\", \"Topic26\", \"Topic26\", \"Topic26\", \"Topic26\", \"Topic26\", \"Topic26\", \"Topic26\", \"Topic26\", \"Topic26\", \"Topic26\", \"Topic26\", \"Topic26\", \"Topic26\", \"Topic26\", \"Topic26\", \"Topic26\", \"Topic26\", \"Topic26\", \"Topic26\", \"Topic26\", \"Topic26\", \"Topic26\", \"Topic26\", \"Topic26\", \"Topic26\", \"Topic26\", \"Topic26\", \"Topic26\", \"Topic26\", \"Topic26\", \"Topic26\", \"Topic26\", \"Topic26\", \"Topic26\", \"Topic26\", \"Topic26\", \"Topic26\", \"Topic26\", \"Topic26\", \"Topic26\", \"Topic26\", \"Topic26\", \"Topic26\", \"Topic26\", \"Topic26\", \"Topic26\", \"Topic26\", \"Topic26\", \"Topic26\", \"Topic26\", \"Topic26\", \"Topic26\", \"Topic26\", \"Topic26\", \"Topic26\", \"Topic26\", \"Topic26\", \"Topic26\", \"Topic26\", \"Topic26\", \"Topic26\", \"Topic26\", \"Topic26\", \"Topic26\", \"Topic26\", \"Topic26\", \"Topic26\", \"Topic26\", \"Topic26\", \"Topic26\", \"Topic26\", \"Topic26\", \"Topic26\", \"Topic26\", \"Topic26\", \"Topic26\", \"Topic26\", \"Topic26\", \"Topic26\", \"Topic26\", \"Topic26\", \"Topic26\", \"Topic26\", \"Topic26\", \"Topic26\", \"Topic26\", \"Topic26\", \"Topic26\", \"Topic26\", \"Topic26\", \"Topic26\", \"Topic26\", \"Topic26\", \"Topic26\", \"Topic26\", \"Topic26\", \"Topic26\", \"Topic26\", \"Topic26\", \"Topic26\", \"Topic26\", \"Topic26\"], \"Freq\": [1943.0, 654.0, 904.0, 774.0, 605.0, 451.0, 593.0, 635.0, 558.0, 421.0, 647.0, 472.0, 290.0, 443.0, 386.0, 325.0, 265.0, 205.0, 333.0, 249.0, 297.0, 199.0, 199.0, 282.0, 252.0, 314.0, 299.0, 222.0, 271.0, 316.0, 646.0311279296875, 442.352294921875, 314.93438720703125, 298.9283447265625, 228.84169006347656, 164.37579345703125, 162.38485717773438, 140.49473571777344, 105.5812759399414, 101.1602783203125, 89.7321548461914, 87.9475326538086, 86.96200561523438, 82.39868927001953, 77.25048828125, 75.69151306152344, 67.6408462524414, 59.01511764526367, 55.99473571777344, 55.10497283935547, 54.362247467041016, 52.92015075683594, 52.23202133178711, 51.2214241027832, 50.04093933105469, 49.97498321533203, 48.8501091003418, 45.64734649658203, 42.969993591308594, 41.67169952392578, 204.9322967529297, 127.55535125732422, 80.29682159423828, 313.309326171875, 227.11170959472656, 188.6619110107422, 173.98135375976562, 147.82879638671875, 106.90974426269531, 89.08982849121094, 81.96739959716797, 81.21537017822266, 75.89183044433594, 75.86614990234375, 73.76009368896484, 72.637939453125, 72.11042022705078, 70.88921356201172, 67.67076110839844, 66.43072509765625, 66.22019958496094, 66.02350616455078, 65.62067413330078, 61.185646057128906, 53.36589431762695, 53.2767448425293, 46.69594192504883, 44.13610076904297, 41.742889404296875, 37.817405700683594, 35.6181640625, 34.112300872802734, 32.983856201171875, 40.877017974853516, 55.24533462524414, 108.36321258544922, 903.317138671875, 331.9539794921875, 246.7615509033203, 221.66636657714844, 174.94485473632812, 148.08848571777344, 138.55613708496094, 123.68970489501953, 117.16736602783203, 84.80891418457031, 62.020904541015625, 61.25221252441406, 378.0270080566406, 54.09725570678711, 49.479591369628906, 47.2545166015625, 31.86744499206543, 29.445579528808594, 26.504791259765625, 25.65506362915039, 22.660429000854492, 21.667884826660156, 14.02861499786377, 13.31022834777832, 9.243422508239746, 6.544431209564209, 16.54798698425293, 0.07884784787893295, 0.07884784787893295, 0.07884781807661057, 0.07884792238473892, 10.993969917297363, 0.07884777337312698, 1942.295166015625, 634.1688842773438, 298.078369140625, 210.90408325195312, 139.02926635742188, 58.29016876220703, 42.35348892211914, 21.967187881469727, 17.628726959228516, 8.151680946350098, 0.557475209236145, 0.054715462028980255, 0.054715465754270554, 0.05471544712781906, 0.05471545457839966, 0.054715435951948166, 0.054715435951948166, 0.05471542477607727, 0.05471540242433548, 0.054715391248464584, 0.054715387523174286, 0.054715387523174286, 0.054715413600206375, 0.05471537262201309, 0.05471537634730339, 0.05471537634730339, 0.054715365171432495, 0.05471537262201309, 0.054715365171432495, 0.05471537634730339, 0.05471537634730339, 0.054715365171432495, 0.054715387523174286, 0.054715365171432495, 0.054715365171432495, 0.054715365171432495, 0.0547153614461422, 0.054715365171432495, 0.0547153614461422, 0.05471540987491608, 0.0547153614461422, 0.0547153614461422, 0.054715365171432495, 0.0547153539955616, 0.0547153539955616, 0.05471537262201309, 0.0547153539955616, 0.05471537262201309, 0.0547153539955616, 0.0547153539955616, 0.0547153539955616, 0.054715339094400406, 0.054715346544981, 0.0547153539955616, 0.0547153539955616, 0.054715365171432495, 0.0547153614461422, 0.054715417325496674, 0.0547153539955616, 0.0547153539955616, 0.05471537634730339, 0.0547153539955616, 0.05471530184149742, 0.05471530184149742, 0.054715320467948914, 0.0547153614461422, 0.05471530184149742, 0.05471530184149742, 0.05471530184149742, 0.05471530184149742, 0.05471530184149742, 0.0547153614461422, 0.054715346544981, 0.0547153502702713, 0.0547153502702713, 0.0547153502702713, 0.054715339094400406, 0.05471532419323921, 0.05471532419323921, 0.0547153502702713, 0.05471537262201309, 0.05471537262201309, 0.05471537262201309, 0.054715387523174286, 0.0547153539955616, 0.05471884831786156, 0.054715365171432495, 0.05471537262201309, 773.4489135742188, 470.8368835449219, 212.74037170410156, 172.1392822265625, 126.63056945800781, 111.51560974121094, 69.1617431640625, 62.192325592041016, 56.29933166503906, 54.9553337097168, 43.814674377441406, 40.1213264465332, 39.72753143310547, 34.003028869628906, 33.669189453125, 31.091285705566406, 29.858768463134766, 26.34905433654785, 24.901121139526367, 22.211349487304688, 144.9564971923828, 21.330270767211914, 20.27276611328125, 18.458166122436523, 17.902223587036133, 17.040170669555664, 15.597768783569336, 14.25043773651123, 14.213852882385254, 12.60079574584961, 138.81858825683594, 556.662353515625, 323.8807678222656, 296.3826904296875, 281.4454345703125, 204.9095916748047, 169.42552185058594, 172.11618041992188, 103.23590087890625, 102.5161361694336, 64.89044189453125, 39.564971923828125, 37.6461181640625, 33.29867935180664, 21.265186309814453, 21.16439437866211, 20.185916900634766, 15.466965675354004, 12.943117141723633, 9.144469261169434, 7.554119110107422, 5.063838005065918, 2.6942315101623535, 1.9686682224273682, 1.6084673404693604, 0.7123801112174988, 0.07757807523012161, 0.07757773250341415, 0.07757771760225296, 0.07757766544818878, 0.07757765799760818, 7.807124137878418, 0.07757765799760818, 0.07757765799760818, 0.07757765799760818, 0.07757765799760818, 0.0775776356458664, 0.0775776356458664, 0.0775776356458664, 0.07757764309644699, 0.07757759094238281, 0.07757756114006042, 591.6053466796875, 208.1373748779297, 148.9553680419922, 124.54447937011719, 122.87901306152344, 108.05585479736328, 106.87897491455078, 89.42794036865234, 77.43824005126953, 75.30033111572266, 66.78998565673828, 62.40043640136719, 52.83356857299805, 31.39156723022461, 30.04093360900879, 29.660388946533203, 27.90326690673828, 25.85210609436035, 24.669435501098633, 19.787111282348633, 18.801984786987305, 18.68903923034668, 13.88652515411377, 12.637319564819336, 8.550630569458008, 112.24234008789062, 8.477298736572266, 8.133779525756836, 7.400773048400879, 6.82673454284668, 251.0236053466797, 208.9539337158203, 181.08058166503906, 138.82867431640625, 100.47411346435547, 84.0326156616211, 82.60017395019531, 65.74626922607422, 65.6750259399414, 47.345123291015625, 40.32598114013672, 37.479248046875, 34.725399017333984, 33.100067138671875, 33.100067138671875, 33.100067138671875, 33.100067138671875, 33.100067138671875, 32.6163330078125, 28.732696533203125, 26.806903839111328, 26.084144592285156, 24.355504989624023, 23.689739227294922, 16.874006271362305, 6.6038031578063965, 5.803795337677002, 3.0860886573791504, 2.3356902599334717, 165.40052795410156, 17.077470779418945, 248.3566436767578, 220.65145874023438, 195.24642944335938, 157.8585205078125, 101.51534271240234, 87.47172546386719, 82.8115234375, 73.26233673095703, 51.640018463134766, 44.276084899902344, 39.26978302001953, 30.144744873046875, 29.97785186767578, 24.800472259521484, 20.74481964111328, 12.932365417480469, 12.932365417480469, 3.458846092224121, 2.70727276802063, 0.06179777532815933, 0.06179783493280411, 0.06179778650403023, 0.06179773062467575, 0.06179770454764366, 0.06179770454764366, 0.06179768964648247, 0.06179771199822426, 0.06179768964648247, 0.06179771199822426, 0.06179768964648247, 0.06179768592119217, 0.061797671020030975, 0.06179767847061157, 0.061797697097063065, 0.06179768592119217, 0.061797671020030975, 0.061797671020030975, 0.06179771572351456, 0.061797723174095154, 0.06179771199822426, 0.061797671020030975, 0.06179765239357948, 0.061797671020030975, 0.061797671020030975, 0.061797671020030975, 0.061797671020030975, 0.061797697097063065, 0.06179771199822426, 0.061797671020030975, 0.06179768964648247, 0.061797671020030975, 0.06179768964648247, 0.0617976151406765, 0.0617976151406765, 0.0617976151406765, 0.0617976188659668, 0.06179763376712799, 0.0617976151406765, 0.0617976151406765, 604.2543334960938, 289.4438781738281, 264.060791015625, 196.10047912597656, 30.44866180419922, 1.9329421520233154, 0.06412964314222336, 0.06412959098815918, 0.06412959098815918, 0.0641295537352562, 0.06412957608699799, 0.064129538834095, 0.064129538834095, 0.06412947922945023, 0.06412949413061142, 0.06412949413061142, 0.06412949413061142, 0.06412956863641739, 0.06412947922945023, 0.06412947922945023, 0.06412948668003082, 0.06412947922945023, 0.06412947922945023, 0.06412947177886963, 0.06412947922945023, 0.06412949413061142, 0.06412950903177261, 0.06412947177886963, 0.06412947177886963, 0.06412949413061142, 0.06412949413061142, 0.06412949413061142, 0.06412949413061142, 0.06412949413061142, 0.06412949413061142, 0.06412949413061142, 0.06412947177886963, 0.06412947177886963, 0.06412947177886963, 0.06412947177886963, 0.06412947177886963, 0.06412947177886963, 0.06412947177886963, 0.06412952393293381, 0.06412946432828903, 0.06412946432828903, 0.06412949413061142, 0.06412950903177261, 0.06412945687770844, 0.06412949413061142, 0.06412949413061142, 0.06412945687770844, 0.06412944942712784, 0.06412946432828903, 0.06412947922945023, 0.06412945687770844, 0.06412946432828903, 0.06412944942712784, 0.06412938982248306, 0.06412938982248306, 0.06412938982248306, 0.06412938982248306, 0.06412938982248306, 0.06412938982248306, 0.06412938982248306, 0.06412938982248306, 0.06412940472364426, 0.06412938982248306, 0.06412938982248306, 0.06412938982248306, 0.06412938982248306, 0.06412938982248306, 0.06412938982248306, 0.06480546295642853, 419.6192321777344, 161.6698760986328, 136.59849548339844, 89.76561737060547, 64.92416381835938, 58.66989517211914, 27.67148208618164, 27.1062068939209, 23.407224655151367, 21.753318786621094, 19.82243537902832, 11.721383094787598, 10.220197677612305, 0.06517358124256134, 0.06517358124256134, 0.06517357379198074, 0.06517354398965836, 0.06517349928617477, 0.06517349928617477, 0.0651734322309494, 0.0651734322309494, 0.0651734322309494, 0.0651734322309494, 0.0651734247803688, 0.06517346203327179, 0.06517338752746582, 0.06517338752746582, 0.0651734247803688, 0.0651734322309494, 0.06517336517572403, 0.06517335772514343, 0.06517336517572403, 0.06517335772514343, 0.06517335772514343, 0.06517336517572403, 0.06517335772514343, 0.06517335772514343, 0.06517336517572403, 0.06517336517572403, 0.06517335772514343, 0.06517335772514343, 0.06517335772514343, 0.06517335772514343, 0.06517335772514343, 0.06517335772514343, 0.06517336517572403, 0.06517335772514343, 0.06517335772514343, 0.06517335772514343, 0.06517335772514343, 0.06517335772514343, 0.06517336517572403, 0.06517335772514343, 0.06517335027456284, 0.06517335772514343, 0.06517335772514343, 0.06517335772514343, 0.06517335772514343, 0.06517335027456284, 0.06517335772514343, 0.06517335772514343, 0.06517335772514343, 0.06517335772514343, 0.06517335772514343, 0.06517338007688522, 0.06517335772514343, 0.06517335772514343, 0.06517335772514343, 0.06517335772514343, 0.06517335772514343, 0.06517337262630463, 0.06517335772514343, 0.06517336517572403, 0.06517335772514343, 0.06517337262630463, 0.06517335772514343, 0.06517335027456284, 0.06517335027456284, 0.06517332792282104, 0.06517327576875687, 0.06517327576875687, 0.06517335772514343, 653.1980590820312, 114.90325164794922, 93.43087768554688, 73.55782318115234, 61.88905334472656, 31.666732788085938, 21.532522201538086, 20.91035270690918, 12.576623916625977, 11.011927604675293, 0.05686316639184952, 0.05686315521597862, 0.05686312913894653, 0.05686312913894653, 0.05686308816075325, 0.056862980127334595, 0.056862927973270416, 0.05686291307210922, 0.05686288699507713, 0.05686291679739952, 0.05686288699507713, 0.05686284974217415, 0.05686284974217415, 0.05686284974217415, 0.05686284974217415, 0.056862831115722656, 0.056862831115722656, 0.056862834841012955, 0.05686281621456146, 0.05686281621456146, 0.056862808763980865, 0.05686281993985176, 7.5214738845825195, 0.05686280503869057, 0.05686284601688385, 0.05686284601688385, 0.05686279386281967, 0.05686280503869057, 0.056862831115722656, 0.056862831115722656, 0.05686276778578758, 0.05686276778578758, 0.05686276778578758, 0.05686276778578758, 0.05686276778578758, 0.05686276778578758, 0.05686276778578758, 81.41519927978516, 72.95755004882812, 72.91703796386719, 70.82119750976562, 69.64971160888672, 66.85250091552734, 52.26116943359375, 47.412696838378906, 36.7923469543457, 36.35317611694336, 34.75811767578125, 32.78987121582031, 31.947023391723633, 26.12252426147461, 24.550437927246094, 23.473060607910156, 23.27777671813965, 17.424510955810547, 15.36563491821289, 13.669246673583984, 13.12552547454834, 11.613982200622559, 11.165135383605957, 10.272232055664062, 9.360554695129395, 6.811610221862793, 6.497334957122803, 4.774492263793945, 4.637794494628906, 3.9200568199157715, 43.18946838378906, 8.782293319702148, 110.54234313964844, 92.3732681274414, 89.2010269165039, 84.72267150878906, 64.89250183105469, 63.88225555419922, 61.510677337646484, 55.22987365722656, 54.21928405761719, 42.7967414855957, 25.752899169921875, 25.111610412597656, 24.635488510131836, 22.209915161132812, 21.86232566833496, 17.950847625732422, 17.901880264282227, 13.755393028259277, 11.223100662231445, 10.506332397460938, 5.328588485717773, 0.43198418617248535, 0.05346893519163132, 0.05346888676285744, 0.05346888676285744, 0.05346888676285744, 0.05346888303756714, 0.05346884950995445, 0.053468845784664154, 0.05346883088350296, 0.053468845784664154, 0.053468868136405945, 0.053468819707632065, 0.053468797355890274, 0.05346882715821266, 0.053468797355890274, 0.053468797355890274, 0.05346881225705147, 0.05346880108118057, 0.05346882343292236, 0.05346880108118057, 0.053468797355890274, 0.05346881225705147, 0.05346883833408356, 0.05346880108118057, 0.05346876010298729, 0.053468797355890274, 0.053468797355890274, 115.80339050292969, 58.65592956542969, 54.246944427490234, 40.167640686035156, 32.41187286376953, 32.26646041870117, 24.46094512939453, 24.231853485107422, 23.36964988708496, 21.768152236938477, 20.81985855102539, 18.268850326538086, 17.106754302978516, 16.22806739807129, 16.22806739807129, 16.22806739807129, 16.22806739807129, 16.22806739807129, 14.357216835021973, 13.003344535827637, 59.600303649902344, 5.931821346282959, 4.2136549949646, 2.081963539123535, 93.59530639648438, 29.77816390991211, 15.523972511291504, 0.04514066502451897, 0.04514065012335777, 0.04514063522219658, 0.045140620321035385, 0.045140620321035385, 0.04514061659574509, 0.045140642672777176, 0.04514061287045479, 0.0451405793428421, 0.04514063522219658, 0.045140571892261505, 70.75173950195312, 63.39316177368164, 54.27217483520508, 439.2158203125, 39.303916931152344, 22.313508987426758, 3.3002898693084717, 1.4570914506912231, 0.056908249855041504, 0.05690821260213852, 0.05690821260213852, 0.056908223778009415, 0.05690821632742882, 0.05690821260213852, 0.05690821260213852, 0.056908201426267624, 0.05690821260213852, 0.05690819397568703, 0.05690819397568703, 0.05690819397568703, 0.05690818279981613, 0.05690818279981613, 0.05690817907452583, 0.05690819025039673, 0.05690817907452583, 0.05690819025039673, 0.056908171623945236, 0.05690817907452583, 0.056908171623945236, 0.05690816789865494, 0.056908201426267624, 0.05690821632742882, 0.05690816789865494, 0.05690816044807434, 0.05690816789865494, 0.05690816044807434, 0.05690816044807434, 0.05690815672278404, 0.05690816044807434, 0.056908171623945236, 0.05690816044807434, 0.05690816789865494, 0.05690816789865494, 0.05690816044807434, 0.05690816044807434, 0.05690819397568703, 0.056908201426267624, 0.05690813809633255, 0.05690816044807434, 0.05690815672278404, 0.05690814554691315, 0.05690813809633255, 0.056908149272203445, 0.05690813809633255, 0.05690815672278404, 0.05690813809633255, 0.05690814554691315, 0.05690813809633255, 0.05690813809633255, 0.05690816789865494, 0.05690816044807434, 0.056908149272203445, 0.05690814554691315, 0.056908149272203445, 0.05690818279981613, 0.05690816044807434, 0.05690815672278404, 0.05690814554691315, 0.05690814554691315, 0.056908149272203445, 0.056908149272203445, 0.05690813809633255, 0.05690815672278404, 0.05690813809633255, 0.05690813809633255, 0.05690815672278404, 0.05690813809633255, 0.05690814554691315, 0.056908149272203445, 0.05690814554691315, 0.05690816789865494, 0.05690816044807434, 0.05690814554691315, 0.05690813809633255, 0.05690813809633255, 0.05690815672278404, 0.05690815672278404, 0.05690813809633255, 0.05690813809633255, 0.05690813809633255, 0.05690814554691315, 0.05690813809633255, 0.05690814554691315, 0.05690814554691315, 0.05690813809633255, 0.056908149272203445, 0.05690816789865494, 0.05690815672278404, 0.05690814554691315, 0.05690814554691315, 0.05690813809633255, 0.05690816789865494, 0.05690813809633255, 0.056908149272203445, 0.05690813809633255, 0.05690818279981613, 0.05690816044807434, 0.05690813809633255, 0.05690813809633255, 0.05690815672278404, 0.05690814554691315, 0.05690813809633255, 0.05690814554691315, 0.05690813809633255, 0.05690813809633255, 0.05690813809633255, 0.05690813809633255, 0.056908149272203445, 0.05690814554691315, 0.05690813809633255, 0.05690813809633255, 0.05690813809633255, 0.056908126920461655, 0.05690813437104225, 0.056908126920461655, 0.056908126920461655, 0.056908126920461655, 0.056908126920461655, 0.05690815672278404, 197.8024139404297, 130.70111083984375, 71.97242736816406, 69.03277587890625, 61.57514190673828, 27.75262451171875, 22.951509475708008, 14.974533081054688, 13.899185180664062, 13.899185180664062, 12.251938819885254, 9.851016998291016, 8.450876235961914, 1.678627848625183, 18.856693267822266, 0.05162204056978226, 0.0516219437122345, 0.0516219437122345, 0.0516219437122345, 0.0516219437122345, 0.0516219437122345, 0.05162189155817032, 0.05162186920642853, 0.05162186920642853, 0.05162184685468674, 0.05162183567881584, 0.05162183567881584, 0.05162181705236435, 0.05162181705236435, 0.05162181705236435, 0.05162181705236435, 0.05162181705236435, 0.05162181705236435, 0.05162181705236435, 0.05162182077765465, 0.051621805876493454, 0.05162180960178375, 0.05162180960178375, 0.05162181705236435, 0.05162182077765465, 0.05162182077765465, 0.05162178352475166, 0.05162178725004196, 0.05162178725004196, 0.05162178352475166, 0.05162178352475166, 0.05162178352475166, 204.48753356933594, 116.40888977050781, 111.24427032470703, 64.2802963256836, 29.307966232299805, 19.24346923828125, 10.36988639831543, 5.730642318725586, 2.4082462787628174, 1.7518659830093384, 70.01638793945312, 0.0511600598692894, 0.05116000026464462, 0.05115998536348343, 0.05115998536348343, 0.05115998908877373, 0.05115997791290283, 0.05115998908877373, 0.05115998908877373, 0.05115998908877373, 0.05115998908877373, 0.05116000026464462, 0.05115995928645134, 0.05115995556116104, 0.051159944385290146, 0.051159944385290146, 0.051159948110580444, 0.051159948110580444, 0.051159944385290146, 0.051159948110580444, 0.051159944385290146, 0.05115996673703194, 0.05115997791290283, 0.05115995928645134, 0.051159948110580444, 0.051159948110580444, 0.05115994065999985, 0.051159944385290146, 0.051159948110580444, 0.051159948110580444, 0.051159948110580444, 0.05115994065999985, 0.05115994065999985, 0.05115994065999985, 0.05115994065999985, 0.051159944385290146, 0.051159944385290146, 0.05115997791290283, 0.05115993693470955, 0.05115993693470955, 0.05115993693470955, 0.051159944385290146, 0.051159944385290146, 0.051159944385290146, 0.051159944385290146, 0.05115993693470955, 0.05115992948412895, 0.05115993693470955, 0.05115991830825806, 0.05115991830825806, 0.05115993693470955, 0.05115993693470955, 0.05115991830825806, 0.05115991458296776, 0.05115990713238716, 0.05115991458296776, 0.05115991830825806, 0.05115991830825806, 0.05115991458296776, 0.05115994065999985, 0.05115991830825806, 0.05115991830825806, 0.05115991458296776, 0.05115991830825806, 0.05115992948412895, 0.051159925758838654, 0.05115993693470955, 0.05115992948412895, 0.05115992948412895, 0.05115993693470955, 0.05115993693470955, 0.05115991830825806, 0.05115992948412895, 0.05115991830825806, 0.05115994065999985, 0.051159925758838654, 0.05115991830825806, 0.05115991458296776, 0.05115991830825806, 0.05115991458296776, 0.051159925758838654, 0.05115991458296776, 0.05115991830825806, 0.05115991830825806, 0.05115991458296776, 0.05115991458296776, 0.05115991458296776, 0.05115991458296776, 0.05115991830825806, 0.05115991458296776, 0.05115992948412895, 0.05115991458296776, 0.05115991830825806, 0.05115991830825806, 0.05115993693470955, 0.05115994065999985, 0.05115991830825806, 0.051159925758838654, 0.05115991830825806, 0.05115991458296776, 0.05115991830825806, 0.05115991458296776, 0.05115991830825806, 0.05115991830825806, 0.051159944385290146, 0.05115995928645134, 0.05115991458296776, 0.051159895956516266, 0.051159895956516266, 0.051159895956516266, 0.051159899681806564, 0.051159895956516266, 0.05115991830825806, 0.05115991458296776, 0.05115991830825806, 0.05115991458296776, 0.05115991458296776, 0.05115993693470955, 0.051159944385290146, 198.18048095703125, 110.57292938232422, 108.03826141357422, 75.3861312866211, 69.94776153564453, 13.974579811096191, 13.317771911621094, 8.84569263458252, 8.584720611572266, 8.584720611572266, 8.584720611572266, 8.584720611572266, 8.584720611572266, 8.584720611572266, 8.584720611572266, 6.489619255065918, 6.489619255065918, 6.489619255065918, 10.701276779174805, 0.04089585319161415, 0.04089587181806564, 0.04089584946632385, 0.04089584946632385, 0.04089584946632385, 0.04089587181806564, 0.04089584946632385, 0.04089584946632385, 0.040895842015743256, 0.040895842015743256, 0.040895842015743256, 0.04089587554335594, 0.04089584946632385, 0.04089587554335594, 0.040895842015743256, 0.04089583456516266, 0.04089585319161415, 0.04089583456516266, 0.040895819664001465, 0.04089582338929176, 0.04089582338929176, 0.04089583083987236, 0.04089583456516266, 0.04089583456516266, 0.040895845741033554, 0.04089583083987236, 0.04089584946632385, 0.04089583456516266, 0.04089578986167908, 0.04089581221342087, 0.040895797312259674, 0.04089580103754997, 0.04089580103754997, 0.040895819664001465, 0.04089578986167908, 0.04089582338929176, 0.04089578986167908, 0.04089578986167908, 77.18600463867188, 62.41709518432617, 60.259456634521484, 56.26401138305664, 54.14375686645508, 39.2523307800293, 29.313514709472656, 25.736101150512695, 19.863765716552734, 18.767154693603516, 17.992464065551758, 14.705328941345215, 8.755487442016602, 6.929401397705078, 4.453735828399658, 3.5574421882629395, 73.23252868652344, 0.4126129746437073, 0.050822239369153976, 0.05082210525870323, 0.05082206800580025, 0.05082206800580025, 0.050822071731090546, 0.05082203447818756, 0.05082203075289726, 0.05082206800580025, 0.05082201957702637, 0.05082203447818756, 0.05082203820347786, 0.05082200840115547, 0.050821997225284576, 0.050821997225284576, 0.05082201957702637, 0.050822049379348755, 0.05082198977470398, 0.05082200840115547, 0.050821997225284576, 0.050821997225284576, 0.05082198977470398, 0.050821997225284576, 0.05082198977470398, 0.050821997225284576, 0.05082201957702637, 0.05082198977470398, 0.050821997225284576, 0.050821997225284576, 0.05082201585173607, 0.050821997225284576, 0.05082198977470398, 0.05082203075289726, 0.050821997225284576, 0.0508219450712204, 0.05082195997238159, 0.0508219450712204, 0.05082195624709129, 94.90444946289062, 77.60771942138672, 61.789085388183594, 54.455997467041016, 35.45308303833008, 12.646723747253418, 2.993436813354492, 0.05531991273164749, 0.055319905281066895, 0.0553198866546154, 0.0553198866546154, 0.0553198978304863, 0.055319894105196, 0.055319894105196, 0.0553198978304863, 0.0553198978304863, 0.0553198866546154, 0.05531987175345421, 0.05531987175345421, 0.05531987175345421, 0.0553198866546154, 0.05531987175345421, 0.055319879204034805, 0.0553198866546154, 0.05531987175345421, 0.05531987175345421, 0.055319879204034805, 0.05531987175345421, 0.055319894105196, 0.05531987175345421, 0.055319879204034805, 0.05531987175345421, 0.0553198866546154, 0.05531987175345421, 0.05531987175345421, 0.05531987175345421, 0.05531987175345421, 0.05531987175345421, 0.0553198866546154, 0.05531987175345421, 0.05531987175345421, 0.05531986802816391, 0.05531986802816391, 0.05531987175345421, 0.05531987175345421, 0.05531986802816391, 0.05531986802816391, 0.05531987175345421, 0.05531986802816391, 0.05531986802816391, 0.0553198978304863, 0.05531987175345421, 0.05531987175345421, 0.05531986802816391, 0.05531986802816391, 0.05531986430287361, 0.05531986802816391, 0.05531986430287361, 0.05531986430287361, 0.05531986802816391, 0.05531986802816391, 0.05531986802816391, 0.05531986430287361, 0.05531986430287361, 0.05531986430287361, 0.05531986430287361, 0.05531986430287361, 0.05531986430287361, 0.05531986430287361, 0.05531986430287361, 0.05531987175345421, 0.05531986430287361, 0.055319879204034805, 0.05531986430287361, 0.05531987175345421, 0.05531986802816391, 0.05531986802816391, 0.05531986802816391, 0.05531986802816391, 0.05531986802816391, 0.05531987175345421, 0.05531986430287361, 0.05531986430287361, 0.05531986802816391, 0.05531986430287361, 0.05531986430287361, 0.05531986430287361, 0.05531986430287361, 0.05531986430287361, 0.05531986430287361, 0.05531986057758331, 0.05531986057758331, 0.05531986057758331, 0.05531986430287361, 0.05531986430287361, 0.05531986057758331, 0.05531986802816391, 0.05531986057758331, 0.05531986057758331, 0.05531986430287361, 0.05531986057758331, 0.05531986057758331, 0.05531986430287361, 0.05531986430287361, 0.05531986430287361, 0.05531986430287361, 0.0553198866546154, 0.05531986430287361, 0.05531986430287361, 0.055319879204034805, 0.055319879204034805, 0.05531986057758331, 0.05531986057758331, 0.05531986057758331, 0.05531986057758331, 0.055319879204034805, 0.055319879204034805, 0.05531986057758331, 0.055319879204034805, 0.055319853127002716, 0.055319853127002716, 0.055319853127002716, 0.055319853127002716, 0.055319853127002716, 0.055319853127002716, 0.055319853127002716, 0.055319853127002716, 0.055319853127002716, 0.055319853127002716, 0.055319853127002716, 0.055319853127002716, 0.05531987175345421, 0.05531986802816391, 0.05531987175345421, 0.05531986802816391, 0.05531986802816391, 0.05531986802816391, 0.05531986802816391, 0.05531986430287361, 0.05531986802816391, 0.05531987175345421, 0.05531986430287361, 0.05531986430287361, 0.05531986430287361, 0.05531986057758331, 0.05531986057758331, 0.05531986057758331, 0.05531986057758331, 0.05531986057758331, 0.05531986057758331, 0.05531986057758331, 0.05531987175345421, 0.05531986430287361, 0.05531986802816391, 0.05531986430287361, 0.055319879204034805, 0.05531986430287361, 0.05531986430287361, 0.05531986430287361, 0.055319853127002716, 0.055319853127002716, 0.055319853127002716, 0.05531986430287361, 0.05531986057758331, 0.055319853127002716, 0.055319853127002716, 0.055319853127002716, 0.05531986057758331, 0.055319853127002716, 0.055319853127002716, 0.055319853127002716, 0.055319853127002716, 0.055319853127002716, 0.055319853127002716, 0.055319853127002716, 0.0553198978304863, 0.055319853127002716, 0.055319853127002716, 0.05531986430287361, 0.055319853127002716, 0.055319853127002716, 0.055319853127002716, 0.055319853127002716, 0.055319853127002716, 0.055319853127002716, 0.05531986802816391, 0.055319853127002716, 0.055319853127002716, 0.055319853127002716, 0.05531986057758331, 0.055319853127002716, 0.055319853127002716, 0.055319853127002716, 0.055319853127002716, 0.055319853127002716, 0.055319853127002716, 0.05531986802816391, 0.05531986802816391, 0.05531986802816391, 0.05531986802816391, 0.05531986057758331, 0.05531986430287361, 0.05531986057758331, 0.05531987175345421, 0.05531986430287361, 0.05531986057758331, 0.05531986802816391, 0.05531986057758331, 0.05531986057758331, 0.05531986057758331, 0.05531986430287361, 0.05531986057758331, 0.05531986057758331, 0.05531986057758331, 0.05531986802816391, 0.05531986430287361, 0.05531986430287361, 0.05531986057758331, 0.055319853127002716, 0.05531986057758331, 0.055319853127002716, 0.055319853127002716, 0.055319853127002716, 0.055319853127002716, 0.055319853127002716, 0.055319853127002716, 0.055319853127002716, 0.055319853127002716, 0.055319853127002716, 0.055319853127002716, 0.055319853127002716, 0.05531986430287361, 0.055319853127002716, 0.055319853127002716, 0.055319853127002716, 0.055319853127002716, 0.055319853127002716, 0.055319853127002716, 0.055319853127002716, 0.055319853127002716, 0.055319853127002716, 0.055319853127002716, 0.05531987175345421, 0.05531986430287361, 0.05531986430287361, 0.05531986430287361, 0.05531986430287361, 0.05531986430287361, 0.05531986430287361, 0.05531986057758331, 0.05531986057758331, 0.05531986057758331, 0.05531986057758331, 0.05531986057758331, 0.05531986057758331, 0.05531986057758331, 0.05531986057758331, 0.05531986057758331, 0.05531986430287361, 0.05531986057758331, 0.05531986057758331, 0.05531986057758331, 0.055319879204034805, 0.055319853127002716, 0.055319853127002716, 0.055319853127002716, 0.055319853127002716, 0.055319853127002716, 0.055319853127002716, 0.055319853127002716, 0.055319853127002716, 0.055319853127002716, 0.055319853127002716, 0.055319853127002716, 0.055319853127002716, 0.055319853127002716, 0.05531986430287361, 0.055319853127002716, 0.055319853127002716, 0.055319853127002716, 0.055319853127002716, 0.055319853127002716, 0.055319853127002716, 0.055319853127002716, 0.055319853127002716, 0.055319853127002716, 0.055319853127002716, 92.70072937011719, 46.93450164794922, 38.050411224365234, 26.720312118530273, 20.24322509765625, 19.193397521972656, 17.255800247192383, 13.251945495605469, 9.431992530822754, 8.498872756958008, 8.201593399047852, 6.895958423614502, 6.019290447235107, 0.05716608092188835, 0.05716606229543686, 0.05716605484485626, 0.05716605857014656, 0.05716608464717865, 0.05716605484485626, 0.057166069746017456, 0.05716605484485626, 0.05716605484485626, 0.05716605484485626, 0.05716603249311447, 0.05716603994369507, 0.057166025042533875, 0.057166025042533875, 0.05716603621840477, 0.05716603621840477, 0.05716603621840477, 0.05716605484485626, 0.057166051119565964, 0.05716603621840477, 0.05716603621840477, 0.05716603621840477, 0.057166069746017456, 0.057166025042533875, 0.05716603249311447, 0.05716603249311447, 0.057166025042533875, 0.05716603621840477, 0.057166025042533875, 0.05716598406434059, 0.057165998965501785, 0.05716598033905029, 0.05716598033905029, 0.05716598033905029, 0.05716598033905029, 0.05716598033905029, 0.05716598406434059, 0.05716598033905029, 0.05716598033905029, 0.05716598033905029, 0.05716598033905029, 0.05716598033905029, 0.05716598033905029, 0.05716601014137268, 0.057508040219545364, 105.90853881835938, 61.71656799316406, 12.789506912231445, 6.710081577301025, 3.888068199157715, 2.670102119445801, 2.2879762649536133, 1.749791145324707, 0.42855361104011536, 0.04162862151861191, 0.04162862151861191, 0.04162859544157982, 0.0416286401450634, 0.041628580540418625, 0.041628580540418625, 0.04162859916687012, 0.041628580540418625, 0.04162861034274101, 0.04162857308983803, 0.041628580540418625, 0.04162857308983803, 0.041628580540418625, 0.04162856936454773, 0.04162856936454773, 0.04162856936454773, 0.04162856936454773, 0.04162856936454773, 0.04162856936454773, 0.04162856191396713, 0.04162856191396713, 0.04162856191396713, 0.0416286364197731, 0.04162856936454773, 0.04162856936454773, 0.041628558188676834, 0.041628558188676834, 0.04162856936454773, 0.041628558188676834, 0.041628558188676834, 0.041628558188676834, 0.04162856936454773, 0.041628558188676834, 0.04162856191396713, 0.041628558188676834, 0.04162856191396713, 0.041628580540418625, 0.041628558188676834, 0.041628558188676834, 0.041628558188676834, 0.041628558188676834, 0.041628558188676834, 0.041628558188676834, 0.041628558188676834, 0.041628558188676834, 0.04162856191396713, 0.04162856191396713, 0.04162858799099922, 0.04162856191396713, 0.041628558188676834, 0.041628558188676834, 0.04162856191396713, 0.041628580540418625, 0.04162856936454773, 0.041628558188676834, 0.04162858426570892, 0.04162856191396713, 0.041628558188676834, 0.041628558188676834, 0.041628558188676834, 0.04162858799099922, 0.04162856936454773, 0.041628558188676834, 0.041628558188676834, 0.041628558188676834, 81.13248443603516, 47.564910888671875, 7.059908866882324, 4.065348148345947, 4.065348148345947, 0.03011881746351719, 0.03011876344680786, 0.03011876344680786, 0.03011876344680786, 0.03011876344680786, 0.030118757858872414, 0.030118757858872414, 0.03011876344680786, 0.03011876344680786, 0.03011876344680786, 0.03011876344680786, 0.030118750408291817, 0.030118750408291817, 0.030118750408291817, 0.030118750408291817, 0.030118750408291817, 0.030118750408291817, 0.030118750408291817, 0.030118750408291817, 0.030118750408291817, 0.030118750408291817, 0.030118750408291817, 0.03011874295771122, 0.03011874109506607, 0.03011874109506607, 0.03011874482035637, 0.030118724331259727, 0.030118729919195175, 0.030118729919195175, 0.030118733644485474, 0.030118724331259727, 0.030118724331259727, 0.03011874295771122, 0.030118724331259727, 0.030118724331259727, 0.030118724331259727, 0.030118722468614578, 0.030118724331259727, 0.030118724331259727, 0.03011874109506607, 0.030118724331259727, 0.030118724331259727, 0.030118724331259727, 0.030118722468614578, 0.030118724331259727, 0.030118724331259727, 0.030118729919195175, 0.030118724331259727, 0.030118729919195175, 0.030118731781840324, 0.030118724331259727, 0.030118724331259727, 0.030118724331259727, 0.030118724331259727, 0.030118711292743683, 0.030118711292743683, 0.030118711292743683, 0.030300982296466827, 68.01508331298828, 22.528640747070312, 13.206255912780762, 8.238543510437012, 7.561503887176514, 3.283247947692871, 2.5509512424468994, 0.028965404257178307, 0.028965391218662262, 0.028965381905436516, 0.028965381905436516, 0.02896535024046898, 0.02896534651517868, 0.028965342789888382, 0.028965342789888382, 0.028965342789888382, 0.028965342789888382, 0.028965342789888382, 0.028965342789888382, 0.028965342789888382, 0.028965339064598083, 0.028965342789888382, 0.028965342789888382, 0.028965340927243233, 0.028965359553694725, 0.028965329751372337, 0.028965331614017487, 0.02896532416343689, 0.02896532043814659, 0.02896534837782383, 0.02896532602608204, 0.02896532043814659, 0.02896532416343689, 0.02896532602608204, 0.028965318575501442, 0.028965318575501442, 0.028965318575501442, 0.028965309262275696, 0.028965311124920845, 0.028965318575501442, 0.028965318575501442, 0.028965318575501442, 0.028965309262275696, 0.02896532043814659, 0.028965318575501442, 0.028965311124920845, 0.028965303674340248, 0.028965307399630547, 0.028965303674340248, 0.028965303674340248, 0.028965303674340248, 0.028965303674340248, 0.028965311124920845, 0.028965303674340248, 0.028965303674340248, 0.028965303674340248, 0.028965303674340248, 0.028965303674340248, 0.028965303674340248, 0.028965303674340248, 0.028965303674340248, 0.028965303674340248, 0.028965303674340248, 0.028965303674340248, 0.028965303674340248, 0.028965303674340248, 0.028965303674340248, 0.028965309262275696, 0.028965307399630547, 0.028965303674340248, 0.028965303674340248, 0.028965303674340248, 0.028965303674340248, 0.028965303674340248, 0.0289653018116951, 0.0289653018116951, 0.028965303674340248, 0.028965309262275696, 4.356438636779785, 0.008349423296749592, 0.008349422365427017, 0.008349420502781868, 0.008349421434104443, 0.008349421434104443, 0.008349421434104443, 0.008349420502781868, 0.008349421434104443, 0.008349421434104443, 0.008349420502781868, 0.008349421434104443, 0.008349421434104443, 0.008349421434104443, 0.008349421434104443, 0.008349421434104443, 0.008349420502781868, 0.008349420502781868, 0.008349420502781868, 0.008349420502781868, 0.008349420502781868, 0.008349421434104443, 0.008349421434104443, 0.008349420502781868, 0.008349420502781868, 0.008349421434104443, 0.008349420502781868, 0.008349421434104443, 0.008349421434104443, 0.008349421434104443, 0.008349420502781868, 0.008349420502781868, 0.008349421434104443, 0.008349418640136719, 0.008349421434104443, 0.008349417708814144, 0.008349417708814144, 0.008349417708814144, 0.008349417708814144, 0.008349417708814144, 0.008349417708814144, 0.008349417708814144, 0.008349417708814144, 0.008349417708814144, 0.008349417708814144, 0.008349417708814144, 0.008349417708814144, 0.008349417708814144, 0.008349417708814144, 0.008349417708814144, 0.008349420502781868, 0.008349417708814144, 0.008349417708814144, 0.008349417708814144, 0.008349417708814144, 0.008349417708814144, 0.008349417708814144, 0.008349417708814144, 0.008349417708814144, 0.008349417708814144, 0.008349417708814144, 0.008349417708814144, 0.008349417708814144, 0.008349417708814144, 0.008349417708814144, 0.008349417708814144, 0.008349417708814144, 0.008349417708814144, 0.008349417708814144, 0.008349417708814144, 0.008349417708814144, 0.008349417708814144, 0.008349417708814144, 0.008349417708814144, 0.008349417708814144, 0.008349417708814144, 0.008349417708814144, 0.008349417708814144, 0.008349417708814144, 0.008349417708814144, 0.008349417708814144, 0.008349417708814144, 0.008349417708814144, 0.008349417708814144, 0.008349417708814144, 0.008349417708814144, 0.008349417708814144, 0.008349417708814144, 0.008349417708814144, 0.008349417708814144, 0.008349417708814144, 0.008349417708814144, 0.008349417708814144, 0.008349417708814144, 0.008349417708814144, 0.008349417708814144, 0.008349417708814144, 0.008349417708814144, 0.008349417708814144, 0.008349417708814144, 0.008349417708814144, 0.008349417708814144, 0.008349417708814144, 0.008349417708814144, 0.008349417708814144, 0.008349417708814144, 0.008349417708814144, 0.008349417708814144, 0.008349417708814144, 0.008349417708814144, 0.008349417708814144, 0.008349417708814144, 0.008349417708814144, 0.008349417708814144, 0.008349417708814144, 0.008349417708814144, 0.008349417708814144, 0.008349417708814144, 0.008349417708814144, 0.008349417708814144, 0.008349417708814144, 0.008349417708814144, 0.008349417708814144, 0.008349417708814144, 0.008349417708814144, 0.008349417708814144, 0.008349417708814144, 0.008349417708814144, 0.008349417708814144, 0.008349417708814144, 0.008349417708814144, 0.008349417708814144, 0.008349417708814144, 0.008349417708814144, 0.008349417708814144, 0.008349417708814144, 0.008349417708814144, 0.008349417708814144, 0.008349417708814144, 0.008349417708814144, 0.008349417708814144, 0.008349417708814144, 0.008349417708814144, 0.008349417708814144, 0.008349417708814144, 0.008349417708814144, 0.008349417708814144, 0.008349417708814144, 0.008349417708814144, 0.008349417708814144, 0.008349417708814144, 0.008349417708814144, 0.008349417708814144, 0.008349417708814144, 0.008349417708814144, 0.008349417708814144, 0.008349417708814144, 0.008349417708814144, 0.008349417708814144, 0.008349417708814144, 0.008349417708814144, 0.008349417708814144, 0.008349417708814144, 0.008349417708814144, 0.008349417708814144, 0.008349417708814144, 0.008349417708814144, 0.008349417708814144, 0.008349417708814144, 0.008349417708814144, 0.008349417708814144, 0.008349417708814144, 0.008349417708814144, 0.008349417708814144, 0.008349417708814144, 0.008349417708814144, 0.008349417708814144, 0.008349417708814144], \"Term\": [\"black\", \"join\", \"peopl\", \"american\", \"polic\", \"like\", \"support\", \"communiti\", \"unit\", \"america\", \"year\", \"stop\", \"shoot\", \"justic\", \"live\", \"countri\", \"blackmattersus\", \"nation\", \"want\", \"life\", \"state\", \"white\", \"school\", \"time\", \"free\", \"need\", \"matter\", \"love\", \"video\", \"famili\", \"year\", \"justic\", \"famili\", \"know\", \"say\", \"clinton\", \"forget\", \"death\", \"legal\", \"give\", \"brother\", \"call\", \"second\", \"leav\", \"risk\", \"mother\", \"face\", \"dream\", \"scott\", \"chicago\", \"april\", \"charg\", \"question\", \"murder\", \"open\", \"exampl\", \"serv\", \"politician\", \"caus\", \"drive\", \"kill\", \"fatal\", \"tri\", \"need\", \"refuge\", \"peac\", \"social\", \"issu\", \"tell\", \"commit\", \"build\", \"gun\", \"possibl\", \"simpl\", \"friend\", \"talk\", \"terrorist\", \"person\", \"strong\", \"media\", \"attack\", \"happen\", \"queen\", \"militari\", \"get\", \"iraq\", \"offer\", \"femal\", \"near\", \"prove\", \"bomb\", \"listen\", \"west\", \"author\", \"continu\", \"good\", \"peopl\", \"want\", \"govern\", \"right\", \"think\", \"fight\", \"look\", \"make\", \"world\", \"parti\", \"happi\", \"watch\", \"live\", \"battl\", \"democrat\", \"term\", \"agre\", \"evid\", \"ban\", \"fear\", \"birthday\", \"rule\", \"straight\", \"slave\", \"incred\", \"riot\", \"citizen\", \"twitter\", \"share_facebookshar\", \"dudeer_dudeer\", \"muslim\", \"like\", \"nativ\", \"black\", \"communiti\", \"matter\", \"brutal\", \"african\", \"movement\", \"voic\", \"activist\", \"injustic\", \"cool\", \"advoc\", \"dapper\", \"amend\", \"invest\", \"latest_news\", \"patriot_defend\", \"gun_lover\", \"milleni\", \"news_analysi\", \"founder\", \"everyday_updat\", \"fast_grow\", \"welcom\", \"own_busi\", \"encourag\", \"info\", \"mission\", \"advanc\", \"primari\", \"interview\", \"alabama\", \"touch\", \"meet\", \"perform\", \"blackexcel\", \"bank\", \"empow\", \"king\", \"attent\", \"stand\", \"uniti\", \"voic_count\", \"yoyoyoyoyoy\", \"use\", \"pride\", \"staten_island\", \"beyonc\\u00e9\", \"garner\", \"breakingnew_goal\", \"westandtogeth\", \"goal\", \"danger_eric\", \"eric_garner\", \"univers\", \"lead\", \"panafrican_africanandproud\", \"bori\", \"muslim\", \"plan\", \"terranc_kellom\", \"cultur\", \"understand\", \"chariot\", \"citizenship\", \"deport\", \"patriot\", \"uphold\", \"weaken\", \"separ\", \"invari\", \"option\", \"nativ\", \"newest\", \"mission_tell\", \"bold_truth\", \"hall_lie\", \"expect\", \"outsid\", \"exclus\", \"offic_sherri\", \"wewillsurv_organ\", \"melaninqueen_dope\", \"beauti_wakeup\", \"place\", \"islam\", \"american\", \"creat\", \"money\", \"american\", \"stop\", \"proud\", \"hillari\", \"power\", \"freedom\", \"reason\", \"turn\", \"anti\", \"posit\", \"melanin\", \"simpli\", \"challeng\", \"experi\", \"respect\", \"loud\", \"research\", \"color\", \"daili\", \"sign\", \"crime\", \"decid\", \"agenda\", \"afraid\", \"dope\", \"explain\", \"accus\", \"imag\", \"blue\", \"exist\", \"presid\", \"unit\", \"countri\", \"state\", \"time\", \"come\", \"chang\", \"trump\", \"elect\", \"music\", \"donald_trump\", \"vote\", \"true\", \"michael\", \"tuesday\", \"guy\", \"assault\", \"lie\", \"seek\", \"crowd\", \"libtard\", \"serious\", \"fool\", \"tower\", \"john\", \"donald\", \"muslim\", \"pennsylvania\", \"south\", \"miner\", \"coal\", \"presid\", \"melanin_blackgirlmag\", \"melaninqueen_dope\", \"wewillsurv_organ\", \"beauti_wakeup\", \"patriot\", \"nativ\", \"remov\", \"cultur\", \"click_learn\", \"million\", \"support\", \"protect\", \"histori\", \"educ\", \"fact\", \"rais\", \"children\", \"sure\", \"young\", \"member\", \"import\", \"carri\", \"youth\", \"hair\", \"ignor\", \"campaign\", \"past\", \"respons\", \"relat\", \"name\", \"actual\", \"certain\", \"enforc\", \"wall\", \"realiti\", \"today\", \"colin_kaepernick\", \"individu\", \"opportun\", \"seri\", \"free\", \"news\", \"busi\", \"believ\", \"break\", \"word\", \"kid\", \"liber\", \"lose\", \"middl\", \"hope\", \"go_viral\", \"mind\", \"kid_tast\", \"chant_racist\", \"outrag_public\", \"facebook_deepen\", \"montgomeri_counti\", \"agoni\", \"check\", \"read\", \"die\", \"achiev\", \"condit\", \"chant\", \"strive\", \"fuck\", \"surviv\", \"spirit\", \"video\", \"today\", \"life\", \"love\", \"help\", \"home\", \"bring\", \"demand\", \"prison\", \"feel\", \"spend\", \"differ\", \"sign_petit\", \"studi\", \"report\", \"minor\", \"kind\", \"innoc_jerom\", \"http_thndrpnni\", \"recogn\", \"quot\", \"welcom\", \"veteran\", \"nativ\", \"freddi_gray\", \"sentenc\", \"use\", \"sake\", \"terranc_kellom\", \"app\", \"pay\", \"funnylnst\", \"brother_sister\", \"invad\", \"admir_nativ\", \"presidenti_ballot\", \"jerom\", \"dynast_success\", \"jesus\", \"understand\", \"cultur\", \"hillari_clinton\", \"principl_lay\", \"disqualifi\", \"killari\", \"dynasti\", \"core_democrat\", \"polit_breach\", \"high\", \"remov\", \"mitchel_quinn\", \"click_learn\", \"found_father\", \"muslim\", \"cloth\", \"sarah\", \"knot\", \"sticker\", \"pennsylvania\", \"shelden\", \"idea\", \"polic\", \"shoot\", \"blackmattersus\", \"offic\", \"reveal\", \"anderson\", \"betti_shelbi\", \"terranc_kellom\", \"garner\", \"tulsa_counti\", \"staten_island\", \"hall_lie\", \"offic_sherri\", \"wednesday_possess\", \"york_citi\", \"york\", \"keith_lamont\", \"place\", \"weapon_report\", \"jeff_davi\", \"warrant\", \"deputi\", \"chief_cajon\", \"sheriff\", \"mitchel_quinn\", \"solidar_octob\", \"obama\", \"disclos\", \"excess_forc\", \"street_staten\", \"island\", \"pay_horribl\", \"danger_eric\", \"citi_breath\", \"price_realiz\", \"unaccept\", \"suspect\", \"etha\", \"herjoin\", \"justin\", \"record\", \"green\", \"similar\", \"stand\", \"investig_disclos\", \"expos\", \"meet\", \"creat\", \"dalla\", \"servic\", \"eric_garner\", \"apart_complex\", \"visit\", \"alabama\", \"forc\", \"honor\", \"high\", \"admit\", \"affect\", \"welfar\", \"agenc\", \"audit\", \"tie\", \"recipi\", \"option\", \"invari\", \"deport\", \"avail\", \"brief\", \"primari\", \"citizenship\", \"justif\", \"amount\", \"death\", \"america\", \"go\", \"work\", \"problem\", \"hard\", \"star\", \"male\", \"skin_color\", \"sourc\", \"teacher\", \"unfortun\", \"percent\", \"determin\", \"portman\", \"natali\", \"pennsylvania\", \"money\", \"coal\", \"miner\", \"wage\", \"hollywood\", \"gender\", \"signific\", \"locat\", \"remov\", \"illeg\", \"thousand\", \"patriot\", \"islam\", \"clay\", \"celebro\", \"produc\", \"harrisburg\", \"groceri\", \"florida\", \"dentist\", \"steel\", \"doctor\", \"philadelphia\", \"eri\", \"elabor\", \"mine\", \"mechan\", \"vehicl\", \"enterpris\", \"secur_border\", \"current\", \"harm\", \"lobbyist\", \"lumber\", \"divers\", \"class\", \"note\", \"propaganda\", \"insur\", \"altern\", \"success\", \"plaza\", \"aren\", \"job\", \"energi\", \"industri\", \"pursu\", \"creat_job\", \"creat\", \"owe\", \"suggest\", \"subsid\", \"ten\", \"marconi\", \"twitter\", \"pittsburg\", \"million\", \"philli\", \"goal\", \"burn\", \"instagram\", \"terror\", \"deport\", \"chariot\", \"citizenship\", \"scranton\", \"join\", \"group\", \"seif_defens\", \"best\", \"prioriti\", \"societi\", \"worth\", \"hallelujah\", \"denomin_christian\", \"post\", \"event_bring\", \"friend_feel\", \"organ_donat\", \"basi\", \"class\", \"safe\", \"safe_miss\", \"opportun_train\", \"coach_enjoy\", \"nativ\", \"amend\", \"class_tampa\", \"bold_truth\", \"mission_tell\", \"church\", \"admir_nativ\", \"secur_border\", \"latest_news\", \"snake\", \"mouth\", \"inequ_injustic\", \"radic\", \"live\", \"bein\", \"patriot\", \"cultur\", \"blackluiv\", \"extemist\", \"islam\", \"muslim\", \"sandra\", \"bland\", \"thousand\", \"blacksforchrist\", \"christfanat\", \"iiveforchrist\", \"iov\", \"arrest\", \"rise\", \"octob\", \"list\", \"citi\", \"depart\", \"incid\", \"point\", \"improv\", \"hear\", \"donat\", \"absolut\", \"child\", \"confirm\", \"origin\", \"train\", \"duti\", \"light\", \"attempt\", \"statement\", \"tear\", \"wit\", \"rage\", \"conduct\", \"urg\", \"resist\", \"hop\", \"head\", \"propos\", \"concern\", \"take\", \"releas\", \"protest\", \"hate\", \"organ\", \"ralli\", \"futur\", \"charlott\", \"march\", \"violenc\", \"celebr\", \"host\", \"water\", \"park\", \"event\", \"demonstr\", \"opposit\", \"saturday\", \"page_dedic\", \"sexual\", \"parad\", \"klan\", \"scar\", \"snack\", \"perform\", \"north_carolina\", \"marshal\", \"decemb\", \"beyonc\\u00e9\", \"garner\", \"eric_garner\", \"number\", \"staten_island\", \"stand\", \"uniti\", \"sandra\", \"flag\", \"york\", \"bland\", \"illeg_immigr\", \"coal\", \"meet\", \"york_citi\", \"island\", \"religi\", \"creat\", \"miner\", \"creat_job\", \"song\", \"somebodi\", \"follow\", \"share\", \"show\", \"learn\", \"offic_jason\", \"smith\", \"loui\", \"popular\", \"self\", \"captur\", \"camera\", \"proper\", \"opinion\", \"stockley_plant\", \"killer_catch\", \"stockley_loui\", \"revel_pop\", \"anthoni_lamar\", \"http\", \"click\", \"releas\", \"despit_fact\", \"interact\", \"gather\", \"video\", \"kill\", \"fatal\", \"perform\", \"instagram\", \"beyonc\\u00e9\", \"jimmi\", \"fallon\", \"sentenc\", \"patriot\", \"account\", \"instead\", \"veteran\", \"film\", \"racial\", \"innoc\", \"heart\", \"like\", \"stori\", \"beat\", \"runaway_slave\", \"pierc\", \"subscrib\", \"hour\", \"decad_centuri\", \"day\", \"week\", \"count\", \"weird\", \"subcrib\", \"base\", \"discrimin\", \"hell\", \"bori\", \"kodjo\", \"fine\", \"idea_valu\", \"instagram\", \"newest\", \"answer\", \"canker\", \"instotus\", \"loss\", \"awar\", \"illeg_immigr\", \"patriot\", \"hat\", \"imageri\", \"johnson\", \"wildfir\", \"exclus\", \"press\", \"scuffl\", \"stranger\", \"terr\", \"bloodi\", \"biggest\", \"link\", \"short\", \"place\", \"veteran\", \"trial\", \"cloth\", \"interest\", \"way\", \"unabl\", \"sake\", \"district\", \"funnylnst\", \"rock\", \"cost\", \"museum\", \"serena\", \"deserv\", \"main\", \"blaok\", \"south_lone_star\", \"philadelphia\", \"pay\", \"biack\", \"coal\", \"border\", \"robert\", \"news_analysi\", \"account\", \"attend\", \"twitter\", \"mexican\", \"middl_east\", \"strengthen\", \"hampton\", \"sterl\", \"locat\", \"obama\", \"equal\", \"homeless\", \"reach\", \"speak\", \"human\", \"boundari\", \"geograph\", \"panafrican_africanandproud\", \"knowledgeofself_whiteliesmatt\", \"educ_africanun\", \"cooper\", \"blackpow_amerikkka\", \"leon_ford\", \"toler\", \"juvenil\", \"high\", \"jerom\", \"remov\", \"obstacl\", \"circl\", \"crimin\", \"cultur\", \"syria\", \"littl\", \"felt\", \"honor\", \"orlean\", \"race\", \"blackexcel\", \"money\", \"brave\", \"nativ\", \"execut\", \"success\", \"particip\", \"rape\", \"jerom_skee\", \"sentenc\", \"polici\", \"jerom_smith\", \"amend\", \"king\", \"qualifi\", \"affect\", \"fanat\", \"tie\", \"welfar\", \"consensus\", \"miner\", \"school\", \"student\", \"memori\", \"hold\", \"case\", \"institut_racism\", \"begin\", \"slam\", \"univers_north\", \"dakota_mockeri\", \"dark\", \"skin\", \"push\", \"motorist\", \"take\", \"high\", \"imag_fake\", \"post_snapchat\", \"offici_highland\", \"license_hunt\", \"investig_bizarr\", \"freddi_gray\", \"hunt\", \"boot\", \"indiana\", \"nero_second\", \"month_edward\", \"juri\", \"ident\", \"unlaw\", \"brown\", \"compens\", \"univers\", \"warrant\", \"eric_garner\", \"anniversari\", \"juli\", \"manvill\", \"hillari_clinton\", \"terranc_kellom\", \"obama\", \"invari\", \"separ\", \"deport\", \"pacif\", \"uphold\", \"theirfamili\", \"nation\", \"girl\", \"wake\", \"start\", \"root\", \"ancestor\", \"seven\", \"couldn\", \"definit\", \"earth\", \"take\", \"place\", \"garner\", \"breakingnew_goal\", \"westandtogeth\", \"staten_island\", \"spotifi\", \"wewillsurv_organ\", \"melaninqueen_dope\", \"melanin_blackgirlmag\", \"beauti_wakeup\", \"nativ\", \"secur_border\", \"journey\", \"epiclloyd\", \"epic\", \"season\", \"blackahdproud_democrat\", \"nice\", \"republicah_africanamerican\", \"peter\", \"rememb\", \"creat\", \"final\", \"york_citi\", \"island\", \"fine\", \"danger_eric\", \"natur\", \"unaccept\", \"york\", \"adopt\", \"africa\", \"custom\", \"hell\", \"citi_breath\", \"barack_obama\", \"stand\", \"youtub\", \"bright\", \"magic\", \"pay_horribl\", \"street_staten\", \"price_realiz\", \"solidar_octob\", \"servic\", \"nefert\", \"educ_africanun\", \"luck\", \"icantbreath\", \"blackpow_amerikkka\", \"blacklov_justiceorels\", \"blacklov\", \"popul\", \"tribe\", \"reject\", \"indiana\", \"extend\", \"anniversari\", \"land\", \"award\", \"deport\", \"wear\", \"dynasti\", \"member_lgbt\", \"sarah\", \"blackandproud_blackprid\", \"blackexcel_goal\", \"problack_regrann\", \"answer\", \"knowledg\", \"xhosa\", \"speak_fellow\", \"wash\", \"panafrican_africanandproud\", \"shore\", \"fresh\", \"tradit\", \"excel\", \"weapon\", \"deserv\", \"freckl\", \"blackprid\", \"blackprideus\", \"pretti\", \"gold\", \"extremist\", \"rig\", \"english\", \"shade\", \"south\", \"appreci\", \"smile\", \"blackandproud\", \"creat_job\", \"abl\", \"channel\", \"film\", \"royal\", \"radic\", \"gene\", \"brave\", \"littl\", \"base\", \"twitter\", \"meet\", \"situat\", \"interior\", \"revenu\", \"justif\", \"similar\", \"sensit\", \"fascin\", \"hillari_clinton\", \"high\", \"babi\", \"mexican\", \"phone\", \"eric_garner\", \"white\", \"racism\", \"comment\", \"racist\", \"teen\", \"rap\", \"disgust\", \"circul_internet\", \"marin_suspend\", \"steve_cleveng\", \"seattl_marin\", \"place_catcher\", \"indefinit_suspens\", \"culpabl\", \"basebal_team\", \"rape_helpless\", \"teen_shameless\", \"show_unidentifi\", \"video\", \"supremacist\", \"twitter\", \"investig_bizarr\", \"imag_fake\", \"post_snapchat\", \"share_facebookshar\", \"license_hunt\", \"offici_highland\", \"jail\", \"mission_tell\", \"bold_truth\", \"high\", \"journey\", \"nativ\", \"alabama\", \"mouth\", \"dudeer_dudeer\", \"snake\", \"numer\", \"boot\", \"hunt\", \"privileg\", \"propaganda\", \"heritag\", \"cultur\", \"south\", \"place\", \"movi\", \"polici\", \"monday\", \"shaq\", \"uziogw\", \"brooklyn\", \"interest\", \"role\", \"flag\", \"shaquill\", \"neal\", \"defend\", \"one\", \"real\", \"father\", \"month\", \"foundat\", \"see\", \"shirt\", \"wife\", \"struggl\", \"hand\", \"store\", \"mental\", \"alfr_olango\", \"reform\", \"cajon\", \"good\", \"set\", \"movi\", \"worst\", \"twitter\", \"share_facebookshar\", \"south\", \"armi_jesus\", \"snake\", \"money\", \"mouth\", \"terranc_kellom\", \"dudeer_dudeer\", \"dudetub\", \"brave\", \"photoshop\", \"pay\", \"veteran\", \"offic_sherri\", \"forc\", \"eric_garner\", \"yoyoyoyoyo\", \"hall_lie\", \"smoke\", \"faith\", \"holi\", \"soldier\", \"pass\", \"ador\", \"foreign\", \"click_learn\", \"honor\", \"enemi\", \"stand\", \"islam\", \"oakland\", \"earlier\", \"diseas\", \"chief\", \"women\", \"cop\", \"better\", \"woman\", \"recent\", \"california\", \"michell\", \"blackexcel\", \"perform\", \"patient\", \"apolog\", \"beyonc\\u00e9\", \"counti\", \"blind\", \"idea\", \"panafrican_africanandproud\", \"realiz\", \"dali\", \"diseas\", \"toni\", \"divers\", \"canker\", \"indiana\", \"race\", \"suspici\", \"intern\", \"problack_regrann\", \"techniqu\", \"especi\", \"manag\", \"blacklhamerica_knowthyself\", \"disrespect\", \"attent\", \"hansberri\", \"sheila\", \"background\", \"abdus\", \"steal\", \"univers\", \"homicid\", \"statu\", \"plead\", \"divid\", \"crazi\", \"boycott\", \"amnesti\", \"song\", \"harri\", \"bomb_syria\", \"suppress\", \"meet\", \"salaam\", \"loss\", \"wait\", \"disapprov\", \"favor\", \"huge\", \"hurt\", \"valu\", \"chapter\", \"singer\", \"compens\", \"june\", \"unfair\", \"pension\", \"urban\", \"irma\", \"inhabit\", \"blaokandproud\", \"justiceorels_problack\", \"play\", \"bench\", \"mexican\", \"biochemist\", \"strength\", \"hilton\", \"juri\", \"juli\", \"angel\", \"unlaw\", \"inspir\", \"still\", \"oakland\", \"pride\", \"panther\", \"nowaday\", \"ethnic\", \"weak\", \"will\", \"mecklenburg\", \"vote_breakingnew\", \"tarnish\", \"afrioanamerican\", \"result\", \"profit\", \"banana\", \"equal\", \"flint\", \"hang\", \"lead\", \"biackinamerica\", \"justio\", \"panther_parti\", \"huey_newton\", \"found\", \"labor\", \"land\", \"chicana\", \"confront\", \"blacklov_justiceorels\", \"blackpow_amerikkka\", \"splendora\", \"revolut\", \"alongsid\", \"gangster\", \"blackandproud_blackprid\", \"latino\", \"tupac\", \"educ_africanun\", \"collegi\", \"peyton\", \"man\", \"late\", \"introduct\", \"strategi\", \"feroci\", \"fan\", \"elway\", \"primari\", \"captiv\", \"queer\", \"indigen\", \"eboni\", \"centuri\", \"yorkjudg\", \"knowthyself_knowledgeofself\", \"kitchen\", \"succeed\", \"vile\", \"amaz\", \"anniversari\", \"effici\", \"decreas\", \"bobbi\", \"limit\", \"malvo\", \"moesha\", \"niro\", \"poetic\", \"ricki\", \"simpson\", \"award\", \"attract\", \"whiteliesmatt_educ\", \"blade\", \"deport\", \"daddi\", \"worldwid\", \"patrol\", \"flexibl\", \"wrestler\", \"specul\", \"sorri\", \"previous\", \"revenu\", \"rush\", \"happier\", \"end\", \"hacker\", \"effect\", \"hole\", \"inform\", \"coverag\", \"interior\", \"liabl\", \"stand\", \"chines\", \"pipelin\", \"privileg\", \"regulatori\", \"commiss\", \"china\", \"brief\", \"avail\", \"sensit\", \"sheamoistur\", \"system\", \"insur\", \"recipi\", \"januari\", \"tie\", \"welfar\", \"affect\", \"agenc\", \"invari\", \"audit\", \"romant\", \"choke\", \"systemat\", \"ladi\", \"indiffer\", \"founder\", \"half\", \"border\", \"polici\", \"ramsey\", \"slaveri\", \"franchesca\", \"comedi\", \"role\", \"hall\", \"apologis\", \"badass\", \"adelita\", \"monday\", \"central\", \"regard\", \"sexi\", \"matt\", \"athlet\", \"audienc\", \"redefin\", \"network\", \"personnel\", \"construct\", \"credenti\", \"mimic\", \"energi\", \"exchang\", \"electron\", \"classifi\", \"option\", \"separ\", \"citizenship\", \"loophol\", \"qualifi\", \"fanat\", \"inevit\", \"footnot\", \"consensus\", \"amount\", \"bucket\", \"husband\", \"rock\", \"selena\", \"shop\", \"behavior\", \"hatr\", \"blackprid_blackpow\", \"erica\", \"deeman\", \"holywood\", \"facial\", \"correl\", \"later\", \"saldana\", \"morn\", \"truli\", \"cours\", \"jackson\", \"odd\", \"qualiti\", \"critic\", \"digit\", \"chariot\", \"weaken\", \"uphold\", \"stag\", \"theirfamili\", \"ryukyu\", \"proxim\", \"couplesh\", \"offens\", \"appli\", \"loos\", \"mountain\", \"naacp\", \"south_carolina\", \"pervert\", \"inheritag\", \"statehous\", \"stone\", \"symbol\", \"tail\", \"admiss\", \"benefit\", \"ground\", \"great\", \"polit\", \"photo\", \"oppress\", \"send\", \"licens\", \"court\", \"judg\", \"guess\", \"ancient\", \"messag\", \"attorney\", \"prosecutor\", \"belief\", \"jerom\", \"block\", \"dynasti\", \"hillari_clinton\", \"principl_lay\", \"presidenti_ballot\", \"core_democrat\", \"polit_breach\", \"dynast_success\", \"coupl\", \"condemn\", \"transgend\", \"misti\", \"disqualifi\", \"disavow\", \"oglala\", \"found_father\", \"religi\", \"lakota\", \"sentenc\", \"orlean\", \"remov\", \"feder\", \"hous\", \"mean\", \"thousand\", \"high\", \"stand\", \"deport\", \"citizenship\", \"invari\", \"option\", \"recipi\", \"tie\", \"welfar\", \"affect\", \"chariot\", \"weaken\", \"uphold\", \"theirfamili\", \"agenc\", \"qualifi\", \"separ\", \"today\", \"thing\", \"care\", \"wast\", \"food\", \"king_queen\", \"wouldn\", \"dress\", \"melanet\", \"healthi\", \"critic\", \"silenc\", \"moment\", \"veteran\", \"outrag\", \"sheep\", \"save\", \"wale\", \"understand\", \"vet\", \"spotifi\", \"affair\", \"abl\", \"widespread\", \"await\", \"trust\", \"brexit\", \"wear\", \"hundr\", \"horribl\", \"shelter\", \"stereotyp\", \"muslim\", \"journey\", \"benefit\", \"reckon\", \"enjoy\", \"threat\", \"instalol\", \"trend\", \"spit\", \"receiv\", \"worri\", \"servic\", \"blind\", \"answer\", \"obama\", \"health\", \"accept\", \"statist\", \"idiot\", \"spend_stat\", \"cloth\", \"barack_obama\", \"forbid\", \"syrian\", \"divers\", \"creat\", \"stranger\", \"constitut\", \"unaccept\", \"mean\", \"patriot\", \"thousand\", \"develop\", \"nativ\", \"twitter\", \"blackexcel\", \"million\", \"custom\", \"cultur\", \"hillari_clinton\", \"high\", \"creat_job\", \"phone\", \"stay\", \"texa\", \"page\", \"wake_ding\", \"ift\", \"islam\", \"shift\", \"odd\", \"slowli\", \"lord\", \"newest\", \"rest\", \"jesus\", \"christ\", \"step\", \"christian\", \"seced\", \"prevent\", \"stronger\", \"ident\", \"washingtonl\", \"conserv\", \"clone\", \"conscious\", \"ideolog\", \"illeg\", \"independ\", \"touch\", \"amnesti\", \"border\", \"illeg_alien\", \"previous\", \"south_lone_star\", \"cours\", \"deport\", \"argument\", \"agent\", \"latest_news\", \"traffick\", \"promis\", \"sneak\", \"newsblog\", \"rape\", \"patrol\", \"obama\", \"degre\", \"drug\", \"convict\", \"inform\", \"polici\", \"wait\", \"selena\", \"search\", \"small\", \"welcom\", \"hondura\", \"dealer\", \"thank\", \"human\", \"brief\", \"tie\", \"affect\", \"time\", \"beauti\", \"biack_own\", \"earn\", \"surpris\", \"poor\", \"credit\", \"suppos\", \"dapper\", \"invest\", \"natali\", \"portman\", \"misti\", \"own_busi\", \"mission\", \"primari\", \"wage\", \"signific\", \"encourag\", \"gender\", \"hollywood\", \"ballerina\", \"founder\", \"interview\", \"thank\", \"money\", \"steve_harvey\", \"misti_copeland\", \"excel\", \"celebro\", \"understand\", \"inspir\", \"shade\", \"bank\", \"biack\", \"imposs\", \"danc_ballet\", \"occup\", \"standard\", \"blacklhamerica_knowthyself\", \"touch\", \"greatest\", \"symbol\", \"magnific\", \"centuri\", \"absent\", \"request\", \"eyelash\", \"obama\", \"mack\", \"lwant\", \"justiceorels_probiack\", \"daniel\", \"blackandproud_blackprid\", \"niro\", \"declar\", \"disturb\", \"chef\", \"malvo\", \"hurt\", \"chapter\", \"moesha\", \"simpson\", \"tupac\", \"twin\", \"realiz\", \"meaning\", \"pride\", \"goal\", \"viral\", \"stand\", \"bush\", \"corin\", \"monday\", \"tougher\", \"tobacco\", \"recipi\", \"poetic\", \"race\", \"bless\", \"brave\", \"navi\", \"brilliant\", \"smile\", \"gestur\", \"bravo\", \"commandership\", \"troop\", \"chap\", \"element\", \"ador\", \"republicah_africanamerican\", \"repost\", \"link\", \"funnylnst\", \"sea\", \"sailor\", \"sail\", \"overlord\", \"ocean\", \"forev\", \"boy\", \"ship\", \"grandfath\", \"selfless\", \"europ\", \"blackahdproud_democrat\", \"grate\", \"littl\", \"shore\", \"enemi\", \"breakingnew_goal\", \"familia\", \"westandtogeth\", \"formal\", \"glori\", \"special\", \"wisdom\", \"ifought\", \"older\", \"constitut\", \"humbl\", \"figur\", \"elementari\", \"okinawa\", \"sibl\", \"faster\", \"chao\", \"generat\", \"land\", \"africaunit\", \"key\", \"obstacl\", \"valu\", \"pray\", \"liabl\", \"electron\", \"energi\", \"exchang\", \"hacker\", \"hole\", \"inform\", \"interior\", \"primari\", \"digit\", \"mimic\", \"network\", \"personnel\", \"pipelin\", \"privileg\", \"regulatori\", \"revenu\", \"manag\", \"critic\", \"citizenship\", \"credenti\", \"invari\", \"option\", \"recipi\", \"tie\", \"welfar\", \"affect\", \"agenc\", \"audit\", \"chines\", \"avail\", \"brief\", \"china\", \"commiss\", \"construct\", \"classifi\", \"favor\", \"footnot\", \"inevit\", \"justif\", \"loophol\", \"nomin\", \"qualifi\", \"separ\", \"career\", \"sorri\", \"hullum\", \"ladi\", \"market\", \"masculin\", \"matt\", \"previous\", \"specul\", \"contradict\", \"wrestler\", \"band\", \"bushwick\", \"evolv\", \"flexibl\", \"garden\", \"lot\", \"freeli\", \"combin\", \"redefin\", \"keisl\", \"coverag\", \"effect\", \"end\", \"happier\", \"insur\", \"januari\", \"mara\", \"cage\", \"rush\", \"sensit\", \"similar\", \"siphon\", \"storag\", \"system\", \"theirfamili\", \"uphold\", \"weaken\", \"chariot\", \"deport\", \"fanat\", \"stag\", \"amount\", \"bucket\", \"consensus\", \"product\", \"ryukyu\", \"pacif\", \"proxim\", \"offens\", \"fat\", \"folk\", \"ground\", \"inherit\", \"inheritag\", \"loos\", \"mountain\", \"naacp\", \"pervert\", \"hotb\", \"south_carolina\", \"statehous\", \"stone\", \"symbol\", \"tail\", \"admiss\", \"databas\", \"fill\", \"display\", \"delet\", \"confederaci\", \"confeder\", \"penal\", \"plan\", \"pledg\", \"ridicul\", \"throw\", \"access\"], \"Total\": [1943.0, 654.0, 904.0, 774.0, 605.0, 451.0, 593.0, 635.0, 558.0, 421.0, 647.0, 472.0, 290.0, 443.0, 386.0, 325.0, 265.0, 205.0, 333.0, 249.0, 297.0, 199.0, 199.0, 282.0, 252.0, 314.0, 299.0, 222.0, 271.0, 316.0, 647.43408203125, 443.75518798828125, 316.3372802734375, 300.33123779296875, 230.2445526123047, 165.77865600585938, 163.7877197265625, 141.8982696533203, 106.98416137695312, 102.56316375732422, 91.13504028320312, 89.35041809082031, 88.3648910522461, 83.80157470703125, 78.65337371826172, 77.09439849853516, 69.04373168945312, 60.41799545288086, 57.397613525390625, 56.507850646972656, 55.7651252746582, 54.323028564453125, 53.6348991394043, 52.62430191040039, 51.443817138671875, 51.37786102294922, 50.252986907958984, 47.05022430419922, 44.37287139892578, 43.07457733154297, 236.0681915283203, 144.4370574951172, 116.48848724365234, 314.7021484375, 228.50450134277344, 190.05470275878906, 175.3741455078125, 149.22158813476562, 108.30256652832031, 90.48265075683594, 83.36022186279297, 82.60819244384766, 77.28465270996094, 77.25897216796875, 75.15291595458984, 74.03076171875, 73.50324249267578, 72.28203582763672, 69.06358337402344, 67.82354736328125, 67.61302185058594, 67.41632843017578, 67.01349639892578, 62.578460693359375, 54.75870895385742, 54.669559478759766, 48.0887565612793, 45.52891540527344, 43.135704040527344, 39.21022033691406, 37.01097869873047, 35.5051155090332, 34.376670837402344, 42.960472106933594, 62.4168701171875, 182.93771362304688, 904.7169799804688, 333.3537292480469, 248.1613006591797, 223.0661163330078, 176.3446044921875, 149.4882354736328, 139.9558868408203, 125.0894775390625, 118.567138671875, 86.20868682861328, 63.42067337036133, 62.651981353759766, 386.8913879394531, 55.49702453613281, 50.87936019897461, 48.6542854309082, 33.2672119140625, 30.845352172851562, 27.904563903808594, 27.05483627319336, 24.06020164489746, 23.067657470703125, 15.428383827209473, 14.709997177124023, 10.64319133758545, 7.944202423095703, 53.86703872680664, 1.4786198139190674, 1.4786198139190674, 1.4786198139190674, 1.4786217212677002, 451.5526428222656, 1.4786202907562256, 1943.7188720703125, 635.5928344726562, 299.50225830078125, 212.32797241210938, 140.45315551757812, 59.71406936645508, 43.77738952636719, 23.39109230041504, 19.052631378173828, 9.575582504272461, 1.981378436088562, 1.4786189794540405, 1.4786196947097778, 1.4786192178726196, 1.4786194562911987, 1.4786192178726196, 1.4786192178726196, 1.4786189794540405, 1.4786189794540405, 1.4786189794540405, 1.4786187410354614, 1.4786187410354614, 1.4786196947097778, 1.4786187410354614, 1.4786189794540405, 1.4786189794540405, 1.4786187410354614, 1.4786189794540405, 1.4786187410354614, 1.4786192178726196, 1.47861909866333, 1.4786189794540405, 1.4786196947097778, 1.4786192178726196, 1.4786192178726196, 1.4786189794540405, 1.4786189794540405, 1.4786192178726196, 1.4786192178726196, 1.4786205291748047, 1.4786192178726196, 1.4786189794540405, 1.4786192178726196, 1.4786192178726196, 1.4786189794540405, 1.4786194562911987, 1.4786189794540405, 1.4786194562911987, 1.4786193370819092, 1.4786193370819092, 1.4786194562911987, 1.4786192178726196, 1.4786194562911987, 1.4786192178726196, 1.4786189794540405, 1.4786193370819092, 1.4786192178726196, 1.4786217212677002, 1.4786192178726196, 1.4786194562911987, 1.4786204099655151, 1.4786200523376465, 1.4786187410354614, 1.4786187410354614, 1.4786192178726196, 1.4786200523376465, 1.4786187410354614, 1.4786187410354614, 1.4786187410354614, 1.4786187410354614, 1.4786189794540405, 1.4786202907562256, 1.4786187410354614, 1.4786189794540405, 1.4786189794540405, 1.4786189794540405, 1.4786189794540405, 1.4786187410354614, 1.4786187410354614, 1.4786189794540405, 1.4786195755004883, 1.4786195755004883, 1.4786195755004883, 1.4786207675933838, 1.4786202907562256, 774.8573608398438, 1.478620171546936, 1.4786200523376465, 774.8573608398438, 472.2452392578125, 214.14874267578125, 173.5476531982422, 128.0389404296875, 112.92398834228516, 70.57012176513672, 63.600704193115234, 57.70771026611328, 56.363712310791016, 45.223052978515625, 41.52970504760742, 41.13591003417969, 35.411407470703125, 35.07756805419922, 32.499671936035156, 31.26715087890625, 27.757436752319336, 26.30950355529785, 23.619731903076172, 154.2938690185547, 22.7386531829834, 21.681148529052734, 19.866548538208008, 19.310606002807617, 18.44855308532715, 17.006149291992188, 15.658817291259766, 15.622232437133789, 14.009175300598145, 159.99374389648438, 558.0634765625, 325.2817687988281, 297.78369140625, 282.84661865234375, 206.3106231689453, 170.82655334472656, 174.07810974121094, 104.6369400024414, 103.91717529296875, 66.2914810180664, 40.96601486206055, 39.04716110229492, 34.69972229003906, 22.666227340698242, 22.5654354095459, 21.586957931518555, 16.868005752563477, 14.344156265258789, 10.54550838470459, 8.955159187316895, 6.464879512786865, 4.095273017883301, 3.3697092533111572, 3.0095083713531494, 2.1134212017059326, 1.4786217212677002, 1.478619933128357, 1.478619933128357, 1.4786194562911987, 1.4786194562911987, 159.99374389648438, 1.4786195755004883, 1.4786195755004883, 1.4786195755004883, 1.4786195755004883, 1.4786200523376465, 1.4786202907562256, 1.478620171546936, 1.4786204099655151, 1.4786200523376465, 1.4786198139190674, 593.006103515625, 209.5380401611328, 150.3560333251953, 125.94515991210938, 124.27969360351562, 109.45653533935547, 108.27965545654297, 90.82862091064453, 78.83892059326172, 76.70101165771484, 68.19066619873047, 63.80111312866211, 54.23424530029297, 32.7922477722168, 31.441608428955078, 31.061063766479492, 29.30394172668457, 27.25278091430664, 26.070110321044922, 21.187786102294922, 20.202659606933594, 20.08971405029297, 15.287199020385742, 14.037993431091309, 9.95130443572998, 130.65415954589844, 9.877972602844238, 9.534453392028809, 8.801447868347168, 8.227410316467285, 252.435546875, 210.36587524414062, 182.49252319335938, 140.24061584472656, 101.88607025146484, 85.44457244873047, 84.01213073730469, 67.1582260131836, 67.08698272705078, 48.757080078125, 41.737937927246094, 38.891204833984375, 36.13735580444336, 34.51202392578125, 34.51202392578125, 34.51202392578125, 34.51202392578125, 34.51202392578125, 34.028289794921875, 30.144651412963867, 28.21885871887207, 27.4960994720459, 25.767459869384766, 25.101694107055664, 18.285961151123047, 8.01575756072998, 7.215750217437744, 4.498044013977051, 3.747645139694214, 271.0230407714844, 130.65415954589844, 249.77345275878906, 222.06826782226562, 196.66323852539062, 159.27532958984375, 102.93215942382812, 88.88854217529297, 84.22834014892578, 74.67915344238281, 53.05684280395508, 45.692909240722656, 40.686607360839844, 31.561565399169922, 31.394672393798828, 26.21729278564453, 22.161640167236328, 14.349185943603516, 14.349185943603516, 4.875667095184326, 4.124094009399414, 1.4786196947097778, 1.4786211252212524, 1.4786202907562256, 1.4786192178726196, 1.4786189794540405, 1.4786192178726196, 1.4786189794540405, 1.4786194562911987, 1.4786189794540405, 1.4786194562911987, 1.4786189794540405, 1.4786189794540405, 1.4786187410354614, 1.4786189794540405, 1.4786194562911987, 1.4786192178726196, 1.4786192178726196, 1.4786192178726196, 1.4786200523376465, 1.4786204099655151, 1.478619933128357, 1.4786192178726196, 1.4786189794540405, 1.4786189794540405, 1.4786192178726196, 1.4786192178726196, 1.4786192178726196, 1.4786200523376465, 1.478620171546936, 1.4786189794540405, 1.4786200523376465, 1.4786194562911987, 1.4786217212677002, 1.4786192178726196, 1.478618860244751, 1.4786187410354614, 1.4786187410354614, 1.478619933128357, 1.4786187410354614, 1.4786192178726196, 605.6688842773438, 290.8583679199219, 265.47528076171875, 197.51495361328125, 31.86315155029297, 3.3474314212799072, 1.4786192178726196, 1.4786194562911987, 1.4786194562911987, 1.4786189794540405, 1.4786194562911987, 1.4786189794540405, 1.4786189794540405, 1.4786187410354614, 1.4786192178726196, 1.4786192178726196, 1.4786189794540405, 1.4786207675933838, 1.4786187410354614, 1.4786187410354614, 1.4786189794540405, 1.4786187410354614, 1.4786187410354614, 1.4786187410354614, 1.4786189794540405, 1.4786192178726196, 1.4786196947097778, 1.4786187410354614, 1.4786187410354614, 1.4786192178726196, 1.4786192178726196, 1.4786192178726196, 1.4786192178726196, 1.4786192178726196, 1.4786192178726196, 1.4786192178726196, 1.4786187410354614, 1.4786187410354614, 1.4786187410354614, 1.4786187410354614, 1.4786189794540405, 1.4786189794540405, 1.4786189794540405, 1.4786205291748047, 1.4786189794540405, 1.4786189794540405, 1.4786196947097778, 1.478620171546936, 1.478618860244751, 1.4786193370819092, 1.4786194562911987, 1.4786189794540405, 1.4786189794540405, 1.47861909866333, 1.4786195755004883, 1.4786196947097778, 1.4786200523376465, 1.4786187410354614, 1.4786189794540405, 1.4786189794540405, 1.4786187410354614, 1.4786187410354614, 1.4786187410354614, 1.4786187410354614, 1.4786189794540405, 1.4786187410354614, 1.4786192178726196, 1.4786187410354614, 1.4786187410354614, 1.4786187410354614, 1.4786187410354614, 1.4786187410354614, 1.4786187410354614, 141.8982696533203, 421.03265380859375, 163.0832977294922, 138.0119171142578, 91.17906188964844, 66.33760833740234, 60.083343505859375, 29.08492660522461, 28.519651412963867, 24.820669174194336, 23.166763305664062, 21.23587989807129, 13.134827613830566, 11.633642196655273, 1.4786189794540405, 1.4786189794540405, 1.478619933128357, 1.4786200523376465, 1.4786194562911987, 1.4786194562911987, 1.4786189794540405, 1.4786189794540405, 1.4786189794540405, 1.4786189794540405, 1.4786192178726196, 1.478620171546936, 1.4786192178726196, 1.4786193370819092, 1.4786200523376465, 1.4786202907562256, 1.4786189794540405, 1.4786187410354614, 1.4786189794540405, 1.4786189794540405, 1.4786189794540405, 1.4786192178726196, 1.4786189794540405, 1.4786189794540405, 1.4786192178726196, 1.4786192178726196, 1.4786189794540405, 1.4786189794540405, 1.4786189794540405, 1.4786189794540405, 1.4786189794540405, 1.4786189794540405, 1.4786192178726196, 1.47861909866333, 1.4786189794540405, 1.4786189794540405, 1.4786189794540405, 1.4786192178726196, 1.4786196947097778, 1.4786189794540405, 1.47861909866333, 1.4786189794540405, 1.4786189794540405, 1.4786194562911987, 1.4786189794540405, 1.4786189794540405, 1.4786189794540405, 1.4786189794540405, 1.4786189794540405, 1.4786189794540405, 1.4786194562911987, 1.478620171546936, 1.4786189794540405, 1.4786189794540405, 1.4786189794540405, 1.4786189794540405, 1.4786189794540405, 1.4786198139190674, 1.4786189794540405, 1.4786198139190674, 1.4786189794540405, 1.4786194562911987, 1.4786189794540405, 1.4786192178726196, 1.4786196947097778, 1.4786192178726196, 1.4786187410354614, 1.4786187410354614, 1.4786189794540405, 654.619873046875, 116.32500457763672, 94.85263061523438, 74.97957611083984, 63.310813903808594, 33.08849334716797, 22.95427703857422, 22.332107543945312, 13.99837875366211, 12.433682441711426, 1.4786196947097778, 1.4786196947097778, 1.4786194562911987, 1.478619933128357, 1.4786196947097778, 1.4786195755004883, 1.4786189794540405, 1.4786189794540405, 1.4786189794540405, 1.4786202907562256, 1.4786196947097778, 1.4786187410354614, 1.4786189794540405, 1.4786189794540405, 1.4786192178726196, 1.4786189794540405, 1.4786192178726196, 1.4786194562911987, 1.4786189794540405, 1.4786189794540405, 1.4786187410354614, 1.4786192178726196, 386.8913879394531, 1.4786187410354614, 1.4786200523376465, 1.4786204099655151, 1.4786187410354614, 1.4786187410354614, 1.4786202907562256, 1.4786217212677002, 1.4786187410354614, 1.4786187410354614, 1.4786193370819092, 1.4786187410354614, 1.4786187410354614, 1.4786187410354614, 1.4786187410354614, 82.8222427368164, 74.36459350585938, 74.32408142089844, 72.22824096679688, 71.05675506591797, 68.2595443725586, 53.66822052001953, 48.81974792480469, 38.199398040771484, 37.76022720336914, 36.16516876220703, 34.196922302246094, 33.35407257080078, 27.529571533203125, 25.95748519897461, 24.880107879638672, 24.684823989868164, 18.831558227539062, 16.772682189941406, 15.0762939453125, 14.532572746276855, 13.021029472351074, 12.572182655334473, 11.679279327392578, 10.76760196685791, 8.218659400939941, 7.904383659362793, 6.1815409660339355, 6.0448431968688965, 5.327105522155762, 133.36680603027344, 69.74449920654297, 111.96749114990234, 93.79841613769531, 90.62617492675781, 86.14781951904297, 66.3176498413086, 65.30740356445312, 62.935829162597656, 56.655025482177734, 55.64443588256836, 44.221893310546875, 27.178049087524414, 26.536760330200195, 26.060636520385742, 23.63506507873535, 23.287473678588867, 19.37599754333496, 19.327028274536133, 15.1805419921875, 12.648249626159668, 11.93148136138916, 6.753738880157471, 1.8571339845657349, 1.4786192178726196, 1.4786187410354614, 1.4786187410354614, 1.4786187410354614, 1.4786189794540405, 1.4786194562911987, 1.4786194562911987, 1.47861909866333, 1.4786194562911987, 1.4786205291748047, 1.4786192178726196, 1.4786187410354614, 1.4786194562911987, 1.4786192178726196, 1.4786187410354614, 1.4786196947097778, 1.4786194562911987, 1.4786196947097778, 1.4786192178726196, 1.4786192178726196, 1.4786194562911987, 1.478620171546936, 1.4786194562911987, 1.4786194562911987, 1.4786187410354614, 1.4786192178726196, 117.23686981201172, 60.08940887451172, 55.680423736572266, 41.60111999511719, 33.84535217285156, 33.6999397277832, 25.89442253112793, 25.66533088684082, 24.80312728881836, 23.201629638671875, 22.25333595275879, 19.702327728271484, 18.540231704711914, 17.661544799804688, 17.661544799804688, 17.661544799804688, 17.661544799804688, 17.661544799804688, 15.790694236755371, 14.436821937561035, 69.74449920654297, 7.365299701690674, 5.6471333503723145, 3.5154411792755127, 271.0230407714844, 236.0681915283203, 144.4370574951172, 1.4786192178726196, 1.4786192178726196, 1.4786189794540405, 1.4786189794540405, 1.4786189794540405, 1.4786189794540405, 1.4786200523376465, 1.4786189794540405, 1.478618860244751, 1.4786211252212524, 1.47861909866333, 72.17344665527344, 64.81487274169922, 55.69388961791992, 451.5526428222656, 40.72563171386719, 23.735218048095703, 4.722000598907471, 2.8788015842437744, 1.4786189794540405, 1.4786189794540405, 1.4786189794540405, 1.4786193370819092, 1.4786192178726196, 1.4786189794540405, 1.47861909866333, 1.4786189794540405, 1.4786194562911987, 1.4786189794540405, 1.47861909866333, 1.4786192178726196, 1.4786189794540405, 1.4786189794540405, 1.4786187410354614, 1.4786192178726196, 1.4786187410354614, 1.4786192178726196, 1.4786187410354614, 1.4786189794540405, 1.4786187410354614, 1.4786187410354614, 1.4786196947097778, 1.4786200523376465, 1.4786187410354614, 1.4786187410354614, 1.4786189794540405, 1.4786187410354614, 1.4786187410354614, 1.4786187410354614, 1.4786187410354614, 1.4786192178726196, 1.4786187410354614, 1.4786189794540405, 1.4786189794540405, 1.4786187410354614, 1.4786187410354614, 1.4786207675933838, 1.4786211252212524, 1.4786187410354614, 1.4786192178726196, 1.4786192178726196, 1.4786189794540405, 1.4786187410354614, 1.4786189794540405, 1.4786187410354614, 1.4786189794540405, 1.4786187410354614, 1.4786189794540405, 1.4786187410354614, 1.4786187410354614, 1.4786192178726196, 1.4786189794540405, 1.4786187410354614, 1.4786187410354614, 1.4786192178726196, 1.4786194562911987, 1.4786189794540405, 1.4786194562911987, 1.4786189794540405, 1.4786189794540405, 1.4786189794540405, 1.4786189794540405, 1.4786187410354614, 1.4786198139190674, 1.4786192178726196, 1.4786192178726196, 1.4786187410354614, 1.4786187410354614, 1.4786187410354614, 1.4786192178726196, 1.4786196947097778, 1.4786189794540405, 1.4786189794540405, 1.4786187410354614, 1.4786192178726196, 1.4786189794540405, 1.4786187410354614, 1.4786187410354614, 1.4786193370819092, 1.4786192178726196, 1.4786192178726196, 1.4786187410354614, 1.4786192178726196, 1.4786189794540405, 1.4786189794540405, 1.4786189794540405, 1.4786200523376465, 1.4786192178726196, 1.478620171546936, 1.4786187410354614, 1.4786187410354614, 1.4786193370819092, 1.4786204099655151, 1.47861909866333, 1.4786192178726196, 1.4786187410354614, 1.4786196947097778, 1.4786192178726196, 1.47861909866333, 1.4786192178726196, 1.4786200523376465, 1.4786192178726196, 1.4786202907562256, 1.4786192178726196, 1.4786194562911987, 1.4786194562911987, 1.4786187410354614, 1.4786187410354614, 1.4786189794540405, 1.4786189794540405, 1.4786187410354614, 1.4786196947097778, 1.4786192178726196, 1.4786187410354614, 1.4786189794540405, 1.4786187410354614, 1.4786187410354614, 1.4786189794540405, 1.4786187410354614, 1.4786194562911987, 199.22940063476562, 132.1280975341797, 73.39942169189453, 70.45977020263672, 63.00214385986328, 29.17961883544922, 24.378503799438477, 16.401527404785156, 15.32618236541748, 15.32618236541748, 13.678936004638672, 11.278014183044434, 9.877873420715332, 3.1056244373321533, 133.36680603027344, 1.4786200523376465, 1.4786189794540405, 1.4786189794540405, 1.4786189794540405, 1.4786189794540405, 1.4786189794540405, 1.4786192178726196, 1.4786189794540405, 1.4786189794540405, 1.4786189794540405, 1.4786187410354614, 1.4786187410354614, 1.4786187410354614, 1.4786187410354614, 1.4786187410354614, 1.4786189794540405, 1.4786189794540405, 1.4786192178726196, 1.4786189794540405, 1.4786194562911987, 1.4786189794540405, 1.4786187410354614, 1.4786189794540405, 1.478619933128357, 1.4786194562911987, 1.4786196947097778, 1.4786187410354614, 1.4786187410354614, 1.4786192178726196, 1.4786187410354614, 1.4786187410354614, 1.4786187410354614, 205.91497802734375, 117.83634948730469, 112.6717300415039, 65.70775604248047, 30.735422134399414, 20.67092514038086, 11.797345161437988, 7.1581010818481445, 3.835705041885376, 3.1793248653411865, 133.36680603027344, 1.4786207675933838, 1.4786194562911987, 1.4786193370819092, 1.4786193370819092, 1.4786194562911987, 1.4786192178726196, 1.4786195755004883, 1.4786195755004883, 1.4786195755004883, 1.4786195755004883, 1.4786202907562256, 1.4786192178726196, 1.47861909866333, 1.4786189794540405, 1.4786189794540405, 1.4786189794540405, 1.4786189794540405, 1.4786189794540405, 1.4786189794540405, 1.4786189794540405, 1.4786196947097778, 1.478620171546936, 1.4786194562911987, 1.4786192178726196, 1.4786192178726196, 1.4786189794540405, 1.4786192178726196, 1.47861909866333, 1.4786192178726196, 1.4786192178726196, 1.4786189794540405, 1.4786189794540405, 1.47861909866333, 1.47861909866333, 1.4786192178726196, 1.4786192178726196, 1.4786205291748047, 1.4786189794540405, 1.4786189794540405, 1.4786189794540405, 1.4786192178726196, 1.4786192178726196, 1.4786192178726196, 1.4786192178726196, 1.4786193370819092, 1.4786187410354614, 1.4786192178726196, 1.4786187410354614, 1.4786187410354614, 1.4786192178726196, 1.4786192178726196, 1.4786187410354614, 1.4786189794540405, 1.4786187410354614, 1.4786187410354614, 1.4786189794540405, 1.4786187410354614, 1.4786189794540405, 1.4786193370819092, 1.4786192178726196, 1.4786192178726196, 1.4786189794540405, 1.4786192178726196, 1.4786187410354614, 1.478618860244751, 1.4786192178726196, 1.4786189794540405, 1.4786189794540405, 1.4786192178726196, 1.4786192178726196, 1.4786187410354614, 1.4786187410354614, 1.4786187410354614, 1.4786193370819092, 1.4786189794540405, 1.4786187410354614, 1.478618860244751, 1.4786189794540405, 1.478618860244751, 1.4786192178726196, 1.4786187410354614, 1.4786187410354614, 1.4786187410354614, 1.4786187410354614, 1.4786187410354614, 1.4786189794540405, 1.4786189794540405, 1.4786189794540405, 1.4786187410354614, 1.478619933128357, 1.4786189794540405, 1.4786189794540405, 1.4786187410354614, 1.4786194562911987, 1.4786193370819092, 1.4786187410354614, 1.47861909866333, 1.4786189794540405, 1.4786192178726196, 1.4786187410354614, 1.4786192178726196, 1.4786192178726196, 1.4786194562911987, 1.4786198139190674, 1.4786196947097778, 1.4786189794540405, 1.4786187410354614, 1.4786187410354614, 1.4786187410354614, 1.4786189794540405, 1.4786187410354614, 1.4786187410354614, 1.478619933128357, 1.4786200523376465, 1.4786189794540405, 1.4786192178726196, 1.47861909866333, 1.4786194562911987, 199.61819458007812, 112.01065063476562, 109.47598266601562, 76.8238525390625, 71.38548278808594, 15.41230297088623, 14.755495071411133, 10.283415794372559, 10.022443771362305, 10.022443771362305, 10.022443771362305, 10.022443771362305, 10.022443771362305, 10.022443771362305, 10.022443771362305, 7.927341938018799, 7.927341938018799, 7.927341938018799, 271.0230407714844, 1.4786189794540405, 1.4786198139190674, 1.4786189794540405, 1.4786189794540405, 1.4786189794540405, 1.4786198139190674, 1.4786189794540405, 1.4786189794540405, 1.4786187410354614, 1.4786189794540405, 1.4786189794540405, 1.4786200523376465, 1.47861909866333, 1.4786202907562256, 1.47861909866333, 1.4786189794540405, 1.4786198139190674, 1.4786189794540405, 1.4786187410354614, 1.4786189794540405, 1.4786189794540405, 1.47861909866333, 1.47861909866333, 1.4786192178726196, 1.4786204099655151, 1.478619933128357, 1.4786207675933838, 1.4786194562911987, 1.4786189794540405, 1.4786189794540405, 1.4786187410354614, 1.4786187410354614, 1.4786187410354614, 1.4786192178726196, 1.4786187410354614, 1.4786194562911987, 1.4786187410354614, 1.4786187410354614, 78.61380004882812, 63.84489440917969, 61.687255859375, 57.691810607910156, 55.571556091308594, 40.68013000488281, 30.741310119628906, 27.163896560668945, 21.291561126708984, 20.194950103759766, 19.420259475708008, 16.13312339782715, 10.183284759521484, 8.357198715209961, 5.881532669067383, 4.985239028930664, 182.93771362304688, 1.8404098749160767, 1.4786194562911987, 1.4786192178726196, 1.4786198139190674, 1.4786198139190674, 1.478619933128357, 1.4786189794540405, 1.4786189794540405, 1.4786200523376465, 1.4786189794540405, 1.4786194562911987, 1.4786198139190674, 1.4786189794540405, 1.4786192178726196, 1.4786187410354614, 1.4786194562911987, 1.4786211252212524, 1.4786189794540405, 1.4786195755004883, 1.4786194562911987, 1.4786192178726196, 1.4786189794540405, 1.4786187410354614, 1.4786189794540405, 1.4786187410354614, 1.4786195755004883, 1.4786194562911987, 1.4786189794540405, 1.4786192178726196, 1.4786200523376465, 1.4786196947097778, 1.4786189794540405, 1.4786205291748047, 1.4786202907562256, 1.4786187410354614, 1.4786187410354614, 1.4786187410354614, 1.4786187410354614, 96.32775115966797, 79.03102111816406, 63.21238708496094, 55.87929916381836, 36.87638473510742, 14.070022583007812, 4.416735649108887, 1.4786192178726196, 1.4786192178726196, 1.4786187410354614, 1.4786187410354614, 1.4786189794540405, 1.4786189794540405, 1.4786189794540405, 1.4786192178726196, 1.4786193370819092, 1.4786189794540405, 1.4786187410354614, 1.4786187410354614, 1.4786187410354614, 1.4786192178726196, 1.4786187410354614, 1.4786189794540405, 1.47861909866333, 1.4786187410354614, 1.4786187410354614, 1.4786189794540405, 1.4786187410354614, 1.4786193370819092, 1.4786187410354614, 1.4786189794540405, 1.4786187410354614, 1.4786192178726196, 1.4786187410354614, 1.4786187410354614, 1.4786187410354614, 1.4786187410354614, 1.4786187410354614, 1.4786192178726196, 1.4786187410354614, 1.478618860244751, 1.4786187410354614, 1.4786187410354614, 1.4786189794540405, 1.4786189794540405, 1.4786187410354614, 1.4786187410354614, 1.4786189794540405, 1.478618860244751, 1.4786187410354614, 1.4786196947097778, 1.4786187410354614, 1.4786187410354614, 1.4786189794540405, 1.4786187410354614, 1.4786187410354614, 1.478618860244751, 1.4786187410354614, 1.4786187410354614, 1.4786189794540405, 1.4786187410354614, 1.4786189794540405, 1.478618860244751, 1.4786187410354614, 1.4786187410354614, 1.4786187410354614, 1.4786187410354614, 1.4786187410354614, 1.4786187410354614, 1.4786187410354614, 1.4786189794540405, 1.4786187410354614, 1.4786192178726196, 1.4786187410354614, 1.4786187410354614, 1.4786187410354614, 1.4786187410354614, 1.4786187410354614, 1.4786187410354614, 1.4786187410354614, 1.4786189794540405, 1.4786187410354614, 1.4786187410354614, 1.4786189794540405, 1.4786187410354614, 1.478618860244751, 1.4786187410354614, 1.4786187410354614, 1.4786187410354614, 1.478618860244751, 1.4786187410354614, 1.4786187410354614, 1.4786187410354614, 1.4786187410354614, 1.4786187410354614, 1.4786187410354614, 1.4786189794540405, 1.4786187410354614, 1.4786187410354614, 1.4786189794540405, 1.4786187410354614, 1.4786187410354614, 1.4786187410354614, 1.4786187410354614, 1.4786187410354614, 1.4786187410354614, 1.4786193370819092, 1.4786187410354614, 1.4786187410354614, 1.4786192178726196, 1.4786192178726196, 1.4786187410354614, 1.4786187410354614, 1.4786187410354614, 1.4786187410354614, 1.4786192178726196, 1.4786192178726196, 1.4786187410354614, 1.4786192178726196, 1.4786187410354614, 1.4786187410354614, 1.4786187410354614, 1.4786187410354614, 1.4786187410354614, 1.4786187410354614, 1.4786187410354614, 1.4786187410354614, 1.4786187410354614, 1.4786187410354614, 1.4786187410354614, 1.4786187410354614, 1.4786189794540405, 1.4786187410354614, 1.4786189794540405, 1.4786187410354614, 1.478618860244751, 1.4786187410354614, 1.4786187410354614, 1.4786187410354614, 1.4786189794540405, 1.4786189794540405, 1.4786187410354614, 1.4786187410354614, 1.4786187410354614, 1.4786187410354614, 1.4786187410354614, 1.4786187410354614, 1.4786187410354614, 1.4786187410354614, 1.4786187410354614, 1.4786187410354614, 1.4786192178726196, 1.4786187410354614, 1.478618860244751, 1.4786187410354614, 1.4786192178726196, 1.4786187410354614, 1.4786187410354614, 1.4786187410354614, 1.4786187410354614, 1.4786187410354614, 1.4786187410354614, 1.4786187410354614, 1.4786187410354614, 1.4786187410354614, 1.4786187410354614, 1.4786187410354614, 1.4786187410354614, 1.4786187410354614, 1.4786187410354614, 1.4786187410354614, 1.4786187410354614, 1.4786187410354614, 1.4786187410354614, 1.4786187410354614, 1.4786205291748047, 1.4786187410354614, 1.4786187410354614, 1.47861909866333, 1.4786187410354614, 1.4786187410354614, 1.4786187410354614, 1.4786187410354614, 1.4786187410354614, 1.4786187410354614, 1.4786187410354614, 1.4786187410354614, 1.4786189794540405, 1.4786187410354614, 1.4786187410354614, 1.4786187410354614, 1.4786189794540405, 1.4786189794540405, 1.4786187410354614, 1.4786187410354614, 1.4786187410354614, 1.4786187410354614, 1.4786187410354614, 1.4786187410354614, 1.478618860244751, 1.4786187410354614, 1.4786189794540405, 1.4786187410354614, 1.4786189794540405, 1.4786189794540405, 1.4786187410354614, 1.4786187410354614, 1.4786187410354614, 1.4786187410354614, 1.4786187410354614, 1.478618860244751, 1.4786187410354614, 1.4786187410354614, 1.4786187410354614, 1.4786189794540405, 1.4786187410354614, 1.4786187410354614, 1.4786187410354614, 1.4786187410354614, 1.4786187410354614, 1.4786187410354614, 1.4786187410354614, 1.4786187410354614, 1.4786187410354614, 1.4786187410354614, 1.4786187410354614, 1.4786187410354614, 1.4786189794540405, 1.4786187410354614, 1.4786187410354614, 1.4786187410354614, 1.4786189794540405, 1.4786187410354614, 1.4786187410354614, 1.4786187410354614, 1.4786187410354614, 1.4786187410354614, 1.4786187410354614, 1.4786187410354614, 1.4786187410354614, 1.4786187410354614, 1.4786187410354614, 1.4786189794540405, 1.4786187410354614, 1.4786187410354614, 1.4786187410354614, 1.478618860244751, 1.4786187410354614, 1.4786187410354614, 1.4786187410354614, 1.4786187410354614, 1.4786187410354614, 1.4786187410354614, 1.4786187410354614, 1.4786187410354614, 1.4786187410354614, 1.4786187410354614, 1.4786187410354614, 1.478618860244751, 1.4786187410354614, 1.4786187410354614, 1.4786187410354614, 1.4786192178726196, 1.4786187410354614, 1.4786187410354614, 1.4786187410354614, 1.4786187410354614, 1.4786187410354614, 1.4786187410354614, 1.4786187410354614, 1.4786187410354614, 1.4786187410354614, 1.4786187410354614, 1.4786187410354614, 1.4786187410354614, 1.4786187410354614, 1.4786187410354614, 1.4786187410354614, 1.4786187410354614, 1.4786187410354614, 1.4786187410354614, 1.4786187410354614, 1.4786187410354614, 1.4786187410354614, 1.4786187410354614, 1.47861909866333, 1.4786187410354614, 94.12218475341797, 48.355953216552734, 39.47186279296875, 28.14176368713379, 21.664676666259766, 20.614849090576172, 18.6772518157959, 14.6733980178833, 10.853445053100586, 9.92032527923584, 9.623045921325684, 8.317411422729492, 7.440743446350098, 1.4786189794540405, 1.4786192178726196, 1.4786189794540405, 1.4786192178726196, 1.478619933128357, 1.4786192178726196, 1.4786194562911987, 1.4786192178726196, 1.4786192178726196, 1.4786192178726196, 1.4786187410354614, 1.4786189794540405, 1.478618860244751, 1.4786187410354614, 1.4786189794540405, 1.4786189794540405, 1.4786189794540405, 1.4786194562911987, 1.4786194562911987, 1.4786192178726196, 1.4786189794540405, 1.4786192178726196, 1.478620171546936, 1.4786192178726196, 1.4786193370819092, 1.4786194562911987, 1.4786193370819092, 1.4786200523376465, 1.4786205291748047, 1.4786192178726196, 1.4786187410354614, 1.4786187410354614, 1.4786189794540405, 1.4786187410354614, 1.4786187410354614, 1.4786189794540405, 1.4786189794540405, 1.4786187410354614, 1.4786187410354614, 1.4786187410354614, 1.4786187410354614, 1.4786187410354614, 1.4786187410354614, 1.4786187410354614, 130.65415954589844, 107.34553527832031, 63.15355682373047, 14.226496696472168, 8.147071838378906, 5.325058460235596, 4.107092380523682, 3.724966287612915, 3.186781167984009, 1.8655437231063843, 1.4786192178726196, 1.47861909866333, 1.4786192178726196, 1.4786211252212524, 1.4786189794540405, 1.478618860244751, 1.4786194562911987, 1.478618860244751, 1.4786200523376465, 1.478618860244751, 1.4786192178726196, 1.478618860244751, 1.4786193370819092, 1.4786187410354614, 1.4786187410354614, 1.478618860244751, 1.478618860244751, 1.4786189794540405, 1.4786189794540405, 1.4786187410354614, 1.4786187410354614, 1.4786187410354614, 1.4786217212677002, 1.47861909866333, 1.47861909866333, 1.4786187410354614, 1.478618860244751, 1.4786192178726196, 1.478618860244751, 1.4786187410354614, 1.478618860244751, 1.4786193370819092, 1.478618860244751, 1.4786193370819092, 1.4786189794540405, 1.4786192178726196, 1.4786196947097778, 1.4786189794540405, 1.4786189794540405, 1.478618860244751, 1.4786187410354614, 1.478618860244751, 1.4786192178726196, 1.4786192178726196, 1.4786187410354614, 1.4786189794540405, 1.4786192178726196, 1.478620171546936, 1.4786192178726196, 1.478618860244751, 1.4786192178726196, 1.4786194562911987, 1.4786200523376465, 1.4786193370819092, 1.47861909866333, 1.4786202907562256, 1.4786198139190674, 1.4786192178726196, 1.4786198139190674, 1.47861909866333, 1.4786204099655151, 1.478619933128357, 1.4786200523376465, 1.4786194562911987, 1.47861909866333, 82.58098602294922, 49.01341247558594, 8.508408546447754, 5.513848304748535, 5.513848304748535, 1.4786202907562256, 1.4786187410354614, 1.4786187410354614, 1.4786187410354614, 1.4786187410354614, 1.4786187410354614, 1.478618860244751, 1.4786192178726196, 1.4786189794540405, 1.4786189794540405, 1.4786194562911987, 1.4786187410354614, 1.4786187410354614, 1.4786187410354614, 1.4786187410354614, 1.4786187410354614, 1.4786187410354614, 1.4786187410354614, 1.4786187410354614, 1.4786187410354614, 1.4786192178726196, 1.47861909866333, 1.4786189794540405, 1.4786187410354614, 1.4786189794540405, 1.4786192178726196, 1.4786187410354614, 1.4786187410354614, 1.478618860244751, 1.4786192178726196, 1.4786187410354614, 1.4786187410354614, 1.4786194562911987, 1.4786187410354614, 1.47861909866333, 1.4786187410354614, 1.4786187410354614, 1.4786187410354614, 1.4786187410354614, 1.4786196947097778, 1.4786187410354614, 1.4786189794540405, 1.4786187410354614, 1.4786187410354614, 1.4786189794540405, 1.4786189794540405, 1.4786187410354614, 1.4786187410354614, 1.4786189794540405, 1.4786196947097778, 1.4786187410354614, 1.4786187410354614, 1.4786193370819092, 1.4786189794540405, 1.4786187410354614, 1.4786187410354614, 1.4786189794540405, 282.84661865234375, 69.46473693847656, 23.97829246520996, 14.655909538269043, 9.688197135925293, 9.011157035827637, 4.732901573181152, 4.000604629516602, 1.4786189794540405, 1.4786192178726196, 1.4786189794540405, 1.4786189794540405, 1.4786187410354614, 1.4786187410354614, 1.4786187410354614, 1.4786187410354614, 1.4786189794540405, 1.4786189794540405, 1.4786189794540405, 1.4786189794540405, 1.4786189794540405, 1.4786187410354614, 1.4786189794540405, 1.4786192178726196, 1.4786193370819092, 1.4786200523376465, 1.4786187410354614, 1.4786187410354614, 1.4786189794540405, 1.4786187410354614, 1.4786200523376465, 1.4786189794540405, 1.4786187410354614, 1.4786189794540405, 1.4786189794540405, 1.4786187410354614, 1.4786187410354614, 1.4786187410354614, 1.4786187410354614, 1.4786189794540405, 1.4786189794540405, 1.47861909866333, 1.4786187410354614, 1.4786187410354614, 1.4786189794540405, 1.4786187410354614, 1.4786187410354614, 1.4786187410354614, 1.4786196947097778, 1.4786187410354614, 1.4786187410354614, 1.4786187410354614, 1.4786187410354614, 1.4786192178726196, 1.4786187410354614, 1.4786189794540405, 1.4786187410354614, 1.4786187410354614, 1.4786187410354614, 1.4786187410354614, 1.4786189794540405, 1.4786187410354614, 1.4786187410354614, 1.4786187410354614, 1.4786187410354614, 1.4786189794540405, 1.4786187410354614, 1.4786189794540405, 1.4786194562911987, 1.4786189794540405, 1.4786205291748047, 1.4786187410354614, 1.4786187410354614, 1.4786189794540405, 1.4786187410354614, 1.4786187410354614, 1.4786187410354614, 1.4786187410354614, 1.47861909866333, 5.82670783996582, 1.4786192178726196, 1.4786189794540405, 1.4786187410354614, 1.4786189794540405, 1.4786187410354614, 1.4786187410354614, 1.4786187410354614, 1.4786189794540405, 1.4786189794540405, 1.4786187410354614, 1.4786189794540405, 1.4786189794540405, 1.4786189794540405, 1.4786187410354614, 1.4786189794540405, 1.4786187410354614, 1.4786187410354614, 1.4786187410354614, 1.4786187410354614, 1.4786187410354614, 1.4786189794540405, 1.4786187410354614, 1.4786187410354614, 1.4786187410354614, 1.4786187410354614, 1.4786187410354614, 1.4786189794540405, 1.4786187410354614, 1.4786192178726196, 1.4786189794540405, 1.4786189794540405, 1.4786193370819092, 1.4786187410354614, 1.4786193370819092, 1.4786187410354614, 1.4786187410354614, 1.4786187410354614, 1.4786187410354614, 1.4786187410354614, 1.4786187410354614, 1.478618860244751, 1.4786187410354614, 1.478618860244751, 1.4786187410354614, 1.4786187410354614, 1.4786187410354614, 1.4786187410354614, 1.4786187410354614, 1.478618860244751, 1.4786193370819092, 1.4786187410354614, 1.4786187410354614, 1.4786187410354614, 1.4786187410354614, 1.4786187410354614, 1.4786187410354614, 1.4786187410354614, 1.4786189794540405, 1.4786187410354614, 1.4786187410354614, 1.4786187410354614, 1.4786187410354614, 1.4786187410354614, 1.4786187410354614, 1.4786187410354614, 1.4786187410354614, 1.4786187410354614, 1.4786187410354614, 1.4786187410354614, 1.47861909866333, 1.4786187410354614, 1.4786187410354614, 1.4786187410354614, 1.4786192178726196, 1.4786187410354614, 1.4786187410354614, 1.4786187410354614, 1.4786189794540405, 1.4786187410354614, 1.4786187410354614, 1.4786189794540405, 1.4786189794540405, 1.4786187410354614, 1.4786187410354614, 1.4786187410354614, 1.4786187410354614, 1.4786187410354614, 1.4786187410354614, 1.4786187410354614, 1.4786187410354614, 1.4786187410354614, 1.4786187410354614, 1.4786187410354614, 1.4786187410354614, 1.4786187410354614, 1.4786187410354614, 1.4786187410354614, 1.4786187410354614, 1.4786187410354614, 1.478618860244751, 1.4786187410354614, 1.4786187410354614, 1.478618860244751, 1.4786187410354614, 1.4786187410354614, 1.4786187410354614, 1.4786187410354614, 1.4786187410354614, 1.4786187410354614, 1.4786187410354614, 1.4786187410354614, 1.4786187410354614, 1.4786187410354614, 1.4786187410354614, 1.4786187410354614, 1.4786187410354614, 1.4786187410354614, 1.4786187410354614, 1.4786187410354614, 1.4786187410354614, 1.4786187410354614, 1.4786187410354614, 1.4786187410354614, 1.4786187410354614, 1.4786189794540405, 1.4786187410354614, 1.4786187410354614, 1.4786187410354614, 1.4786187410354614, 1.4786187410354614, 1.4786189794540405, 1.4786187410354614, 1.4786187410354614, 1.4786187410354614, 1.4786187410354614, 1.4786187410354614, 1.4786187410354614, 1.4786187410354614, 1.4786192178726196, 1.4786187410354614, 1.4786187410354614, 1.4786187410354614, 1.4786187410354614, 1.4786187410354614, 1.4786187410354614, 1.4786187410354614, 1.4786187410354614, 1.4786187410354614, 1.4786187410354614, 1.4786187410354614, 1.4786189794540405, 1.4786187410354614, 1.4786187410354614, 1.4786187410354614, 1.4786187410354614, 1.4786187410354614, 1.4786187410354614, 1.4786187410354614, 1.4786187410354614, 1.4786187410354614, 1.4786187410354614, 1.4786187410354614, 1.4786187410354614, 1.4786187410354614, 1.4786187410354614, 1.4786187410354614, 1.478618860244751, 1.4786187410354614, 1.4786187410354614, 1.4786187410354614, 1.4786189794540405, 1.4786187410354614, 1.4786192178726196, 1.478618860244751, 1.4786187410354614, 1.47861909866333, 1.4786187410354614], \"loglift\": [30.0, 29.0, 28.0, 27.0, 26.0, 25.0, 24.0, 23.0, 22.0, 21.0, 20.0, 19.0, 18.0, 17.0, 16.0, 15.0, 14.0, 13.0, 12.0, 11.0, 10.0, 9.0, 8.0, 7.0, 6.0, 5.0, 4.0, 3.0, 2.0, 1.0, 2.11899995803833, 2.118000030517578, 2.1166999340057373, 2.116499900817871, 2.1150999069213867, 2.1126999855041504, 2.112600088119507, 2.1112000942230225, 2.1080000400543213, 2.1073999404907227, 2.1057000160217285, 2.1054000854492188, 2.1052000522613525, 2.104300022125244, 2.1031999588012695, 2.102799892425537, 2.1006999015808105, 2.0977001190185547, 2.096400022506714, 2.0959999561309814, 2.0957000255584717, 2.0950000286102295, 2.0947000980377197, 2.0941998958587646, 2.0934998989105225, 2.0934998989105225, 2.092900037765503, 2.09089994430542, 2.089099884033203, 2.088099956512451, 1.979699969291687, 1.996899962425232, 1.7490999698638916, 2.432300090789795, 2.4307000637054443, 2.4293999671936035, 2.428800106048584, 2.4274001121520996, 2.423799991607666, 2.421299934387207, 2.4198999404907227, 2.419800043106079, 2.418600082397461, 2.418600082397461, 2.418100118637085, 2.417799949645996, 2.41759991645813, 2.41729998588562, 2.4163999557495117, 2.4159998893737793, 2.4159998893737793, 2.4158999919891357, 2.415800094604492, 2.414299964904785, 2.4110000133514404, 2.4110000133514404, 2.407399892807007, 2.4056999683380127, 2.4040000438690186, 2.400599956512451, 2.398400068283081, 2.3968000411987305, 2.395400047302246, 2.3870999813079834, 2.31469988822937, 1.913100004196167, 2.4686999320983887, 2.466099977493286, 2.464600086212158, 2.4639999866485596, 2.4623000621795654, 2.460900068283081, 2.460200071334839, 2.4590001106262207, 2.458400011062622, 2.453900098800659, 2.447999954223633, 2.447700023651123, 2.4470999240875244, 2.444700002670288, 2.4423999786376953, 2.4410998821258545, 2.427299976348877, 2.4238998889923096, 2.418800115585327, 2.4172000885009766, 2.410399913787842, 2.4077000617980957, 2.375200033187866, 2.370300054550171, 2.3292999267578125, 2.2764999866485596, 1.2899999618530273, -0.4611000120639801, -0.4611000120639801, -0.4611000120639801, -0.4611000120639801, -1.2451000213623047, -0.4611000120639801, 2.5041000843048096, 2.5025999546051025, 2.5000998973846436, 2.4981000423431396, 2.4946999549865723, 2.4807000160217285, 2.4718000888824463, 2.4421000480651855, 2.4272000789642334, 2.343899965286255, 1.2367000579833984, -0.7918000221252441, -0.7918000221252441, -0.7918000221252441, -0.7918000221252441, -0.7918000221252441, -0.7918000221252441, -0.7918000221252441, -0.7918000221252441, -0.7918000221252441, -0.7918000221252441, -0.7918000221252441, -0.7918000221252441, -0.7918000221252441, -0.7918000221252441, -0.7918000221252441, -0.7918000221252441, -0.7918000221252441, -0.7918000221252441, -0.7918000221252441, -0.7918000221252441, -0.7918000221252441, -0.7918000221252441, -0.7918000221252441, -0.7918000221252441, -0.7918000221252441, -0.7918000221252441, -0.7918000221252441, -0.7918000221252441, -0.7918000221252441, -0.7918000221252441, -0.7918000221252441, -0.7918000221252441, -0.7918000221252441, -0.7918000221252441, -0.7918000221252441, -0.7918000221252441, -0.7918000221252441, -0.7918000221252441, -0.7918000221252441, -0.7918000221252441, -0.7918000221252441, -0.7918000221252441, -0.7918000221252441, -0.7918000221252441, -0.7918000221252441, -0.7918000221252441, -0.7918000221252441, -0.7918000221252441, -0.7918000221252441, -0.7918000221252441, -0.7918000221252441, -0.7918000221252441, -0.7918000221252441, -0.7918000221252441, -0.7918000221252441, -0.7918000221252441, -0.7918000221252441, -0.7918000221252441, -0.7918000221252441, -0.7918000221252441, -0.7918000221252441, -0.7918000221252441, -0.7918000221252441, -0.7918000221252441, -0.7918000221252441, -0.7918000221252441, -0.7918000221252441, -0.7918000221252441, -0.7918000221252441, -0.7918000221252441, -0.7918000221252441, -0.7918000221252441, -0.7918000221252441, -0.7918000221252441, -7.053299903869629, -0.7918000221252441, -0.7918000221252441, 2.6119000911712646, 2.61080002784729, 2.6071999073028564, 2.605600118637085, 2.6026999950408936, 2.6012001037597656, 2.593600034713745, 2.591399908065796, 2.5889999866485596, 2.5885000228881836, 2.5820999145507812, 2.5792999267578125, 2.578900098800659, 2.573199987411499, 2.5727999210357666, 2.569499969482422, 2.567699909210205, 2.5617001056671143, 2.5587000846862793, 2.552299976348877, 2.551300048828125, 2.549799919128418, 2.546600103378296, 2.5401999950408936, 2.5380001068115234, 2.5343000888824463, 2.5272998809814453, 2.5195000171661377, 2.5192999839782715, 2.5078001022338867, 2.4718000888824463, 2.725800037384033, 2.7239999771118164, 2.723599910736084, 2.723299980163574, 2.7214999198913574, 2.7200000286102295, 2.716900110244751, 2.7147998809814453, 2.7146999835968018, 2.706899881362915, 2.69350004196167, 2.691699981689453, 2.6870999336242676, 2.6644999980926514, 2.6642000675201416, 2.6612000465393066, 2.6415998935699463, 2.625499963760376, 2.585700035095215, 2.5580999851226807, 2.4839999675750732, 2.3096001148223877, 2.1907999515533447, 2.101799964904785, 1.6407999992370605, -0.21930000185966492, -0.21930000185966492, -0.21930000185966492, -0.21930000185966492, -0.21930000185966492, -0.29179999232292175, -0.21930000185966492, -0.21930000185966492, -0.21930000185966492, -0.21930000185966492, -0.21930000185966492, -0.21930000185966492, -0.21930000185966492, -0.21930000185966492, -0.21930000185966492, -0.21930000185966492, 2.815200090408325, 2.8108999729156494, 2.808199882507324, 2.8064000606536865, 2.8062000274658203, 2.8046998977661133, 2.804500102996826, 2.802000045776367, 2.7995998859405518, 2.799099922180176, 2.796799898147583, 2.7953999042510986, 2.7913999557495117, 2.773900032043457, 2.7720000743865967, 2.771399974822998, 2.7685999870300293, 2.7648000717163086, 2.7623000144958496, 2.7492001056671143, 2.745699882507324, 2.745300054550171, 2.7214999198913574, 2.712399959564209, 2.6658999919891357, 2.6656999588012695, 2.664599895477295, 2.6586999893188477, 2.644200086593628, 2.6308999061584473, 2.990499973297119, 2.9893999099731445, 2.988300085067749, 2.9860000610351562, 2.9821999073028564, 2.9793999195098877, 2.9791998863220215, 2.974900007247925, 2.9748001098632812, 2.9667000770568848, 2.961699962615967, 2.9591000080108643, 2.9563000202178955, 2.9542999267578125, 2.9542999267578125, 2.9542999267578125, 2.9542999267578125, 2.9542999267578125, 2.953700065612793, 2.9481000900268555, 2.9447999000549316, 2.9433999061584473, 2.9398000240325928, 2.938199996948242, 2.9156999588012695, 2.802299976348877, 2.77839994430542, 2.6194000244140625, 2.5232999324798584, 2.5023000240325928, 0.9613000154495239, 3.2244999408721924, 3.2237000465393066, 3.222899913787842, 3.2211999893188477, 3.2163000106811523, 3.214099884033203, 3.213200092315674, 3.2109999656677246, 3.2030999660491943, 3.198699951171875, 3.194700002670288, 3.1842000484466553, 3.184000015258789, 3.1745998859405518, 3.164099931716919, 3.126199960708618, 3.126199960708618, 2.8868000507354736, 2.8092000484466553, 0.0551999993622303, 0.0551999993622303, 0.0551999993622303, 0.0551999993622303, 0.0551999993622303, 0.0551999993622303, 0.0551999993622303, 0.0551999993622303, 0.0551999993622303, 0.0551999993622303, 0.0551999993622303, 0.0551999993622303, 0.0551999993622303, 0.0551999993622303, 0.0551999993622303, 0.0551999993622303, 0.0551999993622303, 0.0551999993622303, 0.0551999993622303, 0.0551999993622303, 0.0551999993622303, 0.0551999993622303, 0.0551999993622303, 0.0551999993622303, 0.0551999993622303, 0.0551999993622303, 0.0551999993622303, 0.0551999993622303, 0.0551999993622303, 0.0551999993622303, 0.0551999993622303, 0.0551999993622303, 0.05510000139474869, 0.05510000139474869, 0.0551999993622303, 0.0551999993622303, 0.0551999993622303, 0.05510000139474869, 0.0551999993622303, 0.05510000139474869, 3.250699996948242, 3.2481000423431396, 3.2476999759674072, 3.245800018310547, 3.2076001167297363, 2.703900098800659, 0.11509999632835388, 0.11500000208616257, 0.11500000208616257, 0.11500000208616257, 0.11500000208616257, 0.11500000208616257, 0.11500000208616257, 0.11500000208616257, 0.11500000208616257, 0.11500000208616257, 0.11500000208616257, 0.11500000208616257, 0.11500000208616257, 0.11500000208616257, 0.11500000208616257, 0.11500000208616257, 0.11500000208616257, 0.11500000208616257, 0.11500000208616257, 0.11500000208616257, 0.11500000208616257, 0.11500000208616257, 0.11500000208616257, 0.11500000208616257, 0.11500000208616257, 0.11500000208616257, 0.11500000208616257, 0.11500000208616257, 0.11500000208616257, 0.11500000208616257, 0.11500000208616257, 0.11500000208616257, 0.11500000208616257, 0.11500000208616257, 0.11500000208616257, 0.11500000208616257, 0.11500000208616257, 0.11500000208616257, 0.11500000208616257, 0.11500000208616257, 0.11500000208616257, 0.11500000208616257, 0.11500000208616257, 0.11500000208616257, 0.11500000208616257, 0.11500000208616257, 0.11500000208616257, 0.11500000208616257, 0.11500000208616257, 0.11500000208616257, 0.11500000208616257, 0.11500000208616257, 0.11500000208616257, 0.11500000208616257, 0.11500000208616257, 0.11500000208616257, 0.11500000208616257, 0.11500000208616257, 0.11500000208616257, 0.11500000208616257, 0.11500000208616257, 0.11500000208616257, 0.11500000208616257, 0.11500000208616257, 0.11500000208616257, 0.11500000208616257, 0.11500000208616257, -4.438499927520752, 3.4446001052856445, 3.439300060272217, 3.437700033187866, 3.4323999881744385, 3.426500082015991, 3.4242000579833984, 3.398200035095215, 3.397200107574463, 3.389400005340576, 3.384999990463257, 3.3791000843048096, 3.3341000080108643, 3.31850004196167, 0.326200008392334, 0.326200008392334, 0.326200008392334, 0.326200008392334, 0.326200008392334, 0.326200008392334, 0.326200008392334, 0.326200008392334, 0.326200008392334, 0.326200008392334, 0.326200008392334, 0.326200008392334, 0.326200008392334, 0.326200008392334, 0.326200008392334, 0.326200008392334, 0.326200008392334, 0.326200008392334, 0.326200008392334, 0.326200008392334, 0.326200008392334, 0.326200008392334, 0.326200008392334, 0.326200008392334, 0.326200008392334, 0.326200008392334, 0.326200008392334, 0.326200008392334, 0.326200008392334, 0.326200008392334, 0.326200008392334, 0.326200008392334, 0.326200008392334, 0.326200008392334, 0.326200008392334, 0.326200008392334, 0.326200008392334, 0.326200008392334, 0.326200008392334, 0.326200008392334, 0.326200008392334, 0.326200008392334, 0.326200008392334, 0.326200008392334, 0.326200008392334, 0.326200008392334, 0.326200008392334, 0.326200008392334, 0.326200008392334, 0.326200008392334, 0.326200008392334, 0.326200008392334, 0.326200008392334, 0.326200008392334, 0.326200008392334, 0.326200008392334, 0.326200008392334, 0.326200008392334, 0.326200008392334, 0.326200008392334, 0.326200008392334, 0.326200008392334, 0.326200008392334, 0.326200008392334, 0.326200008392334, 0.326200008392334, 0.326200008392334, 0.326200008392334, 0.326200008392334, 3.457200050354004, 3.4470999240875244, 3.4442999362945557, 3.4402999877929688, 3.4367001056671143, 3.4154999256134033, 3.3954999446868896, 3.3935999870300293, 3.352299928665161, 3.3380000591278076, 0.2011999934911728, 0.2011999934911728, 0.2011999934911728, 0.2011999934911728, 0.2011999934911728, 0.2011999934911728, 0.2011999934911728, 0.2011999934911728, 0.2011999934911728, 0.2011999934911728, 0.2011999934911728, 0.2011999934911728, 0.2011999934911728, 0.2011999934911728, 0.2011999934911728, 0.2011999934911728, 0.2011999934911728, 0.2011999934911728, 0.2011999934911728, 0.2011999934911728, 0.2011999934911728, 0.2011999934911728, -0.48100000619888306, 0.2011999934911728, 0.2011999934911728, 0.2011999934911728, 0.2011999934911728, 0.2011999934911728, 0.2011999934911728, 0.2011999934911728, 0.2011999934911728, 0.2011999934911728, 0.2011999934911728, 0.2011999934911728, 0.2011999934911728, 0.2011999934911728, 0.2011999934911728, 3.455699920654297, 3.453700065612793, 3.453700065612793, 3.453200101852417, 3.4528000354766846, 3.4519999027252197, 3.4463000297546387, 3.4435999393463135, 3.43530011177063, 3.4349000453948975, 3.4330999851226807, 3.430799961090088, 3.4296998977661133, 3.4203999042510986, 3.417099952697754, 3.414599895477295, 3.414099931716919, 3.39520001411438, 3.385200023651123, 3.3749001026153564, 3.371000051498413, 3.3585000038146973, 3.354099988937378, 3.3445000648498535, 3.3327999114990234, 3.2850000858306885, 3.2767999172210693, 3.2144999504089355, 3.207900047302246, 3.166100025177002, 2.3452999591827393, 1.4006999731063843, 3.6034998893737793, 3.6010000705718994, 3.6005001068115234, 3.599600076675415, 3.594599962234497, 3.5943000316619873, 3.593400001525879, 3.5908000469207764, 3.590399980545044, 3.5836000442504883, 3.5625, 3.5611000061035156, 3.5601000785827637, 3.5541000366210938, 3.5532000064849854, 3.539900064468384, 3.5397000312805176, 3.517699956893921, 3.496799945831299, 3.4890999794006348, 3.379300117492676, 2.157900094985962, 0.29660001397132874, 0.29660001397132874, 0.29660001397132874, 0.29660001397132874, 0.29660001397132874, 0.29660001397132874, 0.29660001397132874, 0.29660001397132874, 0.29660001397132874, 0.29660001397132874, 0.29660001397132874, 0.29660001397132874, 0.29660001397132874, 0.29660001397132874, 0.29660001397132874, 0.29660001397132874, 0.29660001397132874, 0.29660001397132874, 0.29660001397132874, 0.29660001397132874, 0.29660001397132874, 0.29660001397132874, 0.29660001397132874, 0.29649999737739563, 0.29660001397132874, 0.29660001397132874, 3.7451000213623047, 3.733299970626831, 3.731300115585327, 3.7223000526428223, 3.714099884033203, 3.713900089263916, 3.700500011444092, 3.699899911880493, 3.6979000568389893, 3.6935999393463135, 3.6907999515533447, 3.6819000244140625, 3.6768999099731445, 3.672800064086914, 3.672800064086914, 3.672800064086914, 3.672800064086914, 3.672800064086914, 3.6621999740600586, 3.6528000831604004, 3.6001999378204346, 3.5409998893737793, 3.464600086212158, 3.233599901199341, 2.694200038909912, 1.6871000528335571, 1.526900053024292, 0.26829999685287476, 0.26829999685287476, 0.26829999685287476, 0.26829999685287476, 0.26829999685287476, 0.26829999685287476, 0.26829999685287476, 0.26829999685287476, 0.26829999685287476, 0.26829999685287476, 0.26829999685287476, 3.779599905014038, 3.7772998809814453, 3.773699998855591, 3.7718000411987305, 3.7639999389648438, 3.737799882888794, 3.4412999153137207, 3.1185998916625977, 0.5421000123023987, 0.5421000123023987, 0.5421000123023987, 0.5421000123023987, 0.5421000123023987, 0.5421000123023987, 0.5421000123023987, 0.5421000123023987, 0.5421000123023987, 0.5421000123023987, 0.5421000123023987, 0.5421000123023987, 0.5421000123023987, 0.5421000123023987, 0.5421000123023987, 0.5421000123023987, 0.5421000123023987, 0.5421000123023987, 0.5421000123023987, 0.5421000123023987, 0.5421000123023987, 0.5421000123023987, 0.5421000123023987, 0.5421000123023987, 0.5421000123023987, 0.5421000123023987, 0.5421000123023987, 0.5421000123023987, 0.5421000123023987, 0.5421000123023987, 0.5421000123023987, 0.5421000123023987, 0.5421000123023987, 0.5421000123023987, 0.5421000123023987, 0.5421000123023987, 0.5421000123023987, 0.5421000123023987, 0.5421000123023987, 0.5421000123023987, 0.5421000123023987, 0.5421000123023987, 0.5421000123023987, 0.5421000123023987, 0.5421000123023987, 0.5421000123023987, 0.5421000123023987, 0.5421000123023987, 0.5421000123023987, 0.5421000123023987, 0.5421000123023987, 0.5421000123023987, 0.5421000123023987, 0.5421000123023987, 0.5421000123023987, 0.5421000123023987, 0.5421000123023987, 0.5421000123023987, 0.5421000123023987, 0.5421000123023987, 0.5421000123023987, 0.5421000123023987, 0.5421000123023987, 0.5421000123023987, 0.5421000123023987, 0.5421000123023987, 0.5421000123023987, 0.5421000123023987, 0.5421000123023987, 0.5421000123023987, 0.5421000123023987, 0.5421000123023987, 0.5421000123023987, 0.5421000123023987, 0.5421000123023987, 0.5421000123023987, 0.5421000123023987, 0.5421000123023987, 0.5421000123023987, 0.5421000123023987, 0.5421000123023987, 0.5421000123023987, 0.5421000123023987, 0.5421000123023987, 0.5421000123023987, 0.5421000123023987, 0.5421000123023987, 0.5421000123023987, 0.5421000123023987, 0.5421000123023987, 0.5421000123023987, 0.5421000123023987, 0.5421000123023987, 0.5421000123023987, 0.5421000123023987, 0.5421000123023987, 0.5421000123023987, 0.5421000123023987, 0.5421000123023987, 0.5421000123023987, 0.5421000123023987, 0.5421000123023987, 0.5421000123023987, 0.5421000123023987, 0.5421000123023987, 0.5421000123023987, 0.5421000123023987, 0.5421000123023987, 0.5421000123023987, 0.5421000123023987, 0.5421000123023987, 0.5421000123023987, 0.5421000123023987, 0.5421000123023987, 0.5421000123023987, 0.5421000123023987, 0.5421000123023987, 0.5421000123023987, 0.5421000123023987, 0.5421000123023987, 0.5421000123023987, 3.84089994430542, 3.8373000621795654, 3.8285000324249268, 3.827699899673462, 3.825200080871582, 3.7980000972747803, 3.7878000736236572, 3.7571001052856445, 3.7504000663757324, 3.7504000663757324, 3.73799991607666, 3.7128000259399414, 3.6921000480651855, 3.2328999042510986, 1.8918999433517456, 0.49320000410079956, 0.49320000410079956, 0.49320000410079956, 0.49320000410079956, 0.49320000410079956, 0.49320000410079956, 0.49320000410079956, 0.49320000410079956, 0.49320000410079956, 0.49320000410079956, 0.49320000410079956, 0.49320000410079956, 0.49320000410079956, 0.49320000410079956, 0.49320000410079956, 0.49320000410079956, 0.49320000410079956, 0.49320000410079956, 0.49320000410079956, 0.49320000410079956, 0.49320000410079956, 0.49320000410079956, 0.49320000410079956, 0.49320000410079956, 0.49320000410079956, 0.49320000410079956, 0.49320000410079956, 0.49320000410079956, 0.49320000410079956, 0.49320000410079956, 0.49320000410079956, 0.49320000410079956, 3.8868000507354736, 3.881500005722046, 3.88100004196167, 3.871799945831299, 3.8461999893188477, 3.822200059890747, 3.764699935913086, 3.671299934387207, 3.428299903869629, 3.2976999282836914, 3.249300003051758, 0.5297999978065491, 0.5297999978065491, 0.5297999978065491, 0.5297999978065491, 0.5297999978065491, 0.5297999978065491, 0.5297999978065491, 0.5297999978065491, 0.5297999978065491, 0.5297999978065491, 0.5297999978065491, 0.5297999978065491, 0.5297999978065491, 0.5297999978065491, 0.5297999978065491, 0.5297999978065491, 0.5297999978065491, 0.5297999978065491, 0.5297999978065491, 0.5297999978065491, 0.5297999978065491, 0.5297999978065491, 0.5297999978065491, 0.5297999978065491, 0.5297999978065491, 0.5297999978065491, 0.5297999978065491, 0.5297999978065491, 0.5297999978065491, 0.5297999978065491, 0.5297999978065491, 0.5297999978065491, 0.5297999978065491, 0.5297999978065491, 0.5297999978065491, 0.5297999978065491, 0.5297999978065491, 0.5297999978065491, 0.5297999978065491, 0.5297999978065491, 0.5297999978065491, 0.5297999978065491, 0.5297999978065491, 0.5297999978065491, 0.5297999978065491, 0.5297999978065491, 0.5297999978065491, 0.5297999978065491, 0.5297999978065491, 0.5297999978065491, 0.5297999978065491, 0.5297999978065491, 0.5297999978065491, 0.5297999978065491, 0.5297999978065491, 0.5297999978065491, 0.5297999978065491, 0.5297999978065491, 0.5297999978065491, 0.5297999978065491, 0.5297999978065491, 0.5297999978065491, 0.5297999978065491, 0.5297999978065491, 0.5297999978065491, 0.5297999978065491, 0.5297999978065491, 0.5297999978065491, 0.5297999978065491, 0.5297999978065491, 0.5297999978065491, 0.5297999978065491, 0.5297999978065491, 0.5297999978065491, 0.5297999978065491, 0.5297999978065491, 0.5297999978065491, 0.5297999978065491, 0.5297999978065491, 0.5297999978065491, 0.5297999978065491, 0.5297999978065491, 0.5297999978065491, 0.5297999978065491, 0.5297999978065491, 0.5297999978065491, 0.5297999978065491, 0.5297999978065491, 0.5297999978065491, 0.5297999978065491, 0.5297999978065491, 0.5297999978065491, 0.5297999978065491, 0.5297999978065491, 0.5297999978065491, 0.5297999978065491, 0.5297999978065491, 0.5297999978065491, 0.5297999978065491, 0.5297999978065491, 0.5297999978065491, 0.5297999978065491, 0.5297999978065491, 0.5297999978065491, 0.5297999978065491, 0.5297999978065491, 0.5297999978065491, 0.5297999978065491, 0.5297999978065491, 0.5297999978065491, 0.5297999978065491, 0.5297999978065491, 0.5297999978065491, 0.5297999978065491, 0.5297999978065491, 0.5297999978065491, 0.5297999978065491, 0.5297999978065491, 3.890199899673462, 3.884500026702881, 3.884200096130371, 3.878499984741211, 3.8770999908447266, 3.799499988555908, 3.7948999404907227, 3.746799945831299, 3.7425999641418457, 3.7425999641418457, 3.7425999641418457, 3.7425999641418457, 3.7425999641418457, 3.7425999641418457, 3.7425999641418457, 3.6972999572753906, 3.6972999572753906, 3.6972999572753906, 0.6656000018119812, 0.30959999561309814, 0.30959999561309814, 0.30959999561309814, 0.30959999561309814, 0.30959999561309814, 0.30959999561309814, 0.30959999561309814, 0.30959999561309814, 0.30959999561309814, 0.30959999561309814, 0.30959999561309814, 0.30959999561309814, 0.30959999561309814, 0.30959999561309814, 0.30959999561309814, 0.30959999561309814, 0.30959999561309814, 0.30959999561309814, 0.30959999561309814, 0.30959999561309814, 0.30959999561309814, 0.30959999561309814, 0.30959999561309814, 0.30959999561309814, 0.30959999561309814, 0.30959999561309814, 0.30959999561309814, 0.30959999561309814, 0.30959999561309814, 0.30959999561309814, 0.30959999561309814, 0.30959999561309814, 0.30959999561309814, 0.30959999561309814, 0.30959999561309814, 0.30959999561309814, 0.30959999561309814, 0.30959999561309814, 3.9481000900268555, 3.9437999725341797, 3.943000078201294, 3.9412999153137207, 3.9403998851776123, 3.9307000637054443, 3.918800115585327, 3.912400007247925, 3.8970000743865967, 3.8931000232696533, 3.890000104904175, 3.873699903488159, 3.8152999877929688, 3.7790000438690186, 3.6882998943328857, 3.628999948501587, 3.0508999824523926, 2.4711999893188477, 0.5958999991416931, 0.5958999991416931, 0.5958999991416931, 0.5958999991416931, 0.5958999991416931, 0.5958999991416931, 0.5958999991416931, 0.5958999991416931, 0.5958999991416931, 0.5958999991416931, 0.5958999991416931, 0.5958999991416931, 0.5958999991416931, 0.5958999991416931, 0.5958999991416931, 0.5958999991416931, 0.5958999991416931, 0.5958999991416931, 0.5958999991416931, 0.5958999991416931, 0.5958999991416931, 0.5958999991416931, 0.5958999991416931, 0.5958999991416931, 0.5958999991416931, 0.5958999991416931, 0.5958999991416931, 0.5958999991416931, 0.5958999991416931, 0.5958999991416931, 0.5958999991416931, 0.5958999991416931, 0.5958999991416931, 0.5958999991416931, 0.5958999991416931, 0.5958999991416931, 0.5958999991416931, 4.231599807739258, 4.228300094604492, 4.223700046539307, 4.220699787139893, 4.207099914550781, 4.139900207519531, 3.8575000762939453, 0.9607999920845032, 0.9607999920845032, 0.9607999920845032, 0.9607999920845032, 0.9607999920845032, 0.9607999920845032, 0.9607999920845032, 0.9607999920845032, 0.9607999920845032, 0.9607999920845032, 0.9607999920845032, 0.9607999920845032, 0.9607999920845032, 0.9607999920845032, 0.9607999920845032, 0.9607999920845032, 0.9607999920845032, 0.9607999920845032, 0.9607999920845032, 0.9607999920845032, 0.9607999920845032, 0.9607999920845032, 0.9607999920845032, 0.9607999920845032, 0.9607999920845032, 0.9607999920845032, 0.9607999920845032, 0.9607999920845032, 0.9607999920845032, 0.9607999920845032, 0.9607999920845032, 0.9607999920845032, 0.9607999920845032, 0.9607999920845032, 0.9607999920845032, 0.9607999920845032, 0.9607999920845032, 0.9607999920845032, 0.9607999920845032, 0.9607999920845032, 0.9607999920845032, 0.9607999920845032, 0.9607999920845032, 0.9607999920845032, 0.9607999920845032, 0.9607999920845032, 0.9607999920845032, 0.9607999920845032, 0.9607999920845032, 0.9607999920845032, 0.9607999920845032, 0.9607999920845032, 0.9607999920845032, 0.9607999920845032, 0.9607999920845032, 0.9607999920845032, 0.9607999920845032, 0.9607999920845032, 0.9607999920845032, 0.9607999920845032, 0.9607999920845032, 0.9607999920845032, 0.9607999920845032, 0.9607999920845032, 0.9607999920845032, 0.9607999920845032, 0.9607999920845032, 0.9607999920845032, 0.9607999920845032, 0.9607999920845032, 0.9607999920845032, 0.9607999920845032, 0.9607999920845032, 0.9607999920845032, 0.9607999920845032, 0.9607999920845032, 0.9607999920845032, 0.9607999920845032, 0.9607999920845032, 0.9607999920845032, 0.9607999920845032, 0.9607999920845032, 0.9607999920845032, 0.9607999920845032, 0.9607999920845032, 0.9607999920845032, 0.9607999920845032, 0.9607999920845032, 0.9607999920845032, 0.9607999920845032, 0.9607999920845032, 0.9607999920845032, 0.9607999920845032, 0.9607999920845032, 0.9607999920845032, 0.9607999920845032, 0.9607999920845032, 0.9607999920845032, 0.9607999920845032, 0.9607999920845032, 0.9607999920845032, 0.9607999920845032, 0.9607999920845032, 0.9607999920845032, 0.9607999920845032, 0.9607999920845032, 0.9607999920845032, 0.9607999920845032, 0.9607999920845032, 0.9607999920845032, 0.9607999920845032, 0.9607999920845032, 0.9607999920845032, 0.9607999920845032, 0.9607999920845032, 0.9607999920845032, 0.9607999920845032, 0.9607999920845032, 0.9607999920845032, 0.9607999920845032, 0.9607999920845032, 0.9607999920845032, 0.9607999920845032, 0.9607999920845032, 0.9607999920845032, 0.9607999920845032, 0.9607999920845032, 0.9607999920845032, 0.9607999920845032, 0.9607999920845032, 0.9607999920845032, 0.9607999920845032, 0.9607999920845032, 0.9607999920845032, 0.9607999920845032, 0.9607999920845032, 0.9607999920845032, 0.9607999920845032, 0.9607999920845032, 0.9607999920845032, 0.9607999920845032, 0.9607999920845032, 0.9607999920845032, 0.9607999920845032, 0.9607999920845032, 0.9607999920845032, 0.9607999920845032, 0.9607999920845032, 0.9607999920845032, 0.9607999920845032, 0.9607999920845032, 0.9607999920845032, 0.9607999920845032, 0.9607999920845032, 0.9607999920845032, 0.9607999920845032, 0.9607999920845032, 0.9607999920845032, 0.9607999920845032, 0.9607999920845032, 0.9607999920845032, 0.9607999920845032, 0.9607999920845032, 0.9607999920845032, 0.9607999920845032, 0.9607999920845032, 0.9607999920845032, 0.9607999920845032, 0.9607999920845032, 0.9607999920845032, 0.9607999920845032, 0.9607999920845032, 0.9607999920845032, 0.9607999920845032, 0.9607999920845032, 0.9607999920845032, 0.9607999920845032, 0.9607999920845032, 0.9607999920845032, 0.9607999920845032, 0.9607999920845032, 0.9607999920845032, 0.9607999920845032, 0.9607999920845032, 0.9607999920845032, 0.9607999920845032, 0.9607999920845032, 0.9607999920845032, 0.9607999920845032, 0.9607999920845032, 0.9607999920845032, 0.9607999920845032, 0.9607999920845032, 0.9607999920845032, 0.9607999920845032, 0.9607999920845032, 0.9607999920845032, 0.9607999920845032, 0.9607999920845032, 0.9607999920845032, 0.9607999920845032, 0.9607999920845032, 0.9607999920845032, 0.9607999920845032, 0.9607999920845032, 0.9607999920845032, 0.9607999920845032, 0.9607999920845032, 0.9607999920845032, 0.9607999920845032, 0.9607999920845032, 0.9607999920845032, 0.9607999920845032, 0.9607999920845032, 0.9607999920845032, 0.9607999920845032, 0.9607999920845032, 0.9607999920845032, 0.9607999920845032, 0.9607999920845032, 0.9607999920845032, 0.9607999920845032, 0.9607999920845032, 0.9607999920845032, 0.9607999920845032, 0.9607999920845032, 0.9607999920845032, 0.9607999920845032, 0.9607999920845032, 0.9607999920845032, 0.9607999920845032, 0.9607999920845032, 0.9607999920845032, 0.9607999920845032, 0.9607999920845032, 0.9607999920845032, 0.9607999920845032, 0.9607999920845032, 0.9607999920845032, 0.9607999920845032, 0.9607999920845032, 0.9607999920845032, 0.9607999920845032, 0.9607999920845032, 0.9607999920845032, 0.9607999920845032, 0.9607999920845032, 0.9607999920845032, 0.9607999920845032, 0.9607999920845032, 0.9607999920845032, 0.9607999920845032, 0.9607999920845032, 0.9607999920845032, 0.9607999920845032, 0.9607999920845032, 0.9607999920845032, 0.9607999920845032, 0.9607999920845032, 0.9607999920845032, 0.9607999920845032, 0.9607999920845032, 0.9607999920845032, 0.9607999920845032, 0.9607999920845032, 0.9607999920845032, 0.9607999920845032, 0.9607999920845032, 0.9607999920845032, 0.9607999920845032, 0.9607999920845032, 0.9607999920845032, 0.9607999920845032, 0.9607999920845032, 0.9607999920845032, 0.9607999920845032, 0.9607999920845032, 0.9607999920845032, 0.9607999920845032, 0.9607999920845032, 4.257500171661377, 4.2428998947143555, 4.236000061035156, 4.220900058746338, 4.204899787902832, 4.201300144195557, 4.193600177764893, 4.17080020904541, 4.132299900054932, 4.118100166320801, 4.1128997802734375, 4.085299968719482, 4.060699939727783, 1.0197999477386475, 1.0197999477386475, 1.0197999477386475, 1.0197999477386475, 1.0197999477386475, 1.0197999477386475, 1.0197999477386475, 1.0197999477386475, 1.0197999477386475, 1.0197999477386475, 1.0197999477386475, 1.0197999477386475, 1.0197999477386475, 1.0197999477386475, 1.0197999477386475, 1.0197999477386475, 1.0197999477386475, 1.0197999477386475, 1.0197999477386475, 1.0197999477386475, 1.0197999477386475, 1.0197999477386475, 1.0197999477386475, 1.0197999477386475, 1.0197999477386475, 1.0197999477386475, 1.0197999477386475, 1.0197999477386475, 1.0197999477386475, 1.0197999477386475, 1.0197999477386475, 1.0197999477386475, 1.0197999477386475, 1.0197999477386475, 1.0197999477386475, 1.0197999477386475, 1.0197999477386475, 1.0197999477386475, 1.0197999477386475, 1.0197999477386475, 1.0197999477386475, 1.0197999477386475, 1.0197999477386475, 1.0197999477386475, -3.455699920654297, 4.644100189208984, 4.6346001625061035, 4.55109977722168, 4.463600158691406, 4.343100070953369, 4.2270002365112305, 4.170199871063232, 4.05810022354126, 3.1867001056671143, 1.087499976158142, 1.087499976158142, 1.087499976158142, 1.087499976158142, 1.087499976158142, 1.087499976158142, 1.087499976158142, 1.087499976158142, 1.087499976158142, 1.087499976158142, 1.087499976158142, 1.087499976158142, 1.087499976158142, 1.087499976158142, 1.087499976158142, 1.087499976158142, 1.087499976158142, 1.087499976158142, 1.087499976158142, 1.087499976158142, 1.087499976158142, 1.087499976158142, 1.087499976158142, 1.087499976158142, 1.087499976158142, 1.087499976158142, 1.087499976158142, 1.087499976158142, 1.087499976158142, 1.087499976158142, 1.087499976158142, 1.087499976158142, 1.087499976158142, 1.087499976158142, 1.087499976158142, 1.087499976158142, 1.087499976158142, 1.087499976158142, 1.087499976158142, 1.087499976158142, 1.087499976158142, 1.087499976158142, 1.087499976158142, 1.087499976158142, 1.087499976158142, 1.087499976158142, 1.087499976158142, 1.087499976158142, 1.087499976158142, 1.087499976158142, 1.087499976158142, 1.087499976158142, 1.087499976158142, 1.087499976158142, 1.087499976158142, 1.087499976158142, 1.087499976158142, 1.087499976158142, 1.087499976158142, 1.087499976158142, 1.087499976158142, 1.087499976158142, 1.087499976158142, 1.087499976158142, 1.087499976158142, 4.96150016784668, 4.94920015335083, 4.792500019073486, 4.6743998527526855, 4.6743998527526855, 1.0853999853134155, 1.0853999853134155, 1.0853999853134155, 1.0853999853134155, 1.0853999853134155, 1.0853999853134155, 1.0853999853134155, 1.0853999853134155, 1.0853999853134155, 1.0853999853134155, 1.0853999853134155, 1.0853999853134155, 1.0853999853134155, 1.0853999853134155, 1.0853999853134155, 1.0853999853134155, 1.0853999853134155, 1.0853999853134155, 1.0853999853134155, 1.0853999853134155, 1.0853999853134155, 1.0853999853134155, 1.0853999853134155, 1.0853999853134155, 1.0853999853134155, 1.0853999853134155, 1.0853999853134155, 1.0853999853134155, 1.0853999853134155, 1.0853999853134155, 1.0853999853134155, 1.0853999853134155, 1.0853999853134155, 1.0853999853134155, 1.0853999853134155, 1.0853999853134155, 1.0853999853134155, 1.0853999853134155, 1.0853999853134155, 1.0853999853134155, 1.0853999853134155, 1.0853999853134155, 1.0853999853134155, 1.0853999853134155, 1.0853999853134155, 1.0853999853134155, 1.0853999853134155, 1.0853999853134155, 1.0853999853134155, 1.0853999853134155, 1.0853999853134155, 1.0853999853134155, 1.0853999853134155, 1.0853999853134155, 1.0853999853134155, 1.0853999853134155, 1.0853999853134155, -4.162300109863281, 5.041999816894531, 5.000699996948242, 4.958899974822998, 4.901000022888184, 4.887700080871582, 4.697400093078613, 4.613100051879883, 1.1303000450134277, 1.1303000450134277, 1.1303000450134277, 1.1303000450134277, 1.1303000450134277, 1.1303000450134277, 1.1303000450134277, 1.1303000450134277, 1.1303000450134277, 1.1303000450134277, 1.1303000450134277, 1.1303000450134277, 1.1303000450134277, 1.1303000450134277, 1.1303000450134277, 1.1303000450134277, 1.1303000450134277, 1.1303000450134277, 1.1303000450134277, 1.1303000450134277, 1.1303000450134277, 1.1303000450134277, 1.1303000450134277, 1.1303000450134277, 1.1303000450134277, 1.1303000450134277, 1.1303000450134277, 1.1303000450134277, 1.1303000450134277, 1.1303000450134277, 1.1303000450134277, 1.1303000450134277, 1.1303000450134277, 1.1303000450134277, 1.1303000450134277, 1.1303000450134277, 1.1303000450134277, 1.1303000450134277, 1.1303000450134277, 1.1303000450134277, 1.1303000450134277, 1.1303000450134277, 1.1303000450134277, 1.1303000450134277, 1.1303000450134277, 1.1303000450134277, 1.1303000450134277, 1.1303000450134277, 1.1303000450134277, 1.1303000450134277, 1.1303000450134277, 1.1303000450134277, 1.1303000450134277, 1.1303000450134277, 1.1303000450134277, 1.1303000450134277, 1.1303000450134277, 1.1303000450134277, 1.1303000450134277, 1.1303000450134277, 1.1303000450134277, 1.1303000450134277, 1.1303000450134277, 1.1303000450134277, 1.1303000450134277, 1.1303000450134277, 1.1303000450134277, 1.1303000450134277, 1.1303000450134277, 1.1303000450134277, 1.1303000450134277, 6.505499839782715, 1.6196000576019287, 1.6196000576019287, 1.6196000576019287, 1.6196000576019287, 1.6196000576019287, 1.6196000576019287, 1.6196000576019287, 1.6196000576019287, 1.6196000576019287, 1.6196000576019287, 1.6196000576019287, 1.6196000576019287, 1.6196000576019287, 1.6196000576019287, 1.6196000576019287, 1.6196000576019287, 1.6196000576019287, 1.6196000576019287, 1.6196000576019287, 1.6196000576019287, 1.6196000576019287, 1.6196000576019287, 1.6196000576019287, 1.6196000576019287, 1.6196000576019287, 1.6196000576019287, 1.6196000576019287, 1.6196000576019287, 1.6196000576019287, 1.6196000576019287, 1.6196000576019287, 1.6196000576019287, 1.6196000576019287, 1.6196000576019287, 1.6196000576019287, 1.6196000576019287, 1.6196000576019287, 1.6196000576019287, 1.6196000576019287, 1.6196000576019287, 1.6196000576019287, 1.6196000576019287, 1.6196000576019287, 1.6196000576019287, 1.6196000576019287, 1.6196000576019287, 1.6196000576019287, 1.6196000576019287, 1.6196000576019287, 1.6196000576019287, 1.6196000576019287, 1.6196000576019287, 1.6196000576019287, 1.6196000576019287, 1.6196000576019287, 1.6196000576019287, 1.6196000576019287, 1.6196000576019287, 1.6196000576019287, 1.6196000576019287, 1.6196000576019287, 1.6196000576019287, 1.6196000576019287, 1.6196000576019287, 1.6196000576019287, 1.6196000576019287, 1.6196000576019287, 1.6196000576019287, 1.6196000576019287, 1.6196000576019287, 1.6196000576019287, 1.6196000576019287, 1.6196000576019287, 1.6196000576019287, 1.6196000576019287, 1.6196000576019287, 1.6196000576019287, 1.6196000576019287, 1.6196000576019287, 1.6196000576019287, 1.6196000576019287, 1.6196000576019287, 1.6196000576019287, 1.6196000576019287, 1.6196000576019287, 1.6196000576019287, 1.6196000576019287, 1.6196000576019287, 1.6196000576019287, 1.6196000576019287, 1.6196000576019287, 1.6196000576019287, 1.6196000576019287, 1.6196000576019287, 1.6196000576019287, 1.6196000576019287, 1.6196000576019287, 1.6196000576019287, 1.6196000576019287, 1.6196000576019287, 1.6196000576019287, 1.6196000576019287, 1.6196000576019287, 1.6196000576019287, 1.6196000576019287, 1.6196000576019287, 1.6196000576019287, 1.6196000576019287, 1.6196000576019287, 1.6196000576019287, 1.6196000576019287, 1.6196000576019287, 1.6196000576019287, 1.6196000576019287, 1.6196000576019287, 1.6196000576019287, 1.6196000576019287, 1.6196000576019287, 1.6196000576019287, 1.6196000576019287, 1.6196000576019287, 1.6196000576019287, 1.6196000576019287, 1.6196000576019287, 1.6196000576019287, 1.6196000576019287, 1.6196000576019287, 1.6196000576019287, 1.6196000576019287, 1.6196000576019287, 1.6196000576019287, 1.6196000576019287, 1.6196000576019287, 1.6196000576019287, 1.6196000576019287, 1.6196000576019287, 1.6196000576019287, 1.6196000576019287, 1.6196000576019287, 1.6196000576019287, 1.6196000576019287, 1.6196000576019287, 1.6196000576019287, 1.6196000576019287, 1.6196000576019287, 1.6196000576019287, 1.6196000576019287, 1.6196000576019287, 1.6196000576019287, 1.6196000576019287, 1.6196000576019287, 1.6196000576019287, 1.6196000576019287, 1.6196000576019287, 1.6196000576019287, 1.6196000576019287, 1.6196000576019287, 1.6196000576019287, 1.6196000576019287, 1.6196000576019287, 1.6196000576019287, 1.6196000576019287, 1.6196000576019287, 1.6196000576019287, 1.6196000576019287, 1.6196000576019287, 1.6196000576019287, 1.6196000576019287, 1.6196000576019287, 1.6196000576019287, 1.6196000576019287, 1.6196000576019287, 1.6196000576019287, 1.6196000576019287, 1.6196000576019287, 1.6196000576019287, 1.6196000576019287], \"logprob\": [30.0, 29.0, 28.0, 27.0, 26.0, 25.0, 24.0, 23.0, 22.0, 21.0, 20.0, 19.0, 18.0, 17.0, 16.0, 15.0, 14.0, 13.0, 12.0, 11.0, 10.0, 9.0, 8.0, 7.0, 6.0, 5.0, 4.0, 3.0, 2.0, 1.0, -2.121799945831299, -2.5006000995635986, -2.8403000831604004, -2.8924999237060547, -3.1596999168395996, -3.490499973297119, -3.502700090408325, -3.6475000381469727, -3.933199882507324, -3.9760000705718994, -4.095900058746338, -4.115900039672852, -4.127200126647949, -4.181099891662598, -4.24560022354126, -4.265999794006348, -4.378499984741211, -4.514900207519531, -4.567399978637695, -4.583399772644043, -4.5970001220703125, -4.623899936676025, -4.63700008392334, -4.656499862670898, -4.679800033569336, -4.68120002746582, -4.70389986038208, -4.771699905395508, -4.832200050354004, -4.8628997802734375, -3.2699999809265137, -3.7441000938415527, -4.206999778747559, -2.529900074005127, -2.851599931716919, -3.037100076675415, -3.1180999279022217, -3.2809998989105225, -3.60509991645813, -3.787400007247925, -3.870800018310547, -3.880000114440918, -3.9477999210357666, -3.9481000900268555, -3.976300001144409, -3.9916000366210938, -3.9988999366760254, -4.015999794006348, -4.062399864196777, -4.080900192260742, -4.084099769592285, -4.087100028991699, -4.093200206756592, -4.1631999015808105, -4.299900054931641, -4.301599979400635, -4.4334001541137695, -4.489799976348877, -4.545599937438965, -4.6442999839782715, -4.70419979095459, -4.747399806976318, -4.781099796295166, -4.566500186920166, -4.2652997970581055, -3.591599941253662, -1.4375, -2.4386000633239746, -2.735100030899048, -2.842400074005127, -3.0790998935699463, -3.245800018310547, -3.312299966812134, -3.425800085067749, -3.4800000190734863, -3.8032000064849854, -4.116099834442139, -4.128600120544434, -2.3085999488830566, -4.252799987792969, -4.3420000076293945, -4.388000011444092, -4.7820000648498535, -4.861000061035156, -4.96619987487793, -4.998799800872803, -5.122900009155273, -5.167699813842773, -5.602499961853027, -5.65500020980835, -6.019700050354004, -6.364999771118164, -5.437300205230713, -10.78380012512207, -10.78380012512207, -10.78380012512207, -10.78380012512207, -5.846199989318848, -10.78380012512207, -0.6373999714851379, -1.756700038909912, -2.5116000175476074, -2.857599973678589, -3.2743000984191895, -4.143599987030029, -4.462900161743164, -5.1194000244140625, -5.3394999504089355, -6.110799789428711, -8.793299674987793, -11.11460018157959, -11.11460018157959, -11.11460018157959, -11.11460018157959, -11.11460018157959, -11.11460018157959, -11.11460018157959, -11.11460018157959, -11.11460018157959, -11.11460018157959, -11.11460018157959, -11.11460018157959, -11.11460018157959, -11.11460018157959, -11.11460018157959, -11.11460018157959, -11.11460018157959, -11.11460018157959, -11.11460018157959, -11.11460018157959, -11.11460018157959, -11.11460018157959, -11.11460018157959, -11.11460018157959, -11.11460018157959, -11.11460018157959, -11.11460018157959, -11.11460018157959, -11.11460018157959, -11.11460018157959, -11.11460018157959, -11.11460018157959, -11.11460018157959, -11.11460018157959, -11.11460018157959, -11.11460018157959, -11.11460018157959, -11.11460018157959, -11.11460018157959, -11.11460018157959, -11.11460018157959, -11.11460018157959, -11.11460018157959, -11.11460018157959, -11.11460018157959, -11.11460018157959, -11.11460018157959, -11.11460018157959, -11.11460018157959, -11.11460018157959, -11.11460018157959, -11.11460018157959, -11.11460018157959, -11.11460018157959, -11.11460018157959, -11.11460018157959, -11.11460018157959, -11.11460018157959, -11.11460018157959, -11.11460018157959, -11.11460018157959, -11.11460018157959, -11.11460018157959, -11.11460018157959, -11.11460018157959, -11.11460018157959, -11.11460018157959, -11.11460018157959, -11.11460018157959, -11.11460018157959, -11.11460018157959, -11.11460018157959, -11.11460018157959, -11.11460018157959, -11.114500045776367, -11.11460018157959, -11.11460018157959, -1.4492000341415405, -1.9456000328063965, -2.740000009536743, -2.9518001079559326, -3.2588000297546387, -3.3859000205993652, -3.8636999130249023, -3.969899892807007, -4.069399833679199, -4.093599796295166, -4.320099830627441, -4.408199787139893, -4.418099880218506, -4.573699951171875, -4.583499908447266, -4.6631999015808105, -4.70359992980957, -4.828700065612793, -4.885200023651123, -4.999499797821045, -3.123699903488159, -5.039999961853027, -5.090799808502197, -5.184599876403809, -5.215199947357178, -5.264500141143799, -5.353000164031982, -5.443299770355225, -5.445899963378906, -5.566299915313721, -3.1668999195098877, -1.663599967956543, -2.205199956893921, -2.2939000129699707, -2.345599889755249, -2.6630001068115234, -2.8531999588012695, -2.837399959564209, -3.348599910736084, -3.355600118637085, -3.8129000663757324, -4.307600021362305, -4.357399940490723, -4.480100154876709, -4.928500175476074, -4.933300018310547, -4.980599880218506, -5.2469000816345215, -5.425000190734863, -5.77239990234375, -5.963500022888184, -6.363500118255615, -6.994500160217285, -7.308199882507324, -7.510300159454346, -8.324700355529785, -10.542099952697754, -10.542099952697754, -10.542099952697754, -10.542099952697754, -10.542099952697754, -5.930500030517578, -10.542099952697754, -10.542099952697754, -10.542099952697754, -10.542099952697754, -10.542099952697754, -10.542099952697754, -10.542099952697754, -10.542099952697754, -10.542099952697754, -10.542099952697754, -1.5134999752044678, -2.5580999851226807, -2.892699956893921, -3.0715999603271484, -3.085099935531616, -3.21370005607605, -3.224600076675415, -3.402899980545044, -3.546799898147583, -3.5748000144958496, -3.694700002670288, -3.762700080871582, -3.9291999340057373, -4.44980001449585, -4.49370002746582, -4.506499767303467, -4.567599773406982, -4.643899917602539, -4.690700054168701, -4.911300182342529, -4.962299823760986, -4.968400001525879, -5.265399932861328, -5.359600067138672, -5.75029993057251, -3.175600051879883, -5.758900165557861, -5.800300121307373, -5.894700050354004, -5.975500106811523, -2.192199945449829, -2.3756000995635986, -2.5188000202178955, -2.7844998836517334, -3.1078999042510986, -3.286600112915039, -3.3036999702453613, -3.5320000648498535, -3.5329999923706055, -3.860300064086914, -4.0208001136779785, -4.093999862670898, -4.170300006866455, -4.218200206756592, -4.218200206756592, -4.218200206756592, -4.218200206756592, -4.218200206756592, -4.232900142669678, -4.3597002029418945, -4.429100036621094, -4.456399917602539, -4.525000095367432, -4.552700042724609, -4.892000198364258, -5.830100059509277, -5.959199905395508, -6.59089994430542, -6.8694000244140625, -2.6094000339508057, -4.880000114440918, -1.9687999486923218, -2.087100028991699, -2.2095000743865967, -2.421999931335449, -2.8635001182556152, -3.012399911880493, -3.0671000480651855, -3.18969988822937, -3.539400100708008, -3.6933000087738037, -3.8132998943328857, -4.077700138092041, -4.0833001136779785, -4.272799968719482, -4.451399803161621, -4.923999786376953, -4.923999786376953, -6.242800235748291, -6.487800121307373, -10.267600059509277, -10.267600059509277, -10.267600059509277, -10.267600059509277, -10.267600059509277, -10.267600059509277, -10.267600059509277, -10.267600059509277, -10.267600059509277, -10.267600059509277, -10.267600059509277, -10.267600059509277, -10.267600059509277, -10.267600059509277, -10.267600059509277, -10.267600059509277, -10.267600059509277, -10.267600059509277, -10.267600059509277, -10.267600059509277, -10.267600059509277, -10.267600059509277, -10.267600059509277, -10.267600059509277, -10.267600059509277, -10.267600059509277, -10.267600059509277, -10.267600059509277, -10.267600059509277, -10.267600059509277, -10.267600059509277, -10.267600059509277, -10.267600059509277, -10.267600059509277, -10.267600059509277, -10.267600059509277, -10.267600059509277, -10.267600059509277, -10.267600059509277, -10.267600059509277, -1.0569000244140625, -1.7928999662399292, -1.8846999406814575, -2.1821999549865723, -4.0447998046875, -6.801799774169922, -10.2076997756958, -10.2076997756958, -10.2076997756958, -10.2076997756958, -10.2076997756958, -10.2076997756958, -10.2076997756958, -10.2076997756958, -10.2076997756958, -10.2076997756958, -10.2076997756958, -10.2076997756958, -10.2076997756958, -10.2076997756958, -10.2076997756958, -10.2076997756958, -10.2076997756958, -10.2076997756958, -10.2076997756958, -10.2076997756958, -10.2076997756958, -10.2076997756958, -10.2076997756958, -10.2076997756958, -10.2076997756958, -10.2076997756958, -10.2076997756958, -10.2076997756958, -10.2076997756958, -10.2076997756958, -10.2076997756958, -10.2076997756958, -10.2076997756958, -10.2076997756958, -10.2076997756958, -10.2076997756958, -10.2076997756958, -10.2076997756958, -10.2076997756958, -10.2076997756958, -10.2076997756958, -10.2076997756958, -10.2076997756958, -10.2076997756958, -10.2076997756958, -10.2076997756958, -10.2076997756958, -10.2076997756958, -10.2076997756958, -10.2076997756958, -10.2076997756958, -10.2076997756958, -10.2076997756958, -10.2076997756958, -10.2076997756958, -10.2076997756958, -10.2076997756958, -10.2076997756958, -10.2076997756958, -10.2076997756958, -10.2076997756958, -10.2076997756958, -10.2076997756958, -10.2076997756958, -10.2076997756958, -10.2076997756958, -10.2076997756958, -10.197199821472168, -1.2265000343322754, -2.180299997329712, -2.34879994392395, -2.768699884414673, -3.092600107192993, -3.1939001083374023, -3.945499897003174, -3.966099977493286, -4.112800121307373, -4.186100006103516, -4.2789998054504395, -4.8043999671936035, -4.941500186920166, -9.996600151062012, -9.996600151062012, -9.996600151062012, -9.996600151062012, -9.996600151062012, -9.996600151062012, -9.996600151062012, -9.996600151062012, -9.996600151062012, -9.996600151062012, -9.996600151062012, -9.996600151062012, -9.996600151062012, -9.996600151062012, -9.996600151062012, -9.996600151062012, -9.996600151062012, -9.996600151062012, -9.996600151062012, -9.996600151062012, -9.996600151062012, -9.996600151062012, -9.996600151062012, -9.996600151062012, -9.996600151062012, -9.996600151062012, -9.996600151062012, -9.996600151062012, -9.996600151062012, -9.996600151062012, -9.996600151062012, -9.996600151062012, -9.996600151062012, -9.996600151062012, -9.996600151062012, -9.996600151062012, -9.996600151062012, -9.996600151062012, -9.996600151062012, -9.996600151062012, -9.996600151062012, -9.996600151062012, -9.996600151062012, -9.996600151062012, -9.996600151062012, -9.996600151062012, -9.996600151062012, -9.996600151062012, -9.996600151062012, -9.996600151062012, -9.996600151062012, -9.996600151062012, -9.996600151062012, -9.996600151062012, -9.996600151062012, -9.996600151062012, -9.996600151062012, -9.996600151062012, -9.996600151062012, -9.996600151062012, -9.996600151062012, -9.996600151062012, -9.996600151062012, -9.996600151062012, -9.996600151062012, -9.996600151062012, -9.996600151062012, -9.996600151062012, -9.996600151062012, -0.772599995136261, -2.5104000568389893, -2.7172000408172607, -2.956399917602539, -3.1291000843048096, -3.7992000579833984, -4.184899806976318, -4.214200019836426, -4.722599983215332, -4.855500221252441, -10.121600151062012, -10.121600151062012, -10.121600151062012, -10.121600151062012, -10.121600151062012, -10.121600151062012, -10.121600151062012, -10.121600151062012, -10.121600151062012, -10.121600151062012, -10.121600151062012, -10.121600151062012, -10.121600151062012, -10.121600151062012, -10.121600151062012, -10.121600151062012, -10.121600151062012, -10.121600151062012, -10.121600151062012, -10.121600151062012, -10.121600151062012, -10.121600151062012, -5.236700057983398, -10.121600151062012, -10.121600151062012, -10.121600151062012, -10.121600151062012, -10.121600151062012, -10.121600151062012, -10.121600151062012, -10.121600151062012, -10.121600151062012, -10.121600151062012, -10.121600151062012, -10.121600151062012, -10.121600151062012, -10.121600151062012, -2.8415000438690186, -2.951200008392334, -2.95169997215271, -2.9809000492095947, -2.9976000785827637, -3.0385000705718994, -3.2848000526428223, -3.3821001052856445, -3.635699987411499, -3.6477999687194824, -3.6926000118255615, -3.7509000301361084, -3.7769999504089355, -3.9781999588012695, -4.040299892425537, -4.08519983291626, -4.093500137329102, -4.383200168609619, -4.508900165557861, -4.625899791717529, -4.666500091552734, -4.78879976272583, -4.828199863433838, -4.911600112915039, -5.004499912261963, -5.322400093078613, -5.36959981918335, -5.677700042724609, -5.7067999839782715, -5.874899864196777, -3.475399971008301, -5.068299770355225, -2.3921000957489014, -2.571700096130371, -2.6066999435424805, -2.6582000255584717, -2.924799919128418, -2.940500020980835, -2.978300094604492, -3.0859999656677246, -3.1045000553131104, -3.341099977493286, -3.8489999771118164, -3.8742001056671143, -3.893399953842163, -3.996999979019165, -4.012800216674805, -4.20989990234375, -4.212600231170654, -4.476099967956543, -4.679599761962891, -4.74560022354126, -5.424499988555908, -7.9369001388549805, -10.026200294494629, -10.026200294494629, -10.026200294494629, -10.026200294494629, -10.026200294494629, -10.026200294494629, -10.026200294494629, -10.026200294494629, -10.026200294494629, -10.026200294494629, -10.026200294494629, -10.026200294494629, -10.026200294494629, -10.026200294494629, -10.026200294494629, -10.026200294494629, -10.026200294494629, -10.026200294494629, -10.026200294494629, -10.026200294494629, -10.026200294494629, -10.026200294494629, -10.026200294494629, -10.026200294494629, -10.026200294494629, -10.026200294494629, -2.2046000957489014, -2.8847999572753906, -2.962899923324585, -3.263400077819824, -3.4779000282287598, -3.4823999404907227, -3.759399890899658, -3.7688000202178955, -3.805000066757202, -3.875999927520752, -3.9205000400543213, -4.051300048828125, -4.117000102996826, -4.1697001457214355, -4.1697001457214355, -4.1697001457214355, -4.1697001457214355, -4.1697001457214355, -4.292200088500977, -4.391200065612793, -2.868799924850464, -5.17609977722168, -5.518099784851074, -6.223100185394287, -2.4175000190734863, -3.562700033187866, -4.214099884033203, -10.054400444030762, -10.054400444030762, -10.054400444030762, -10.054400444030762, -10.054400444030762, -10.054400444030762, -10.054400444030762, -10.054400444030762, -10.054400444030762, -10.054400444030762, -10.054400444030762, -2.6552000045776367, -2.765000104904175, -2.920300006866455, -0.8292999863624573, -3.243000030517578, -3.8090999126434326, -5.720300197601318, -6.537899971008301, -9.780699729919434, -9.780699729919434, -9.780699729919434, -9.780699729919434, -9.780699729919434, -9.780699729919434, -9.780699729919434, -9.780699729919434, -9.780699729919434, -9.780699729919434, -9.780699729919434, -9.780699729919434, -9.780699729919434, -9.780699729919434, -9.780699729919434, -9.780699729919434, -9.780699729919434, -9.780699729919434, -9.780699729919434, -9.780699729919434, -9.780699729919434, -9.780699729919434, -9.780699729919434, -9.780699729919434, -9.780699729919434, -9.780699729919434, -9.780699729919434, -9.780699729919434, -9.780699729919434, -9.780699729919434, -9.780699729919434, -9.780699729919434, -9.780699729919434, -9.780699729919434, -9.780699729919434, -9.780699729919434, -9.780699729919434, -9.780699729919434, -9.780699729919434, -9.780699729919434, -9.780699729919434, -9.780699729919434, -9.780699729919434, -9.780699729919434, -9.780699729919434, -9.780699729919434, -9.780699729919434, -9.780699729919434, -9.780699729919434, -9.780699729919434, -9.780699729919434, -9.780699729919434, -9.780699729919434, -9.780699729919434, -9.780699729919434, -9.780699729919434, -9.780699729919434, -9.780699729919434, -9.780699729919434, -9.780699729919434, -9.780699729919434, -9.780699729919434, -9.780699729919434, -9.780699729919434, -9.780699729919434, -9.780699729919434, -9.780699729919434, -9.780699729919434, -9.780699729919434, -9.780699729919434, -9.780699729919434, -9.780699729919434, -9.780699729919434, -9.780699729919434, -9.780699729919434, -9.780699729919434, -9.780699729919434, -9.780699729919434, -9.780699729919434, -9.780699729919434, -9.780699729919434, -9.780699729919434, -9.780699729919434, -9.780699729919434, -9.780699729919434, -9.780699729919434, -9.780699729919434, -9.780699729919434, -9.780699729919434, -9.780699729919434, -9.780699729919434, -9.780699729919434, -9.780699729919434, -9.780699729919434, -9.780699729919434, -9.780699729919434, -9.780699729919434, -9.780699729919434, -9.780699729919434, -9.780699729919434, -9.780699729919434, -9.780699729919434, -9.780699729919434, -9.780699729919434, -9.780699729919434, -9.780699729919434, -9.780699729919434, -9.780699729919434, -9.780699729919434, -9.780699729919434, -9.780699729919434, -9.780699729919434, -9.780699729919434, -9.780699729919434, -9.780699729919434, -9.780699729919434, -9.780699729919434, -9.780699729919434, -9.780699729919434, -9.780699729919434, -9.780699729919434, -1.5785000324249268, -1.992799997329712, -2.589400053024292, -2.631200075149536, -2.745500087738037, -3.5423998832702637, -3.732300043106079, -4.15939998626709, -4.23390007019043, -4.23390007019043, -4.360000133514404, -4.578199863433838, -4.731500148773193, -6.347799777984619, -3.9289000034332275, -9.829500198364258, -9.829500198364258, -9.829500198364258, -9.829500198364258, -9.829500198364258, -9.829500198364258, -9.829500198364258, -9.829500198364258, -9.829500198364258, -9.829500198364258, -9.829500198364258, -9.829500198364258, -9.829500198364258, -9.829500198364258, -9.829500198364258, -9.829500198364258, -9.829500198364258, -9.829500198364258, -9.829500198364258, -9.829500198364258, -9.829500198364258, -9.829500198364258, -9.829500198364258, -9.829500198364258, -9.829500198364258, -9.829500198364258, -9.829500198364258, -9.829500198364258, -9.829500198364258, -9.829500198364258, -9.829500198364258, -9.829500198364258, -1.4996000528335571, -2.062999963760376, -2.1084001064300537, -2.656899929046631, -3.4423000812530518, -3.86299991607666, -4.481200218200684, -5.0742998123168945, -5.941199779510498, -6.259500026702881, -2.5713999271392822, -9.792900085449219, -9.792900085449219, -9.792900085449219, -9.792900085449219, -9.792900085449219, -9.792900085449219, -9.792900085449219, -9.792900085449219, -9.792900085449219, -9.792900085449219, -9.792900085449219, -9.792900085449219, -9.792900085449219, -9.792900085449219, -9.792900085449219, -9.792900085449219, -9.792900085449219, -9.792900085449219, -9.792900085449219, -9.792900085449219, -9.792900085449219, -9.792900085449219, -9.792900085449219, -9.792900085449219, -9.792900085449219, -9.792900085449219, -9.792900085449219, -9.792900085449219, -9.792900085449219, -9.792900085449219, -9.792900085449219, -9.792900085449219, -9.792900085449219, -9.792900085449219, -9.792900085449219, -9.792900085449219, -9.792900085449219, -9.792900085449219, -9.792900085449219, -9.792900085449219, -9.792900085449219, -9.792900085449219, -9.792900085449219, -9.792900085449219, -9.792900085449219, -9.792900085449219, -9.792900085449219, -9.792900085449219, -9.792900085449219, -9.792900085449219, -9.792900085449219, -9.792900085449219, -9.792900085449219, -9.792900085449219, -9.792900085449219, -9.792900085449219, -9.792900085449219, -9.792900085449219, -9.792900085449219, -9.792900085449219, -9.792900085449219, -9.792900085449219, -9.792900085449219, -9.792900085449219, -9.792900085449219, -9.792900085449219, -9.792900085449219, -9.792900085449219, -9.792900085449219, -9.792900085449219, -9.792900085449219, -9.792900085449219, -9.792900085449219, -9.792900085449219, -9.792900085449219, -9.792900085449219, -9.792900085449219, -9.792900085449219, -9.792900085449219, -9.792900085449219, -9.792900085449219, -9.792900085449219, -9.792900085449219, -9.792900085449219, -9.792900085449219, -9.792900085449219, -9.792900085449219, -9.792900085449219, -9.792900085449219, -9.792900085449219, -9.792900085449219, -9.792900085449219, -9.792900085449219, -9.792900085449219, -9.792900085449219, -9.792900085449219, -9.792900085449219, -9.792900085449219, -9.792900085449219, -9.792900085449219, -9.792900085449219, -9.792900085449219, -9.792900085449219, -9.792900085449219, -9.792900085449219, -9.792900085449219, -9.792900085449219, -9.792900085449219, -9.792900085449219, -9.792900085449219, -9.792900085449219, -9.792900085449219, -9.792900085449219, -9.792900085449219, -9.792900085449219, -9.792900085449219, -9.792900085449219, -9.792900085449219, -1.5271999835968018, -2.11080002784729, -2.1338999271392822, -2.493799924850464, -2.568700075149536, -4.179200172424316, -4.22730016708374, -4.636499881744385, -4.666399955749512, -4.666399955749512, -4.666399955749512, -4.666399955749512, -4.666399955749512, -4.666399955749512, -4.666399955749512, -4.946199893951416, -4.946199893951416, -4.946199893951416, -4.446100234985352, -10.013199806213379, -10.013199806213379, -10.013199806213379, -10.013199806213379, -10.013199806213379, -10.013199806213379, -10.013199806213379, -10.013199806213379, -10.013199806213379, -10.013199806213379, -10.013199806213379, -10.013199806213379, -10.013199806213379, -10.013199806213379, -10.013199806213379, -10.013199806213379, -10.013199806213379, -10.013199806213379, -10.013199806213379, -10.013199806213379, -10.013199806213379, -10.013199806213379, -10.013199806213379, -10.013199806213379, -10.013199806213379, -10.013199806213379, -10.013199806213379, -10.013199806213379, -10.013199806213379, -10.013199806213379, -10.013199806213379, -10.013199806213379, -10.013199806213379, -10.013199806213379, -10.013199806213379, -10.013199806213379, -10.013199806213379, -10.013199806213379, -2.40120005607605, -2.613600015640259, -2.6487998962402344, -2.717400074005127, -2.7558000087738037, -3.077500104904175, -3.3694000244140625, -3.4995999336242676, -3.7585999965667725, -3.8153998851776123, -3.8575000762939453, -4.059299945831299, -4.5777997970581055, -4.811699867248535, -5.253699779510498, -5.478400230407715, -2.4537999629974365, -7.632699966430664, -9.726900100708008, -9.726900100708008, -9.726900100708008, -9.726900100708008, -9.726900100708008, -9.726900100708008, -9.726900100708008, -9.726900100708008, -9.726900100708008, -9.726900100708008, -9.726900100708008, -9.726900100708008, -9.726900100708008, -9.726900100708008, -9.726900100708008, -9.726900100708008, -9.726900100708008, -9.726900100708008, -9.726900100708008, -9.726900100708008, -9.726900100708008, -9.726900100708008, -9.726900100708008, -9.726900100708008, -9.726900100708008, -9.726900100708008, -9.726900100708008, -9.726900100708008, -9.726900100708008, -9.726900100708008, -9.726900100708008, -9.726900100708008, -9.726900100708008, -9.726900100708008, -9.726900100708008, -9.726900100708008, -9.726900100708008, -1.9144999980926514, -2.1157000064849854, -2.343600034713745, -2.4700000286102295, -2.8991000652313232, -3.930000066757202, -5.3709001541137695, -9.362000465393066, -9.362000465393066, -9.362000465393066, -9.362000465393066, -9.362000465393066, -9.362000465393066, -9.362000465393066, -9.362000465393066, -9.362000465393066, -9.362000465393066, -9.362000465393066, -9.362000465393066, -9.362000465393066, -9.362000465393066, -9.362000465393066, -9.362000465393066, -9.362000465393066, -9.362000465393066, -9.362000465393066, -9.362000465393066, -9.362000465393066, -9.362000465393066, -9.362000465393066, -9.362000465393066, -9.362000465393066, -9.362000465393066, -9.362000465393066, -9.362000465393066, -9.362000465393066, -9.362000465393066, -9.362000465393066, -9.362000465393066, -9.362000465393066, -9.362000465393066, -9.362000465393066, -9.362000465393066, -9.362000465393066, -9.362000465393066, -9.362000465393066, -9.362000465393066, -9.362000465393066, -9.362000465393066, -9.362000465393066, -9.362000465393066, -9.362000465393066, -9.362000465393066, -9.362000465393066, -9.362000465393066, -9.362000465393066, -9.362000465393066, -9.362000465393066, -9.362000465393066, -9.362000465393066, -9.362000465393066, -9.362000465393066, -9.362000465393066, -9.362000465393066, -9.362000465393066, -9.362000465393066, -9.362000465393066, -9.362000465393066, -9.362000465393066, -9.362000465393066, -9.362000465393066, -9.362000465393066, -9.362000465393066, -9.362000465393066, -9.362000465393066, -9.362000465393066, -9.362000465393066, -9.362000465393066, -9.362000465393066, -9.362000465393066, -9.362000465393066, -9.362000465393066, -9.362000465393066, -9.362000465393066, -9.362000465393066, -9.362000465393066, -9.362000465393066, -9.362000465393066, -9.362000465393066, -9.362000465393066, -9.362000465393066, -9.362000465393066, -9.362000465393066, -9.362000465393066, -9.362000465393066, -9.362000465393066, -9.362000465393066, -9.362000465393066, -9.362000465393066, -9.362000465393066, -9.362000465393066, -9.362000465393066, -9.362000465393066, -9.362000465393066, -9.362000465393066, -9.362000465393066, -9.362000465393066, -9.362000465393066, -9.362000465393066, -9.362000465393066, -9.362000465393066, -9.362000465393066, -9.362000465393066, -9.362000465393066, -9.362000465393066, -9.362000465393066, -9.362000465393066, -9.362000465393066, -9.362000465393066, -9.362000465393066, -9.362000465393066, -9.362000465393066, -9.362000465393066, -9.362000465393066, -9.362000465393066, -9.362000465393066, -9.362000465393066, -9.362000465393066, -9.362000465393066, -9.362000465393066, -9.362000465393066, -9.362000465393066, -9.362000465393066, -9.362000465393066, -9.362000465393066, -9.362000465393066, -9.362000465393066, -9.362000465393066, -9.362000465393066, -9.362000465393066, -9.362000465393066, -9.362000465393066, -9.362000465393066, -9.362000465393066, -9.362000465393066, -9.362000465393066, -9.362000465393066, -9.362000465393066, -9.362000465393066, -9.362000465393066, -9.362000465393066, -9.362000465393066, -9.362000465393066, -9.362000465393066, -9.362000465393066, -9.362000465393066, -9.362000465393066, -9.362000465393066, -9.362000465393066, -9.362000465393066, -9.362000465393066, -9.362000465393066, -9.362000465393066, -9.362000465393066, -9.362000465393066, -9.362000465393066, -9.362000465393066, -9.362000465393066, -9.362000465393066, -9.362000465393066, -9.362000465393066, -9.362000465393066, -9.362000465393066, -9.362000465393066, -9.362000465393066, -9.362000465393066, -9.362000465393066, -9.362000465393066, -9.362000465393066, -9.362000465393066, -9.362000465393066, -9.362000465393066, -9.362000465393066, -9.362000465393066, -9.362000465393066, -9.362000465393066, -9.362000465393066, -9.362000465393066, -9.362000465393066, -9.362000465393066, -9.362000465393066, -9.362000465393066, -9.362000465393066, -9.362000465393066, -9.362000465393066, -9.362000465393066, -9.362000465393066, -9.362000465393066, -9.362000465393066, -9.362000465393066, -9.362000465393066, -9.362000465393066, -9.362000465393066, -9.362000465393066, -9.362000465393066, -9.362000465393066, -9.362000465393066, -9.362000465393066, -9.362000465393066, -9.362000465393066, -9.362000465393066, -9.362000465393066, -9.362000465393066, -9.362000465393066, -9.362000465393066, -9.362000465393066, -9.362000465393066, -9.362000465393066, -9.362000465393066, -9.362000465393066, -9.362000465393066, -9.362000465393066, -9.362000465393066, -9.362000465393066, -9.362000465393066, -9.362000465393066, -9.362000465393066, -9.362000465393066, -9.362000465393066, -9.362000465393066, -9.362000465393066, -9.362000465393066, -9.362000465393066, -9.362000465393066, -9.362000465393066, -9.362000465393066, -9.362000465393066, -9.362000465393066, -9.362000465393066, -9.362000465393066, -9.362000465393066, -9.362000465393066, -9.362000465393066, -9.362000465393066, -9.362000465393066, -9.362000465393066, -9.362000465393066, -9.362000465393066, -9.362000465393066, -9.362000465393066, -9.362000465393066, -9.362000465393066, -9.362000465393066, -9.362000465393066, -9.362000465393066, -9.362000465393066, -9.362000465393066, -9.362000465393066, -9.362000465393066, -9.362000465393066, -9.362000465393066, -9.362000465393066, -9.362000465393066, -9.362000465393066, -9.362000465393066, -9.362000465393066, -9.362000465393066, -9.362000465393066, -9.362000465393066, -9.362000465393066, -9.362000465393066, -9.362000465393066, -9.362000465393066, -9.362000465393066, -9.362000465393066, -9.362000465393066, -9.362000465393066, -9.362000465393066, -9.362000465393066, -9.362000465393066, -9.362000465393066, -9.362000465393066, -9.362000465393066, -9.362000465393066, -9.362000465393066, -9.362000465393066, -9.362000465393066, -1.9118000268936157, -2.592400074005127, -2.8022000789642334, -3.1556999683380127, -3.433300018310547, -3.486599922180176, -3.5929999351501465, -3.8570001125335693, -4.197000026702881, -4.301199913024902, -4.3368000984191895, -4.510200023651123, -4.646200180053711, -9.302900314331055, -9.302900314331055, -9.302900314331055, -9.302900314331055, -9.302900314331055, -9.302900314331055, -9.302900314331055, -9.302900314331055, -9.302900314331055, -9.302900314331055, -9.302900314331055, -9.302900314331055, -9.302900314331055, -9.302900314331055, -9.302900314331055, -9.302900314331055, -9.302900314331055, -9.302900314331055, -9.302900314331055, -9.302900314331055, -9.302900314331055, -9.302900314331055, -9.302900314331055, -9.302900314331055, -9.302900314331055, -9.302900314331055, -9.302900314331055, -9.302900314331055, -9.302900314331055, -9.302900314331055, -9.302900314331055, -9.302900314331055, -9.302900314331055, -9.302900314331055, -9.302900314331055, -9.302900314331055, -9.302900314331055, -9.302900314331055, -9.302900314331055, -9.302900314331055, -9.302900314331055, -9.302900314331055, -9.302900314331055, -9.302900314331055, -9.29699993133545, -1.3937000036239624, -1.9336999654769897, -3.5076000690460205, -4.152599811553955, -4.698299884796143, -5.074100017547607, -5.228600025177002, -5.496799945831299, -6.903600215911865, -9.235199928283691, -9.235199928283691, -9.235199928283691, -9.235199928283691, -9.235199928283691, -9.235199928283691, -9.235199928283691, -9.235199928283691, -9.235199928283691, -9.235199928283691, -9.235199928283691, -9.235199928283691, -9.235199928283691, -9.235199928283691, -9.235199928283691, -9.235199928283691, -9.235199928283691, -9.235199928283691, -9.235199928283691, -9.235199928283691, -9.235199928283691, -9.235199928283691, -9.235199928283691, -9.235199928283691, -9.235199928283691, -9.235199928283691, -9.235199928283691, -9.235199928283691, -9.235199928283691, -9.235199928283691, -9.235199928283691, -9.235199928283691, -9.235199928283691, -9.235199928283691, -9.235199928283691, -9.235199928283691, -9.235199928283691, -9.235199928283691, -9.235199928283691, -9.235199928283691, -9.235199928283691, -9.235199928283691, -9.235199928283691, -9.235199928283691, -9.235199928283691, -9.235199928283691, -9.235199928283691, -9.235199928283691, -9.235199928283691, -9.235199928283691, -9.235199928283691, -9.235199928283691, -9.235199928283691, -9.235199928283691, -9.235199928283691, -9.235199928283691, -9.235199928283691, -9.235199928283691, -9.235199928283691, -9.235199928283691, -9.235199928283691, -9.235199928283691, -9.235199928283691, -9.235199928283691, -9.235199928283691, -1.3386000394821167, -1.8725999593734741, -3.7802999019622803, -4.332200050354004, -4.332200050354004, -9.237299919128418, -9.237299919128418, -9.237299919128418, -9.237299919128418, -9.237299919128418, -9.237299919128418, -9.237299919128418, -9.237299919128418, -9.237299919128418, -9.237299919128418, -9.237299919128418, -9.237299919128418, -9.237299919128418, -9.237299919128418, -9.237299919128418, -9.237299919128418, -9.237299919128418, -9.237299919128418, -9.237299919128418, -9.237299919128418, -9.237299919128418, -9.237299919128418, -9.237299919128418, -9.237299919128418, -9.237299919128418, -9.237299919128418, -9.237299919128418, -9.237299919128418, -9.237299919128418, -9.237299919128418, -9.237299919128418, -9.237299919128418, -9.237299919128418, -9.237299919128418, -9.237299919128418, -9.237299919128418, -9.237299919128418, -9.237299919128418, -9.237299919128418, -9.237299919128418, -9.237299919128418, -9.237299919128418, -9.237299919128418, -9.237299919128418, -9.237299919128418, -9.237299919128418, -9.237299919128418, -9.237299919128418, -9.237299919128418, -9.237299919128418, -9.237299919128418, -9.237299919128418, -9.237299919128418, -9.237299919128418, -9.237299919128418, -9.237299919128418, -9.237299919128418, -9.231300354003906, -1.4311000108718872, -2.5360000133514404, -3.0701000690460205, -3.5420000553131104, -3.627700090408325, -4.461999893188477, -4.714300155639648, -9.192500114440918, -9.192500114440918, -9.192500114440918, -9.192500114440918, -9.192500114440918, -9.192500114440918, -9.192500114440918, -9.192500114440918, -9.192500114440918, -9.192500114440918, -9.192500114440918, -9.192500114440918, -9.192500114440918, -9.192500114440918, -9.192500114440918, -9.192500114440918, -9.192500114440918, -9.192500114440918, -9.192500114440918, -9.192500114440918, -9.192500114440918, -9.192500114440918, -9.192500114440918, -9.192500114440918, -9.192500114440918, -9.192500114440918, -9.192500114440918, -9.192500114440918, -9.192500114440918, -9.192500114440918, -9.192500114440918, -9.192500114440918, -9.192500114440918, -9.192500114440918, -9.192500114440918, -9.192500114440918, -9.192500114440918, -9.192500114440918, -9.192500114440918, -9.192500114440918, -9.192500114440918, -9.192500114440918, -9.192500114440918, -9.192500114440918, -9.192500114440918, -9.192500114440918, -9.192500114440918, -9.192500114440918, -9.192500114440918, -9.192500114440918, -9.192500114440918, -9.192500114440918, -9.192500114440918, -9.192500114440918, -9.192500114440918, -9.192500114440918, -9.192500114440918, -9.192500114440918, -9.192500114440918, -9.192500114440918, -9.192500114440918, -9.192500114440918, -9.192500114440918, -9.192500114440918, -9.192500114440918, -9.192500114440918, -9.192500114440918, -9.192500114440918, -9.192500114440918, -9.192500114440918, -9.192500114440918, -2.4458999633789062, -8.703100204467773, -8.703100204467773, -8.703100204467773, -8.703100204467773, -8.703100204467773, -8.703100204467773, -8.703100204467773, -8.703100204467773, -8.703100204467773, -8.703100204467773, -8.703100204467773, -8.703100204467773, -8.703100204467773, -8.703100204467773, -8.703100204467773, -8.703100204467773, -8.703100204467773, -8.703100204467773, -8.703100204467773, -8.703100204467773, -8.703100204467773, -8.703100204467773, -8.703100204467773, -8.703100204467773, -8.703100204467773, -8.703100204467773, -8.703100204467773, -8.703100204467773, -8.703100204467773, -8.703100204467773, -8.703100204467773, -8.703100204467773, -8.703100204467773, -8.703100204467773, -8.703100204467773, -8.703100204467773, -8.703100204467773, -8.703100204467773, -8.703100204467773, -8.703100204467773, -8.703100204467773, -8.703100204467773, -8.703100204467773, -8.703100204467773, -8.703100204467773, -8.703100204467773, -8.703100204467773, -8.703100204467773, -8.703100204467773, -8.703100204467773, -8.703100204467773, -8.703100204467773, -8.703100204467773, -8.703100204467773, -8.703100204467773, -8.703100204467773, -8.703100204467773, -8.703100204467773, -8.703100204467773, -8.703100204467773, -8.703100204467773, -8.703100204467773, -8.703100204467773, -8.703100204467773, -8.703100204467773, -8.703100204467773, -8.703100204467773, -8.703100204467773, -8.703100204467773, -8.703100204467773, -8.703100204467773, -8.703100204467773, -8.703100204467773, -8.703100204467773, -8.703100204467773, -8.703100204467773, -8.703100204467773, -8.703100204467773, -8.703100204467773, -8.703100204467773, -8.703100204467773, -8.703100204467773, -8.703100204467773, -8.703100204467773, -8.703100204467773, -8.703100204467773, -8.703100204467773, -8.703100204467773, -8.703100204467773, -8.703100204467773, -8.703100204467773, -8.703100204467773, -8.703100204467773, -8.703100204467773, -8.703100204467773, -8.703100204467773, -8.703100204467773, -8.703100204467773, -8.703100204467773, -8.703100204467773, -8.703100204467773, -8.703100204467773, -8.703100204467773, -8.703100204467773, -8.703100204467773, -8.703100204467773, -8.703100204467773, -8.703100204467773, -8.703100204467773, -8.703100204467773, -8.703100204467773, -8.703100204467773, -8.703100204467773, -8.703100204467773, -8.703100204467773, -8.703100204467773, -8.703100204467773, -8.703100204467773, -8.703100204467773, -8.703100204467773, -8.703100204467773, -8.703100204467773, -8.703100204467773, -8.703100204467773, -8.703100204467773, -8.703100204467773, -8.703100204467773, -8.703100204467773, -8.703100204467773, -8.703100204467773, -8.703100204467773, -8.703100204467773, -8.703100204467773, -8.703100204467773, -8.703100204467773, -8.703100204467773, -8.703100204467773, -8.703100204467773, -8.703100204467773, -8.703100204467773, -8.703100204467773, -8.703100204467773, -8.703100204467773, -8.703100204467773, -8.703100204467773, -8.703100204467773, -8.703100204467773, -8.703100204467773, -8.703100204467773, -8.703100204467773, -8.703100204467773, -8.703100204467773, -8.703100204467773, -8.703100204467773, -8.703100204467773, -8.703100204467773, -8.703100204467773, -8.703100204467773, -8.703100204467773, -8.703100204467773, -8.703100204467773, -8.703100204467773, -8.703100204467773, -8.703100204467773, -8.703100204467773, -8.703100204467773, -8.703100204467773, -8.703100204467773, -8.703100204467773, -8.703100204467773, -8.703100204467773, -8.703100204467773, -8.703100204467773, -8.703100204467773, -8.703100204467773, -8.703100204467773, -8.703100204467773]}, \"token.table\": {\"Topic\": [13, 5, 8, 4, 7, 4, 5, 4, 5, 8, 3, 20, 11, 5, 18, 22, 10, 15, 5, 1, 13, 6, 2, 13, 22, 1, 2, 3, 19, 3, 16, 25, 17, 8, 12, 21, 25, 3, 4, 10, 26, 5, 2, 8, 9, 1, 4, 2, 8, 20, 21, 1, 15, 7, 15, 23, 7, 17, 1, 14, 7, 5, 6, 8, 8, 1, 14, 8, 1, 13, 7, 19, 13, 2, 3, 15, 1, 7, 5, 6, 19, 2, 4, 13, 8, 13, 13, 2, 7, 4, 21, 18, 6, 22, 25, 2, 5, 6, 19, 5, 17, 17, 1, 5, 20, 18, 9, 3, 14, 12, 13, 15, 11, 8, 9, 19, 6, 6, 13, 5, 1, 23, 1, 13, 25, 18, 7, 6, 7, 14, 3, 1, 5, 5, 5, 1, 8, 7, 1, 1, 15, 20, 3, 9, 2, 3, 15, 23, 6, 1, 20, 8, 5, 2, 8, 14, 15, 2, 18, 1, 11, 8, 2, 20, 3, 22, 12, 22, 2, 6, 7, 12, 20, 2, 3, 11, 14, 13, 13, 16, 9, 5, 7, 17, 9, 13, 8, 14, 15, 9, 24, 7, 5, 7, 13, 13, 3, 19, 7, 4, 16, 9, 17, 15, 2, 2, 6, 12, 22, 1, 8, 8, 1, 15, 15, 9, 23, 14, 1, 15, 1, 1, 8, 6, 22, 6, 9, 13, 3, 16, 13, 2, 3, 12, 3, 8, 5, 15, 9, 3, 11, 14, 19, 4, 2, 23, 5, 7, 17, 20, 22, 6, 21, 8, 2, 8, 9, 8, 20, 1, 17, 4, 1, 6, 7, 18, 2, 2, 8, 13, 2, 10, 15, 20, 1, 15, 7, 14, 22, 14, 13, 8, 24, 14, 14, 14, 3, 7, 2, 3, 11, 2, 22, 16, 19, 13, 10, 22, 1, 25, 15, 5, 2, 12, 5, 2, 5, 6, 12, 9, 11, 15, 13, 22, 7, 14, 5, 2, 17, 2, 1, 9, 16, 19, 19, 13, 7, 14, 19, 19, 8, 20, 7, 5, 21, 9, 20, 2, 7, 13, 15, 9, 5, 13, 5, 7, 10, 15, 3, 3, 13, 1, 18, 3, 16, 14, 1, 14, 17, 1, 19, 1, 20, 6, 12, 15, 22, 7, 6, 1, 18, 14, 15, 20, 10, 15, 19, 5, 9, 2, 5, 17, 11, 17, 3, 15, 2, 12, 11, 9, 8, 11, 18, 6, 13, 24, 19, 15, 15, 5, 20, 16, 3, 8, 2, 20, 17, 9, 7, 25, 7, 25, 8, 13, 17, 18, 2, 11, 13, 19, 19, 2, 3, 2, 24, 23, 3, 6, 7, 8, 6, 13, 1, 2, 6, 2, 6, 6, 5, 11, 6, 17, 13, 8, 15, 19, 14, 4, 6, 18, 24, 7, 3, 23, 3, 14, 2, 19, 20, 13, 21, 21, 8, 11, 3, 12, 23, 1, 7, 7], \"Freq\": [0.9649991393089294, 0.9408361315727234, 0.9314072728157043, 0.9405289888381958, 0.9404702186584473, 0.504699170589447, 0.90604567527771, 0.9896538257598877, 0.9224603772163391, 0.9697813391685486, 0.9619081020355225, 0.8376012444496155, 0.9975473284721375, 0.9976029396057129, 0.9191654324531555, 0.806425154209137, 0.5974730253219604, 0.9059230089187622, 0.9704076051712036, 0.9683471322059631, 0.9779981374740601, 0.9264853596687317, 0.9761433005332947, 0.8943113684654236, 0.8416079878807068, 0.02327721193432808, 0.9543656706809998, 0.9675836563110352, 0.8979845643043518, 0.9730251431465149, 0.9268926978111267, 0.9789139628410339, 0.9434541463851929, 0.9911536574363708, 0.9869354367256165, 0.9808204174041748, 0.959200918674469, 0.9559354782104492, 0.9991157054901123, 0.994442880153656, 0.686493992805481, 0.896158754825592, 0.972684383392334, 0.9814884662628174, 0.990943968296051, 0.9875454902648926, 0.9937456846237183, 0.9836826324462891, 0.9918214678764343, 0.8023687601089478, 0.9239501953125, 0.9848862886428833, 0.9436787366867065, 0.9658394455909729, 0.948209285736084, 0.9817340970039368, 0.9717698693275452, 0.9840934872627258, 0.9690605401992798, 0.9704474210739136, 0.9457576274871826, 0.9723864197731018, 0.9893075823783875, 0.9296749234199524, 0.9561884999275208, 0.9756451845169067, 0.9799807667732239, 0.9620280265808105, 0.9733160734176636, 0.9594030976295471, 0.9881819486618042, 0.8751955628395081, 0.9851279854774475, 0.6683121919631958, 0.31559187173843384, 0.9004752039909363, 0.9892709255218506, 0.8098827600479126, 0.9366859197616577, 0.9936473369598389, 0.9865177273750305, 0.9836139678955078, 0.9974939227104187, 0.750876784324646, 0.9561107754707336, 0.8562172055244446, 0.9444389343261719, 0.8811720013618469, 0.09612786024808884, 0.8354583382606506, 0.9869542121887207, 0.8382111191749573, 0.9960595369338989, 0.9101981520652771, 0.6338606476783752, 0.051849111914634705, 0.9397651553153992, 0.8534439206123352, 0.8979845643043518, 0.9502269625663757, 0.9134694933891296, 0.877261221408844, 0.9866223335266113, 0.92353755235672, 0.9794718027114868, 0.5214165449142456, 0.9787538051605225, 0.9630624055862427, 0.9308203458786011, 0.9286789894104004, 0.9815477132797241, 0.8146308064460754, 0.8595760464668274, 0.9455886483192444, 0.9629502892494202, 0.8810276985168457, 0.47316643595695496, 0.9805181622505188, 0.9677820205688477, 0.9321302771568298, 0.9765302538871765, 0.5369176268577576, 0.975053071975708, 0.9317465424537659, 0.8870142102241516, 0.6290643811225891, 0.9924954771995544, 0.9843559861183167, 0.9157989025115967, 0.959301233291626, 0.9401740431785583, 0.9731818437576294, 0.9279632568359375, 0.9601425528526306, 0.9214814901351929, 0.9848830103874207, 0.9561884999275208, 0.9897031188011169, 0.9957726001739502, 0.8861991763114929, 0.11077489703893661, 0.9706750512123108, 0.9610111713409424, 0.9775151014328003, 0.9664188027381897, 0.9900444746017456, 0.9894497990608215, 0.8592044115066528, 0.7325518727302551, 0.9890851378440857, 0.9586989879608154, 0.9943132400512695, 0.9918175935745239, 0.9846590757369995, 0.8315143585205078, 0.980131208896637, 0.5689186453819275, 0.9678825736045837, 0.984416127204895, 0.9847590327262878, 0.9933574199676514, 0.9513719081878662, 0.5903648734092712, 0.39904293417930603, 0.9953203797340393, 0.9880773425102234, 0.9886094331741333, 0.8292297720909119, 0.9805322885513306, 0.9306268692016602, 0.945345401763916, 0.9403501152992249, 0.9268671274185181, 0.9789913296699524, 0.9775992035865784, 0.9798363447189331, 0.9808267951011658, 0.8088598251342773, 0.9533841013908386, 0.9695857167243958, 0.9915426969528198, 0.9910822510719299, 0.9909811615943909, 0.9792822003364563, 0.9919929504394531, 0.759072482585907, 0.9583607316017151, 0.9723690152168274, 0.8865981101989746, 0.9059747457504272, 0.7254461646080017, 0.9541496634483337, 0.8940649628639221, 0.982539176940918, 0.968601644039154, 0.9689160585403442, 0.845611035823822, 0.8979845643043518, 0.8390622735023499, 0.9447513818740845, 0.9719991087913513, 0.9059747457504272, 0.9595738649368286, 0.7083239555358887, 0.9694609045982361, 0.991813600063324, 0.6645603775978088, 0.9975254535675049, 0.8859570026397705, 0.9960446953773499, 0.9879525899887085, 0.9561884999275208, 0.8683931231498718, 0.12708193063735962, 0.9059230089187622, 0.9475833177566528, 0.7511654496192932, 0.9219307899475098, 0.9955674409866333, 0.961512565612793, 0.9785019159317017, 0.9908008575439453, 0.9827537536621094, 0.8933398127555847, 0.9216657280921936, 0.8892574906349182, 0.9928997755050659, 0.902739942073822, 0.02436039410531521, 0.9722011685371399, 0.9829950332641602, 0.9576084613800049, 0.977018415927887, 0.020677637308835983, 0.9931700825691223, 0.9837974309921265, 0.9538557529449463, 0.9268405437469482, 0.9951894879341125, 0.9912903904914856, 0.9626979827880859, 0.9851304292678833, 0.8979845643043518, 0.9949841499328613, 0.9731133580207825, 0.6275925040245056, 0.9729551076889038, 0.9778228402137756, 0.9809341430664062, 0.883801281452179, 0.8313376307487488, 0.9510162472724915, 0.6792346835136414, 0.9639625549316406, 0.9747762680053711, 0.9685268402099609, 0.9535691142082214, 0.9561884999275208, 0.9717201590538025, 0.9858044385910034, 0.6439929008483887, 0.9712953567504883, 0.9691339731216431, 0.9911739826202393, 0.9439400434494019, 0.9907001256942749, 0.9736713767051697, 0.994591236114502, 0.9935071468353271, 0.9821850061416626, 0.977359414100647, 0.9923299551010132, 0.9454769492149353, 0.9711034893989563, 0.9719340801239014, 0.9169248938560486, 0.7953236699104309, 0.9447138905525208, 0.9594281315803528, 0.9820562601089478, 0.9631133079528809, 0.9561884999275208, 0.8227155208587646, 0.9313381910324097, 0.8696855306625366, 0.9420893788337708, 0.9859794974327087, 0.9555028676986694, 0.9944505095481873, 0.9981021881103516, 0.9136016368865967, 0.982263445854187, 0.9627110958099365, 0.3473667800426483, 0.8979845643043518, 0.9627251625061035, 0.9972445368766785, 0.9719589352607727, 0.977678656578064, 0.8877882957458496, 0.9351136088371277, 0.9758051633834839, 0.9833776354789734, 0.8846936821937561, 0.9918857216835022, 0.07500293105840683, 0.8687839508056641, 0.05000195652246475, 0.979295551776886, 0.9854165315628052, 0.9870687127113342, 0.9135976433753967, 0.8271512985229492, 0.8063710331916809, 0.992659866809845, 0.9913591742515564, 0.9946357607841492, 0.9691351056098938, 0.8098909258842468, 0.9848762154579163, 0.9695180058479309, 0.7274324893951416, 0.983741283416748, 0.9909771680831909, 0.9762592911720276, 0.8749474883079529, 0.9866930246353149, 0.9866761565208435, 0.9083652496337891, 0.756874144077301, 0.9568069577217102, 0.9726482033729553, 0.9044040441513062, 0.9777508974075317, 0.9491168856620789, 0.6153004169464111, 0.680094838142395, 0.993415892124176, 0.9589526057243347, 0.12904243171215057, 0.8602828979492188, 0.9555761218070984, 0.9594734311103821, 0.85172039270401, 0.9692804217338562, 0.9540310502052307, 0.941526472568512, 0.9059230089187622, 0.9952206015586853, 0.881145715713501, 0.9816499352455139, 0.9789789915084839, 0.9435367584228516, 0.9537162780761719, 0.6353239417076111, 0.9289844036102295, 0.9945946335792542, 0.7403306365013123, 0.9938292503356934, 0.9756503105163574, 0.8979845643043518, 0.9845539331436157, 0.9433560371398926, 0.9062924385070801, 0.9804683327674866, 0.9273024201393127, 0.9231616854667664, 0.8508145213127136, 0.7734096050262451, 0.9750664234161377, 0.8476483225822449, 0.9222332239151001, 0.981870174407959, 0.957152783870697, 0.9936107397079468, 0.9698202013969421, 0.756874144077301, 0.931424617767334, 0.9585464000701904, 0.9837045073509216, 0.9631659984588623, 0.8866809010505676, 0.9467156529426575, 0.9145489931106567, 0.883752703666687, 0.9495565891265869, 0.9921644926071167, 0.9671035408973694, 0.9266470670700073, 0.9800809621810913, 0.5336684584617615, 0.9819692969322205, 0.9740098118782043, 0.9940100908279419, 0.9286102056503296, 0.9808553457260132, 0.8979845643043518, 0.9059230089187622, 0.9059230089187622, 0.9973631501197815, 0.9297641515731812, 0.9576278924942017, 0.907418429851532, 0.8732799291610718, 0.9845999479293823, 0.9408292770385742, 0.9914621114730835, 0.9505231976509094, 0.9983034133911133, 0.7498866319656372, 0.9798673391342163, 0.825747013092041, 0.6669565439224243, 0.32241904735565186, 0.14246423542499542, 0.5248682498931885, 0.9860765933990479, 0.9496363401412964, 0.8945422172546387, 0.9805915355682373, 0.756874144077301, 0.9879729151725769, 0.965999186038971, 0.9795486330986023, 0.9793237447738647, 0.9874653816223145, 0.9923751354217529, 0.9934713244438171, 0.8572248816490173, 0.13011449575424194, 0.5935230255126953, 0.9244332909584045, 0.6867631673812866, 0.3004588782787323, 0.9731821417808533, 0.005744547583162785, 0.9880622029304504, 0.9264885187149048, 0.9748319983482361, 0.9418022632598877, 0.9980943202972412, 0.9134694933891296, 0.8358407020568848, 0.6088043451309204, 0.3468339741230011, 0.04058695584535599, 0.9707876443862915, 0.9593993425369263, 0.9764190912246704, 0.9851628541946411, 0.7254461646080017, 0.926058292388916, 0.9959390759468079, 0.913787841796875, 0.9736323952674866, 0.9566543698310852, 0.9599533677101135, 0.9918935298919678, 0.939339280128479, 0.9215860962867737, 0.9663686156272888, 0.9862163066864014, 0.9830934405326843, 0.9926679134368896, 0.9867826700210571, 0.9584270715713501, 0.7304437756538391, 0.9977849721908569, 0.9766749739646912, 0.9772423505783081], \"Term\": [\"absolut\", \"accus\", \"achiev\", \"activist\", \"actual\", \"advoc\", \"afraid\", \"african\", \"agenda\", \"agoni\", \"agre\", \"alfr_olango\", \"america\", \"american\", \"ancestor\", \"ancient\", \"anderson\", \"anthoni_lamar\", \"anti\", \"april\", \"arrest\", \"assault\", \"attack\", \"attempt\", \"attorney\", \"author\", \"author\", \"ban\", \"basebal_team\", \"battl\", \"beat\", \"beauti\", \"begin\", \"believ\", \"best\", \"better\", \"biack_own\", \"birthday\", \"black\", \"blackmattersus\", \"bless\", \"blue\", \"bomb\", \"break\", \"bring\", \"brother\", \"brutal\", \"build\", \"busi\", \"cajon\", \"california\", \"call\", \"camera\", \"campaign\", \"captur\", \"care\", \"carri\", \"case\", \"caus\", \"celebr\", \"certain\", \"challeng\", \"chang\", \"chant\", \"chant_racist\", \"charg\", \"charlott\", \"check\", \"chicago\", \"child\", \"children\", \"circul_internet\", \"citi\", \"citizen\", \"citizen\", \"click\", \"clinton\", \"colin_kaepernick\", \"color\", \"come\", \"comment\", \"commit\", \"communiti\", \"concern\", \"condit\", \"conduct\", \"confirm\", \"continu\", \"continu\", \"cool\", \"cop\", \"couldn\", \"countri\", \"court\", \"credit\", \"crime\", \"crime\", \"crowd\", \"culpabl\", \"daili\", \"dakota_mockeri\", \"dark\", \"death\", \"decid\", \"defend\", \"definit\", \"demand\", \"democrat\", \"demonstr\", \"denomin_christian\", \"depart\", \"despit_fact\", \"determin\", \"die\", \"differ\", \"disgust\", \"donald\", \"donald_trump\", \"donat\", \"dope\", \"dream\", \"dress\", \"drive\", \"duti\", \"earn\", \"earth\", \"educ\", \"elect\", \"enforc\", \"event\", \"evid\", \"exampl\", \"exist\", \"experi\", \"explain\", \"face\", \"facebook_deepen\", \"fact\", \"famili\", \"fatal\", \"fatal\", \"father\", \"fear\", \"feel\", \"femal\", \"fight\", \"follow\", \"food\", \"fool\", \"forget\", \"foundat\", \"free\", \"freedom\", \"friend\", \"fuck\", \"futur\", \"gather\", \"get\", \"girl\", \"give\", \"go\", \"go_viral\", \"good\", \"good\", \"govern\", \"great\", \"group\", \"guess\", \"gun\", \"guy\", \"hair\", \"hallelujah\", \"hand\", \"happen\", \"happi\", \"hard\", \"hate\", \"head\", \"hear\", \"heart\", \"help\", \"hillari\", \"histori\", \"hold\", \"home\", \"hop\", \"hope\", \"host\", \"http\", \"http_thndrpnni\", \"ift\", \"ignor\", \"imag\", \"import\", \"improv\", \"incid\", \"incred\", \"indefinit_suspens\", \"individu\", \"injustic\", \"innoc\", \"innoc_jerom\", \"institut_racism\", \"interact\", \"iraq\", \"issu\", \"john\", \"join\", \"judg\", \"justic\", \"kid\", \"kid_tast\", \"kill\", \"kill\", \"killer_catch\", \"kind\", \"king_queen\", \"klan\", \"know\", \"learn\", \"leav\", \"legal\", \"liber\", \"libtard\", \"licens\", \"lie\", \"life\", \"light\", \"like\", \"like\", \"list\", \"listen\", \"live\", \"live\", \"look\", \"lose\", \"loud\", \"loui\", \"love\", \"make\", \"male\", \"march\", \"marin_suspend\", \"matter\", \"media\", \"melanet\", \"melanin\", \"member\", \"memori\", \"mental\", \"messag\", \"michael\", \"michell\", \"middl\", \"militari\", \"mind\", \"minor\", \"montgomeri_counti\", \"month\", \"mother\", \"motorist\", \"movement\", \"murder\", \"music\", \"name\", \"nation\", \"near\", \"need\", \"news\", \"octob\", \"offer\", \"offic\", \"offic_jason\", \"one\", \"open\", \"opinion\", \"opportun\", \"opposit\", \"oppress\", \"organ\", \"origin\", \"outrag_public\", \"page\", \"page_dedic\", \"parad\", \"park\", \"parti\", \"past\", \"peac\", \"peopl\", \"percent\", \"person\", \"photo\", \"pierc\", \"place_catcher\", \"point\", \"polic\", \"polit\", \"politician\", \"poor\", \"popular\", \"posit\", \"possibl\", \"post\", \"power\", \"presid\", \"presid\", \"presid\", \"prioriti\", \"prison\", \"problem\", \"proper\", \"propos\", \"prosecutor\", \"protect\", \"protest\", \"proud\", \"prove\", \"push\", \"queen\", \"question\", \"quot\", \"racial\", \"racism\", \"racist\", \"rage\", \"rais\", \"ralli\", \"rap\", \"rape_helpless\", \"read\", \"real\", \"realiti\", \"reason\", \"recent\", \"recogn\", \"reform\", \"refuge\", \"relat\", \"releas\", \"releas\", \"report\", \"research\", \"resist\", \"respect\", \"respons\", \"reveal\", \"revel_pop\", \"right\", \"riot\", \"rise\", \"risk\", \"root\", \"rule\", \"runaway_slave\", \"saturday\", \"say\", \"scar\", \"school\", \"scott\", \"seattl_marin\", \"second\", \"see\", \"seek\", \"seif_defens\", \"self\", \"send\", \"seri\", \"serious\", \"serv\", \"seven\", \"sexual\", \"share\", \"shirt\", \"shoot\", \"show\", \"show_unidentifi\", \"sign\", \"sign_petit\", \"simpl\", \"simpli\", \"skin\", \"skin_color\", \"slam\", \"slave\", \"smith\", \"social\", \"societi\", \"sourc\", \"spend\", \"spirit\", \"star\", \"start\", \"state\", \"statement\", \"stay\", \"steve_cleveng\", \"stockley_loui\", \"stockley_plant\", \"stop\", \"store\", \"stori\", \"straight\", \"strive\", \"strong\", \"struggl\", \"student\", \"studi\", \"support\", \"suppos\", \"sure\", \"surpris\", \"surviv\", \"take\", \"take\", \"take\", \"talk\", \"teacher\", \"tear\", \"teen\", \"teen_shameless\", \"tell\", \"term\", \"terrorist\", \"texa\", \"thing\", \"think\", \"time\", \"today\", \"today\", \"tower\", \"train\", \"tri\", \"tri\", \"true\", \"trump\", \"trump\", \"tuesday\", \"turn\", \"unfortun\", \"unit\", \"univers_north\", \"urg\", \"video\", \"video\", \"video\", \"violenc\", \"voic\", \"vote\", \"wake\", \"wake_ding\", \"wall\", \"want\", \"wast\", \"watch\", \"water\", \"west\", \"white\", \"wife\", \"wit\", \"woman\", \"women\", \"word\", \"work\", \"world\", \"worth\", \"wouldn\", \"year\", \"young\", \"youth\"]}, \"R\": 30, \"lambda.step\": 0.01, \"plot.opts\": {\"xlab\": \"PC1\", \"ylab\": \"PC2\"}, \"topic.order\": [19, 25, 8, 9, 7, 5, 2, 4, 26, 17, 3, 11, 21, 1, 6, 10, 13, 22, 20, 23, 14, 18, 12, 24, 15, 16]};\n",
       "\n",
       "function LDAvis_load_lib(url, callback){\n",
       "  var s = document.createElement('script');\n",
       "  s.src = url;\n",
       "  s.async = true;\n",
       "  s.onreadystatechange = s.onload = callback;\n",
       "  s.onerror = function(){console.warn(\"failed to load library \" + url);};\n",
       "  document.getElementsByTagName(\"head\")[0].appendChild(s);\n",
       "}\n",
       "\n",
       "if(typeof(LDAvis) !== \"undefined\"){\n",
       "   // already loaded: just create the visualization\n",
       "   !function(LDAvis){\n",
       "       new LDAvis(\"#\" + \"ldavis_el11421122898988084020067575\", ldavis_el11421122898988084020067575_data);\n",
       "   }(LDAvis);\n",
       "}else if(typeof define === \"function\" && define.amd){\n",
       "   // require.js is available: use it to load d3/LDAvis\n",
       "   require.config({paths: {d3: \"https://cdnjs.cloudflare.com/ajax/libs/d3/3.5.5/d3.min\"}});\n",
       "   require([\"d3\"], function(d3){\n",
       "      window.d3 = d3;\n",
       "      LDAvis_load_lib(\"https://cdn.rawgit.com/bmabey/pyLDAvis/files/ldavis.v1.0.0.js\", function(){\n",
       "        new LDAvis(\"#\" + \"ldavis_el11421122898988084020067575\", ldavis_el11421122898988084020067575_data);\n",
       "      });\n",
       "    });\n",
       "}else{\n",
       "    // require.js not available: dynamically load d3 & LDAvis\n",
       "    LDAvis_load_lib(\"https://cdnjs.cloudflare.com/ajax/libs/d3/3.5.5/d3.min.js\", function(){\n",
       "         LDAvis_load_lib(\"https://cdn.rawgit.com/bmabey/pyLDAvis/files/ldavis.v1.0.0.js\", function(){\n",
       "                 new LDAvis(\"#\" + \"ldavis_el11421122898988084020067575\", ldavis_el11421122898988084020067575_data);\n",
       "            })\n",
       "         });\n",
       "}\n",
       "</script>"
      ],
      "text/plain": [
       "PreparedData(topic_coordinates=              x         y  topics  cluster       Freq\n",
       "topic                                                \n",
       "18    -0.235716  0.336158       1        1  11.989026\n",
       "24    -0.116869  0.020696       2        1   8.744241\n",
       "7     -0.149982 -0.056640       3        1   8.456008\n",
       "8     -0.268944 -0.259788       4        1   8.168566\n",
       "6     -0.143397 -0.045067       5        1   7.325873\n",
       "4     -0.089986 -0.032947       6        1   6.533166\n",
       "1     -0.059184 -0.015030       7        1   5.975140\n",
       "3     -0.052149  0.057659       8        1   4.998130\n",
       "25    -0.019886 -0.018445       9        1   3.955160\n",
       "16    -0.013743 -0.016794      10        1   3.865777\n",
       "2      0.032913 -0.011934      11        1   3.180924\n",
       "10     0.002180 -0.020111      12        1   3.144804\n",
       "20     0.067430 -0.001217      13        1   3.102916\n",
       "0      0.031197 -0.012518      14        1   2.688152\n",
       "5     -0.004330  0.111962      15        1   2.334417\n",
       "9      0.062420 -0.011217      16        1   2.238142\n",
       "12     0.068147 -0.010437      17        1   2.131957\n",
       "21     0.074094 -0.009974      18        1   2.036948\n",
       "19     0.029038  0.009423      19        1   2.029389\n",
       "22     0.066864 -0.004116      20        1   1.894161\n",
       "13     0.110574 -0.003342      21        1   1.431413\n",
       "17     0.115335 -0.002809      22        1   1.394387\n",
       "11     0.118669 -0.002149      23        1   0.948912\n",
       "23     0.118262 -0.002151      24        1   0.687984\n",
       "14     0.120885 -0.001761      25        1   0.632617\n",
       "15     0.136177  0.002550      26        1   0.111792, topic_info=     Category         Freq      Term        Total  loglift  logprob\n",
       "2     Default  1943.000000     black  1943.000000  30.0000  30.0000\n",
       "125   Default   654.000000      join   654.000000  29.0000  29.0000\n",
       "11    Default   904.000000     peopl   904.000000  28.0000  28.0000\n",
       "0     Default   774.000000  american   774.000000  27.0000  27.0000\n",
       "165   Default   605.000000     polic   605.000000  26.0000  26.0000\n",
       "...       ...          ...       ...          ...      ...      ...\n",
       "1808  Topic26     0.008349      plan     1.478619   1.6196  -8.7031\n",
       "1809  Topic26     0.008349     pledg     1.478619   1.6196  -8.7031\n",
       "1810  Topic26     0.008349   ridicul     1.478619   1.6196  -8.7031\n",
       "1811  Topic26     0.008349     throw     1.478619   1.6196  -8.7031\n",
       "1812  Topic26     0.008349    access     1.478619   1.6196  -8.7031\n",
       "\n",
       "[1885 rows x 6 columns], token_table=      Topic      Freq      Term\n",
       "term                           \n",
       "704      13  0.964999   absolut\n",
       "413       5  0.940836     accus\n",
       "383       8  0.931407    achiev\n",
       "332       4  0.940529  activist\n",
       "112       7  0.940470    actual\n",
       "...     ...       ...       ...\n",
       "14       12  0.958427     worth\n",
       "50       23  0.730444    wouldn\n",
       "328       1  0.997785      year\n",
       "494       7  0.976675     young\n",
       "495       7  0.977242     youth\n",
       "\n",
       "[470 rows x 3 columns], R=30, lambda_step=0.01, plot_opts={'xlab': 'PC1', 'ylab': 'PC2'}, topic_order=[19, 25, 8, 9, 7, 5, 2, 4, 26, 17, 3, 11, 21, 1, 6, 10, 13, 22, 20, 23, 14, 18, 12, 24, 15, 16])"
      ]
     },
     "execution_count": 300,
     "metadata": {},
     "output_type": "execute_result"
    }
   ],
   "source": [
    "# Visualize the topics\n",
    "pyLDAvis.enable_notebook()\n",
    "vis = pyLDAvis.gensim.prepare(lda_model, corpus, id2word)\n",
    "vis"
   ]
  },
  {
   "cell_type": "markdown",
   "metadata": {},
   "source": [
    "# Let's try the LDA Mallet Model. This may provide better quality of topics"
   ]
  },
  {
   "cell_type": "code",
   "execution_count": 301,
   "metadata": {},
   "outputs": [],
   "source": [
    "# Download File: http://mallet.cs.umass.edu/dist/mallet-2.0.8.zip\n",
    "\n",
    "import os\n",
    "os.environ.update({'MALLET_HOME':r'/Users/tobbylie/Documents/my_projects/russian_disinformation/mallet-2.0.8'})\n",
    "\n",
    "mallet_path = '/Users/tobbylie/Documents/my_projects/russian_disinformation/mallet-2.0.8/bin/mallet' # update this path\n",
    "ldamallet = gensim.models.wrappers.LdaMallet(mallet_path, corpus=corpus, num_topics=26, id2word=id2word)"
   ]
  },
  {
   "cell_type": "code",
   "execution_count": 302,
   "metadata": {},
   "outputs": [
    {
     "name": "stdout",
     "output_type": "stream",
     "text": [
      "[(1,\n",
      "  [('histori', 0.047310434219053794),\n",
      "   ('case', 0.0304601425793908),\n",
      "   ('repost', 0.0304601425793908),\n",
      "   ('welcom', 0.027219701879455604),\n",
      "   ('leav', 0.02462734931950745),\n",
      "   ('heritag', 0.019442644199611146),\n",
      "   ('author', 0.019442644199611146),\n",
      "   ('demand', 0.019442644199611146),\n",
      "   ('charlott', 0.017498379779650033),\n",
      "   ('pay', 0.017498379779650033)]),\n",
      " (9,\n",
      "  [('black', 0.10628342245989304),\n",
      "   ('white', 0.08355614973262032),\n",
      "   ('girl', 0.05414438502673797),\n",
      "   ('video', 0.03409090909090909),\n",
      "   ('click_learn', 0.02606951871657754),\n",
      "   ('brother', 0.022727272727272728),\n",
      "   ('place', 0.022058823529411766),\n",
      "   ('south', 0.022058823529411766),\n",
      "   ('islam', 0.0213903743315508),\n",
      "   ('societi', 0.020053475935828877)]),\n",
      " (13,\n",
      "  [('black', 0.09060022650056625),\n",
      "   ('women', 0.0362400906002265),\n",
      "   ('woman', 0.03114382785956965),\n",
      "   ('peopl', 0.03001132502831257),\n",
      "   ('great', 0.027746319365798414),\n",
      "   ('young', 0.02434881087202718),\n",
      "   ('begin', 0.01812004530011325),\n",
      "   ('studi', 0.017553793884484713),\n",
      "   ('panafrican_africanandproud', 0.01698754246885617),\n",
      "   ('success', 0.01642129105322763)]),\n",
      " (25,\n",
      "  [('join', 0.2483985765124555),\n",
      "   ('polic', 0.14377224199288255),\n",
      "   ('brutal', 0.10533807829181495),\n",
      "   ('stop', 0.04697508896797153),\n",
      "   ('action', 0.0298932384341637),\n",
      "   ('april', 0.026334519572953737),\n",
      "   ('perform', 0.0199288256227758),\n",
      "   ('prioriti', 0.01708185053380783),\n",
      "   ('beat', 0.016370106761565837),\n",
      "   ('month', 0.015658362989323844)]),\n",
      " (21,\n",
      "  [('group', 0.046722454672245464),\n",
      "   ('home', 0.042538354253835425),\n",
      "   ('share', 0.0299860529986053),\n",
      "   ('flag', 0.029288702928870293),\n",
      "   ('turn', 0.027196652719665274),\n",
      "   ('liber', 0.026499302649930265),\n",
      "   ('hero', 0.024407252440725245),\n",
      "   ('true', 0.019525801952580194),\n",
      "   ('today', 0.01813110181311018),\n",
      "   ('brave', 0.01813110181311018)]),\n",
      " (0,\n",
      "  [('year', 0.10331632653061225),\n",
      "   ('shoot', 0.04783163265306122),\n",
      "   ('rememb', 0.04081632653061224),\n",
      "   ('world', 0.029336734693877552),\n",
      "   ('offic', 0.0274234693877551),\n",
      "   ('chang', 0.02040816326530612),\n",
      "   ('pass', 0.019770408163265307),\n",
      "   ('novemb', 0.01913265306122449),\n",
      "   ('serv', 0.01913265306122449),\n",
      "   ('death', 0.018494897959183673)]),\n",
      " (2,\n",
      "  [('peopl', 0.17654808959156784),\n",
      "   ('busi', 0.05204216073781291),\n",
      "   ('make', 0.03293807641633729),\n",
      "   ('american', 0.024374176548089592),\n",
      "   ('rais', 0.023715415019762844),\n",
      "   ('give', 0.0230566534914361),\n",
      "   ('goal', 0.021739130434782608),\n",
      "   ('import', 0.021739130434782608),\n",
      "   ('bear', 0.01844532279314888),\n",
      "   ('hair', 0.017127799736495388)]),\n",
      " (15,\n",
      "  [('stop', 0.09864603481624758),\n",
      "   ('nation', 0.0915538362346873),\n",
      "   ('peac', 0.05351386202450032),\n",
      "   ('protest', 0.05029013539651837),\n",
      "   ('forget', 0.039974210186976146),\n",
      "   ('stand', 0.03546099290780142),\n",
      "   ('kill', 0.03417150225660864),\n",
      "   ('innoc', 0.029658284977433915),\n",
      "   ('death', 0.026434558349451968),\n",
      "   ('creat', 0.02256608639587363)]),\n",
      " (22,\n",
      "  [('time', 0.05429553264604811),\n",
      "   ('beauti', 0.052920962199312714),\n",
      "   ('believ', 0.04329896907216495),\n",
      "   ('texa', 0.04054982817869416),\n",
      "   ('gun', 0.028178694158075602),\n",
      "   ('strong', 0.024742268041237112),\n",
      "   ('heart', 0.024742268041237112),\n",
      "   ('readi', 0.02268041237113402),\n",
      "   ('team', 0.019243986254295534),\n",
      "   ('truth', 0.019243986254295534)]),\n",
      " (11,\n",
      "  [('love', 0.03558151885289432),\n",
      "   ('transgend', 0.02867764206054169),\n",
      "   ('peopl', 0.028146574614976102),\n",
      "   ('equal', 0.027615507169410514),\n",
      "   ('feel', 0.01964949548592671),\n",
      "   ('marriag', 0.01964949548592671),\n",
      "   ('discrimin', 0.018056293149229952),\n",
      "   ('hope', 0.018056293149229952),\n",
      "   ('coupl', 0.017525225703664365),\n",
      "   ('differ', 0.015932023366967606)])]\n",
      "\n",
      "Coherence Score:  0.4444222988632616\n"
     ]
    }
   ],
   "source": [
    "# Show Topics\n",
    "pprint(ldamallet.show_topics(formatted=False))\n",
    "\n",
    "# Compute Coherence Score\n",
    "coherence_model_ldamallet = CoherenceModel(model=ldamallet, texts=data_words_bigrams, dictionary=id2word, coherence='c_v')\n",
    "coherence_ldamallet = coherence_model_ldamallet.get_coherence()\n",
    "print('\\nCoherence Score: ', coherence_ldamallet)"
   ]
  },
  {
   "cell_type": "markdown",
   "metadata": {},
   "source": [
    "# How can we find the optimal number of topics?\n",
    "### Build many LDA topics with different values of number of topics (k) and pick the one that gives the highest coherence value."
   ]
  },
  {
   "cell_type": "code",
   "execution_count": 303,
   "metadata": {},
   "outputs": [],
   "source": [
    "def compute_coherence_values(dictionary, corpus, texts, limit, start=2, step=3):\n",
    "    \"\"\"\n",
    "    Compute c_v coherence for various number of topics\n",
    "\n",
    "    Parameters:\n",
    "    ----------\n",
    "    dictionary : Gensim dictionary\n",
    "    corpus : Gensim corpus\n",
    "    texts : List of input texts\n",
    "    limit : Max num of topics\n",
    "\n",
    "    Returns:\n",
    "    -------\n",
    "    model_list : List of LDA topic models\n",
    "    coherence_values : Coherence values corresponding to the LDA model with respective number of topics\n",
    "    \"\"\"\n",
    "    coherence_values = []\n",
    "    model_list = []\n",
    "    for num_topics in range(start, limit, step):\n",
    "        model = gensim.models.wrappers.LdaMallet(mallet_path, corpus=corpus, num_topics=num_topics, id2word=id2word)\n",
    "        model_list.append(model)\n",
    "        coherencemodel = CoherenceModel(model=model, texts=texts, dictionary=dictionary, coherence='c_v')\n",
    "        coherence_values.append(coherencemodel.get_coherence())\n",
    "\n",
    "    return model_list, coherence_values"
   ]
  },
  {
   "cell_type": "code",
   "execution_count": 304,
   "metadata": {},
   "outputs": [],
   "source": [
    "# Can take a long time to run.\n",
    "model_list, coherence_values = compute_coherence_values(dictionary=id2word, corpus=corpus, texts=data_words_bigrams, start=2, limit=40, step=6)"
   ]
  },
  {
   "cell_type": "code",
   "execution_count": 305,
   "metadata": {},
   "outputs": [
    {
     "data": {
      "image/png": "[encoded data removed]",
      "text/plain": [
       "<Figure size 432x288 with 1 Axes>"
      ]
     },
     "metadata": {
      "needs_background": "light"
     },
     "output_type": "display_data"
    }
   ],
   "source": [
    "# Show graph\n",
    "limit=40; start=2; step=6;\n",
    "x = range(start, limit, step)\n",
    "plt.plot(x, coherence_values)\n",
    "plt.xlabel(\"Num Topics\")\n",
    "plt.ylabel(\"Coherence score\")\n",
    "plt.legend((\"coherence_values\"), loc='best')\n",
    "plt.show()"
   ]
  },
  {
   "cell_type": "code",
   "execution_count": 306,
   "metadata": {},
   "outputs": [
    {
     "name": "stdout",
     "output_type": "stream",
     "text": [
      "Num Topics = 2  has Coherence Value of 0.4625\n",
      "Num Topics = 8  has Coherence Value of 0.4236\n",
      "Num Topics = 14  has Coherence Value of 0.4229\n",
      "Num Topics = 20  has Coherence Value of 0.4191\n",
      "Num Topics = 26  has Coherence Value of 0.4624\n",
      "Num Topics = 32  has Coherence Value of 0.4578\n",
      "Num Topics = 38  has Coherence Value of 0.4917\n"
     ]
    }
   ],
   "source": [
    "# Print the coherence scores\n",
    "for m, cv in zip(x, coherence_values):\n",
    "    print(\"Num Topics =\", m, \" has Coherence Value of\", round(cv, 4))"
   ]
  },
  {
   "cell_type": "code",
   "execution_count": 307,
   "metadata": {},
   "outputs": [
    {
     "name": "stdout",
     "output_type": "stream",
     "text": [
      "0.4624450837512607\n",
      "[(24,\n",
      "  '0.050*\"busi\" + 0.049*\"good\" + 0.029*\"real\" + 0.025*\"mexican\" + '\n",
      "  '0.025*\"countri\" + 0.025*\"repost\" + 0.023*\"money\" + 0.017*\"goal\" + '\n",
      "  '0.015*\"polici\" + 0.013*\"biack_own\"'),\n",
      " (17,\n",
      "  '0.188*\"stop\" + 0.143*\"free\" + 0.083*\"facemus\" + 0.080*\"music\" + '\n",
      "  '0.072*\"musicfb_info\" + 0.046*\"onlin_player\" + 0.034*\"listen\" + '\n",
      "  '0.030*\"world\" + 0.030*\"browser\" + 0.026*\"onlin\"'),\n",
      " (3,\n",
      "  '0.062*\"veteran\" + 0.048*\"american\" + 0.045*\"care\" + 0.035*\"famili\" + '\n",
      "  '0.035*\"presid\" + 0.032*\"hillari\" + 0.031*\"clinton\" + 0.031*\"vote\" + '\n",
      "  '0.023*\"reason\" + 0.023*\"member\"'),\n",
      " (18,\n",
      "  '0.032*\"child\" + 0.030*\"mother\" + 0.022*\"grow\" + 0.019*\"parent\" + '\n",
      "  '0.019*\"hope\" + 0.019*\"truth\" + 0.018*\"import\" + 0.017*\"week\" + 0.017*\"play\" '\n",
      "  '+ 0.017*\"happi\"'),\n",
      " (0,\n",
      "  '0.119*\"live\" + 0.071*\"time\" + 0.070*\"muslim\" + 0.050*\"children\" + '\n",
      "  '0.037*\"texa\" + 0.021*\"media\" + 0.020*\"readi\" + 0.018*\"watch\" + 0.016*\"gun\" '\n",
      "  '+ 0.016*\"build\"'),\n",
      " (12,\n",
      "  '0.038*\"histori\" + 0.030*\"obama\" + 0.025*\"flag\" + 0.023*\"liber\" + '\n",
      "  '0.022*\"state\" + 0.020*\"constitut\" + 0.018*\"leader\" + 0.017*\"offici\" + '\n",
      "  '0.017*\"heritag\" + 0.016*\"patriot\"'),\n",
      " (10,\n",
      "  '0.136*\"unit\" + 0.068*\"justic\" + 0.038*\"wake\" + 0.033*\"stay\" + 0.029*\"peopl\" '\n",
      "  '+ 0.024*\"proud\" + 0.023*\"love\" + 0.022*\"elect\" + 0.019*\"make\" + '\n",
      "  '0.018*\"melanin_blackgirlmag\"'),\n",
      " (15,\n",
      "  '0.125*\"black\" + 0.055*\"white\" + 0.030*\"stori\" + 0.028*\"great\" + '\n",
      "  '0.028*\"video\" + 0.028*\"young\" + 0.023*\"south\" + 0.021*\"peopl\" + '\n",
      "  '0.020*\"girl\" + 0.017*\"inspir\"'),\n",
      " (7,\n",
      "  '0.069*\"year\" + 0.047*\"life\" + 0.041*\"bring\" + 0.032*\"prison\" + '\n",
      "  '0.018*\"spend\" + 0.018*\"divers\" + 0.018*\"experi\" + 0.016*\"love\" + '\n",
      "  '0.016*\"give\" + 0.016*\"feel\"'),\n",
      " (13,\n",
      "  '0.049*\"state\" + 0.039*\"refuge\" + 0.036*\"govern\" + 0.035*\"immigr\" + '\n",
      "  '0.028*\"problem\" + 0.027*\"legal\" + 0.026*\"peopl\" + 0.025*\"illeg\" + '\n",
      "  '0.022*\"fact\" + 0.021*\"islam\"'),\n",
      " (6,\n",
      "  '0.172*\"polic\" + 0.084*\"brutal\" + 0.073*\"nation\" + 0.048*\"stop\" + '\n",
      "  '0.043*\"protest\" + 0.031*\"stand\" + 0.029*\"forget\" + 0.023*\"action\" + '\n",
      "  '0.019*\"movement\" + 0.017*\"meet\"'),\n",
      " (11,\n",
      "  '0.084*\"trump\" + 0.055*\"peopl\" + 0.040*\"work\" + 0.026*\"state\" + '\n",
      "  '0.024*\"world\" + 0.024*\"leav\" + 0.023*\"presid\" + 0.021*\"citi\" + 0.020*\"rise\" '\n",
      "  '+ 0.019*\"march\"'),\n",
      " (19,\n",
      "  '0.149*\"america\" + 0.061*\"protect\" + 0.049*\"stand\" + 0.047*\"love\" + '\n",
      "  '0.034*\"follow\" + 0.033*\"heart\" + 0.026*\"illeg_immigr\" + 0.022*\"believ\" + '\n",
      "  '0.018*\"save\" + 0.016*\"futur\"'),\n",
      " (1,\n",
      "  '0.317*\"black\" + 0.055*\"power\" + 0.040*\"educ\" + 0.036*\"proud\" + '\n",
      "  '0.036*\"polic\" + 0.023*\"brother\" + 0.023*\"shoot\" + 0.018*\"hair\" + '\n",
      "  '0.018*\"reveal\" + 0.016*\"natur\"'),\n",
      " (14,\n",
      "  '0.048*\"chang\" + 0.037*\"thing\" + 0.028*\"start\" + 0.026*\"tri\" + 0.023*\"parti\" '\n",
      "  '+ 0.022*\"call\" + 0.020*\"peopl\" + 0.020*\"case\" + 0.018*\"demand\" + '\n",
      "  '0.016*\"bear\"'),\n",
      " (20,\n",
      "  '0.186*\"black\" + 0.106*\"matter\" + 0.050*\"life\" + 0.035*\"polic\" + '\n",
      "  '0.030*\"shoot\" + 0.022*\"social\" + 0.021*\"racial\" + 0.021*\"month\" + '\n",
      "  '0.021*\"communiti\" + 0.018*\"break\"'),\n",
      " (25,\n",
      "  '0.032*\"peopl\" + 0.028*\"transgend\" + 0.027*\"equal\" + 0.019*\"marriag\" + '\n",
      "  '0.019*\"human\" + 0.018*\"discrimin\" + 0.017*\"anti\" + 0.016*\"choos\" + '\n",
      "  '0.015*\"fight\" + 0.015*\"differ\"'),\n",
      " (22,\n",
      "  '0.087*\"year\" + 0.061*\"offic\" + 0.055*\"shoot\" + 0.030*\"cop\" + 0.026*\"death\" '\n",
      "  '+ 0.020*\"accord\" + 0.020*\"rememb\" + 0.019*\"serv\" + 0.017*\"memori\" + '\n",
      "  '0.017*\"famili\"'),\n",
      " (5,\n",
      "  '0.102*\"blackmattersus\" + 0.078*\"student\" + 0.059*\"school\" + 0.045*\"peopl\" + '\n",
      "  '0.034*\"high\" + 0.021*\"white\" + 0.019*\"univers\" + 0.017*\"teacher\" + '\n",
      "  '0.017*\"learn\" + 0.016*\"racist\"'),\n",
      " (8,\n",
      "  '0.069*\"kill\" + 0.047*\"peac\" + 0.031*\"militari\" + 0.027*\"time\" + '\n",
      "  '0.026*\"soldier\" + 0.025*\"innoc\" + 0.020*\"syria\" + 0.018*\"video\" + '\n",
      "  '0.016*\"happen\" + 0.014*\"war\"')]\n"
     ]
    }
   ],
   "source": [
    "# Select the model and print the topics\n",
    "optimal_model = model_list[4]\n",
    "print(coherence_values[4])\n",
    "model_topics = optimal_model.show_topics(formatted=False)\n",
    "pprint(optimal_model.print_topics(num_words=10))"
   ]
  },
  {
   "cell_type": "markdown",
   "metadata": {},
   "source": [
    "# Find the dominant topic in each sentence\n",
    "### In order to find out what topic a document is about we can find the topic number that has the highest percentage contribution in that document"
   ]
  },
  {
   "cell_type": "code",
   "execution_count": 308,
   "metadata": {},
   "outputs": [
    {
     "data": {
      "text/html": [
       "<div>\n",
       "<style scoped>\n",
       "    .dataframe tbody tr th:only-of-type {\n",
       "        vertical-align: middle;\n",
       "    }\n",
       "\n",
       "    .dataframe tbody tr th {\n",
       "        vertical-align: top;\n",
       "    }\n",
       "\n",
       "    .dataframe thead th {\n",
       "        text-align: right;\n",
       "    }\n",
       "</style>\n",
       "<table border=\"1\" class=\"dataframe\">\n",
       "  <thead>\n",
       "    <tr style=\"text-align: right;\">\n",
       "      <th></th>\n",
       "      <th>Document_No</th>\n",
       "      <th>Dominant_Topic</th>\n",
       "      <th>Topic_Perc_Contrib</th>\n",
       "      <th>Keywords</th>\n",
       "      <th>Text</th>\n",
       "    </tr>\n",
       "  </thead>\n",
       "  <tbody>\n",
       "    <tr>\n",
       "      <th>0</th>\n",
       "      <td>0</td>\n",
       "      <td>16.0</td>\n",
       "      <td>0.0676</td>\n",
       "      <td>join, free, seif_defens, class, event_bring, f...</td>\n",
       "      <td>Black American racial experience is real. We s...</td>\n",
       "    </tr>\n",
       "    <tr>\n",
       "      <th>1</th>\n",
       "      <td>1</td>\n",
       "      <td>21.0</td>\n",
       "      <td>0.0740</td>\n",
       "      <td>black, women, peopl, beauti, woman, girl, hist...</td>\n",
       "      <td>The best costume for Halloween worth posting. ...</td>\n",
       "    </tr>\n",
       "    <tr>\n",
       "      <th>2</th>\n",
       "      <td>2</td>\n",
       "      <td>10.0</td>\n",
       "      <td>0.2316</td>\n",
       "      <td>unit, justic, wake, stay, peopl, proud, love, ...</td>\n",
       "      <td>Keep on whining and crying for your president,...</td>\n",
       "    </tr>\n",
       "    <tr>\n",
       "      <th>3</th>\n",
       "      <td>3</td>\n",
       "      <td>10.0</td>\n",
       "      <td>0.2490</td>\n",
       "      <td>unit, justic, wake, stay, peopl, proud, love, ...</td>\n",
       "      <td>End the whining and crying, end the riots with...</td>\n",
       "    </tr>\n",
       "    <tr>\n",
       "      <th>4</th>\n",
       "      <td>4</td>\n",
       "      <td>15.0</td>\n",
       "      <td>0.0612</td>\n",
       "      <td>black, white, stori, great, video, young, sout...</td>\n",
       "      <td>Black girls are the definition of national gre...</td>\n",
       "    </tr>\n",
       "    <tr>\n",
       "      <th>5</th>\n",
       "      <td>5</td>\n",
       "      <td>10.0</td>\n",
       "      <td>0.2796</td>\n",
       "      <td>unit, justic, wake, stay, peopl, proud, love, ...</td>\n",
       "      <td>Imma stay here comfy and untouched, yet workin...</td>\n",
       "    </tr>\n",
       "    <tr>\n",
       "      <th>6</th>\n",
       "      <td>6</td>\n",
       "      <td>15.0</td>\n",
       "      <td>0.1887</td>\n",
       "      <td>black, white, stori, great, video, young, sout...</td>\n",
       "      <td>There is a disgusting video Circulating on the...</td>\n",
       "    </tr>\n",
       "    <tr>\n",
       "      <th>7</th>\n",
       "      <td>7</td>\n",
       "      <td>7.0</td>\n",
       "      <td>0.0562</td>\n",
       "      <td>year, life, bring, prison, spend, divers, expe...</td>\n",
       "      <td>Art imitates life art. This photo is great.</td>\n",
       "    </tr>\n",
       "    <tr>\n",
       "      <th>8</th>\n",
       "      <td>8</td>\n",
       "      <td>24.0</td>\n",
       "      <td>0.0562</td>\n",
       "      <td>busi, good, real, mexican, countri, repost, mo...</td>\n",
       "      <td>In America, racial oppression and racism were ...</td>\n",
       "    </tr>\n",
       "    <tr>\n",
       "      <th>9</th>\n",
       "      <td>9</td>\n",
       "      <td>11.0</td>\n",
       "      <td>0.2827</td>\n",
       "      <td>trump, peopl, work, state, world, leav, presid...</td>\n",
       "      <td>Donald John Trump was elected the 45th preside...</td>\n",
       "    </tr>\n",
       "  </tbody>\n",
       "</table>\n",
       "</div>"
      ],
      "text/plain": [
       "   Document_No  Dominant_Topic  Topic_Perc_Contrib  \\\n",
       "0            0            16.0              0.0676   \n",
       "1            1            21.0              0.0740   \n",
       "2            2            10.0              0.2316   \n",
       "3            3            10.0              0.2490   \n",
       "4            4            15.0              0.0612   \n",
       "5            5            10.0              0.2796   \n",
       "6            6            15.0              0.1887   \n",
       "7            7             7.0              0.0562   \n",
       "8            8            24.0              0.0562   \n",
       "9            9            11.0              0.2827   \n",
       "\n",
       "                                            Keywords  \\\n",
       "0  join, free, seif_defens, class, event_bring, f...   \n",
       "1  black, women, peopl, beauti, woman, girl, hist...   \n",
       "2  unit, justic, wake, stay, peopl, proud, love, ...   \n",
       "3  unit, justic, wake, stay, peopl, proud, love, ...   \n",
       "4  black, white, stori, great, video, young, sout...   \n",
       "5  unit, justic, wake, stay, peopl, proud, love, ...   \n",
       "6  black, white, stori, great, video, young, sout...   \n",
       "7  year, life, bring, prison, spend, divers, expe...   \n",
       "8  busi, good, real, mexican, countri, repost, mo...   \n",
       "9  trump, peopl, work, state, world, leav, presid...   \n",
       "\n",
       "                                                Text  \n",
       "0  Black American racial experience is real. We s...  \n",
       "1  The best costume for Halloween worth posting. ...  \n",
       "2  Keep on whining and crying for your president,...  \n",
       "3  End the whining and crying, end the riots with...  \n",
       "4  Black girls are the definition of national gre...  \n",
       "5  Imma stay here comfy and untouched, yet workin...  \n",
       "6  There is a disgusting video Circulating on the...  \n",
       "7        Art imitates life art. This photo is great.  \n",
       "8  In America, racial oppression and racism were ...  \n",
       "9  Donald John Trump was elected the 45th preside...  "
      ]
     },
     "execution_count": 308,
     "metadata": {},
     "output_type": "execute_result"
    }
   ],
   "source": [
    "def format_topics_sentences(ldamodel=lda_model, corpus=corpus, texts=data):\n",
    "    # Init output\n",
    "    sent_topics_df = pd.DataFrame()\n",
    "\n",
    "    # Get main topic in each document\n",
    "    for i, row in enumerate(ldamodel[corpus]):\n",
    "        row = sorted(row, key=lambda x: (x[1]), reverse=True)\n",
    "        # Get the Dominant topic, Perc Contribution and Keywords for each document\n",
    "        for j, (topic_num, prop_topic) in enumerate(row):\n",
    "            if j == 0:  # => dominant topic\n",
    "                wp = ldamodel.show_topic(topic_num)\n",
    "                topic_keywords = \", \".join([word for word, prop in wp])\n",
    "                sent_topics_df = sent_topics_df.append(pd.Series([int(topic_num), round(prop_topic,4), topic_keywords]), ignore_index=True)\n",
    "            else:\n",
    "                break\n",
    "    sent_topics_df.columns = ['Dominant_Topic', 'Perc_Contribution', 'Topic_Keywords']\n",
    "\n",
    "    # Add original text to the end of the output\n",
    "    contents = pd.Series(texts)\n",
    "    sent_topics_df = pd.concat([sent_topics_df, contents], axis=1)\n",
    "    return(sent_topics_df)\n",
    "\n",
    "\n",
    "df_topic_sents_keywords = format_topics_sentences(ldamodel=optimal_model, corpus=corpus, texts=documents['description'])\n",
    "\n",
    "# Format\n",
    "df_dominant_topic = df_topic_sents_keywords.reset_index()\n",
    "df_dominant_topic.columns = ['Document_No', 'Dominant_Topic', 'Topic_Perc_Contrib', 'Keywords', 'Text']\n",
    "\n",
    "# Show\n",
    "df_dominant_topic.head(10)"
   ]
  },
  {
   "cell_type": "markdown",
   "metadata": {},
   "source": [
    "# Find the most representative document for each topic\n",
    "### To help understand the topic, we can find documents a given topic has contributed to the most and infer the topic by reading the document."
   ]
  },
  {
   "cell_type": "code",
   "execution_count": 309,
   "metadata": {},
   "outputs": [
    {
     "data": {
      "text/html": [
       "<div>\n",
       "<style scoped>\n",
       "    .dataframe tbody tr th:only-of-type {\n",
       "        vertical-align: middle;\n",
       "    }\n",
       "\n",
       "    .dataframe tbody tr th {\n",
       "        vertical-align: top;\n",
       "    }\n",
       "\n",
       "    .dataframe thead th {\n",
       "        text-align: right;\n",
       "    }\n",
       "</style>\n",
       "<table border=\"1\" class=\"dataframe\">\n",
       "  <thead>\n",
       "    <tr style=\"text-align: right;\">\n",
       "      <th></th>\n",
       "      <th>Topic_Num</th>\n",
       "      <th>Topic_Perc_Contrib</th>\n",
       "      <th>Keywords</th>\n",
       "      <th>Text</th>\n",
       "    </tr>\n",
       "  </thead>\n",
       "  <tbody>\n",
       "    <tr>\n",
       "      <th>0</th>\n",
       "      <td>0.0</td>\n",
       "      <td>0.5517</td>\n",
       "      <td>live, time, muslim, children, texa, media, rea...</td>\n",
       "      <td>Boston police shot and killed a man wearing bo...</td>\n",
       "    </tr>\n",
       "    <tr>\n",
       "      <th>1</th>\n",
       "      <td>1.0</td>\n",
       "      <td>0.3494</td>\n",
       "      <td>black, power, educ, proud, polic, brother, sho...</td>\n",
       "      <td>Black girl magic!</td>\n",
       "    </tr>\n",
       "    <tr>\n",
       "      <th>2</th>\n",
       "      <td>2.0</td>\n",
       "      <td>0.3251</td>\n",
       "      <td>american, african, hate, group, understand, cu...</td>\n",
       "      <td>This man is great example of human filth and l...</td>\n",
       "    </tr>\n",
       "    <tr>\n",
       "      <th>3</th>\n",
       "      <td>3.0</td>\n",
       "      <td>0.4967</td>\n",
       "      <td>veteran, american, care, famili, presid, hilla...</td>\n",
       "      <td>African-American entrepreneurs, DeShawn Bullar...</td>\n",
       "    </tr>\n",
       "    <tr>\n",
       "      <th>4</th>\n",
       "      <td>4.0</td>\n",
       "      <td>0.3782</td>\n",
       "      <td>home, attack, terrorist, place, arrest, hero, ...</td>\n",
       "      <td>Look at these gorgeous queens in all shades.</td>\n",
       "    </tr>\n",
       "    <tr>\n",
       "      <th>5</th>\n",
       "      <td>5.0</td>\n",
       "      <td>0.4998</td>\n",
       "      <td>blackmattersus, student, school, peopl, high, ...</td>\n",
       "      <td>Black Community! We finally made a website! Ne...</td>\n",
       "    </tr>\n",
       "    <tr>\n",
       "      <th>6</th>\n",
       "      <td>6.0</td>\n",
       "      <td>0.4388</td>\n",
       "      <td>polic, brutal, nation, stop, protest, stand, f...</td>\n",
       "      <td>Officials of the Highlands High School are inv...</td>\n",
       "    </tr>\n",
       "    <tr>\n",
       "      <th>7</th>\n",
       "      <td>7.0</td>\n",
       "      <td>0.3609</td>\n",
       "      <td>year, life, bring, prison, spend, divers, expe...</td>\n",
       "      <td>Our mission is to tell the bold truth about ra...</td>\n",
       "    </tr>\n",
       "    <tr>\n",
       "      <th>8</th>\n",
       "      <td>8.0</td>\n",
       "      <td>0.3660</td>\n",
       "      <td>kill, peac, militari, time, soldier, innoc, sy...</td>\n",
       "      <td>HANDS OFF THE MIDDLE EAST!</td>\n",
       "    </tr>\n",
       "    <tr>\n",
       "      <th>9</th>\n",
       "      <td>9.0</td>\n",
       "      <td>0.4158</td>\n",
       "      <td>racism, video, school, news, fight, word, whit...</td>\n",
       "      <td>This group is basically to bring together all ...</td>\n",
       "    </tr>\n",
       "    <tr>\n",
       "      <th>10</th>\n",
       "      <td>10.0</td>\n",
       "      <td>0.3161</td>\n",
       "      <td>unit, justic, wake, stay, peopl, proud, love, ...</td>\n",
       "      <td>Join us if you know it's just a car, NOT A SYM...</td>\n",
       "    </tr>\n",
       "    <tr>\n",
       "      <th>11</th>\n",
       "      <td>11.0</td>\n",
       "      <td>0.6323</td>\n",
       "      <td>trump, peopl, work, state, world, leav, presid...</td>\n",
       "      <td>Everyday gives us a Chance for a fresh start. ...</td>\n",
       "    </tr>\n",
       "    <tr>\n",
       "      <th>12</th>\n",
       "      <td>12.0</td>\n",
       "      <td>0.4173</td>\n",
       "      <td>histori, obama, flag, liber, state, constitut,...</td>\n",
       "      <td>The media did not report this story. But we wi...</td>\n",
       "    </tr>\n",
       "    <tr>\n",
       "      <th>13</th>\n",
       "      <td>13.0</td>\n",
       "      <td>0.3459</td>\n",
       "      <td>state, refuge, govern, immigr, problem, legal,...</td>\n",
       "      <td>Black matters because everyone's life matters</td>\n",
       "    </tr>\n",
       "    <tr>\n",
       "      <th>14</th>\n",
       "      <td>14.0</td>\n",
       "      <td>0.4474</td>\n",
       "      <td>chang, thing, start, tri, parti, call, peopl, ...</td>\n",
       "      <td>The video is Circulating across the internet a...</td>\n",
       "    </tr>\n",
       "    <tr>\n",
       "      <th>15</th>\n",
       "      <td>15.0</td>\n",
       "      <td>0.7713</td>\n",
       "      <td>black, white, stori, great, video, young, sout...</td>\n",
       "      <td>Not everyone can understand what it feels like...</td>\n",
       "    </tr>\n",
       "    <tr>\n",
       "      <th>16</th>\n",
       "      <td>16.0</td>\n",
       "      <td>0.3601</td>\n",
       "      <td>join, free, seif_defens, class, event_bring, f...</td>\n",
       "      <td>Aww! Because you need such a cutie on your tim...</td>\n",
       "    </tr>\n",
       "    <tr>\n",
       "      <th>17</th>\n",
       "      <td>17.0</td>\n",
       "      <td>0.2625</td>\n",
       "      <td>stop, free, facemus, music, musicfb_info, onli...</td>\n",
       "      <td>Free online player! Jump in the world of free ...</td>\n",
       "    </tr>\n",
       "    <tr>\n",
       "      <th>18</th>\n",
       "      <td>18.0</td>\n",
       "      <td>0.5435</td>\n",
       "      <td>child, mother, grow, parent, hope, truth, impo...</td>\n",
       "      <td>CONGRATS TO ALL THE GAY COUPLESH After a long ...</td>\n",
       "    </tr>\n",
       "    <tr>\n",
       "      <th>19</th>\n",
       "      <td>19.0</td>\n",
       "      <td>0.3784</td>\n",
       "      <td>america, protect, stand, love, follow, heart, ...</td>\n",
       "      <td>Danney Williams, 30, has been trying since at ...</td>\n",
       "    </tr>\n",
       "    <tr>\n",
       "      <th>20</th>\n",
       "      <td>20.0</td>\n",
       "      <td>0.3772</td>\n",
       "      <td>black, matter, life, polic, shoot, social, rac...</td>\n",
       "      <td>Only for Chrome users!\\nAny music via “FaceMus...</td>\n",
       "    </tr>\n",
       "    <tr>\n",
       "      <th>21</th>\n",
       "      <td>21.0</td>\n",
       "      <td>0.3435</td>\n",
       "      <td>black, women, peopl, beauti, woman, girl, hist...</td>\n",
       "      <td>Free online player! Just add in ur browser and...</td>\n",
       "    </tr>\n",
       "    <tr>\n",
       "      <th>22</th>\n",
       "      <td>22.0</td>\n",
       "      <td>0.4331</td>\n",
       "      <td>year, offic, shoot, cop, death, accord, rememb...</td>\n",
       "      <td>There's no reason to fight the whole governmen...</td>\n",
       "    </tr>\n",
       "    <tr>\n",
       "      <th>23</th>\n",
       "      <td>23.0</td>\n",
       "      <td>0.2227</td>\n",
       "      <td>communiti, support, amend, gun_lover, patriot_...</td>\n",
       "      <td>Welcome to the City of memes - Memopolis.</td>\n",
       "    </tr>\n",
       "    <tr>\n",
       "      <th>24</th>\n",
       "      <td>24.0</td>\n",
       "      <td>0.3399</td>\n",
       "      <td>busi, good, real, mexican, countri, repost, mo...</td>\n",
       "      <td>White media used to tell what is important for...</td>\n",
       "    </tr>\n",
       "    <tr>\n",
       "      <th>25</th>\n",
       "      <td>25.0</td>\n",
       "      <td>0.4447</td>\n",
       "      <td>peopl, transgend, equal, marriag, human, discr...</td>\n",
       "      <td>Please share this disturbing video. A routine ...</td>\n",
       "    </tr>\n",
       "  </tbody>\n",
       "</table>\n",
       "</div>"
      ],
      "text/plain": [
       "    Topic_Num  Topic_Perc_Contrib  \\\n",
       "0         0.0              0.5517   \n",
       "1         1.0              0.3494   \n",
       "2         2.0              0.3251   \n",
       "3         3.0              0.4967   \n",
       "4         4.0              0.3782   \n",
       "5         5.0              0.4998   \n",
       "6         6.0              0.4388   \n",
       "7         7.0              0.3609   \n",
       "8         8.0              0.3660   \n",
       "9         9.0              0.4158   \n",
       "10       10.0              0.3161   \n",
       "11       11.0              0.6323   \n",
       "12       12.0              0.4173   \n",
       "13       13.0              0.3459   \n",
       "14       14.0              0.4474   \n",
       "15       15.0              0.7713   \n",
       "16       16.0              0.3601   \n",
       "17       17.0              0.2625   \n",
       "18       18.0              0.5435   \n",
       "19       19.0              0.3784   \n",
       "20       20.0              0.3772   \n",
       "21       21.0              0.3435   \n",
       "22       22.0              0.4331   \n",
       "23       23.0              0.2227   \n",
       "24       24.0              0.3399   \n",
       "25       25.0              0.4447   \n",
       "\n",
       "                                             Keywords  \\\n",
       "0   live, time, muslim, children, texa, media, rea...   \n",
       "1   black, power, educ, proud, polic, brother, sho...   \n",
       "2   american, african, hate, group, understand, cu...   \n",
       "3   veteran, american, care, famili, presid, hilla...   \n",
       "4   home, attack, terrorist, place, arrest, hero, ...   \n",
       "5   blackmattersus, student, school, peopl, high, ...   \n",
       "6   polic, brutal, nation, stop, protest, stand, f...   \n",
       "7   year, life, bring, prison, spend, divers, expe...   \n",
       "8   kill, peac, militari, time, soldier, innoc, sy...   \n",
       "9   racism, video, school, news, fight, word, whit...   \n",
       "10  unit, justic, wake, stay, peopl, proud, love, ...   \n",
       "11  trump, peopl, work, state, world, leav, presid...   \n",
       "12  histori, obama, flag, liber, state, constitut,...   \n",
       "13  state, refuge, govern, immigr, problem, legal,...   \n",
       "14  chang, thing, start, tri, parti, call, peopl, ...   \n",
       "15  black, white, stori, great, video, young, sout...   \n",
       "16  join, free, seif_defens, class, event_bring, f...   \n",
       "17  stop, free, facemus, music, musicfb_info, onli...   \n",
       "18  child, mother, grow, parent, hope, truth, impo...   \n",
       "19  america, protect, stand, love, follow, heart, ...   \n",
       "20  black, matter, life, polic, shoot, social, rac...   \n",
       "21  black, women, peopl, beauti, woman, girl, hist...   \n",
       "22  year, offic, shoot, cop, death, accord, rememb...   \n",
       "23  communiti, support, amend, gun_lover, patriot_...   \n",
       "24  busi, good, real, mexican, countri, repost, mo...   \n",
       "25  peopl, transgend, equal, marriag, human, discr...   \n",
       "\n",
       "                                                 Text  \n",
       "0   Boston police shot and killed a man wearing bo...  \n",
       "1                                   Black girl magic!  \n",
       "2   This man is great example of human filth and l...  \n",
       "3   African-American entrepreneurs, DeShawn Bullar...  \n",
       "4        Look at these gorgeous queens in all shades.  \n",
       "5   Black Community! We finally made a website! Ne...  \n",
       "6   Officials of the Highlands High School are inv...  \n",
       "7   Our mission is to tell the bold truth about ra...  \n",
       "8                          HANDS OFF THE MIDDLE EAST!  \n",
       "9   This group is basically to bring together all ...  \n",
       "10  Join us if you know it's just a car, NOT A SYM...  \n",
       "11  Everyday gives us a Chance for a fresh start. ...  \n",
       "12  The media did not report this story. But we wi...  \n",
       "13      Black matters because everyone's life matters  \n",
       "14  The video is Circulating across the internet a...  \n",
       "15  Not everyone can understand what it feels like...  \n",
       "16  Aww! Because you need such a cutie on your tim...  \n",
       "17  Free online player! Jump in the world of free ...  \n",
       "18  CONGRATS TO ALL THE GAY COUPLESH After a long ...  \n",
       "19  Danney Williams, 30, has been trying since at ...  \n",
       "20  Only for Chrome users!\\nAny music via “FaceMus...  \n",
       "21  Free online player! Just add in ur browser and...  \n",
       "22  There's no reason to fight the whole governmen...  \n",
       "23          Welcome to the City of memes - Memopolis.  \n",
       "24  White media used to tell what is important for...  \n",
       "25  Please share this disturbing video. A routine ...  "
      ]
     },
     "execution_count": 309,
     "metadata": {},
     "output_type": "execute_result"
    }
   ],
   "source": [
    "# Group top 5 sentences under each topic\n",
    "sent_topics_sorteddf_mallet = pd.DataFrame()\n",
    "\n",
    "sent_topics_outdf_grpd = df_topic_sents_keywords.groupby('Dominant_Topic')\n",
    "\n",
    "for i, grp in sent_topics_outdf_grpd:\n",
    "    sent_topics_sorteddf_mallet = pd.concat([sent_topics_sorteddf_mallet, \n",
    "                                             grp.sort_values(['Perc_Contribution'], ascending=[0]).head(1)], \n",
    "                                            axis=0)\n",
    "\n",
    "# Reset Index    \n",
    "sent_topics_sorteddf_mallet.reset_index(drop=True, inplace=True)\n",
    "\n",
    "# Format\n",
    "sent_topics_sorteddf_mallet.columns = ['Topic_Num', \"Topic_Perc_Contrib\", \"Keywords\", \"Text\"]\n",
    "\n",
    "# Show\n",
    "sent_topics_sorteddf_mallet"
   ]
  },
  {
   "cell_type": "markdown",
   "metadata": {},
   "source": [
    "# Topic distribution across documents\n",
    "### We want to understand the volume and distributuion of topics in order to judge how widely it was discussed."
   ]
  },
  {
   "cell_type": "code",
   "execution_count": 310,
   "metadata": {},
   "outputs": [
    {
     "data": {
      "text/html": [
       "<div>\n",
       "<style scoped>\n",
       "    .dataframe tbody tr th:only-of-type {\n",
       "        vertical-align: middle;\n",
       "    }\n",
       "\n",
       "    .dataframe tbody tr th {\n",
       "        vertical-align: top;\n",
       "    }\n",
       "\n",
       "    .dataframe thead th {\n",
       "        text-align: right;\n",
       "    }\n",
       "</style>\n",
       "<table border=\"1\" class=\"dataframe\">\n",
       "  <thead>\n",
       "    <tr style=\"text-align: right;\">\n",
       "      <th></th>\n",
       "      <th>Dominant_Topic</th>\n",
       "      <th>Topic_Keywords</th>\n",
       "      <th>Num_Documents</th>\n",
       "      <th>Perc_Documents</th>\n",
       "    </tr>\n",
       "  </thead>\n",
       "  <tbody>\n",
       "    <tr>\n",
       "      <th>0.0</th>\n",
       "      <td>16.0</td>\n",
       "      <td>join, free, seif_defens, class, event_bring, f...</td>\n",
       "      <td>190.0</td>\n",
       "      <td>0.0657</td>\n",
       "    </tr>\n",
       "    <tr>\n",
       "      <th>1.0</th>\n",
       "      <td>21.0</td>\n",
       "      <td>black, women, peopl, beauti, woman, girl, hist...</td>\n",
       "      <td>134.0</td>\n",
       "      <td>0.0463</td>\n",
       "    </tr>\n",
       "    <tr>\n",
       "      <th>2.0</th>\n",
       "      <td>10.0</td>\n",
       "      <td>unit, justic, wake, stay, peopl, proud, love, ...</td>\n",
       "      <td>108.0</td>\n",
       "      <td>0.0373</td>\n",
       "    </tr>\n",
       "    <tr>\n",
       "      <th>3.0</th>\n",
       "      <td>10.0</td>\n",
       "      <td>unit, justic, wake, stay, peopl, proud, love, ...</td>\n",
       "      <td>99.0</td>\n",
       "      <td>0.0342</td>\n",
       "    </tr>\n",
       "    <tr>\n",
       "      <th>4.0</th>\n",
       "      <td>15.0</td>\n",
       "      <td>black, white, stori, great, video, young, sout...</td>\n",
       "      <td>84.0</td>\n",
       "      <td>0.0290</td>\n",
       "    </tr>\n",
       "    <tr>\n",
       "      <th>5.0</th>\n",
       "      <td>10.0</td>\n",
       "      <td>unit, justic, wake, stay, peopl, proud, love, ...</td>\n",
       "      <td>91.0</td>\n",
       "      <td>0.0315</td>\n",
       "    </tr>\n",
       "    <tr>\n",
       "      <th>6.0</th>\n",
       "      <td>15.0</td>\n",
       "      <td>black, white, stori, great, video, young, sout...</td>\n",
       "      <td>139.0</td>\n",
       "      <td>0.0481</td>\n",
       "    </tr>\n",
       "    <tr>\n",
       "      <th>7.0</th>\n",
       "      <td>7.0</td>\n",
       "      <td>year, life, bring, prison, spend, divers, expe...</td>\n",
       "      <td>77.0</td>\n",
       "      <td>0.0266</td>\n",
       "    </tr>\n",
       "    <tr>\n",
       "      <th>8.0</th>\n",
       "      <td>24.0</td>\n",
       "      <td>busi, good, real, mexican, countri, repost, mo...</td>\n",
       "      <td>80.0</td>\n",
       "      <td>0.0277</td>\n",
       "    </tr>\n",
       "    <tr>\n",
       "      <th>9.0</th>\n",
       "      <td>11.0</td>\n",
       "      <td>trump, peopl, work, state, world, leav, presid...</td>\n",
       "      <td>85.0</td>\n",
       "      <td>0.0294</td>\n",
       "    </tr>\n",
       "    <tr>\n",
       "      <th>10.0</th>\n",
       "      <td>1.0</td>\n",
       "      <td>black, power, educ, proud, polic, brother, sho...</td>\n",
       "      <td>108.0</td>\n",
       "      <td>0.0373</td>\n",
       "    </tr>\n",
       "    <tr>\n",
       "      <th>11.0</th>\n",
       "      <td>12.0</td>\n",
       "      <td>histori, obama, flag, liber, state, constitut,...</td>\n",
       "      <td>50.0</td>\n",
       "      <td>0.0173</td>\n",
       "    </tr>\n",
       "    <tr>\n",
       "      <th>12.0</th>\n",
       "      <td>0.0</td>\n",
       "      <td>live, time, muslim, children, texa, media, rea...</td>\n",
       "      <td>105.0</td>\n",
       "      <td>0.0363</td>\n",
       "    </tr>\n",
       "    <tr>\n",
       "      <th>13.0</th>\n",
       "      <td>11.0</td>\n",
       "      <td>trump, peopl, work, state, world, leav, presid...</td>\n",
       "      <td>105.0</td>\n",
       "      <td>0.0363</td>\n",
       "    </tr>\n",
       "    <tr>\n",
       "      <th>14.0</th>\n",
       "      <td>1.0</td>\n",
       "      <td>black, power, educ, proud, polic, brother, sho...</td>\n",
       "      <td>74.0</td>\n",
       "      <td>0.0256</td>\n",
       "    </tr>\n",
       "    <tr>\n",
       "      <th>15.0</th>\n",
       "      <td>11.0</td>\n",
       "      <td>trump, peopl, work, state, world, leav, presid...</td>\n",
       "      <td>82.0</td>\n",
       "      <td>0.0284</td>\n",
       "    </tr>\n",
       "    <tr>\n",
       "      <th>16.0</th>\n",
       "      <td>0.0</td>\n",
       "      <td>live, time, muslim, children, texa, media, rea...</td>\n",
       "      <td>153.0</td>\n",
       "      <td>0.0529</td>\n",
       "    </tr>\n",
       "    <tr>\n",
       "      <th>17.0</th>\n",
       "      <td>24.0</td>\n",
       "      <td>busi, good, real, mexican, countri, repost, mo...</td>\n",
       "      <td>136.0</td>\n",
       "      <td>0.0470</td>\n",
       "    </tr>\n",
       "    <tr>\n",
       "      <th>18.0</th>\n",
       "      <td>12.0</td>\n",
       "      <td>histori, obama, flag, liber, state, constitut,...</td>\n",
       "      <td>93.0</td>\n",
       "      <td>0.0322</td>\n",
       "    </tr>\n",
       "    <tr>\n",
       "      <th>19.0</th>\n",
       "      <td>9.0</td>\n",
       "      <td>racism, video, school, news, fight, word, whit...</td>\n",
       "      <td>154.0</td>\n",
       "      <td>0.0533</td>\n",
       "    </tr>\n",
       "    <tr>\n",
       "      <th>20.0</th>\n",
       "      <td>9.0</td>\n",
       "      <td>racism, video, school, news, fight, word, whit...</td>\n",
       "      <td>123.0</td>\n",
       "      <td>0.0425</td>\n",
       "    </tr>\n",
       "    <tr>\n",
       "      <th>21.0</th>\n",
       "      <td>7.0</td>\n",
       "      <td>year, life, bring, prison, spend, divers, expe...</td>\n",
       "      <td>147.0</td>\n",
       "      <td>0.0508</td>\n",
       "    </tr>\n",
       "    <tr>\n",
       "      <th>22.0</th>\n",
       "      <td>6.0</td>\n",
       "      <td>polic, brutal, nation, stop, protest, stand, f...</td>\n",
       "      <td>60.0</td>\n",
       "      <td>0.0207</td>\n",
       "    </tr>\n",
       "    <tr>\n",
       "      <th>23.0</th>\n",
       "      <td>19.0</td>\n",
       "      <td>america, protect, stand, love, follow, heart, ...</td>\n",
       "      <td>200.0</td>\n",
       "      <td>0.0692</td>\n",
       "    </tr>\n",
       "    <tr>\n",
       "      <th>24.0</th>\n",
       "      <td>5.0</td>\n",
       "      <td>blackmattersus, student, school, peopl, high, ...</td>\n",
       "      <td>143.0</td>\n",
       "      <td>0.0494</td>\n",
       "    </tr>\n",
       "    <tr>\n",
       "      <th>25.0</th>\n",
       "      <td>24.0</td>\n",
       "      <td>busi, good, real, mexican, countri, repost, mo...</td>\n",
       "      <td>72.0</td>\n",
       "      <td>0.0249</td>\n",
       "    </tr>\n",
       "  </tbody>\n",
       "</table>\n",
       "</div>"
      ],
      "text/plain": [
       "      Dominant_Topic                                     Topic_Keywords  \\\n",
       "0.0             16.0  join, free, seif_defens, class, event_bring, f...   \n",
       "1.0             21.0  black, women, peopl, beauti, woman, girl, hist...   \n",
       "2.0             10.0  unit, justic, wake, stay, peopl, proud, love, ...   \n",
       "3.0             10.0  unit, justic, wake, stay, peopl, proud, love, ...   \n",
       "4.0             15.0  black, white, stori, great, video, young, sout...   \n",
       "5.0             10.0  unit, justic, wake, stay, peopl, proud, love, ...   \n",
       "6.0             15.0  black, white, stori, great, video, young, sout...   \n",
       "7.0              7.0  year, life, bring, prison, spend, divers, expe...   \n",
       "8.0             24.0  busi, good, real, mexican, countri, repost, mo...   \n",
       "9.0             11.0  trump, peopl, work, state, world, leav, presid...   \n",
       "10.0             1.0  black, power, educ, proud, polic, brother, sho...   \n",
       "11.0            12.0  histori, obama, flag, liber, state, constitut,...   \n",
       "12.0             0.0  live, time, muslim, children, texa, media, rea...   \n",
       "13.0            11.0  trump, peopl, work, state, world, leav, presid...   \n",
       "14.0             1.0  black, power, educ, proud, polic, brother, sho...   \n",
       "15.0            11.0  trump, peopl, work, state, world, leav, presid...   \n",
       "16.0             0.0  live, time, muslim, children, texa, media, rea...   \n",
       "17.0            24.0  busi, good, real, mexican, countri, repost, mo...   \n",
       "18.0            12.0  histori, obama, flag, liber, state, constitut,...   \n",
       "19.0             9.0  racism, video, school, news, fight, word, whit...   \n",
       "20.0             9.0  racism, video, school, news, fight, word, whit...   \n",
       "21.0             7.0  year, life, bring, prison, spend, divers, expe...   \n",
       "22.0             6.0  polic, brutal, nation, stop, protest, stand, f...   \n",
       "23.0            19.0  america, protect, stand, love, follow, heart, ...   \n",
       "24.0             5.0  blackmattersus, student, school, peopl, high, ...   \n",
       "25.0            24.0  busi, good, real, mexican, countri, repost, mo...   \n",
       "\n",
       "      Num_Documents  Perc_Documents  \n",
       "0.0           190.0          0.0657  \n",
       "1.0           134.0          0.0463  \n",
       "2.0           108.0          0.0373  \n",
       "3.0            99.0          0.0342  \n",
       "4.0            84.0          0.0290  \n",
       "5.0            91.0          0.0315  \n",
       "6.0           139.0          0.0481  \n",
       "7.0            77.0          0.0266  \n",
       "8.0            80.0          0.0277  \n",
       "9.0            85.0          0.0294  \n",
       "10.0          108.0          0.0373  \n",
       "11.0           50.0          0.0173  \n",
       "12.0          105.0          0.0363  \n",
       "13.0          105.0          0.0363  \n",
       "14.0           74.0          0.0256  \n",
       "15.0           82.0          0.0284  \n",
       "16.0          153.0          0.0529  \n",
       "17.0          136.0          0.0470  \n",
       "18.0           93.0          0.0322  \n",
       "19.0          154.0          0.0533  \n",
       "20.0          123.0          0.0425  \n",
       "21.0          147.0          0.0508  \n",
       "22.0           60.0          0.0207  \n",
       "23.0          200.0          0.0692  \n",
       "24.0          143.0          0.0494  \n",
       "25.0           72.0          0.0249  "
      ]
     },
     "execution_count": 310,
     "metadata": {},
     "output_type": "execute_result"
    }
   ],
   "source": [
    "# Number of Documents for Each Topic\n",
    "topic_counts = df_topic_sents_keywords['Dominant_Topic'].value_counts()\n",
    "\n",
    "# Percentage of Documents for Each Topic\n",
    "topic_contribution = round(topic_counts/topic_counts.sum(), 4)\n",
    "\n",
    "# Topic Number and Keywords\n",
    "topic_num_keywords = df_topic_sents_keywords[['Dominant_Topic', 'Topic_Keywords']]\n",
    "\n",
    "# Concatenate Column wise\n",
    "df_dominant_topics = pd.concat([topic_num_keywords, topic_counts, topic_contribution], axis=1)\n",
    "\n",
    "# Change Column names\n",
    "df_dominant_topics.columns = ['Dominant_Topic', 'Topic_Keywords', 'Num_Documents', 'Perc_Documents']\n",
    "\n",
    "# Show\n",
    "df_dominant_topics.head(26)"
   ]
  }
 ],
 "metadata": {
  "kernelspec": {
   "display_name": "Python 3",
   "language": "python",
   "name": "python3"
  },
  "language_info": {
   "codemirror_mode": {
    "name": "ipython",
    "version": 3
   },
   "file_extension": ".py",
   "mimetype": "text/x-python",
   "name": "python",
   "nbconvert_exporter": "python",
   "pygments_lexer": "ipython3",
   "version": "3.6.9"
  },
  "varInspector": {
   "cols": {
    "lenName": 16,
    "lenType": 16,
    "lenVar": 40
   },
   "kernels_config": {
    "python": {
     "delete_cmd_postfix": "",
     "delete_cmd_prefix": "del ",
     "library": "var_list.py",
     "varRefreshCmd": "print(var_dic_list())"
    },
    "r": {
     "delete_cmd_postfix": ") ",
     "delete_cmd_prefix": "rm(",
     "library": "var_list.r",
     "varRefreshCmd": "cat(var_dic_list()) "
    }
   },
   "types_to_exclude": [
    "module",
    "function",
    "builtin_function_or_method",
    "instance",
    "_Feature"
   ],
   "window_display": false
  }
 },
 "nbformat": 4,
 "nbformat_minor": 2
}
