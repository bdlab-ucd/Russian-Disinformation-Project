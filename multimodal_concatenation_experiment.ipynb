{
 "cells": [
  {
   "cell_type": "code",
   "execution_count": 29,
   "metadata": {},
   "outputs": [
    {
     "data": {
      "text/plain": [
       "(2048,)"
      ]
     },
     "execution_count": 29,
     "metadata": {},
     "output_type": "execute_result"
    }
   ],
   "source": [
    "import numpy as np\n",
    "\n",
    "img_embed = np.load(\"anger_resnet50_image_embeddings.npz\")\n",
    "\n",
    "img_embed.files\n",
    "img_embed['arr_3011'].shape"
   ]
  },
  {
   "cell_type": "code",
   "execution_count": 30,
   "metadata": {},
   "outputs": [
    {
     "data": {
      "text/plain": [
       "(768,)"
      ]
     },
     "execution_count": 30,
     "metadata": {},
     "output_type": "execute_result"
    }
   ],
   "source": [
    "word_embed = np.load(\"bert_word_embeddings.npz\")\n",
    "\n",
    "word_embed.files\n",
    "word_embed['arr_3011'].shape"
   ]
  },
  {
   "cell_type": "code",
   "execution_count": 31,
   "metadata": {},
   "outputs": [
    {
     "data": {
      "text/plain": [
       "(2816,)"
      ]
     },
     "execution_count": 31,
     "metadata": {},
     "output_type": "execute_result"
    }
   ],
   "source": [
    "np.concatenate((word_embed['arr_0'], img_embed['arr_0']), axis=None).shape"
   ]
  },
  {
   "cell_type": "code",
   "execution_count": 32,
   "metadata": {},
   "outputs": [],
   "source": [
    "data = []\n",
    "\n",
    "from sklearn.preprocessing import normalize\n",
    "from sklearn.pipeline import Pipeline, FeatureUnion\n",
    "\n",
    "for i in range(0, 3012):\n",
    "    key_str = 'arr_' + str(i)\n",
    "    data.append(np.concatenate((word_embed[key_str], img_embed[key_str]), axis=None))"
   ]
  },
  {
   "cell_type": "code",
   "execution_count": 33,
   "metadata": {},
   "outputs": [],
   "source": [
    "# set the matplotlib backend so figures can be saved in the background\n",
    "import matplotlib\n",
    "# matplotlib.use(\"Agg\")\n",
    "\n",
    "# import the necessary packages\n",
    "import time\n",
    "import pandas as pd\n",
    "import seaborn as sn\n",
    "import keras\n",
    "import os\n",
    "import cv2\n",
    "import pickle\n",
    "import random\n",
    "import argparse\n",
    "import numpy as np\n",
    "from imutils import paths\n",
    "import matplotlib.pyplot as plt\n",
    "from sklearn.metrics import confusion_matrix\n",
    "from sklearn.model_selection import train_test_split\n",
    "from sklearn.preprocessing import LabelBinarizer\n",
    "from keras.layers import Dense\n",
    "from keras.preprocessing.image import img_to_array\n",
    "from keras.models import Model\n",
    "from keras.optimizers import Adam\n",
    "from keras.optimizers import Nadam\n",
    "from keras.optimizers import RMSprop\n",
    "from keras.losses import logcosh, binary_crossentropy\n",
    "from keras.activations import relu, elu, sigmoid\n",
    "from keras.preprocessing.image import ImageDataGenerator\n",
    "# import matplotlib\n",
    "# matplotlib.use(\"Agg\")"
   ]
  },
  {
   "cell_type": "code",
   "execution_count": 34,
   "metadata": {},
   "outputs": [],
   "source": [
    "# initialize the number of epochs to train for, initial learning rate,\n",
    "# batch size, and image dimensions\n",
    "EPOCHS = 300\n",
    "INIT_LR = 1e-3\n",
    "BS = 32\n",
    "IMAGE_DIMS = (224, 224, 3)"
   ]
  },
  {
   "cell_type": "code",
   "execution_count": 35,
   "metadata": {},
   "outputs": [],
   "source": [
    "from keras.preprocessing.image import img_to_array\n",
    "import pandas as pd\n",
    "import numpy as np\n",
    "\n",
    "\n",
    "labels = []\n",
    "\n",
    "df_items = pd.read_csv('items-Copy1.csv') # read dataset into pandas dataframe\n",
    "\n",
    "# replace field that's entirely space (or empty) with NaN\n",
    "df_items = df_items.replace(np.nan, '', regex=True)\n",
    "\n",
    "# binary classification so either anger or not\n",
    "for i, row in df_items.iterrows():\n",
    "    row['tag'] = row['tag'].lower() # convert tags to lowercase\n",
    "    if 'anger' in row['tag']:\n",
    "        labels.append('anger')\n",
    "    else:\n",
    "        labels.append('non_anger')"
   ]
  },
  {
   "cell_type": "code",
   "execution_count": 36,
   "metadata": {},
   "outputs": [],
   "source": [
    "labels = np.array(labels)"
   ]
  },
  {
   "cell_type": "code",
   "execution_count": 37,
   "metadata": {},
   "outputs": [],
   "source": [
    "from sklearn.preprocessing import LabelBinarizer\n",
    "\n",
    "# binarize the labels\n",
    "lb = LabelBinarizer()\n",
    "labels = lb.fit_transform(labels)"
   ]
  },
  {
   "cell_type": "code",
   "execution_count": 38,
   "metadata": {},
   "outputs": [],
   "source": [
    "from sklearn.model_selection import train_test_split\n",
    "\n",
    "# partition the data into training and testing splits using 80% of\n",
    "# the data for training and the remaining 20% for testing\n",
    "(trainX, testX, trainY, testY) = train_test_split(data,\n",
    "    labels, test_size=0.2, random_state=42)"
   ]
  },
  {
   "cell_type": "code",
   "execution_count": 39,
   "metadata": {},
   "outputs": [
    {
     "name": "stdout",
     "output_type": "stream",
     "text": [
      "[INFO] done compiling.\n",
      "Model: \"sequential_3\"\n",
      "_________________________________________________________________\n",
      "Layer (type)                 Output Shape              Param #   \n",
      "=================================================================\n",
      "dense_7 (Dense)              (None, 1024)              2884608   \n",
      "_________________________________________________________________\n",
      "dense_8 (Dense)              (None, 512)               524800    \n",
      "_________________________________________________________________\n",
      "dense_9 (Dense)              (None, 1)                 513       \n",
      "=================================================================\n",
      "Total params: 3,409,921\n",
      "Trainable params: 3,409,921\n",
      "Non-trainable params: 0\n",
      "_________________________________________________________________\n"
     ]
    }
   ],
   "source": [
    "from keras.models import Sequential\n",
    "from keras.layers import Dense\n",
    "\n",
    "model = Sequential([\n",
    "    Dense(1024, activation='relu', input_shape=(2816,)),\n",
    "    Dense(512, activation='relu'),\n",
    "    Dense(1,activation='sigmoid')\n",
    "])\n",
    "opt = Adam(lr=INIT_LR, decay=INIT_LR / EPOCHS)\n",
    "model.compile(loss=\"binary_crossentropy\", optimizer='adam',\n",
    "    metrics=[\"accuracy\"])\n",
    "print(\"[INFO] done compiling.\")\n",
    "\n",
    "model.summary()\n"
   ]
  },
  {
   "cell_type": "code",
   "execution_count": 40,
   "metadata": {},
   "outputs": [],
   "source": [
    "# construct the image generator for data augmentation\n",
    "aug = ImageDataGenerator(rotation_range=25, width_shift_range=0.1,\n",
    "    height_shift_range=0.1, shear_range=0.2, zoom_range=0.2,\n",
    "    horizontal_flip=True, fill_mode=\"nearest\")"
   ]
  },
  {
   "cell_type": "code",
   "execution_count": 41,
   "metadata": {},
   "outputs": [],
   "source": [
    "from sklearn.preprocessing import MinMaxScaler\n",
    "scaler = MinMaxScaler(feature_range=(0, 1))\n",
    "rescaledX_train = scaler.fit_transform(trainX)\n",
    "rescaledX_test = scaler.fit_transform(testX)"
   ]
  },
  {
   "cell_type": "code",
   "execution_count": null,
   "metadata": {
    "scrolled": true
   },
   "outputs": [
    {
     "name": "stdout",
     "output_type": "stream",
     "text": [
      "[INFO] training network...\n",
      "Train on 2288 samples, validate on 121 samples\n",
      "Epoch 1/100\n",
      "2288/2288 [==============================] - 0s 61us/step - loss: 0.3347 - accuracy: 0.9008 - val_loss: 0.3326 - val_accuracy: 0.8264\n",
      "Epoch 2/100\n",
      "2288/2288 [==============================] - 0s 60us/step - loss: 0.2795 - accuracy: 0.8671 - val_loss: 0.2245 - val_accuracy: 0.9008\n",
      "Epoch 3/100\n",
      "2288/2288 [==============================] - 0s 60us/step - loss: 0.1984 - accuracy: 0.9104 - val_loss: 0.1607 - val_accuracy: 0.9174\n",
      "Epoch 4/100\n",
      "2288/2288 [==============================] - 0s 62us/step - loss: 0.1504 - accuracy: 0.9353 - val_loss: 0.1459 - val_accuracy: 0.9421\n",
      "Epoch 5/100\n",
      "2288/2288 [==============================] - 0s 61us/step - loss: 0.1189 - accuracy: 0.9489 - val_loss: 0.1229 - val_accuracy: 0.9339\n",
      "Epoch 6/100\n",
      "2288/2288 [==============================] - 0s 61us/step - loss: 0.1065 - accuracy: 0.9563 - val_loss: 0.2265 - val_accuracy: 0.9008\n",
      "Epoch 7/100\n",
      "2288/2288 [==============================] - 0s 62us/step - loss: 0.1207 - accuracy: 0.9458 - val_loss: 0.1362 - val_accuracy: 0.9339\n",
      "Epoch 8/100\n",
      "2288/2288 [==============================] - 0s 60us/step - loss: 0.0731 - accuracy: 0.9703 - val_loss: 0.2035 - val_accuracy: 0.9091\n",
      "Epoch 9/100\n",
      "2288/2288 [==============================] - 0s 60us/step - loss: 0.0659 - accuracy: 0.9747 - val_loss: 0.1565 - val_accuracy: 0.9256\n",
      "Epoch 10/100\n",
      "2288/2288 [==============================] - 0s 60us/step - loss: 0.1013 - accuracy: 0.9567 - val_loss: 0.2554 - val_accuracy: 0.9091\n",
      "Epoch 11/100\n",
      "2288/2288 [==============================] - 0s 60us/step - loss: 0.0541 - accuracy: 0.9790 - val_loss: 0.1604 - val_accuracy: 0.9339\n",
      "Epoch 12/100\n",
      "2288/2288 [==============================] - 0s 60us/step - loss: 0.0424 - accuracy: 0.9873 - val_loss: 0.2228 - val_accuracy: 0.9091\n",
      "Epoch 13/100\n",
      "2288/2288 [==============================] - 0s 61us/step - loss: 0.0740 - accuracy: 0.9707 - val_loss: 0.1509 - val_accuracy: 0.9421\n",
      "Epoch 14/100\n",
      "2288/2288 [==============================] - 0s 60us/step - loss: 0.1164 - accuracy: 0.9524 - val_loss: 0.1704 - val_accuracy: 0.9174\n",
      "Epoch 15/100\n",
      "2288/2288 [==============================] - 0s 61us/step - loss: 0.0653 - accuracy: 0.9768 - val_loss: 0.1989 - val_accuracy: 0.9339\n",
      "Epoch 16/100\n",
      "2288/2288 [==============================] - 0s 59us/step - loss: 0.0602 - accuracy: 0.9781 - val_loss: 0.1914 - val_accuracy: 0.9174\n",
      "Epoch 17/100\n",
      "2288/2288 [==============================] - 0s 59us/step - loss: 0.0322 - accuracy: 0.9899 - val_loss: 0.1851 - val_accuracy: 0.9421\n",
      "Epoch 18/100\n",
      "2288/2288 [==============================] - 0s 59us/step - loss: 0.0400 - accuracy: 0.9865 - val_loss: 0.2811 - val_accuracy: 0.8843\n",
      "Epoch 19/100\n",
      "2288/2288 [==============================] - 0s 60us/step - loss: 0.0602 - accuracy: 0.9799 - val_loss: 0.3612 - val_accuracy: 0.8926\n",
      "Epoch 20/100\n",
      "2288/2288 [==============================] - 0s 60us/step - loss: 0.0522 - accuracy: 0.9812 - val_loss: 0.2243 - val_accuracy: 0.8926\n",
      "Epoch 21/100\n",
      "2288/2288 [==============================] - 0s 60us/step - loss: 0.0411 - accuracy: 0.9851 - val_loss: 0.2759 - val_accuracy: 0.8926\n",
      "Epoch 22/100\n",
      "2288/2288 [==============================] - 0s 59us/step - loss: 0.0442 - accuracy: 0.9851 - val_loss: 0.5240 - val_accuracy: 0.8430\n",
      "Epoch 23/100\n",
      "2288/2288 [==============================] - 0s 61us/step - loss: 0.0448 - accuracy: 0.9830 - val_loss: 0.2265 - val_accuracy: 0.9256\n",
      "Epoch 24/100\n",
      "2288/2288 [==============================] - 0s 61us/step - loss: 0.0292 - accuracy: 0.9917 - val_loss: 0.2160 - val_accuracy: 0.9174\n",
      "Epoch 25/100\n",
      "2288/2288 [==============================] - 0s 61us/step - loss: 0.0212 - accuracy: 0.9930 - val_loss: 0.3232 - val_accuracy: 0.9174\n",
      "Epoch 26/100\n",
      "2288/2288 [==============================] - 0s 60us/step - loss: 0.0277 - accuracy: 0.9886 - val_loss: 0.3366 - val_accuracy: 0.9174\n",
      "Epoch 27/100\n",
      "2288/2288 [==============================] - 0s 60us/step - loss: 0.0364 - accuracy: 0.9873 - val_loss: 0.3029 - val_accuracy: 0.9091\n",
      "Epoch 28/100\n",
      "2288/2288 [==============================] - 0s 60us/step - loss: 0.0209 - accuracy: 0.9917 - val_loss: 0.2724 - val_accuracy: 0.9256\n",
      "Epoch 29/100\n",
      "2288/2288 [==============================] - 0s 60us/step - loss: 0.0212 - accuracy: 0.9939 - val_loss: 0.4217 - val_accuracy: 0.8595\n",
      "Epoch 30/100\n",
      "2288/2288 [==============================] - 0s 61us/step - loss: 0.0361 - accuracy: 0.9878 - val_loss: 0.2921 - val_accuracy: 0.9256\n",
      "Epoch 31/100\n",
      "2288/2288 [==============================] - 0s 60us/step - loss: 0.0673 - accuracy: 0.9716 - val_loss: 0.2694 - val_accuracy: 0.9008\n",
      "Epoch 32/100\n",
      "2288/2288 [==============================] - 0s 61us/step - loss: 0.0331 - accuracy: 0.9895 - val_loss: 0.2517 - val_accuracy: 0.9256\n",
      "Epoch 33/100\n",
      "2288/2288 [==============================] - 0s 60us/step - loss: 0.0507 - accuracy: 0.9830 - val_loss: 1.4447 - val_accuracy: 0.8182\n",
      "Epoch 34/100\n",
      "2288/2288 [==============================] - 0s 61us/step - loss: 0.5370 - accuracy: 0.8103 - val_loss: 0.3932 - val_accuracy: 0.8430\n",
      "Epoch 35/100\n",
      "2288/2288 [==============================] - 0s 61us/step - loss: 0.1656 - accuracy: 0.9296 - val_loss: 0.2992 - val_accuracy: 0.9008\n",
      "Epoch 36/100\n",
      "2288/2288 [==============================] - 0s 59us/step - loss: 0.0908 - accuracy: 0.9663 - val_loss: 0.2729 - val_accuracy: 0.9008\n",
      "Epoch 37/100\n",
      "2288/2288 [==============================] - 0s 60us/step - loss: 0.0678 - accuracy: 0.9764 - val_loss: 0.3044 - val_accuracy: 0.9174\n",
      "Epoch 38/100\n",
      "2288/2288 [==============================] - 0s 60us/step - loss: 0.1178 - accuracy: 0.9484 - val_loss: 0.2646 - val_accuracy: 0.9008\n",
      "Epoch 39/100\n",
      "2288/2288 [==============================] - 0s 59us/step - loss: 0.0620 - accuracy: 0.9808 - val_loss: 0.2893 - val_accuracy: 0.8926\n",
      "Epoch 40/100\n",
      "2288/2288 [==============================] - 0s 60us/step - loss: 0.0397 - accuracy: 0.9895 - val_loss: 0.2653 - val_accuracy: 0.8760\n",
      "Epoch 41/100\n",
      "2288/2288 [==============================] - 0s 60us/step - loss: 0.0397 - accuracy: 0.9882 - val_loss: 0.2520 - val_accuracy: 0.8926\n",
      "Epoch 42/100\n",
      "2288/2288 [==============================] - 0s 59us/step - loss: 0.0316 - accuracy: 0.9908 - val_loss: 0.2403 - val_accuracy: 0.9174\n",
      "Epoch 43/100\n",
      "2288/2288 [==============================] - 0s 60us/step - loss: 0.0257 - accuracy: 0.9934 - val_loss: 0.2556 - val_accuracy: 0.8926\n",
      "Epoch 44/100\n",
      "2288/2288 [==============================] - 0s 60us/step - loss: 0.0234 - accuracy: 0.9930 - val_loss: 0.2902 - val_accuracy: 0.9091\n",
      "Epoch 45/100\n",
      "2288/2288 [==============================] - 0s 60us/step - loss: 0.0255 - accuracy: 0.9926 - val_loss: 0.2578 - val_accuracy: 0.9008\n",
      "Epoch 46/100\n",
      "2288/2288 [==============================] - 0s 61us/step - loss: 0.1146 - accuracy: 0.9580 - val_loss: 0.3593 - val_accuracy: 0.8843\n",
      "Epoch 47/100\n",
      "2288/2288 [==============================] - 0s 61us/step - loss: 0.1536 - accuracy: 0.9375 - val_loss: 0.5371 - val_accuracy: 0.8264\n",
      "Epoch 48/100\n",
      "2288/2288 [==============================] - 0s 61us/step - loss: 0.0702 - accuracy: 0.9755 - val_loss: 0.3555 - val_accuracy: 0.8512\n",
      "Epoch 49/100\n",
      "2288/2288 [==============================] - 0s 59us/step - loss: 0.0352 - accuracy: 0.9904 - val_loss: 0.2744 - val_accuracy: 0.8843\n",
      "Epoch 50/100\n",
      "2288/2288 [==============================] - 0s 60us/step - loss: 0.0226 - accuracy: 0.9948 - val_loss: 0.2716 - val_accuracy: 0.9174\n",
      "Epoch 51/100\n",
      "2288/2288 [==============================] - 0s 60us/step - loss: 0.0289 - accuracy: 0.9913 - val_loss: 0.2324 - val_accuracy: 0.9091\n",
      "Epoch 52/100\n",
      "2288/2288 [==============================] - 0s 60us/step - loss: 0.0264 - accuracy: 0.9926 - val_loss: 0.2808 - val_accuracy: 0.8678\n",
      "Epoch 53/100\n",
      "2288/2288 [==============================] - 0s 59us/step - loss: 0.0188 - accuracy: 0.9948 - val_loss: 0.2871 - val_accuracy: 0.9091\n",
      "Epoch 54/100\n",
      "2288/2288 [==============================] - 0s 61us/step - loss: 0.0134 - accuracy: 0.9974 - val_loss: 0.2610 - val_accuracy: 0.9008\n",
      "Epoch 55/100\n",
      "2288/2288 [==============================] - 0s 59us/step - loss: 0.0166 - accuracy: 0.9965 - val_loss: 0.2583 - val_accuracy: 0.9008\n",
      "Epoch 56/100\n"
     ]
    },
    {
     "name": "stdout",
     "output_type": "stream",
     "text": [
      "2288/2288 [==============================] - 0s 61us/step - loss: 0.0165 - accuracy: 0.9952 - val_loss: 0.3169 - val_accuracy: 0.8843\n",
      "Epoch 57/100\n",
      "2288/2288 [==============================] - 0s 59us/step - loss: 0.0136 - accuracy: 0.9965 - val_loss: 0.2772 - val_accuracy: 0.9091\n",
      "Epoch 58/100\n",
      "2288/2288 [==============================] - 0s 60us/step - loss: 0.0134 - accuracy: 0.9974 - val_loss: 0.2719 - val_accuracy: 0.9091\n",
      "Epoch 59/100\n",
      "2288/2288 [==============================] - 0s 61us/step - loss: 0.0216 - accuracy: 0.9926 - val_loss: 0.2925 - val_accuracy: 0.9091\n",
      "Epoch 60/100\n",
      "2288/2288 [==============================] - 0s 59us/step - loss: 0.0198 - accuracy: 0.9926 - val_loss: 0.2802 - val_accuracy: 0.9008\n",
      "Epoch 61/100\n",
      "2288/2288 [==============================] - 0s 60us/step - loss: 0.0190 - accuracy: 0.9939 - val_loss: 0.4991 - val_accuracy: 0.8760\n",
      "Epoch 62/100\n",
      "2288/2288 [==============================] - 0s 60us/step - loss: 0.0141 - accuracy: 0.9965 - val_loss: 0.3207 - val_accuracy: 0.8926\n",
      "Epoch 63/100\n",
      "2288/2288 [==============================] - 0s 60us/step - loss: 0.0222 - accuracy: 0.9921 - val_loss: 0.3602 - val_accuracy: 0.9008\n",
      "Epoch 64/100\n",
      "2288/2288 [==============================] - 0s 59us/step - loss: 0.0211 - accuracy: 0.9934 - val_loss: 0.2560 - val_accuracy: 0.8926\n",
      "Epoch 65/100\n",
      "2288/2288 [==============================] - 0s 60us/step - loss: 0.0131 - accuracy: 0.9965 - val_loss: 0.3559 - val_accuracy: 0.8926\n",
      "Epoch 66/100\n",
      "2288/2288 [==============================] - 0s 60us/step - loss: 0.0120 - accuracy: 0.9965 - val_loss: 0.3307 - val_accuracy: 0.8843\n",
      "Epoch 67/100\n",
      "2288/2288 [==============================] - 0s 60us/step - loss: 0.0118 - accuracy: 0.9974 - val_loss: 0.3905 - val_accuracy: 0.9091\n",
      "Epoch 68/100\n",
      "2288/2288 [==============================] - 0s 61us/step - loss: 0.0125 - accuracy: 0.9961 - val_loss: 0.5337 - val_accuracy: 0.8678\n",
      "Epoch 69/100\n",
      "2288/2288 [==============================] - 0s 60us/step - loss: 0.0433 - accuracy: 0.9851 - val_loss: 0.3811 - val_accuracy: 0.8760\n",
      "Epoch 70/100\n",
      "2288/2288 [==============================] - 0s 60us/step - loss: 0.1385 - accuracy: 0.9545 - val_loss: 0.5782 - val_accuracy: 0.8512\n",
      "Epoch 71/100\n",
      "2288/2288 [==============================] - 0s 60us/step - loss: 0.0300 - accuracy: 0.9891 - val_loss: 0.3278 - val_accuracy: 0.9091\n",
      "Epoch 72/100\n",
      "2288/2288 [==============================] - 0s 61us/step - loss: 0.0195 - accuracy: 0.9961 - val_loss: 0.3348 - val_accuracy: 0.9091\n",
      "Epoch 73/100\n",
      "2288/2288 [==============================] - 0s 61us/step - loss: 0.0294 - accuracy: 0.9904 - val_loss: 0.5952 - val_accuracy: 0.8512\n",
      "Epoch 74/100\n",
      "  64/2288 [..............................] - ETA: 0s - loss: 0.0204 - accuracy: 1.0000"
     ]
    }
   ],
   "source": [
    "# train the network\n",
    "print(\"[INFO] training network...\")\n",
    "# H = model.fit_generator(\n",
    "#     aug.flow(trainX, trainY, batch_size=BS),\n",
    "#     validation_data=(testX, testY),\n",
    "#     steps_per_epoch=len(trainX) // BS,\n",
    "#     epochs=EPOCHS, verbose=1)#, class_weight={0:3, 1:1})\n",
    "model.fit(np.array(rescaledX_train), np.array(trainY), epochs=100, batch_size=64, validation_split=0.2)\n",
    "# save the model to disk\n",
    "print(\"[INFO] serializing network...\")\n",
    "model.save(\"anger_imbalanced_fusion_embeddings_fully_connected.model\")"
   ]
  },
  {
   "cell_type": "code",
   "execution_count": 46,
   "metadata": {},
   "outputs": [],
   "source": [
    "yhat_probs = model.predict(np.array(rescaledX_test), verbose=0)"
   ]
  },
  {
   "cell_type": "code",
   "execution_count": 47,
   "metadata": {},
   "outputs": [],
   "source": [
    "yhat_classes = np.argmax(yhat_probs, axis=1)"
   ]
  },
  {
   "cell_type": "code",
   "execution_count": 48,
   "metadata": {},
   "outputs": [
    {
     "name": "stdout",
     "output_type": "stream",
     "text": [
      "Classification report: \n",
      "---------------------------------------------------------- \n",
      "              precision    recall  f1-score   support\n",
      "\n",
      "       anger       0.27      1.00      0.43       165\n",
      "   non-anger       0.00      0.00      0.00       438\n",
      "\n",
      "    accuracy                           0.27       603\n",
      "   macro avg       0.14      0.50      0.21       603\n",
      "weighted avg       0.07      0.27      0.12       603\n",
      "\n",
      "---------------------------------------------------------- \n",
      "Accuracy score: 0.273632\n",
      "Precision score: 0.000000\n",
      "Recall score: 0.000000\n",
      "F1 score: 0.000000\n",
      "---------------------------------------------------------- \n",
      "Confusion matrix: \n",
      "[[165   0]\n",
      " [438   0]]\n"
     ]
    },
    {
     "data": {
      "image/png": "[encoded data removed]",
      "text/plain": [
       "<Figure size 432x288 with 2 Axes>"
      ]
     },
     "metadata": {
      "needs_background": "light"
     },
     "output_type": "display_data"
    },
    {
     "name": "stdout",
     "output_type": "stream",
     "text": [
      "[[165   0]\n",
      " [438   0]]\n"
     ]
    }
   ],
   "source": [
    "from sklearn.datasets import make_circles\n",
    "from sklearn.metrics import accuracy_score\n",
    "from sklearn.metrics import precision_score\n",
    "from sklearn.metrics import recall_score\n",
    "from sklearn.metrics import f1_score\n",
    "from sklearn.metrics import cohen_kappa_score\n",
    "from sklearn.metrics import roc_auc_score\n",
    "from sklearn.metrics import confusion_matrix\n",
    "from keras.models import Sequential\n",
    "from keras.layers import Dense\n",
    " \n",
    "from sklearn.metrics import classification_report, confusion_matrix\n",
    "import seaborn as sn\n",
    "\n",
    "classif_report = classification_report(testY, yhat_classes, target_names=['anger', 'non-anger'])\n",
    "print('Classification report: ')\n",
    "print('---------------------------------------------------------- ')\n",
    "print(classif_report)\n",
    "\n",
    "print('---------------------------------------------------------- ')\n",
    "# accuracy: (tp + tn) / (p + n)\n",
    "accuracy = accuracy_score(testY, yhat_classes)\n",
    "print('Accuracy score: %f' % accuracy)\n",
    "# precision tp / (tp + fp)\n",
    "precision = precision_score(testY, yhat_classes)\n",
    "print('Precision score: %f' % precision)\n",
    "# recall: tp / (tp + fn)\n",
    "recall = recall_score(testY, yhat_classes)\n",
    "print('Recall score: %f' % recall)\n",
    "# f1: 2 tp / (2 tp + fp + fn)\n",
    "f1 = f1_score(testY, yhat_classes)\n",
    "print('F1 score: %f' % f1)\n",
    "print('---------------------------------------------------------- ')\n",
    "\n",
    "# confusion matrix\n",
    "labels = ['anger', 'none']\n",
    "matrix = confusion_matrix(testY, yhat_classes)\n",
    "print('Confusion matrix: ')\n",
    "print(matrix)\n",
    "fig = plt.figure()\n",
    "ax = fig.add_subplot(111)\n",
    "cax = ax.matshow(matrix)\n",
    "plt.title('Confusion Matrix')\n",
    "fig.colorbar(cax)\n",
    "ax.set_xticklabels([''] + labels)\n",
    "ax.set_yticklabels([''] + labels)\n",
    "plt.xlabel('Predicted')\n",
    "plt.ylabel('True')\n",
    "plt.savefig('confusion_matrix_anger_minority_duplicated_resnet50_400_epochs.png')\n",
    "plt.show()\n",
    "print(matrix)"
   ]
  },
  {
   "cell_type": "code",
   "execution_count": null,
   "metadata": {},
   "outputs": [],
   "source": []
  },
  {
   "cell_type": "code",
   "execution_count": null,
   "metadata": {},
   "outputs": [],
   "source": []
  }
 ],
 "metadata": {
  "kernelspec": {
   "display_name": "Python 3",
   "language": "python",
   "name": "python3"
  },
  "language_info": {
   "codemirror_mode": {
    "name": "ipython",
    "version": 3
   },
   "file_extension": ".py",
   "mimetype": "text/x-python",
   "name": "python",
   "nbconvert_exporter": "python",
   "pygments_lexer": "ipython3",
   "version": "3.7.7"
  }
 },
 "nbformat": 4,
 "nbformat_minor": 4
}
