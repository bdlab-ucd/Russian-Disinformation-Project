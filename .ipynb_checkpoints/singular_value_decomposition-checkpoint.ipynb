{
 "cells": [
  {
   "cell_type": "code",
   "execution_count": 63,
   "metadata": {},
   "outputs": [
    {
     "data": {
      "text/html": [
       "<div>\n",
       "<style scoped>\n",
       "    .dataframe tbody tr th:only-of-type {\n",
       "        vertical-align: middle;\n",
       "    }\n",
       "\n",
       "    .dataframe tbody tr th {\n",
       "        vertical-align: top;\n",
       "    }\n",
       "\n",
       "    .dataframe thead th {\n",
       "        text-align: right;\n",
       "    }\n",
       "</style>\n",
       "<table border=\"1\" class=\"dataframe\">\n",
       "  <thead>\n",
       "    <tr style=\"text-align: right;\">\n",
       "      <th>Dominant_Topic</th>\n",
       "      <th>0.0</th>\n",
       "      <th>1.0</th>\n",
       "      <th>2.0</th>\n",
       "      <th>3.0</th>\n",
       "      <th>4.0</th>\n",
       "      <th>5.0</th>\n",
       "      <th>6.0</th>\n",
       "      <th>7.0</th>\n",
       "      <th>8.0</th>\n",
       "      <th>9.0</th>\n",
       "    </tr>\n",
       "    <tr>\n",
       "      <th>Document_No</th>\n",
       "      <th></th>\n",
       "      <th></th>\n",
       "      <th></th>\n",
       "      <th></th>\n",
       "      <th></th>\n",
       "      <th></th>\n",
       "      <th></th>\n",
       "      <th></th>\n",
       "      <th></th>\n",
       "      <th></th>\n",
       "    </tr>\n",
       "  </thead>\n",
       "  <tbody>\n",
       "    <tr>\n",
       "      <th>0</th>\n",
       "      <td>0.0</td>\n",
       "      <td>0.0</td>\n",
       "      <td>0.0</td>\n",
       "      <td>0.0</td>\n",
       "      <td>0.0</td>\n",
       "      <td>0.1922</td>\n",
       "      <td>0.0</td>\n",
       "      <td>0.0</td>\n",
       "      <td>0.0</td>\n",
       "      <td>0.0</td>\n",
       "    </tr>\n",
       "    <tr>\n",
       "      <th>1</th>\n",
       "      <td>0.0</td>\n",
       "      <td>0.0</td>\n",
       "      <td>0.0</td>\n",
       "      <td>0.0</td>\n",
       "      <td>0.0</td>\n",
       "      <td>0.1922</td>\n",
       "      <td>0.0</td>\n",
       "      <td>0.0</td>\n",
       "      <td>0.0</td>\n",
       "      <td>0.0</td>\n",
       "    </tr>\n",
       "    <tr>\n",
       "      <th>2</th>\n",
       "      <td>0.0</td>\n",
       "      <td>0.0</td>\n",
       "      <td>0.0</td>\n",
       "      <td>0.0</td>\n",
       "      <td>0.0</td>\n",
       "      <td>0.1931</td>\n",
       "      <td>0.0</td>\n",
       "      <td>0.0</td>\n",
       "      <td>0.0</td>\n",
       "      <td>0.0</td>\n",
       "    </tr>\n",
       "    <tr>\n",
       "      <th>3</th>\n",
       "      <td>0.0</td>\n",
       "      <td>0.0</td>\n",
       "      <td>0.0</td>\n",
       "      <td>0.0</td>\n",
       "      <td>0.0</td>\n",
       "      <td>0.1938</td>\n",
       "      <td>0.0</td>\n",
       "      <td>0.0</td>\n",
       "      <td>0.0</td>\n",
       "      <td>0.0</td>\n",
       "    </tr>\n",
       "    <tr>\n",
       "      <th>4</th>\n",
       "      <td>0.0</td>\n",
       "      <td>0.0</td>\n",
       "      <td>0.0</td>\n",
       "      <td>0.0</td>\n",
       "      <td>0.0</td>\n",
       "      <td>0.1922</td>\n",
       "      <td>0.0</td>\n",
       "      <td>0.0</td>\n",
       "      <td>0.0</td>\n",
       "      <td>0.0</td>\n",
       "    </tr>\n",
       "    <tr>\n",
       "      <th>...</th>\n",
       "      <td>...</td>\n",
       "      <td>...</td>\n",
       "      <td>...</td>\n",
       "      <td>...</td>\n",
       "      <td>...</td>\n",
       "      <td>...</td>\n",
       "      <td>...</td>\n",
       "      <td>...</td>\n",
       "      <td>...</td>\n",
       "      <td>...</td>\n",
       "    </tr>\n",
       "    <tr>\n",
       "      <th>3007</th>\n",
       "      <td>0.0</td>\n",
       "      <td>0.0</td>\n",
       "      <td>0.0</td>\n",
       "      <td>0.0</td>\n",
       "      <td>0.0</td>\n",
       "      <td>0.1922</td>\n",
       "      <td>0.0</td>\n",
       "      <td>0.0</td>\n",
       "      <td>0.0</td>\n",
       "      <td>0.0</td>\n",
       "    </tr>\n",
       "    <tr>\n",
       "      <th>3008</th>\n",
       "      <td>0.0</td>\n",
       "      <td>0.0</td>\n",
       "      <td>0.0</td>\n",
       "      <td>0.0</td>\n",
       "      <td>0.0</td>\n",
       "      <td>0.1922</td>\n",
       "      <td>0.0</td>\n",
       "      <td>0.0</td>\n",
       "      <td>0.0</td>\n",
       "      <td>0.0</td>\n",
       "    </tr>\n",
       "    <tr>\n",
       "      <th>3009</th>\n",
       "      <td>0.0</td>\n",
       "      <td>0.0</td>\n",
       "      <td>0.0</td>\n",
       "      <td>0.0</td>\n",
       "      <td>0.0</td>\n",
       "      <td>0.1922</td>\n",
       "      <td>0.0</td>\n",
       "      <td>0.0</td>\n",
       "      <td>0.0</td>\n",
       "      <td>0.0</td>\n",
       "    </tr>\n",
       "    <tr>\n",
       "      <th>3010</th>\n",
       "      <td>0.0</td>\n",
       "      <td>0.0</td>\n",
       "      <td>0.0</td>\n",
       "      <td>0.0</td>\n",
       "      <td>0.0</td>\n",
       "      <td>0.1922</td>\n",
       "      <td>0.0</td>\n",
       "      <td>0.0</td>\n",
       "      <td>0.0</td>\n",
       "      <td>0.0</td>\n",
       "    </tr>\n",
       "    <tr>\n",
       "      <th>3011</th>\n",
       "      <td>0.0</td>\n",
       "      <td>0.0</td>\n",
       "      <td>0.0</td>\n",
       "      <td>0.0</td>\n",
       "      <td>0.0</td>\n",
       "      <td>0.1922</td>\n",
       "      <td>0.0</td>\n",
       "      <td>0.0</td>\n",
       "      <td>0.0</td>\n",
       "      <td>0.0</td>\n",
       "    </tr>\n",
       "  </tbody>\n",
       "</table>\n",
       "<p>3012 rows × 10 columns</p>\n",
       "</div>"
      ],
      "text/plain": [
       "Dominant_Topic  0.0  1.0  2.0  3.0  4.0     5.0  6.0  7.0  8.0  9.0\n",
       "Document_No                                                        \n",
       "0               0.0  0.0  0.0  0.0  0.0  0.1922  0.0  0.0  0.0  0.0\n",
       "1               0.0  0.0  0.0  0.0  0.0  0.1922  0.0  0.0  0.0  0.0\n",
       "2               0.0  0.0  0.0  0.0  0.0  0.1931  0.0  0.0  0.0  0.0\n",
       "3               0.0  0.0  0.0  0.0  0.0  0.1938  0.0  0.0  0.0  0.0\n",
       "4               0.0  0.0  0.0  0.0  0.0  0.1922  0.0  0.0  0.0  0.0\n",
       "...             ...  ...  ...  ...  ...     ...  ...  ...  ...  ...\n",
       "3007            0.0  0.0  0.0  0.0  0.0  0.1922  0.0  0.0  0.0  0.0\n",
       "3008            0.0  0.0  0.0  0.0  0.0  0.1922  0.0  0.0  0.0  0.0\n",
       "3009            0.0  0.0  0.0  0.0  0.0  0.1922  0.0  0.0  0.0  0.0\n",
       "3010            0.0  0.0  0.0  0.0  0.0  0.1922  0.0  0.0  0.0  0.0\n",
       "3011            0.0  0.0  0.0  0.0  0.0  0.1922  0.0  0.0  0.0  0.0\n",
       "\n",
       "[3012 rows x 10 columns]"
      ]
     },
     "execution_count": 63,
     "metadata": {},
     "output_type": "execute_result"
    }
   ],
   "source": [
    "import pandas as pd\n",
    "import numpy as np\n",
    "\n",
    "# read dataset into pandas dataframe\n",
    "df_items = pd.read_csv('dominant_topic.csv')\n",
    "\n",
    "# replace field that's entirely space (or empty) with NaN\n",
    "df_items = df_items.replace(np.nan, '', regex=True)\n",
    "\n",
    "# reshape df_items so that it represents matrix with y as document number, x as dominant topic with cells being topic percent contribution\n",
    "result = df_items.pivot(index='Document_No',\n",
    "                        columns='Dominant_Topic', values='Topic_Perc_Contrib')\n",
    "\n",
    "# replace NaN values in dataframe with 0\n",
    "result.fillna(0, inplace=True)\n",
    "\n",
    "variable_names = df_items.columns\n",
    "\n",
    "result"
   ]
  },
  {
   "cell_type": "code",
   "execution_count": 64,
   "metadata": {},
   "outputs": [
    {
     "data": {
      "text/plain": [
       "array([[0.00, 0.00, 0.00, ..., 0.00, 0.00, 0.00],\n",
       "       [0.00, 0.00, 0.00, ..., 0.00, 0.00, 0.00],\n",
       "       [0.00, 0.00, 0.00, ..., 0.00, 0.00, 0.00],\n",
       "       ...,\n",
       "       [0.00, 0.00, 0.00, ..., 0.00, 0.00, 0.00],\n",
       "       [0.00, 0.00, 0.00, ..., 0.00, 0.00, 0.00],\n",
       "       [0.00, 0.00, 0.00, ..., 0.00, 0.00, 0.00]])"
      ]
     },
     "execution_count": 64,
     "metadata": {},
     "output_type": "execute_result"
    }
   ],
   "source": [
    "# convert dataframe into numpy multi-dimensional array in order to use for SVG\n",
    "result = np.array(result)\n",
    "\n",
    "result"
   ]
  },
  {
   "cell_type": "code",
   "execution_count": 65,
   "metadata": {},
   "outputs": [
    {
     "data": {
      "text/plain": [
       "array([[5.27, 0.00],\n",
       "       [0.00, 13.29]])"
      ]
     },
     "execution_count": 65,
     "metadata": {},
     "output_type": "execute_result"
    }
   ],
   "source": [
    "from scipy.sparse import csc_matrix\n",
    "from scipy.sparse.linalg import svds, eigs\n",
    "\n",
    "A = csc_matrix(result, dtype=float)\n",
    "\n",
    "u, s, vt = svds(A, k=2)\n",
    "\n",
    "np.diag(s)"
   ]
  },
  {
   "cell_type": "code",
   "execution_count": 66,
   "metadata": {},
   "outputs": [
    {
     "data": {
      "text/plain": [
       "array([0.26, 0.12, 0.10, 0.09, 0.09, 0.09, 0.08, 0.07, 0.05, 0.04])"
      ]
     },
     "execution_count": 66,
     "metadata": {},
     "output_type": "execute_result"
    }
   ],
   "source": [
    "from sklearn import decomposition\n",
    "from sklearn.decomposition import PCA \n",
    "\n",
    "pca = decomposition.PCA()\n",
    "result_pca = pca.fit_transform(result)\n",
    "pca.explained_variance_ratio_"
   ]
  },
  {
   "cell_type": "code",
   "execution_count": 67,
   "metadata": {},
   "outputs": [
    {
     "data": {
      "text/plain": [
       "0.9999999999999997"
      ]
     },
     "execution_count": 67,
     "metadata": {},
     "output_type": "execute_result"
    }
   ],
   "source": [
    "pca.explained_variance_ratio_.sum()"
   ]
  },
  {
   "cell_type": "code",
   "execution_count": 69,
   "metadata": {},
   "outputs": [
    {
     "data": {
      "text/html": [
       "<div>\n",
       "<style scoped>\n",
       "    .dataframe tbody tr th:only-of-type {\n",
       "        vertical-align: middle;\n",
       "    }\n",
       "\n",
       "    .dataframe tbody tr th {\n",
       "        vertical-align: top;\n",
       "    }\n",
       "\n",
       "    .dataframe thead th {\n",
       "        text-align: right;\n",
       "    }\n",
       "</style>\n",
       "<table border=\"1\" class=\"dataframe\">\n",
       "  <thead>\n",
       "    <tr style=\"text-align: right;\">\n",
       "      <th></th>\n",
       "      <th>0</th>\n",
       "      <th>1</th>\n",
       "      <th>2</th>\n",
       "      <th>3</th>\n",
       "      <th>4</th>\n",
       "      <th>5</th>\n",
       "      <th>6</th>\n",
       "      <th>7</th>\n",
       "      <th>8</th>\n",
       "      <th>9</th>\n",
       "    </tr>\n",
       "  </thead>\n",
       "  <tbody>\n",
       "    <tr>\n",
       "      <th>0</th>\n",
       "      <td>-0.098092</td>\n",
       "      <td>-0.046718</td>\n",
       "      <td>-0.037425</td>\n",
       "      <td>-0.094140</td>\n",
       "      <td>-0.173766</td>\n",
       "      <td>0.951076</td>\n",
       "      <td>-0.087512</td>\n",
       "      <td>-0.123232</td>\n",
       "      <td>-0.104237</td>\n",
       "      <td>-0.097382</td>\n",
       "    </tr>\n",
       "    <tr>\n",
       "      <th>1</th>\n",
       "      <td>-0.078880</td>\n",
       "      <td>-0.021474</td>\n",
       "      <td>-0.015944</td>\n",
       "      <td>-0.073059</td>\n",
       "      <td>0.964721</td>\n",
       "      <td>0.114917</td>\n",
       "      <td>-0.059905</td>\n",
       "      <td>-0.161092</td>\n",
       "      <td>-0.091366</td>\n",
       "      <td>-0.077103</td>\n",
       "    </tr>\n",
       "    <tr>\n",
       "      <th>2</th>\n",
       "      <td>-0.135202</td>\n",
       "      <td>-0.019528</td>\n",
       "      <td>-0.013864</td>\n",
       "      <td>-0.116799</td>\n",
       "      <td>0.095446</td>\n",
       "      <td>0.071495</td>\n",
       "      <td>-0.078546</td>\n",
       "      <td>0.945360</td>\n",
       "      <td>-0.192361</td>\n",
       "      <td>-0.128083</td>\n",
       "    </tr>\n",
       "    <tr>\n",
       "      <th>3</th>\n",
       "      <td>-0.305378</td>\n",
       "      <td>-0.010883</td>\n",
       "      <td>-0.007449</td>\n",
       "      <td>-0.183521</td>\n",
       "      <td>0.030245</td>\n",
       "      <td>0.031401</td>\n",
       "      <td>-0.070168</td>\n",
       "      <td>0.071728</td>\n",
       "      <td>0.896015</td>\n",
       "      <td>-0.240994</td>\n",
       "    </tr>\n",
       "    <tr>\n",
       "      <th>4</th>\n",
       "      <td>0.776755</td>\n",
       "      <td>-0.003412</td>\n",
       "      <td>-0.002305</td>\n",
       "      <td>-0.174041</td>\n",
       "      <td>0.008183</td>\n",
       "      <td>0.009132</td>\n",
       "      <td>-0.028270</td>\n",
       "      <td>0.017064</td>\n",
       "      <td>0.063223</td>\n",
       "      <td>-0.600921</td>\n",
       "    </tr>\n",
       "    <tr>\n",
       "      <th>5</th>\n",
       "      <td>-0.245808</td>\n",
       "      <td>0.004520</td>\n",
       "      <td>0.003039</td>\n",
       "      <td>0.789548</td>\n",
       "      <td>-0.010346</td>\n",
       "      <td>-0.011800</td>\n",
       "      <td>0.041598</td>\n",
       "      <td>-0.020848</td>\n",
       "      <td>-0.065901</td>\n",
       "      <td>-0.556245</td>\n",
       "    </tr>\n",
       "    <tr>\n",
       "      <th>6</th>\n",
       "      <td>-0.284059</td>\n",
       "      <td>0.029008</td>\n",
       "      <td>0.018990</td>\n",
       "      <td>-0.375224</td>\n",
       "      <td>-0.052137</td>\n",
       "      <td>-0.065990</td>\n",
       "      <td>0.790624</td>\n",
       "      <td>-0.091311</td>\n",
       "      <td>-0.185872</td>\n",
       "      <td>-0.319797</td>\n",
       "    </tr>\n",
       "    <tr>\n",
       "      <th>7</th>\n",
       "      <td>0.351272</td>\n",
       "      <td>-0.167815</td>\n",
       "      <td>-0.098202</td>\n",
       "      <td>0.373092</td>\n",
       "      <td>0.153636</td>\n",
       "      <td>0.242104</td>\n",
       "      <td>0.586413</td>\n",
       "      <td>0.217888</td>\n",
       "      <td>0.305964</td>\n",
       "      <td>0.363892</td>\n",
       "    </tr>\n",
       "    <tr>\n",
       "      <th>8</th>\n",
       "      <td>0.055116</td>\n",
       "      <td>0.976780</td>\n",
       "      <td>-0.138011</td>\n",
       "      <td>0.055503</td>\n",
       "      <td>0.039267</td>\n",
       "      <td>0.084253</td>\n",
       "      <td>0.063602</td>\n",
       "      <td>0.046171</td>\n",
       "      <td>0.052897</td>\n",
       "      <td>0.055851</td>\n",
       "    </tr>\n",
       "    <tr>\n",
       "      <th>9</th>\n",
       "      <td>0.041605</td>\n",
       "      <td>0.117140</td>\n",
       "      <td>0.984394</td>\n",
       "      <td>0.041598</td>\n",
       "      <td>0.032481</td>\n",
       "      <td>0.076559</td>\n",
       "      <td>0.046036</td>\n",
       "      <td>0.036638</td>\n",
       "      <td>0.040504</td>\n",
       "      <td>0.042033</td>\n",
       "    </tr>\n",
       "  </tbody>\n",
       "</table>\n",
       "</div>"
      ],
      "text/plain": [
       "          0         1         2         3         4         5         6  \\\n",
       "0 -0.098092 -0.046718 -0.037425 -0.094140 -0.173766  0.951076 -0.087512   \n",
       "1 -0.078880 -0.021474 -0.015944 -0.073059  0.964721  0.114917 -0.059905   \n",
       "2 -0.135202 -0.019528 -0.013864 -0.116799  0.095446  0.071495 -0.078546   \n",
       "3 -0.305378 -0.010883 -0.007449 -0.183521  0.030245  0.031401 -0.070168   \n",
       "4  0.776755 -0.003412 -0.002305 -0.174041  0.008183  0.009132 -0.028270   \n",
       "5 -0.245808  0.004520  0.003039  0.789548 -0.010346 -0.011800  0.041598   \n",
       "6 -0.284059  0.029008  0.018990 -0.375224 -0.052137 -0.065990  0.790624   \n",
       "7  0.351272 -0.167815 -0.098202  0.373092  0.153636  0.242104  0.586413   \n",
       "8  0.055116  0.976780 -0.138011  0.055503  0.039267  0.084253  0.063602   \n",
       "9  0.041605  0.117140  0.984394  0.041598  0.032481  0.076559  0.046036   \n",
       "\n",
       "          7         8         9  \n",
       "0 -0.123232 -0.104237 -0.097382  \n",
       "1 -0.161092 -0.091366 -0.077103  \n",
       "2  0.945360 -0.192361 -0.128083  \n",
       "3  0.071728  0.896015 -0.240994  \n",
       "4  0.017064  0.063223 -0.600921  \n",
       "5 -0.020848 -0.065901 -0.556245  \n",
       "6 -0.091311 -0.185872 -0.319797  \n",
       "7  0.217888  0.305964  0.363892  \n",
       "8  0.046171  0.052897  0.055851  \n",
       "9  0.036638  0.040504  0.042033  "
      ]
     },
     "execution_count": 69,
     "metadata": {},
     "output_type": "execute_result"
    }
   ],
   "source": [
    "comps = pd.DataFrame(pca.components_)\n",
    "comps"
   ]
  },
  {
   "cell_type": "code",
   "execution_count": 71,
   "metadata": {},
   "outputs": [
    {
     "data": {
      "text/plain": [
       "<matplotlib.axes._subplots.AxesSubplot at 0x624b1b6a0>"
      ]
     },
     "execution_count": 71,
     "metadata": {},
     "output_type": "execute_result"
    },
    {
     "data": {
      "image/png": "[encoded data removed]",
      "text/plain": [
       "<Figure size 432x288 with 2 Axes>"
      ]
     },
     "metadata": {
      "needs_background": "light"
     },
     "output_type": "display_data"
    }
   ],
   "source": [
    "import seaborn as sns\n",
    "\n",
    "sns.heatmap(comps)"
   ]
  },
  {
   "cell_type": "code",
   "execution_count": 79,
   "metadata": {},
   "outputs": [],
   "source": [
    "from sklearn import decomposition\n",
    "pca = decomposition.PCA(n_components=1)\n",
    "sklearn_pca_result = pca.fit_transform(result)"
   ]
  },
  {
   "cell_type": "code",
   "execution_count": 80,
   "metadata": {},
   "outputs": [
    {
     "data": {
      "text/plain": [
       "<seaborn.axisgrid.FacetGrid at 0x626fe1b00>"
      ]
     },
     "execution_count": 80,
     "metadata": {},
     "output_type": "execute_result"
    },
    {
     "data": {
      "image/png": "[encoded data removed]",
      "text/plain": [
       "<Figure size 411.875x360 with 1 Axes>"
      ]
     },
     "metadata": {
      "needs_background": "light"
     },
     "output_type": "display_data"
    }
   ],
   "source": [
    "sklearn_result = pd.DataFrame(sklearn_pca_result, columns=['PC1'])\n",
    "sklearn_result['y-axis'] = 0.0\n",
    "sklearn_result['label'] = list(df_items['Dominant_Topic'])\n",
    "\n",
    "sns.lmplot('PC1', 'y-axis', data=sklearn_result,\n",
    "           fit_reg=False, scatter_kws={\"s\": 50}, hue='label')"
   ]
  }
 ],
 "metadata": {
  "kernelspec": {
   "display_name": "Python 3",
   "language": "python",
   "name": "python3"
  },
  "language_info": {
   "codemirror_mode": {
    "name": "ipython",
    "version": 3
   },
   "file_extension": ".py",
   "mimetype": "text/x-python",
   "name": "python",
   "nbconvert_exporter": "python",
   "pygments_lexer": "ipython3",
   "version": "3.6.10"
  },
  "varInspector": {
   "cols": {
    "lenName": 16,
    "lenType": 16,
    "lenVar": 40
   },
   "kernels_config": {
    "python": {
     "delete_cmd_postfix": "",
     "delete_cmd_prefix": "del ",
     "library": "var_list.py",
     "varRefreshCmd": "print(var_dic_list())"
    },
    "r": {
     "delete_cmd_postfix": ") ",
     "delete_cmd_prefix": "rm(",
     "library": "var_list.r",
     "varRefreshCmd": "cat(var_dic_list()) "
    }
   },
   "types_to_exclude": [
    "module",
    "function",
    "builtin_function_or_method",
    "instance",
    "_Feature"
   ],
   "window_display": false
  }
 },
 "nbformat": 4,
 "nbformat_minor": 2
}
